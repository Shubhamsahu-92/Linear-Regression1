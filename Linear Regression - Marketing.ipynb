{
 "cells": [
  {
   "cell_type": "markdown",
   "metadata": {},
   "source": []
  },
  {
   "cell_type": "code",
   "execution_count": 1,
   "metadata": {},
   "outputs": [],
   "source": [
    "import pandas as pd\n",
    "import numpy as np"
   ]
  },
  {
   "cell_type": "markdown",
   "metadata": {},
   "source": [
    "### Adverstiment Dataset\n",
    ">The adverstiting dataset captures sales revenue generated with respect to advertisement spends across multiple channles \n",
    ">like radio, tv and newspaper.\n",
    "\n",
    "### Attribution Descriptions\n",
    ">TV - Spend on TV Advertisements <br>\n",
    ">Radio - Spend on radio Advertisements <br>\n",
    ">Newspaper - Spend on newspaper Advertisements <br>\n",
    ">Sales - Sales revenue generated <br>\n",
    "Note: The amounts are in diffrent units"
   ]
  },
  {
   "cell_type": "code",
   "execution_count": 2,
   "metadata": {},
   "outputs": [],
   "source": [
    "# load the data set\n",
    "advt = pd.read_csv( \"Advertising.csv\" )"
   ]
  },
  {
   "cell_type": "code",
   "execution_count": 3,
   "metadata": {},
   "outputs": [
    {
     "data": {
      "text/html": [
       "<div>\n",
       "<style scoped>\n",
       "    .dataframe tbody tr th:only-of-type {\n",
       "        vertical-align: middle;\n",
       "    }\n",
       "\n",
       "    .dataframe tbody tr th {\n",
       "        vertical-align: top;\n",
       "    }\n",
       "\n",
       "    .dataframe thead th {\n",
       "        text-align: right;\n",
       "    }\n",
       "</style>\n",
       "<table border=\"1\" class=\"dataframe\">\n",
       "  <thead>\n",
       "    <tr style=\"text-align: right;\">\n",
       "      <th></th>\n",
       "      <th>Unnamed: 0</th>\n",
       "      <th>TV</th>\n",
       "      <th>Radio</th>\n",
       "      <th>Newspaper</th>\n",
       "      <th>Sales</th>\n",
       "    </tr>\n",
       "  </thead>\n",
       "  <tbody>\n",
       "    <tr>\n",
       "      <th>0</th>\n",
       "      <td>1</td>\n",
       "      <td>230.1</td>\n",
       "      <td>37.8</td>\n",
       "      <td>69.2</td>\n",
       "      <td>22.1</td>\n",
       "    </tr>\n",
       "    <tr>\n",
       "      <th>1</th>\n",
       "      <td>2</td>\n",
       "      <td>44.5</td>\n",
       "      <td>39.3</td>\n",
       "      <td>45.1</td>\n",
       "      <td>10.4</td>\n",
       "    </tr>\n",
       "    <tr>\n",
       "      <th>2</th>\n",
       "      <td>3</td>\n",
       "      <td>17.2</td>\n",
       "      <td>45.9</td>\n",
       "      <td>69.3</td>\n",
       "      <td>9.3</td>\n",
       "    </tr>\n",
       "    <tr>\n",
       "      <th>3</th>\n",
       "      <td>4</td>\n",
       "      <td>151.5</td>\n",
       "      <td>41.3</td>\n",
       "      <td>58.5</td>\n",
       "      <td>18.5</td>\n",
       "    </tr>\n",
       "    <tr>\n",
       "      <th>4</th>\n",
       "      <td>5</td>\n",
       "      <td>180.8</td>\n",
       "      <td>10.8</td>\n",
       "      <td>58.4</td>\n",
       "      <td>12.9</td>\n",
       "    </tr>\n",
       "  </tbody>\n",
       "</table>\n",
       "</div>"
      ],
      "text/plain": [
       "   Unnamed: 0     TV  Radio  Newspaper  Sales\n",
       "0           1  230.1   37.8       69.2   22.1\n",
       "1           2   44.5   39.3       45.1   10.4\n",
       "2           3   17.2   45.9       69.3    9.3\n",
       "3           4  151.5   41.3       58.5   18.5\n",
       "4           5  180.8   10.8       58.4   12.9"
      ]
     },
     "execution_count": 3,
     "metadata": {},
     "output_type": "execute_result"
    }
   ],
   "source": [
    "advt.head(5)"
   ]
  },
  {
   "cell_type": "code",
   "execution_count": 4,
   "metadata": {},
   "outputs": [],
   "source": [
    "import pandas_profiling"
   ]
  },
  {
   "cell_type": "code",
   "execution_count": 5,
   "metadata": {},
   "outputs": [
    {
     "data": {
      "text/html": [
       "<meta charset=\"UTF-8\">\n",
       "\n",
       "<style>\n",
       "\n",
       "        .variablerow {\n",
       "            border: 1px solid #e1e1e8;\n",
       "            border-top: hidden;\n",
       "            padding-top: 2em;\n",
       "            padding-bottom: 2em;\n",
       "            padding-left: 1em;\n",
       "            padding-right: 1em;\n",
       "        }\n",
       "\n",
       "        .headerrow {\n",
       "            border: 1px solid #e1e1e8;\n",
       "            background-color: #f5f5f5;\n",
       "            padding: 2em;\n",
       "        }\n",
       "        .namecol {\n",
       "            margin-top: -1em;\n",
       "            overflow-x: auto;\n",
       "        }\n",
       "\n",
       "        .dl-horizontal dt {\n",
       "            text-align: left;\n",
       "            padding-right: 1em;\n",
       "            white-space: normal;\n",
       "        }\n",
       "\n",
       "        .dl-horizontal dd {\n",
       "            margin-left: 0;\n",
       "        }\n",
       "\n",
       "        .ignore {\n",
       "            opacity: 0.4;\n",
       "        }\n",
       "\n",
       "        .container.pandas-profiling {\n",
       "            max-width:975px;\n",
       "        }\n",
       "\n",
       "        .col-md-12 {\n",
       "            padding-left: 2em;\n",
       "        }\n",
       "\n",
       "        .indent {\n",
       "            margin-left: 1em;\n",
       "        }\n",
       "\n",
       "        .center-img {\n",
       "            margin-left: auto !important;\n",
       "            margin-right: auto !important;\n",
       "            display: block;\n",
       "        }\n",
       "\n",
       "        /* Table example_values */\n",
       "            table.example_values {\n",
       "                border: 0;\n",
       "            }\n",
       "\n",
       "            .example_values th {\n",
       "                border: 0;\n",
       "                padding: 0 ;\n",
       "                color: #555;\n",
       "                font-weight: 600;\n",
       "            }\n",
       "\n",
       "            .example_values tr, .example_values td{\n",
       "                border: 0;\n",
       "                padding: 0;\n",
       "                color: #555;\n",
       "            }\n",
       "\n",
       "        /* STATS */\n",
       "            table.stats {\n",
       "                border: 0;\n",
       "            }\n",
       "\n",
       "            .stats th {\n",
       "                border: 0;\n",
       "                padding: 0 2em 0 0;\n",
       "                color: #555;\n",
       "                font-weight: 600;\n",
       "            }\n",
       "\n",
       "            .stats tr {\n",
       "                border: 0;\n",
       "            }\n",
       "\n",
       "            .stats td{\n",
       "                color: #555;\n",
       "                padding: 1px;\n",
       "                border: 0;\n",
       "            }\n",
       "\n",
       "\n",
       "        /* Sample table */\n",
       "            table.sample {\n",
       "                border: 0;\n",
       "                margin-bottom: 2em;\n",
       "                margin-left:1em;\n",
       "            }\n",
       "            .sample tr {\n",
       "                border:0;\n",
       "            }\n",
       "            .sample td, .sample th{\n",
       "                padding: 0.5em;\n",
       "                white-space: nowrap;\n",
       "                border: none;\n",
       "\n",
       "            }\n",
       "\n",
       "            .sample thead {\n",
       "                border-top: 0;\n",
       "                border-bottom: 2px solid #ddd;\n",
       "            }\n",
       "\n",
       "            .sample td {\n",
       "                width:100%;\n",
       "            }\n",
       "\n",
       "\n",
       "        /* There is no good solution available to make the divs equal height and then center ... */\n",
       "            .histogram {\n",
       "                margin-top: 3em;\n",
       "            }\n",
       "        /* Freq table */\n",
       "\n",
       "            table.freq {\n",
       "                margin-bottom: 2em;\n",
       "                border: 0;\n",
       "            }\n",
       "            table.freq th, table.freq tr, table.freq td {\n",
       "                border: 0;\n",
       "                padding: 0;\n",
       "            }\n",
       "\n",
       "            .freq thead {\n",
       "                font-weight: 600;\n",
       "                white-space: nowrap;\n",
       "                overflow: hidden;\n",
       "                text-overflow: ellipsis;\n",
       "\n",
       "            }\n",
       "\n",
       "            td.fillremaining{\n",
       "                width:auto;\n",
       "                max-width: none;\n",
       "            }\n",
       "\n",
       "            td.number, th.number {\n",
       "                text-align:right ;\n",
       "            }\n",
       "\n",
       "        /* Freq mini */\n",
       "            .freq.mini td{\n",
       "                width: 50%;\n",
       "                padding: 1px;\n",
       "                font-size: 12px;\n",
       "\n",
       "            }\n",
       "            table.freq.mini {\n",
       "                 width:100%;\n",
       "            }\n",
       "            .freq.mini th {\n",
       "                overflow: hidden;\n",
       "                text-overflow: ellipsis;\n",
       "                white-space: nowrap;\n",
       "                max-width: 5em;\n",
       "                font-weight: 400;\n",
       "                text-align:right;\n",
       "                padding-right: 0.5em;\n",
       "            }\n",
       "\n",
       "            .missing {\n",
       "                color: #a94442;\n",
       "            }\n",
       "            .alert, .alert > th, .alert > td {\n",
       "                color: #a94442;\n",
       "            }\n",
       "\n",
       "\n",
       "        /* Bars in tables */\n",
       "            .freq .bar{\n",
       "                float: left;\n",
       "                width: 0;\n",
       "                height: 100%;\n",
       "                line-height: 20px;\n",
       "                color: #fff;\n",
       "                text-align: center;\n",
       "                background-color: #337ab7;\n",
       "                border-radius: 3px;\n",
       "                margin-right: 4px;\n",
       "            }\n",
       "            .other .bar {\n",
       "                background-color: #999;\n",
       "            }\n",
       "            .missing .bar{\n",
       "                background-color: #a94442;\n",
       "            }\n",
       "            .tooltip-inner {\n",
       "                width: 100%;\n",
       "                white-space: nowrap;\n",
       "                text-align:left;\n",
       "            }\n",
       "\n",
       "            .extrapadding{\n",
       "                padding: 2em;\n",
       "            }\n",
       "\n",
       "            .pp-anchor{\n",
       "\n",
       "            }\n",
       "\n",
       "</style>\n",
       "\n",
       "<div class=\"container pandas-profiling\">\n",
       "    <div class=\"row headerrow highlight\">\n",
       "        <h1>Overview</h1>\n",
       "    </div>\n",
       "    <div class=\"row variablerow\">\n",
       "    <div class=\"col-md-6 namecol\">\n",
       "        <p class=\"h4\">Dataset info</p>\n",
       "        <table class=\"stats\" style=\"margin-left: 1em;\">\n",
       "            <tbody>\n",
       "            <tr>\n",
       "                <th>Number of variables</th>\n",
       "                <td>5 </td>\n",
       "            </tr>\n",
       "            <tr>\n",
       "                <th>Number of observations</th>\n",
       "                <td>200 </td>\n",
       "            </tr>\n",
       "            <tr>\n",
       "                <th>Total Missing (%)</th>\n",
       "                <td>0.0% </td>\n",
       "            </tr>\n",
       "            <tr>\n",
       "                <th>Total size in memory</th>\n",
       "                <td>7.9 KiB </td>\n",
       "            </tr>\n",
       "            <tr>\n",
       "                <th>Average record size in memory</th>\n",
       "                <td>40.4 B </td>\n",
       "            </tr>\n",
       "            </tbody>\n",
       "        </table>\n",
       "    </div>\n",
       "    <div class=\"col-md-6 namecol\">\n",
       "        <p class=\"h4\">Variables types</p>\n",
       "        <table class=\"stats\" style=\"margin-left: 1em;\">\n",
       "            <tbody>\n",
       "            <tr>\n",
       "                <th>Numeric</th>\n",
       "                <td>5 </td>\n",
       "            </tr>\n",
       "            <tr>\n",
       "                <th>Categorical</th>\n",
       "                <td>0 </td>\n",
       "            </tr>\n",
       "            <tr>\n",
       "                <th>Boolean</th>\n",
       "                <td>0 </td>\n",
       "            </tr>\n",
       "            <tr>\n",
       "                <th>Date</th>\n",
       "                <td>0 </td>\n",
       "            </tr>\n",
       "            <tr>\n",
       "                <th>Text (Unique)</th>\n",
       "                <td>0 </td>\n",
       "            </tr>\n",
       "            <tr>\n",
       "                <th>Rejected</th>\n",
       "                <td>0 </td>\n",
       "            </tr>\n",
       "            <tr>\n",
       "                <th>Unsupported</th>\n",
       "                <td>0 </td>\n",
       "            </tr>\n",
       "            </tbody>\n",
       "        </table>\n",
       "    </div>\n",
       "</div>\n",
       "    <div class=\"row headerrow highlight\">\n",
       "        <h1>Variables</h1>\n",
       "    </div>\n",
       "    <div class=\"row variablerow\">\n",
       "    <div class=\"col-md-3 namecol\">\n",
       "        <p class=\"h4 pp-anchor\" id=\"pp_var_Newspaper\">Newspaper<br/>\n",
       "            <small>Numeric</small>\n",
       "        </p>\n",
       "    </div><div class=\"col-md-6\">\n",
       "    <div class=\"row\">\n",
       "        <div class=\"col-sm-6\">\n",
       "            <table class=\"stats \">\n",
       "                <tr>\n",
       "                    <th>Distinct count</th>\n",
       "                    <td>172</td>\n",
       "                </tr>\n",
       "                <tr>\n",
       "                    <th>Unique (%)</th>\n",
       "                    <td>86.0%</td>\n",
       "                </tr>\n",
       "                <tr class=\"ignore\">\n",
       "                    <th>Missing (%)</th>\n",
       "                    <td>0.0%</td>\n",
       "                </tr>\n",
       "                <tr class=\"ignore\">\n",
       "                    <th>Missing (n)</th>\n",
       "                    <td>0</td>\n",
       "                </tr>\n",
       "                <tr class=\"ignore\">\n",
       "                    <th>Infinite (%)</th>\n",
       "                    <td>0.0%</td>\n",
       "                </tr>\n",
       "                <tr class=\"ignore\">\n",
       "                    <th>Infinite (n)</th>\n",
       "                    <td>0</td>\n",
       "                </tr>\n",
       "            </table>\n",
       "\n",
       "        </div>\n",
       "        <div class=\"col-sm-6\">\n",
       "            <table class=\"stats \">\n",
       "\n",
       "                <tr>\n",
       "                    <th>Mean</th>\n",
       "                    <td>30.554</td>\n",
       "                </tr>\n",
       "                <tr>\n",
       "                    <th>Minimum</th>\n",
       "                    <td>0.3</td>\n",
       "                </tr>\n",
       "                <tr>\n",
       "                    <th>Maximum</th>\n",
       "                    <td>114</td>\n",
       "                </tr>\n",
       "                <tr class=\"ignore\">\n",
       "                    <th>Zeros (%)</th>\n",
       "                    <td>0.0%</td>\n",
       "                </tr>\n",
       "            </table>\n",
       "        </div>\n",
       "    </div>\n",
       "</div>\n",
       "<div class=\"col-md-3 collapse in\" id=\"minihistogram-3812817628707133226\">\n",
       "    <img src=\"data:image/png;base64,iVBORw0KGgoAAAANSUhEUgAAAMgAAABLCAYAAAA1fMjoAAAABHNCSVQICAgIfAhkiAAAAAlwSFlzAAAPYQAAD2EBqD%2BnaQAAADl0RVh0U29mdHdhcmUAbWF0cGxvdGxpYiB2ZXJzaW9uIDIuMi4yLCBodHRwOi8vbWF0cGxvdGxpYi5vcmcvhp/UCwAAAd9JREFUeJzt3DGO00AYhuHfEW2SPooPgcQVkDgQHRIdJUehp6XnFolygFgUFMQUEJqIT9nVZhzvPk8ZSxlHmlejGVvpxnEcq7H9fl9937celpnb7Xa13W6bjvmq6Wh/LZfLqvrzg1er1RS3wIwcj8fq%2B/7fvGlpkkC6rquqqtVqdRHImw9fH/x93z%2B9e5L74r6d501Li%2BYjwowIBAKBQCAQCAQCwSSnWE/NyRe3YgWBQCAQCAQCgUAgEAiexSnWYzj54hpWEAgEAoFAIBAIBC92k/4YD93Y29TPnxUEAoFAIBAIBAKBQCAQCAQCgUAgEHhQeEPeGJ4/KwgEAoFAIBAIBAKBQCAQCAQCgecgd8azk/tiBYFAIBAIBAJ7kGfAn0ncjhUEAoFAIBAIBAKBQCAQCASOeV8gr7Ncb5JAxnGsqqrj8Xhx7dfPH61vhyu8fv%2BlyTjfPr69%2BOw8T87zpqVJAhmGoaqq%2Br6fYnju2Prz/68Nw1Dr9brdzVRVN06Q5el0qsPhUMvlsrquaz08MzOOYw3DUJvNphaLttvmSQKBuXCKBYFAIBAIBAKBQCAQCAQCgUAgEAgEAoFAIBAIBAKBQCAQCAQCgUAgEAgEAoFAIBAIBAKBQCAQCAQCgUDwG0Q4VX802wGeAAAAAElFTkSuQmCC\">\n",
       "\n",
       "</div>\n",
       "<div class=\"col-md-12 text-right\">\n",
       "    <a role=\"button\" data-toggle=\"collapse\" data-target=\"#descriptives-3812817628707133226,#minihistogram-3812817628707133226\"\n",
       "       aria-expanded=\"false\" aria-controls=\"collapseExample\">\n",
       "        Toggle details\n",
       "    </a>\n",
       "</div>\n",
       "<div class=\"row collapse col-md-12\" id=\"descriptives-3812817628707133226\">\n",
       "    <ul class=\"nav nav-tabs\" role=\"tablist\">\n",
       "        <li role=\"presentation\" class=\"active\"><a href=\"#quantiles-3812817628707133226\"\n",
       "                                                  aria-controls=\"quantiles-3812817628707133226\" role=\"tab\"\n",
       "                                                  data-toggle=\"tab\">Statistics</a></li>\n",
       "        <li role=\"presentation\"><a href=\"#histogram-3812817628707133226\" aria-controls=\"histogram-3812817628707133226\"\n",
       "                                   role=\"tab\" data-toggle=\"tab\">Histogram</a></li>\n",
       "        <li role=\"presentation\"><a href=\"#common-3812817628707133226\" aria-controls=\"common-3812817628707133226\"\n",
       "                                   role=\"tab\" data-toggle=\"tab\">Common Values</a></li>\n",
       "        <li role=\"presentation\"><a href=\"#extreme-3812817628707133226\" aria-controls=\"extreme-3812817628707133226\"\n",
       "                                   role=\"tab\" data-toggle=\"tab\">Extreme Values</a></li>\n",
       "\n",
       "    </ul>\n",
       "\n",
       "    <div class=\"tab-content\">\n",
       "        <div role=\"tabpanel\" class=\"tab-pane active row\" id=\"quantiles-3812817628707133226\">\n",
       "            <div class=\"col-md-4 col-md-offset-1\">\n",
       "                <p class=\"h4\">Quantile statistics</p>\n",
       "                <table class=\"stats indent\">\n",
       "                    <tr>\n",
       "                        <th>Minimum</th>\n",
       "                        <td>0.3</td>\n",
       "                    </tr>\n",
       "                    <tr>\n",
       "                        <th>5-th percentile</th>\n",
       "                        <td>3.6</td>\n",
       "                    </tr>\n",
       "                    <tr>\n",
       "                        <th>Q1</th>\n",
       "                        <td>12.75</td>\n",
       "                    </tr>\n",
       "                    <tr>\n",
       "                        <th>Median</th>\n",
       "                        <td>25.75</td>\n",
       "                    </tr>\n",
       "                    <tr>\n",
       "                        <th>Q3</th>\n",
       "                        <td>45.1</td>\n",
       "                    </tr>\n",
       "                    <tr>\n",
       "                        <th>95-th percentile</th>\n",
       "                        <td>71.825</td>\n",
       "                    </tr>\n",
       "                    <tr>\n",
       "                        <th>Maximum</th>\n",
       "                        <td>114</td>\n",
       "                    </tr>\n",
       "                    <tr>\n",
       "                        <th>Range</th>\n",
       "                        <td>113.7</td>\n",
       "                    </tr>\n",
       "                    <tr>\n",
       "                        <th>Interquartile range</th>\n",
       "                        <td>32.35</td>\n",
       "                    </tr>\n",
       "                </table>\n",
       "            </div>\n",
       "            <div class=\"col-md-4 col-md-offset-2\">\n",
       "                <p class=\"h4\">Descriptive statistics</p>\n",
       "                <table class=\"stats indent\">\n",
       "                    <tr>\n",
       "                        <th>Standard deviation</th>\n",
       "                        <td>21.779</td>\n",
       "                    </tr>\n",
       "                    <tr>\n",
       "                        <th>Coef of variation</th>\n",
       "                        <td>0.71279</td>\n",
       "                    </tr>\n",
       "                    <tr>\n",
       "                        <th>Kurtosis</th>\n",
       "                        <td>0.6495</td>\n",
       "                    </tr>\n",
       "                    <tr>\n",
       "                        <th>Mean</th>\n",
       "                        <td>30.554</td>\n",
       "                    </tr>\n",
       "                    <tr>\n",
       "                        <th>MAD</th>\n",
       "                        <td>17.635</td>\n",
       "                    </tr>\n",
       "                    <tr class=\"\">\n",
       "                        <th>Skewness</th>\n",
       "                        <td>0.89472</td>\n",
       "                    </tr>\n",
       "                    <tr>\n",
       "                        <th>Sum</th>\n",
       "                        <td>6110.8</td>\n",
       "                    </tr>\n",
       "                    <tr>\n",
       "                        <th>Variance</th>\n",
       "                        <td>474.31</td>\n",
       "                    </tr>\n",
       "                    <tr>\n",
       "                        <th>Memory size</th>\n",
       "                        <td>1.6 KiB</td>\n",
       "                    </tr>\n",
       "                </table>\n",
       "            </div>\n",
       "        </div>\n",
       "        <div role=\"tabpanel\" class=\"tab-pane col-md-8 col-md-offset-2\" id=\"histogram-3812817628707133226\">\n",
       "            <img src=\"data:image/png;base64,iVBORw0KGgoAAAANSUhEUgAAAlgAAAGQCAYAAAByNR6YAAAABHNCSVQICAgIfAhkiAAAAAlwSFlzAAAPYQAAD2EBqD%2BnaQAAADl0RVh0U29mdHdhcmUAbWF0cGxvdGxpYiB2ZXJzaW9uIDIuMi4yLCBodHRwOi8vbWF0cGxvdGxpYi5vcmcvhp/UCwAAIABJREFUeJzt3X9QVXX%2Bx/EX8VMNbirKlaCGWlst1DVwS7MyNcw0t3VaK5WwrM1WSVLzR7Rlu6O4llpm2eqWNlmLNaNlu2WhGeqgKSj5q7W2LDFBtCV%2BmILC5/uH3%2B52QxO3jxyO9/mYuTN7zzkc3nx2iKfnHi5BxhgjAAAAWHOe0wMAAACcawgsAAAAywgsAAAAywgsAAAAywgsAAAAywgsAAAAywgsAAAAywgsAAAAywgsAAAAywgsAAAAywgsAAAAywgsAAAAywgsAAAAywgsAAAAywgsAAAAywgsAAAAywgsAAAAywgsAAAAywgsAAAAywgsAAAAywgsAAAAywgsAAAAywgsAAAAywgsAAAAywgsAAAAywgsAAAAywgsAAAAywgsAAAAywgsAAAAywgsAAAAywgsAAAAywgsAAAAywgsAAAAywgsAAAAywgsAAAAywgsAAAAywgsAAAAywgsAAAAy0KcHiAQ1NXVaf/%2B/YqMjFRQUJDT4wAAEBCMMaqsrFRsbKzOO69xrykRWI1g//79io%2BPd3oMAAACUlFRkeLi4hr1cxJYjSAyMlLSif%2BDo6KiHJ4GAIDAUFFRofj4eN/P4cZEYDWC718WjIqKIrAAAGhkTtyew03uAAAAlhFYAAAAlhFYAAAAlhFYAAAAlhFYAAAAlhFYAAAAlhFYAAAAlhFYAAAAlhFYAAAAlhFYAAAAlhFYAAAAlhFYAAAAlvHHnl0uOXOl0yM0WP60m5weAQCARsEVLAAAAMsILAAAAMsILAAAAMsILAAAAMsILAAAAMsILAAAAMsILAAAAMsILAAAAMsILAAAAMsILAAAAMsILAAAAMsILAAAAMsILAAAAMsILAAAAMsILAAAAMsILAAAAMsILAAAAMsILAAAAMsILAAAAMsILAAAAMsILAAAAMsILAAAAMsILAAAAMsILAAAAMsILAAAAMsILAAAAMsILAAAAMsILAAAAMsILAAAAMsILAAAAMsILAAAAMsILAAAAMsILAAAAMsILAAAAMsILAAAAMsILAAAAMsILAAAAMsILAAAAMtCnB4AgSM5c6XTI5yR/Gk3OT0CAMCluIIFAABgGYH1A1lZWQoKClJGRoZvW3V1tdLT0xUdHa0WLVpo0KBB2rdvn4NTAgCApo7A%2Bn%2BbN2/WggUL1LlzZ7/tGRkZWr58ubKzs7V%2B/XpVVVVp4MCBqq2tdWhSAADQ1BFYkqqqqjRs2DAtXLhQLVu29G0vLy/Xiy%2B%2BqFmzZqlv377q2rWrlixZou3bt2vVqlUOTgwAAJoyAkvS6NGjNWDAAPXt29dve0FBgY4dO6aUlBTfttjYWCUmJiovL6%2BxxwQAAC4R8L9FmJ2drYKCAuXn59fbV1JSorCwML%2BrWpIUExOjkpKSU56zurpa1dXVvucVFRX2BgYAAE1eQF/BKioq0tixY/Xqq68qIiKiwR9njFFQUNAp92dlZcnj8fge8fHxNsYFAAAuEdCBVVBQoNLSUiUlJSkkJEQhISHKzc3V3LlzFRISopiYGNXU1KisrMzv40pLSxUTE3PK806ZMkXl5eW%2BR1FR0dn%2BUgAAQBMS0C8R9unTR9u3b/fbdvfdd6tDhw6aNGmS4uPjFRoaqpycHA0ZMkSSVFxcrB07dmjmzJmnPG94eLjCw8PP6uwAAKDpCujAioyMVGJiot%2B2Fi1aqHXr1r7tI0eO1Pjx49W6dWu1atVKEyZMUKdOnerdEA8AAPC9gA6shpgzZ45CQkI0ZMgQHTlyRH369NHixYsVHBzs9GgAAKCJCjLGGKeHONdVVFTI4/GovLxcUVFRVs/ttr/v5yb8LUIAcLez%2BfP3dAL6JncAAICzgcACAACwjMACAACwjMACAACwjMACAACwjMACAACwjMACAACwjMACAACwjMACAACwjMACAACwjMACAACwjMACAACwjMACAACwjMACAACwjMACAACwjMACAACwjMACAACwjMACAACwjMACAACwjMACAACwjMACAACwjMACAACwjMACAACwjMACAACwjMACAACwjMACAACwLMTpAYCmKjlzpdMjnJH8aTc5PQIA4P9xBQsAAMAyAgsAAMAyAgsAAMAyAgsAAMAyAgsAAMAyAgsAAMAyAgsAAMAyAgsAAMAyAgsAAMAyAgsAAMAyAgsAAMAyAgsAAMAyAgsAAMAyAgsAAMAyAgsAAMAyAgsAAMAyAgsAAMAyAgsAAMAyAgsAAMAyAgsAAMAyAgsAAMAyAgsAAMAyAgsAAMAyAgsAAMAyAgsAAMAyAgsAAMAyAgsAAMCygA%2Bs%2BfPnq3PnzoqKilJUVJS6d%2B%2Bud99917e/urpa6enpio6OVosWLTRo0CDt27fPwYkBAEBTF/CBFRcXpxkzZig/P1/5%2Bfnq3bu3fvOb32jnzp2SpIyMDC1fvlzZ2dlav369qqqqNHDgQNXW1jo8OQAAaKqCjDHG6SGamlatWunJJ5/UbbfdpjZt2uiVV17R7bffLknav3%2B/4uPj9c4776hfv34NOl9FRYU8Ho/Ky8sVFRVlddbkzJVWzwf3yp92k9MjAECTcjZ//p5OwF/B%2BqHa2lplZ2fr8OHD6t69uwoKCnTs2DGlpKT4jomNjVViYqLy8vJOeZ7q6mpVVFT4PQAAQOAIcXqApmD79u3q3r27jh49qvPPP1/Lly/X5ZdfrsLCQoWFhally5Z%2Bx8fExKikpOSU58vKytITTzxxtscG/LjpaiZX2wCc61x7BWvJkiU6evSolXP98pe/VGFhoTZu3KgHHnhAaWlp2rVr1ymPN8YoKCjolPunTJmi8vJy36OoqMjKnAAAwB1cG1jjxo2T1%2BvV/fffr02bNv2sc4WFhekXv/iFkpOTlZWVpS5duuiZZ56R1%2BtVTU2NysrK/I4vLS1VTEzMKc8XHh7u%2B63E7x8AACBwuDaw9u/fr5deeknFxcXq2bOnrrjiCs2aNUsHDx782ec2xqi6ulpJSUkKDQ1VTk6Ob19xcbF27NihHj16/OzPAwAAzk2uDayQkBANHjxYK1as0N69e5WWlqaXXnpJcXFxGjx4sP75z3%2BqIb8g%2Bcgjj2jdunX68ssvtX37dmVmZurDDz/UsGHD5PF4NHLkSI0fP16rV6/W1q1bNXz4cHXq1El9%2B/ZthK8SAAC40Tlxk7vX61WfPn301Vdf6fPPP1d%2Bfr5Wr16tNm3aaNGiRbr22mtP%2BbEHDhxQamqqiouL5fF41LlzZ61cuVI33nijJGnOnDkKCQnRkCFDdOTIEfXp00eLFy9WcHBwY315AADAZVz9PliHDh3SkiVLtGjRIu3evVu33HKLRo4cqX79%2Bunw4cN69NFH9dZbb2nPnj2Ozsn7YAH%2B%2BC1CAI3ByffBcu0VrN/%2B9rd65513lJCQoHvvvVdpaWlq06aNb//555%2BviRMnau7cuQ5OCQAAApFrAysqKkqrVq36yZf/2rVrp88%2B%2B6wRpwIAAHBxYL388sunPSYoKEiXXnppI0wDAADwX679LcKHHnpI8%2BbNq7f9ueee0/jx4x2YCAAA4ATXBtYbb7yhq6%2B%2But727t27a%2BnSpQ5MBAAAcIJrA%2BvQoUP1/kagdOLerEOHDjkwEQAAwAmuDaxLL71U7733Xr3t7733nhISEhyYCAAA4ATX3uSekZGhjIwMffPNN%2Brdu7ckafXq1Zo5c6aeeuoph6cDAACBzLWBdd999%2Bno0aOaPn26Hn/8cUlSXFyc5s6dq3vuucfh6QAAQCBzbWBJUnp6utLT01VcXKxmzZrpggsucHokAAAAdwfW99q1a%2Bf0CAAAAD6uvcn94MGDuvvuu3XRRRcpIiJCYWFhfg8AAACnuPYK1ogRI/T555/r4YcfVrt27RQUFOT0SAAAAJJcHFhr167V2rVr1bVrV6dHAQAA8OPalwjj4uK4agUAAJok1wbWnDlzNGXKFO3bt8/pUQAAAPy49iXC1NRUVVZW6uKLL1ZUVJRCQ0P99peWljo0GQAACHSuDawZM2Y4PQIAAMBJuTawRo4c6fQIAAAAJ%2BXae7Ak6csvv9TUqVOVmprqe0nw/fff1yeffOLwZAAAIJC5NrDWrVunK664Qrm5uXr99ddVVVUlSdqyZYsee%2Bwxh6cDAACBzLWBNWnSJE2dOlVr1qzxe%2Bf23r17a%2BPGjQ5OBgAAAp1rA2vbtm267bbb6m1v27atDh486MBEAAAAJ7g2sC644AKVlJTU215YWKgLL7zQgYkAAABOcG1g3XHHHZo8ebIOHjzoe0f3jz76SBMmTNDw4cMdng4AAAQy1wbW9OnT5fV61a5dO1VVVenyyy9Xjx491K1bN/3xj390ejwAABDAXPs%2BWGFhYVq6dKk%2B/fRTbdmyRXV1dbryyivVoUMHp0cDAAABzrWB9b3LLrtMl112mdNjAAAA%2BLg2sH7/%2B9//5P4FCxY00iQAAAD%2BXBtYxcXFfs%2BPHTumnTt3qrKyUtddd51DUwEAALg4sN5%2B%2B%2B16244fP64HHnhAHTt2dGAiAACAE1z7W4QnExISogkTJujJJ590ehQAABDAzqnAkqQvvvhCx44dc3oMAAAQwFz7EuHEiRP9nhtjVFxcrBUrVmjYsGEOTQUAAODiwNqwYYPf8/POO09t2rTRjBkzdN999zk0FQAAgIsDa926dU6PAAAAcFLn3D1YAAAATnPtFaxu3br5/sjz6WzatOksTwMAAPBfrg2sG264QX/961912WWXqXv37pKkjRs3avfu3br//vsVHh7u8IQAACBQuTawvv32W40ePVrTp0/3256ZmakDBw7ob3/7m0OTAQCAQOfae7Bef/113X333fW2jxgxQm%2B88YYDEwEAAJzg2sAKDw9XXl5eve15eXm8PAgAABzl2pcIH3zwQY0aNUpbt27V1VdfLenEPVgLFy7UI4884vB0AAAgkLk2sDIzM5WQkKBnnnlGL730kiSpY8eOWrhwoYYOHerwdAAAIJC5NrAkaejQocQUAABoclx7D5YkVVRUaPHixXrsscdUVlYmSfr4449VXFzs8GQAACCQufYK1o4dO9S3b181b95cRUVFGjFihFq2bKnXX39d%2B/bt08svv%2Bz0iAAAIEC59grWQw89pKFDh%2Brzzz9XRESEb/uAAQO0du1aBycDAACBzrVXsDZv3qz58%2BfX%2B3M5F154IS8RAgAAR7n2ClZYWJiqqqrqbf/ss88UHR3twEQAAAAnuDawBg0apD//%2Bc86fvy4JCkoKEhff/21Jk%2BerMGDBzs8HQAACGSuDaxZs2Zp//798nq9OnLkiHr37q1LLrlEERER9f4%2BIQAAQGNy7T1YHo9HeXl5ysnJ0ZYtW1RXV6crr7xS/fr1q3dfFoCmJTlzpdMjnJH8aTc5PQIAl3FlYB07dkw333yznn/%2BeaWkpCglJcXpkQAAAHxc%2BRJhaGiotm7dauVKVVZWlrp166bIyEi1bdtWt956q3bv3u13THV1tdLT0xUdHa0WLVpo0KBB2rdv38/%2B3AAA4NzkysCSpOHDh2vRokU/%2Bzy5ubkaPXq0Nm7cqJycHB0/flwpKSk6fPiw75iMjAwtX75c2dnZWr9%2BvaqqqjRw4EDV1tb%2B7M8PAADOPa58ifB78%2BbN06pVq5ScnKwWLVr47Zs5c2aDzrFypf%2B9IIsWLVLbtm1VUFCg6667TuXl5XrxxRf1yiuvqG/fvpKkJUuWKD4%2BXqtWrVK/fv3sfDEAAOCc4drAKigoUOfOnSVJ27Zt89v3c146LC8vlyS1atXK93mOHTvmd59XbGysEhMTlZeXd9LAqq6uVnV1te95RUXF/zwPAABwH9cF1hdffKGEhAStW7fO%2BrmNMRo3bpx69uypxMRESVJJSYnCwsLUsmVLv2NjYmJUUlJy0vNkZWXpiSeesD4fAABwB9fdg9W%2BfXsdPHjQ9/z222/XgQMHrJx7zJgx2rZtm/7%2B97%2Bf9lhjzCmvlE2ZMkXl5eW%2BR1FRkZX5AACAO7gusIwxfs/feecdvxvS/1fp6elasWKF1qxZo7i4ON92r9ermpoalZWV%2BR1fWlqqmJiYk54rPDxcUVFRfg8AABA4XBdYthljNGbMGC1btkwffPCBEhIS/PYnJSUpNDRUOTk5vm3FxcXasWOHevTo0djjAgAAF3DdPVhBQUH1Xpr7OTe1jx49Wq%2B99preeustRUZG%2Bu6r8ng8atasmTwej0aOHKnx48erdevWatWqlSZMmKBOnTr5fqsQAADgh1wXWMYYjRgxQuHh4ZKko0ePatSoUfXepmHZsmUNOt/8%2BfMlSb169fLbvmjRIo0YMUKSNGfOHIWEhGjIkCE6cuSI%2BvTpo8WLFys4OPjnfTEAAOCc5LrASktL83s%2BfPjwn3W%2BH9/TdTIRERF69tln9eyzz/6szwUAAAKD6wLLxru3AwAAnE0Bf5M7AACAbQQWAACAZQQWAACAZQQWAACAZQQWAACAZQQWAACAZQQWAACAZQQWAACAZQQWAACAZQQWAACAZQQWAACAZQQWAACAZQQWAACAZQQWAACAZQQWAACAZQQWAACAZQQWAACAZQQWAACAZQQWAACAZQQWAACAZQQWAACAZQQWAACAZQQWAACAZQQWAACAZQQWAACAZQQWAACAZQQWAACAZQQWAACAZQQWAACAZQQWAACAZQQWAACAZQQWAACAZQQWAACAZQQWAACAZQQWAACAZQQWAACAZQQWAACAZQQWAACAZSFODwAATV1y5kqnRzgj%2BdNucnoEIOBxBQsAAMAyAgsAAMAyAgsAAMAyAgsAAMAyAgsAAMAyAgsAAMAyAgsAAMAyAgsAAMAyAgsAAMAyAgsAAMAyAgsAAMAyAgsAAMAyAgsAAMAyAgsAAMCygA%2BstWvX6pZbblFsbKyCgoL05ptv%2Bu03xmjq1KmKjY1Vs2bN1KtXL%2B3cudOhaQEAgBsEfGAdPnxYXbp00bx58066f%2BbMmZo9e7bmzZunzZs3y%2Bv16sYbb1RlZWUjTwoAANwixOkBnNa/f3/179//pPuMMXr66aeVmZmpwYMHS5JefvllxcTE6LXXXtP999/fmKMCAACXCPgrWD9lz549KikpUUpKim9beHi4rr/%2BeuXl5Z3y46qrq1VRUeH3AAAAgYPA%2BgklJSWSpJiYGL/tMTExvn0nk5WVJY/H43vEx8ef1TkBAEDTQmA1QFBQkN9zY0y9bT80ZcoUlZeX%2Bx5FRUVne0QAANCEBPw9WD/F6/VKOnElq127dr7tpaWl9a5q/VB4eLjCw8PP%2BnwAAKBp4grWT0hISJDX61VOTo5vW01NjXJzc9WjRw8HJwMAAE1ZwF/Bqqqq0r///W/f8z179qiwsFCtWrXSRRddpIyMDE2fPl3t27dX%2B/btNX36dDVv3lxDhw51cGoAANCUBXxg5efn64YbbvA9HzdunCQpLS1Nixcv1sSJE3XkyBH94Q9/UFlZma666iq9//77ioyMdGpkAADQxAUZY4zTQ5zrKioq5PF4VF5erqioKKvnTs5cafV8ANwvf9pNTo8ANAln8%2Bfv6QT8FSwAONe46R9exCDOVdzkDgAAYBmBBQAAYBmBBQAAYBmBBQAAYBmBBQAAYBmBBQAAYBmBBQAAYBmBBQAAYBmBBQAAYBmBBQAAYBmBBQAAYBmBBQAAYBmBBQAAYBmBBQAAYBmBBQAAYBmBBQAAYBmBBQAAYBmBBQAAYBmBBQAAYBmBBQAAYBmBBQAAYBmBBQAAYBmBBQAAYBmBBQAAYBmBBQAAYBmBBQAAYBmBBQAAYBmBBQAAYBmBBQAAYBmBBQAAYBmBBQAAYBmBBQAAYBmBBQAAYBmBBQAAYBmBBQAAYBmBBQAAYBmBBQAAYBmBBQAAYBmBBQAAYBmBBQAAYBmBBQAAYBmBBQAAYBmBBQAAYBmBBQAAYFmI0wMAAAJXcuZKp0c4I/nTbnJ6BLgEV7AAAAAsI7AAAAAsI7AAAAAsI7AAAAAsI7AAAAAsI7AAAAAs420aAABoILe9rYSbnGtvgcEVLAAAAMsIrAZ6/vnnlZCQoIiICCUlJWndunVOjwQAAJooAqsBli5dqoyMDGVmZmrr1q269tpr1b9/f%2B3du9fp0QAAQBNEYDXA7NmzNXLkSN17773q2LGjnn76acXHx2v%2B/PlOjwYAAJogbnI/jZqaGhUUFGjy5Ml%2B21NSUpSXl3fSj6murlZ1dbXveXl5uSSpoqLC%2Bny11YetnxMAgMZ2Nn5Gfn9OY4z1c58OgXUahw4dUm1trWJiYvy2x8TEqKSk5KQfk5WVpSeeeKLe9vj4%2BLMyIwAAbueZdfbOXVlZKY/Hc/Y%2BwUkQWA0UFBTk99wYU2/b96ZMmaJx48b5ntfV1ek///mPWrdufcqPOVMVFRWKj49XUVGRoqKirJzzXMZ6nTnW7MyxZmeONTszrNeZMcaosrJSsbGxjf65CazTiI6OVnBwcL2rVaWlpfWuan0vPDxc4eHhftsuuOCCszJfVFQU32RngPU6c6zZmWPNzhxrdmZYr4Zr7CtX3%2BMm99MICwtTUlKScnJy/Lbn5OSoR48eDk0FAACaMq5gNcC4ceOUmpqq5ORkde/eXQsWLNDevXs1atQop0cDAABNUPDUqVOnOj1EU5eYmKjWrVtr%2BvTpeuqpp3TkyBG98sor6tKli6NzBQcHq1evXgoJoZMbgvU6c6zZmWPNzhxrdmZYL3cIMk787iIAAMA5jHuwAAAALCOwAAAALCOwAAAALCOwAAAALCOwXOj5559XQkKCIiIilJSUpHXr1jk9UpORlZWlbt26KTIyUm3bttWtt96q3bt3%2Bx1TXV2t9PR0RUdHq0WLFho0aJD27dvn0MRNS1ZWloKCgpSRkeHbxnrV9/XXX2v48OFq3bq1mjdvrl/96lcqKCjw7TfGaOrUqYqNjVWzZs3Uq1cv7dy508GJnXX8%2BHE9%2BuijSkhIULNmzXTJJZfoT3/6k%2Brq6nzHBPqarV27VrfccotiY2MVFBSkN998029/Q9anrKxMqamp8ng88ng8Sk1N1bffftuYXwZ%2BgMBymaVLlyojI0OZmZnaunWrrr32WvXv31979%2B51erQmITc3V6NHj9bGjRuVk5Oj48ePKyUlRYcP//ePYmdkZGj58uXKzs7W%2BvXrVVVVpYEDB6q2ttbByZ23efNmLViwQJ07d/bbznr5Kysr0zXXXKPQ0FC9%2B%2B672rVrl2bNmuX31xpmzpyp2bNna968edq8ebO8Xq9uvPFGVVZWOji5c/7yl7/ohRde0Lx58/TJJ59o5syZevLJJ/Xss8/6jgn0NTt8%2BLC6dOmiefPmnXR/Q9Zn6NChKiws1MqVK7Vy5UoVFhYqNTW1sb4E/JiBq/z61782o0aN8tvWoUMHM3nyZIcmatpKS0uNJJObm2uMMebbb781oaGhJjs723fM119/bc477zyzcuVKp8Z0XGVlpWnfvr3Jyckx119/vRk7dqwxhvU6mUmTJpmePXuecn9dXZ3xer1mxowZvm1Hjx41Ho/HvPDCC40xYpMzYMAAc8899/htGzx4sBk%2BfLgxhjX7MUlm%2BfLlvucNWZ9du3YZSWbjxo2%2BYzZs2GAkmX/961%2BNNzx8uILlIjU1NSooKFBKSorf9pSUFOXl5Tk0VdNWXl4uSWrVqpUkqaCgQMeOHfNbw9jYWCUmJgb0Go4ePVoDBgxQ3759/bazXvWtWLFCycnJ%2Bt3vfqe2bduqa9euWrhwoW//nj17VFJS4rdm4eHhuv766wN2zXr27KnVq1fr008/lSR9/PHHWr9%2BvW6%2B%2BWZJrNnpNGR9NmzYII/Ho6uuusp3zNVXXy2Px8MaOoS3gXWRQ4cOqba2tt4fmY6Jian3x6hx4p6FcePGqWfPnkpMTJQklZSUKCwsTC1btvQ7NpDXMDs7WwUFBcrPz6%2B3j/Wq74svvtD8%2BfM1btw4PfLII9q0aZMefPBBhYeH66677vKty8m%2BT7/66isnRnbcpEmTVF5erg4dOig4OFi1tbWaNm2a7rzzTklizU6jIetTUlKitm3b1vvYtm3bBuz3qtMILBcKCgrye26MqbcN0pgxY7Rt2zatX7/%2BtMcG6hoWFRVp7Nixev/99xUREdHgjwvU9ZKkuro6JScna/r06ZKkrl27aufOnZo/f77uuusu33F8n/7X0qVLtWTJEr322mu64oorVFhYqIyMDMXGxiotLc13HGv20063PidbK9bQObxE6CLR0dEKDg6u96%2BR0tLSev%2ByCXTp6elasWKF1qxZo7i4ON92r9ermpoalZWV%2BR0fqGtYUFCg0tJSJSUlKSQkRCEhIcrNzdXcuXMVEhKimJgY1utH2rVrp8svv9xvW8eOHX2/aOL1eiWJ79MfePjhhzV58mTdcccd6tSpk1JTU/XQQw8pKytLEmt2Og1ZH6/XqwMHDtT72IMHD7KGDiGwXCQsLExJSUnKycnx256Tk6MePXo4NFXTYozRmDFjtGzZMn3wwQdKSEjw25%2BUlKTQ0FC/NSwuLtaOHTsCcg379Omj7du3q7Cw0PdITk7WsGHDfP%2Bb9fJ3zTXX1Hvrj08//VQXX3yxJCkhIUFer9dvzWpqapSbmxuwa/bdd9/pvPP8f9wEBwf73qaBNftpDVmf7t27q7y8XJs2bfId89FHH6m8vJw1dIpjt9fjf5KdnW1CQ0PNiy%2B%2BaHbt2mUyMjJMixYtzJdffun0aE3CAw88YDwej/nwww9NcXGx7/Hdd9/5jhk1apSJi4szq1atMlu2bDG9e/c2Xbp0McePH3dw8qbjh79FaAzr9WObNm0yISEhZtq0aeazzz4zr776qmnevLlZsmSJ75gZM2YYj8djli1bZrZv327uvPNO065dO1NRUeHg5M5JS0szF154ofnHP/5h9uzZY5YtW2aio6PNxIkTfccE%2BppVVlaarVu3mq1btxpJZvbs2Wbr1q3mq6%2B%2BMsY0bH1uuukm07lzZ7NhwwazYcNni5q0AAABS0lEQVQG06lTJzNw4ECnvqSAR2C50HPPPWcuvvhiExYWZq688krfWxDgxK83n%2ByxaNEi3zFHjhwxY8aMMa1atTLNmjUzAwcONHv37nVu6Cbmx4HFetX39ttvm8TERBMeHm46dOhgFixY4Le/rq7OPP7448br9Zrw8HBz3XXXme3btzs0rfMqKirM2LFjzUUXXWQiIiLMJZdcYjIzM011dbXvmEBfszVr1pz0v11paWnGmIatzzfffGOGDRtmIiMjTWRkpBk2bJgpKytz4KuBMcYEGWOMM9fOAAAAzk3cgwUAAGAZgQUAAGAZgQUAAGAZgQUAAGAZgQUAAGAZgQUAAGAZgQUAAGAZgQUAAGAZgQUAAGAZgQUAAGAZgQUAAGAZgQUAAGAZgQUAAGAZgQUAAGAZgQUAAGAZgQUAAGAZgQUAAGAZgQUAAGDZ/wFPOfgqLU4/BwAAAABJRU5ErkJggg%3D%3D\"/>\n",
       "        </div>\n",
       "        <div role=\"tabpanel\" class=\"tab-pane col-md-12\" id=\"common-3812817628707133226\">\n",
       "            \n",
       "<table class=\"freq table table-hover\">\n",
       "    <thead>\n",
       "    <tr>\n",
       "        <td class=\"fillremaining\">Value</td>\n",
       "        <td class=\"number\">Count</td>\n",
       "        <td class=\"number\">Frequency (%)</td>\n",
       "        <td style=\"min-width:200px\">&nbsp;</td>\n",
       "    </tr>\n",
       "    </thead>\n",
       "    <tr class=\"\">\n",
       "        <td class=\"fillremaining\">8.7</td>\n",
       "        <td class=\"number\">3</td>\n",
       "        <td class=\"number\">1.5%</td>\n",
       "        <td>\n",
       "            <div class=\"bar\" style=\"width:2%\">&nbsp;</div>\n",
       "        </td>\n",
       "</tr><tr class=\"\">\n",
       "        <td class=\"fillremaining\">25.6</td>\n",
       "        <td class=\"number\">3</td>\n",
       "        <td class=\"number\">1.5%</td>\n",
       "        <td>\n",
       "            <div class=\"bar\" style=\"width:2%\">&nbsp;</div>\n",
       "        </td>\n",
       "</tr><tr class=\"\">\n",
       "        <td class=\"fillremaining\">9.3</td>\n",
       "        <td class=\"number\">3</td>\n",
       "        <td class=\"number\">1.5%</td>\n",
       "        <td>\n",
       "            <div class=\"bar\" style=\"width:2%\">&nbsp;</div>\n",
       "        </td>\n",
       "</tr><tr class=\"\">\n",
       "        <td class=\"fillremaining\">14.2</td>\n",
       "        <td class=\"number\">2</td>\n",
       "        <td class=\"number\">1.0%</td>\n",
       "        <td>\n",
       "            <div class=\"bar\" style=\"width:2%\">&nbsp;</div>\n",
       "        </td>\n",
       "</tr><tr class=\"\">\n",
       "        <td class=\"fillremaining\">45.1</td>\n",
       "        <td class=\"number\">2</td>\n",
       "        <td class=\"number\">1.0%</td>\n",
       "        <td>\n",
       "            <div class=\"bar\" style=\"width:2%\">&nbsp;</div>\n",
       "        </td>\n",
       "</tr><tr class=\"\">\n",
       "        <td class=\"fillremaining\">18.3</td>\n",
       "        <td class=\"number\">2</td>\n",
       "        <td class=\"number\">1.0%</td>\n",
       "        <td>\n",
       "            <div class=\"bar\" style=\"width:2%\">&nbsp;</div>\n",
       "        </td>\n",
       "</tr><tr class=\"\">\n",
       "        <td class=\"fillremaining\">59.0</td>\n",
       "        <td class=\"number\">2</td>\n",
       "        <td class=\"number\">1.0%</td>\n",
       "        <td>\n",
       "            <div class=\"bar\" style=\"width:2%\">&nbsp;</div>\n",
       "        </td>\n",
       "</tr><tr class=\"\">\n",
       "        <td class=\"fillremaining\">52.9</td>\n",
       "        <td class=\"number\">2</td>\n",
       "        <td class=\"number\">1.0%</td>\n",
       "        <td>\n",
       "            <div class=\"bar\" style=\"width:2%\">&nbsp;</div>\n",
       "        </td>\n",
       "</tr><tr class=\"\">\n",
       "        <td class=\"fillremaining\">22.3</td>\n",
       "        <td class=\"number\">2</td>\n",
       "        <td class=\"number\">1.0%</td>\n",
       "        <td>\n",
       "            <div class=\"bar\" style=\"width:2%\">&nbsp;</div>\n",
       "        </td>\n",
       "</tr><tr class=\"\">\n",
       "        <td class=\"fillremaining\">34.6</td>\n",
       "        <td class=\"number\">2</td>\n",
       "        <td class=\"number\">1.0%</td>\n",
       "        <td>\n",
       "            <div class=\"bar\" style=\"width:2%\">&nbsp;</div>\n",
       "        </td>\n",
       "</tr><tr class=\"other\">\n",
       "        <td class=\"fillremaining\">Other values (162)</td>\n",
       "        <td class=\"number\">177</td>\n",
       "        <td class=\"number\">88.5%</td>\n",
       "        <td>\n",
       "            <div class=\"bar\" style=\"width:100%\">&nbsp;</div>\n",
       "        </td>\n",
       "</tr>\n",
       "</table>\n",
       "        </div>\n",
       "        <div role=\"tabpanel\" class=\"tab-pane col-md-12\"  id=\"extreme-3812817628707133226\">\n",
       "            <p class=\"h4\">Minimum 5 values</p>\n",
       "            \n",
       "<table class=\"freq table table-hover\">\n",
       "    <thead>\n",
       "    <tr>\n",
       "        <td class=\"fillremaining\">Value</td>\n",
       "        <td class=\"number\">Count</td>\n",
       "        <td class=\"number\">Frequency (%)</td>\n",
       "        <td style=\"min-width:200px\">&nbsp;</td>\n",
       "    </tr>\n",
       "    </thead>\n",
       "    <tr class=\"\">\n",
       "        <td class=\"fillremaining\">0.3</td>\n",
       "        <td class=\"number\">1</td>\n",
       "        <td class=\"number\">0.5%</td>\n",
       "        <td>\n",
       "            <div class=\"bar\" style=\"width:100%\">&nbsp;</div>\n",
       "        </td>\n",
       "</tr><tr class=\"\">\n",
       "        <td class=\"fillremaining\">0.9</td>\n",
       "        <td class=\"number\">1</td>\n",
       "        <td class=\"number\">0.5%</td>\n",
       "        <td>\n",
       "            <div class=\"bar\" style=\"width:100%\">&nbsp;</div>\n",
       "        </td>\n",
       "</tr><tr class=\"\">\n",
       "        <td class=\"fillremaining\">1.0</td>\n",
       "        <td class=\"number\">1</td>\n",
       "        <td class=\"number\">0.5%</td>\n",
       "        <td>\n",
       "            <div class=\"bar\" style=\"width:100%\">&nbsp;</div>\n",
       "        </td>\n",
       "</tr><tr class=\"\">\n",
       "        <td class=\"fillremaining\">1.7</td>\n",
       "        <td class=\"number\">1</td>\n",
       "        <td class=\"number\">0.5%</td>\n",
       "        <td>\n",
       "            <div class=\"bar\" style=\"width:100%\">&nbsp;</div>\n",
       "        </td>\n",
       "</tr><tr class=\"\">\n",
       "        <td class=\"fillremaining\">1.8</td>\n",
       "        <td class=\"number\">1</td>\n",
       "        <td class=\"number\">0.5%</td>\n",
       "        <td>\n",
       "            <div class=\"bar\" style=\"width:100%\">&nbsp;</div>\n",
       "        </td>\n",
       "</tr>\n",
       "</table>\n",
       "            <p class=\"h4\">Maximum 5 values</p>\n",
       "            \n",
       "<table class=\"freq table table-hover\">\n",
       "    <thead>\n",
       "    <tr>\n",
       "        <td class=\"fillremaining\">Value</td>\n",
       "        <td class=\"number\">Count</td>\n",
       "        <td class=\"number\">Frequency (%)</td>\n",
       "        <td style=\"min-width:200px\">&nbsp;</td>\n",
       "    </tr>\n",
       "    </thead>\n",
       "    <tr class=\"\">\n",
       "        <td class=\"fillremaining\">79.2</td>\n",
       "        <td class=\"number\">1</td>\n",
       "        <td class=\"number\">0.5%</td>\n",
       "        <td>\n",
       "            <div class=\"bar\" style=\"width:100%\">&nbsp;</div>\n",
       "        </td>\n",
       "</tr><tr class=\"\">\n",
       "        <td class=\"fillremaining\">84.8</td>\n",
       "        <td class=\"number\">1</td>\n",
       "        <td class=\"number\">0.5%</td>\n",
       "        <td>\n",
       "            <div class=\"bar\" style=\"width:100%\">&nbsp;</div>\n",
       "        </td>\n",
       "</tr><tr class=\"\">\n",
       "        <td class=\"fillremaining\">89.4</td>\n",
       "        <td class=\"number\">1</td>\n",
       "        <td class=\"number\">0.5%</td>\n",
       "        <td>\n",
       "            <div class=\"bar\" style=\"width:100%\">&nbsp;</div>\n",
       "        </td>\n",
       "</tr><tr class=\"\">\n",
       "        <td class=\"fillremaining\">100.9</td>\n",
       "        <td class=\"number\">1</td>\n",
       "        <td class=\"number\">0.5%</td>\n",
       "        <td>\n",
       "            <div class=\"bar\" style=\"width:100%\">&nbsp;</div>\n",
       "        </td>\n",
       "</tr><tr class=\"\">\n",
       "        <td class=\"fillremaining\">114.0</td>\n",
       "        <td class=\"number\">1</td>\n",
       "        <td class=\"number\">0.5%</td>\n",
       "        <td>\n",
       "            <div class=\"bar\" style=\"width:100%\">&nbsp;</div>\n",
       "        </td>\n",
       "</tr>\n",
       "</table>\n",
       "        </div>\n",
       "    </div>\n",
       "</div>\n",
       "</div><div class=\"row variablerow\">\n",
       "    <div class=\"col-md-3 namecol\">\n",
       "        <p class=\"h4 pp-anchor\" id=\"pp_var_Radio\">Radio<br/>\n",
       "            <small>Numeric</small>\n",
       "        </p>\n",
       "    </div><div class=\"col-md-6\">\n",
       "    <div class=\"row\">\n",
       "        <div class=\"col-sm-6\">\n",
       "            <table class=\"stats \">\n",
       "                <tr>\n",
       "                    <th>Distinct count</th>\n",
       "                    <td>167</td>\n",
       "                </tr>\n",
       "                <tr>\n",
       "                    <th>Unique (%)</th>\n",
       "                    <td>83.5%</td>\n",
       "                </tr>\n",
       "                <tr class=\"ignore\">\n",
       "                    <th>Missing (%)</th>\n",
       "                    <td>0.0%</td>\n",
       "                </tr>\n",
       "                <tr class=\"ignore\">\n",
       "                    <th>Missing (n)</th>\n",
       "                    <td>0</td>\n",
       "                </tr>\n",
       "                <tr class=\"ignore\">\n",
       "                    <th>Infinite (%)</th>\n",
       "                    <td>0.0%</td>\n",
       "                </tr>\n",
       "                <tr class=\"ignore\">\n",
       "                    <th>Infinite (n)</th>\n",
       "                    <td>0</td>\n",
       "                </tr>\n",
       "            </table>\n",
       "\n",
       "        </div>\n",
       "        <div class=\"col-sm-6\">\n",
       "            <table class=\"stats \">\n",
       "\n",
       "                <tr>\n",
       "                    <th>Mean</th>\n",
       "                    <td>23.264</td>\n",
       "                </tr>\n",
       "                <tr>\n",
       "                    <th>Minimum</th>\n",
       "                    <td>0</td>\n",
       "                </tr>\n",
       "                <tr>\n",
       "                    <th>Maximum</th>\n",
       "                    <td>49.6</td>\n",
       "                </tr>\n",
       "                <tr class=\"ignore\">\n",
       "                    <th>Zeros (%)</th>\n",
       "                    <td>0.5%</td>\n",
       "                </tr>\n",
       "            </table>\n",
       "        </div>\n",
       "    </div>\n",
       "</div>\n",
       "<div class=\"col-md-3 collapse in\" id=\"minihistogram2791854435474545273\">\n",
       "    <img src=\"data:image/png;base64,iVBORw0KGgoAAAANSUhEUgAAAMgAAABLCAYAAAA1fMjoAAAABHNCSVQICAgIfAhkiAAAAAlwSFlzAAAPYQAAD2EBqD%2BnaQAAADl0RVh0U29mdHdhcmUAbWF0cGxvdGxpYiB2ZXJzaW9uIDIuMi4yLCBodHRwOi8vbWF0cGxvdGxpYi5vcmcvhp/UCwAAAdFJREFUeJzt3DGO2kAYhuHfKK2hR/gWOUTulDpl7pND5BYgDmArRYrgFAnbbPaTdpUdY3ieEkvMGM2Lx8iim%2Bd5rsZOp1MNw9B6WFbueDzW4XBoOuaHpqP91fd9Vf054e12u8QUWJFxHGsYhqd109IigXRdV1VV2%2B32WSAfP3979ft9//Lpv8yL23ZdNy1tmo8IKyIQCAQCgUAgEAgEAoFAIBAIBAKBQCAQCBZ51ISXedTmtriCQCAQCB52i/XIW5m3nPtb3MPn5QoCwV1cQVp9I/J4XEEgEAgEd7HFulW2fusnkFew4B%2BPLRYEAoFAIBC4B%2BHd3MPTCgK5A348eD%2B2WBAIBAKBQCAQCAQCgUAgEAgEAoFAIBAIBAKBQCAQCAQCgUAgEAgEAoFAIBAIBAKBQCAQCBb504Z5nquqahzHZ8d%2B/fzRejrckH%2Btietr13XT0iKBTNNUVVXDMCwxPDds9/XlY9M01W63azeZqurmBbK8XC51Pp%2Br7/vquq718KzMPM81TVPt9/vabNreFSwSCKyFm3QIBAKBQCAQCAQCgUAgEAgEAoFAIBAIBAKBQCAQCAQCgUAgEAgEAoFAIBAIBAKBQCAQCAQCgUAgEAgEgt%2BKalIbGPz1nwAAAABJRU5ErkJggg%3D%3D\">\n",
       "\n",
       "</div>\n",
       "<div class=\"col-md-12 text-right\">\n",
       "    <a role=\"button\" data-toggle=\"collapse\" data-target=\"#descriptives2791854435474545273,#minihistogram2791854435474545273\"\n",
       "       aria-expanded=\"false\" aria-controls=\"collapseExample\">\n",
       "        Toggle details\n",
       "    </a>\n",
       "</div>\n",
       "<div class=\"row collapse col-md-12\" id=\"descriptives2791854435474545273\">\n",
       "    <ul class=\"nav nav-tabs\" role=\"tablist\">\n",
       "        <li role=\"presentation\" class=\"active\"><a href=\"#quantiles2791854435474545273\"\n",
       "                                                  aria-controls=\"quantiles2791854435474545273\" role=\"tab\"\n",
       "                                                  data-toggle=\"tab\">Statistics</a></li>\n",
       "        <li role=\"presentation\"><a href=\"#histogram2791854435474545273\" aria-controls=\"histogram2791854435474545273\"\n",
       "                                   role=\"tab\" data-toggle=\"tab\">Histogram</a></li>\n",
       "        <li role=\"presentation\"><a href=\"#common2791854435474545273\" aria-controls=\"common2791854435474545273\"\n",
       "                                   role=\"tab\" data-toggle=\"tab\">Common Values</a></li>\n",
       "        <li role=\"presentation\"><a href=\"#extreme2791854435474545273\" aria-controls=\"extreme2791854435474545273\"\n",
       "                                   role=\"tab\" data-toggle=\"tab\">Extreme Values</a></li>\n",
       "\n",
       "    </ul>\n",
       "\n",
       "    <div class=\"tab-content\">\n",
       "        <div role=\"tabpanel\" class=\"tab-pane active row\" id=\"quantiles2791854435474545273\">\n",
       "            <div class=\"col-md-4 col-md-offset-1\">\n",
       "                <p class=\"h4\">Quantile statistics</p>\n",
       "                <table class=\"stats indent\">\n",
       "                    <tr>\n",
       "                        <th>Minimum</th>\n",
       "                        <td>0</td>\n",
       "                    </tr>\n",
       "                    <tr>\n",
       "                        <th>5-th percentile</th>\n",
       "                        <td>1.995</td>\n",
       "                    </tr>\n",
       "                    <tr>\n",
       "                        <th>Q1</th>\n",
       "                        <td>9.975</td>\n",
       "                    </tr>\n",
       "                    <tr>\n",
       "                        <th>Median</th>\n",
       "                        <td>22.9</td>\n",
       "                    </tr>\n",
       "                    <tr>\n",
       "                        <th>Q3</th>\n",
       "                        <td>36.525</td>\n",
       "                    </tr>\n",
       "                    <tr>\n",
       "                        <th>95-th percentile</th>\n",
       "                        <td>46.81</td>\n",
       "                    </tr>\n",
       "                    <tr>\n",
       "                        <th>Maximum</th>\n",
       "                        <td>49.6</td>\n",
       "                    </tr>\n",
       "                    <tr>\n",
       "                        <th>Range</th>\n",
       "                        <td>49.6</td>\n",
       "                    </tr>\n",
       "                    <tr>\n",
       "                        <th>Interquartile range</th>\n",
       "                        <td>26.55</td>\n",
       "                    </tr>\n",
       "                </table>\n",
       "            </div>\n",
       "            <div class=\"col-md-4 col-md-offset-2\">\n",
       "                <p class=\"h4\">Descriptive statistics</p>\n",
       "                <table class=\"stats indent\">\n",
       "                    <tr>\n",
       "                        <th>Standard deviation</th>\n",
       "                        <td>14.847</td>\n",
       "                    </tr>\n",
       "                    <tr>\n",
       "                        <th>Coef of variation</th>\n",
       "                        <td>0.63819</td>\n",
       "                    </tr>\n",
       "                    <tr>\n",
       "                        <th>Kurtosis</th>\n",
       "                        <td>-1.2604</td>\n",
       "                    </tr>\n",
       "                    <tr>\n",
       "                        <th>Mean</th>\n",
       "                        <td>23.264</td>\n",
       "                    </tr>\n",
       "                    <tr>\n",
       "                        <th>MAD</th>\n",
       "                        <td>12.969</td>\n",
       "                    </tr>\n",
       "                    <tr class=\"\">\n",
       "                        <th>Skewness</th>\n",
       "                        <td>0.094175</td>\n",
       "                    </tr>\n",
       "                    <tr>\n",
       "                        <th>Sum</th>\n",
       "                        <td>4652.8</td>\n",
       "                    </tr>\n",
       "                    <tr>\n",
       "                        <th>Variance</th>\n",
       "                        <td>220.43</td>\n",
       "                    </tr>\n",
       "                    <tr>\n",
       "                        <th>Memory size</th>\n",
       "                        <td>1.6 KiB</td>\n",
       "                    </tr>\n",
       "                </table>\n",
       "            </div>\n",
       "        </div>\n",
       "        <div role=\"tabpanel\" class=\"tab-pane col-md-8 col-md-offset-2\" id=\"histogram2791854435474545273\">\n",
       "            <img src=\"data:image/png;base64,iVBORw0KGgoAAAANSUhEUgAAAlgAAAGQCAYAAAByNR6YAAAABHNCSVQICAgIfAhkiAAAAAlwSFlzAAAPYQAAD2EBqD%2BnaQAAADl0RVh0U29mdHdhcmUAbWF0cGxvdGxpYiB2ZXJzaW9uIDIuMi4yLCBodHRwOi8vbWF0cGxvdGxpYi5vcmcvhp/UCwAAIABJREFUeJzt3XtwlOXdh/HvSpIFMVkIgWxiUiZF8MBphFAJoiJgNIqo1AqiNFS0YiEaA7Ugo4ZpJYznA0oVFfA0wU4B6YhAUAgwNEoCyEGHoqCAJgYsZkMKy%2Bl%2B/%2BB16zZBot7Jsw97fWZ2hueQzc9b3Fw%2Bu9n1GGOMAAAAYM0ZTg8AAABwuiGwAAAALCOwAAAALCOwAAAALCOwAAAALCOwAAAALCOwAAAALCOwAAAALCOwAAAALCOwAAAALCOwAAAALCOwAAAALCOwAAAALCOwAAAALCOwAAAALCOwAAAALCOwAAAALCOwAAAALCOwAAAALCOwAAAALCOwAAAALCOwAAAALCOwAAAALCOwAAAALCOwAAAALCOwAAAALCOwAAAALCOwAAAALCOwAAAALCOwAAAALCOwAAAALCOwAAAALCOwAAAALCOwAAAALCOwAAAALCOwAAAALCOwAAAALCOwAAAALItxeoBocPz4cX311VeKj4%2BXx%2BNxehwAAKKCMUa1tbVKTU3VGWc07zUlAqsZfPXVV0pPT3d6DAAAotLu3buVlpbWrN%2BTwGoG8fHxkk78C05ISHB4GgAAokMgEFB6enro53BzIrCawXdPCyYkJBBYAAA0MydensOL3AEAACwjsAAAACwjsAAAACwjsAAAACwjsAAAACwjsAAAACwjsAAAACwjsAAAACyL%2BsCaOXOmevToEXoT0KysLL377ruh48FgUHl5eUpKSlLr1q01dOhQ7dmzx8GJAQBApIv6wEpLS9P06dNVXl6u8vJyDRw4UNddd522bt0qScrPz9eCBQtUXFysNWvW6MCBAxoyZIiOHTvm8OQAACBSeYwxxukhIk1iYqIeffRR3XjjjWrfvr1ee%2B01DR8%2BXNJ/P7h58eLFuvLKKxt1f4FAQD6fTzU1NXxUDgAAzcTJn79RfwXr%2B44dO6bi4mLV1dUpKytLFRUVOnLkiLKzs0PnpKamqlu3blq7du1J7ycYDCoQCITdAABA9ODDniVt3rxZWVlZOnTokM466ywtWLBAF1xwgTZu3Ki4uDi1bds27Pzk5GRVVVWd9P6Kioo0derUph5bkpQ5ZUmzfB8byh%2B%2ByukRAABoFlzBknTuuedq48aNKisr01133aXc3Fx9/PHHJz3fGPODn8w9efJk1dTUhG67d%2B9uirEBAECE4gqWpLi4OJ1zzjmSpMzMTK1bt05PP/20hg8frsOHD2v//v1hV7Gqq6vVr1%2B/k96f1%2BuV1%2Btt8rkBAEBk4gpWA4wxCgaD6t27t2JjY1VSUhI6VllZqS1btvxgYAEAgOgW9Vew7r//fuXk5Cg9PV21tbUqLi7WypUrtWTJEvl8Po0ZM0YTJkxQu3btlJiYqIkTJ6p79%2B4aPHiw06MDAIAIFfWB9fXXX2vUqFGqrKyUz%2BdTjx49tGTJEl1xxRWSpCeffFIxMTG66aabdPDgQQ0aNEhz5sxRixYtHJ4cAABEKt4Hqxk05ftw8FuEAAA0jPfBAgAAOI0QWAAAAJYRWAAAAJYRWAAAAJYRWAAAAJYRWAAAAJYRWAAAAJYRWAAAAJYRWAAAAJYRWAAAAJYRWAAAAJYRWAAAAJYRWAAAAJYRWAAAAJYRWAAAAJYRWAAAAJYRWAAAAJYRWAAAAJYRWAAAAJYRWAAAAJYRWAAAAJYRWAAAAJYRWAAAAJYRWAAAAJYRWAAAAJYRWAAAAJYRWAAAAJYRWAAAAJYRWAAAAJYRWAAAAJYRWAAAAJYRWAAAAJYRWAAAAJYRWAAAAJYRWAAAAJYRWAAAAJYRWAAAAJYRWAAAAJYRWAAAAJYRWAAAAJZFfWAVFRWpT58%2Bio%2BPV4cOHXT99ddr27ZtYecMGDBAHo8n7DZixAiHJgYAAJEu6gOrtLRU48aNU1lZmUpKSnT06FFlZ2errq4u7Lw77rhDlZWVodsLL7zg0MQAACDSxTg9gNOWLFkStj179mx16NBBFRUVuvTSS0P7zzzzTPn9/uYeDwAAuFDUX8H6XzU1NZKkxMTEsP1vvPGGkpKS1LVrV02cOFG1tbUnvY9gMKhAIBB2AwAA0SPqr2B9nzFGBQUF6t%2B/v7p16xbaf8sttygjI0N%2Bv19btmzR5MmT9dFHH6mkpKTB%2BykqKtLUqVOba2wAABBhPMYY4/QQkWLcuHF65513tGbNGqWlpZ30vIqKCmVmZqqiokK9evWqdzwYDCoYDIa2A4GA0tPTVVNTo4SEBKszZ05ZcuqTIkT5w1c5PQIAIIoEAgH5fL4m%2Bfl7KlzB%2Bn95eXlatGiRVq1a9YNxJUm9evVSbGystm/f3mBgeb1eeb3ephoVAABEuKgPLGOM8vLytGDBAq1cuVIZGRmn/JqtW7fqyJEjSklJaYYJAQCA20R9YI0bN05vvvmm3n77bcXHx6uqqkqS5PP51KpVK3322Wd64403dPXVVyspKUkff/yxJkyYoAsvvFAXX3yxw9MDAIBIFPW/RThz5kzV1NRowIABSklJCd3mzZsnSYqLi9N7772nK6%2B8Uueee67uvvtuZWdna/ny5WrRooXD0wMAgEgU9VewTvUa//T0dJWWljbTNAAA4HQQ9VewAAAAbCOwAAAALCOwAAAALCOwAAAALCOwAAAALCOwAAAALCOwAAAALCOwAAAALCOwAAAALCOwAAAALCOwAAAALCOwAAAALCOwAAAALItxegAAiHSZU5Y4PcKPUv7wVU6PAEQ9rmABAABYRmABAABYRmABAABYRmABAABYRmABAABYRmABAABYRmABAABYRmABAABYRmABAABYRmABAABYRmABAABYRmABAABYRmABAABYRmABAABYRmABAABYRmABAABYRmABAABYRmABAABYRmABAABYRmABAABYFuP0AECkypyyxOkRfpTyh69yegTgR3Pbf2duw%2BOCc7iCBQAAYBmBBQAAYBmBBQAAYBmBBQAAYFnUB1ZRUZH69Omj%2BPh4dejQQddff722bdsWdk4wGFReXp6SkpLUunVrDR06VHv27HFoYgAAEOmiPrBKS0s1btw4lZWVqaSkREePHlV2drbq6upC5%2BTn52vBggUqLi7WmjVrdODAAQ0ZMkTHjh1zcHIAABCpov5tGpYsCf8V4dmzZ6tDhw6qqKjQpZdeqpqaGr388st67bXXNHjwYEnS66%2B/rvT0dC1fvlxXXnmlE2MDAIAIFvVXsP5XTU2NJCkxMVGSVFFRoSNHjig7Ozt0Tmpqqrp166a1a9c6MiMAAIhsUX8F6/uMMSooKFD//v3VrVs3SVJVVZXi4uLUtm3bsHOTk5NVVVXV4P0Eg0EFg8HQdiAQaLqhAQBAxCGwvmf8%2BPHatGmT1qxZc8pzjTHyeDwNHisqKtLUqVNtj%2Bd6vGMzACBa8BTh/8vLy9OiRYu0YsUKpaWlhfb7/X4dPnxY%2B/fvDzu/urpaycnJDd7X5MmTVVNTE7rt3r27SWcHAACRJeoDyxij8ePHa/78%2BXr//feVkZERdrx3796KjY1VSUlJaF9lZaW2bNmifv36NXifXq9XCQkJYTcAABA9ov4pwnHjxunNN9/U22%2B/rfj4%2BNDrqnw%2Bn1q1aiWfz6cxY8ZowoQJateunRITEzVx4kR179499FuFAAAA3xf1gTVz5kxJ0oABA8L2z549W6NHj5YkPfnkk4qJidFNN92kgwcPatCgQZozZ45atGjRzNMCAAA3iPrAMsac8pyWLVvq2Wef1bPPPtsMEwEAALeL%2BtdgAQAA2EZgAQAAWEZgAQAAWObawHr99dd16NAhp8cAAACox7WBVVBQIL/frzvvvFMffvih0%2BMAAACEuDawvvrqK73yyiuqrKxU//791bVrVz3%2B%2BOPau3ev06MBAIAo59rAiomJ0bBhw7Ro0SLt2rVLubm5euWVV5SWlqZhw4bpnXfeadRbMAAAANjm2sD6Pr/fr0GDBmnAgAHyeDwqLy/XyJEj1blzZ61evdrp8QAAQJRxdWDt27dPTz31lHr27KmLL75Y1dXVWrhwob744gt9%2BeWXGjJkiH772986PSYAAIgyrn0n9xtuuEGLFy9WRkaGbr/9duXm5qp9%2B/ah42eddZbuu%2B8%2BPfPMMw5OCQAAopFrAyshIUHLly/XJZdcctJzUlJStH379macCgAAwMWBNXfu3FOe4/F41KlTp2aYBgAA4L9c%2Bxqse%2B%2B9VzNmzKi3/7nnntOECRMcmAgAAOAE1wbW3/72N/Xt27fe/qysLM2bN8%2BBiQAAAE5w7VOE%2B/btU9u2bevtT0hI0L59%2BxyYCEBjZU5Z4vQIANCkXHsFq1OnTlq6dGm9/UuXLlVGRoYDEwEAAJzg2itY%2Bfn5ys/P1zfffKOBAwdKkt577z098sgjeuyxxxyeDgAARDPXBtYdd9yhQ4cOadq0aXrooYckSWlpaXrmmWd02223OTwdAACIZq4NLEnKy8tTXl6eKisr1apVK7Vp08bpkQAAANwdWN9JSUlxegQAAIAQ177Ife/evfrd736nX/ziF2rZsqXi4uLCbgAAAE5x7RWs0aNH67PPPtMf//hHpaSkyOPxOD0SAACAJBcH1qpVq7Rq1SpdeOGFTo8CAAAQxrVPEaalpXHVCgAARCTXXsF68sknNXnyZM2aNUtpaWlOjwM4jndHB4DI4drAGjVqlGpra9WxY0clJCQoNjY27Hh1dbVDkwEAgGjn2sCaPn260yMAAAA0yLWBNWbMGKdHAAAAaJBrX%2BQuSZ9//rkKCws1atSo0FOCy5Yt0yeffOLwZAAAIJq5NrBWr16trl27qrS0VG%2B99ZYOHDggSVq/fr0efPBBh6cDAADRzLWB9ac//UmFhYVasWJF2Du3Dxw4UGVlZQ5OBgAAop1rA2vTpk268cYb6%2B3v0KGD9u7d68BEAAAAJ7g2sNq0aaOqqqp6%2Bzdu3Kizzz7bgYkAAABOcG1gjRgxQpMmTdLevXtD7%2Bj%2BwQcfaOLEibr11lsdng4AAEQz1wbWtGnT5Pf7lZKSogMHDuiCCy5Qv3791KdPHz3wwANOjwcAAKKYa98HKy4uTvPmzdO//vUvrV%2B/XsePH1evXr103nnnOT0aAACIcq4NrO906dJFXbp0cXoMAACAENcG1u9///sfPP7iiy820yQAAADhXBtYlZWVYdtHjhzR1q1bVVtbq0svvdShqQAAAFwcWP/4xz/q7Tt69KjuuusunX/%2B%2BQ5MBAAAcIJrf4uwITExMZo4caIeffTRRn/NqlWrdO211yo1NVUej0cLFy4MOz569Gh5PJ6wW9%2B%2BfW2PDgAATiOnVWBJ0o4dO3TkyJFGn19XV6eePXtqxowZJz3nqquuUmVlZei2ePFiG6MCAIDTlGufIrzvvvvCto0xqqys1KJFi3TLLbc0%2Bn5ycnKUk5Pzg%2Bd4vV75/f6fNCcAAIg%2Brg2sf/7zn2HbZ5xxhtq3b6/p06frjjvusPq9Vq5cqQ4dOqhNmza67LLL9PDDD6tDhw5WvwcAADh9uDawVq9e3SzfJycnR7/5zW/UsWNH7dy5Uw888IAGDhyoiooKeb3eBr8mGAwqGAyGtgOBQLPMCgAAIoNrA6u5DB8%2BPPTnbt26KTMzUx07dtQ777yjYcOGNfg1RUVFmjp1anONCABAgzKnLHF6hEYrf/gqp0ewyrWB1adPn9CHPJ/Khx9%2BaO37pqSkqGPHjtq%2BfftJz5k8ebIKCgpC24FAQOnp6dZmAAAAkc21gXX55ZfrhRdeUJcuXZSVlSVJKisr07Zt23TnnXee9Om7n%2Bubb77R7t27lZKSctJzvF5vk31/AAAQ%2BVwbWN9%2B%2B63GjRunadOmhe2fMmWKvv76a7300kuNup8DBw7o008/DW3v3LlTGzduVGJiohITE1VYWKhf//rXSklJ0eeff677779fSUlJuuGGG6z%2B8wAAgNOHawPrrbfe0rp16%2BrtHz16tDIzMxsdWOXl5br88stD2989tZebm6uZM2dq8%2BbNevXVV/Xtt98qJSVFl19%2BuebNm6f4%2BHg7/yAAAOC049rA8nq9Wrt2rTp37hy2f%2B3atT/q6bkBAwbIGHPS40uXLv3JMwIAgOjk2sC6%2B%2B67NXbsWG3YsCH00TVlZWWaNWuW7r//foenAwAA0cy1gTVlyhRlZGTo6aef1iuvvCJJOv/88zVr1iyNHDnS4ekAAEA0c21gSdLIkSOJKQAAEHFc/WHPgUBAc%2BbM0YMPPqj9%2B/dLkj766CNVVlY6PBkAAIhmrr2CtWXLFg0ePFhnnnmmdu/erdGjR6tt27Z66623tGfPHs2dO9fpEQHAEW56927gdOXaK1j33nuvRo4cqc8%2B%2B0wtW7YM7b/mmmu0atUqBycDAADRzrVXsNatW6eZM2fW%2B7ics88%2Bm6cIAQCAo1x7BSsuLk4HDhyot3/79u1KSkpyYCIAAIATXBtYQ4cO1Z///GcdPXpUkuTxePTll19q0qRJGjZsmMPTAQCAaObawHr88cf11Vdfye/36%2BDBgxo4cKB%2B%2BctfqmXLlvU%2BnxAAAKA5ufY1WD6fT2vXrlVJSYnWr1%2Bv48ePq1evXrryyivrvS4LAACgObkysI4cOaKrr75azz//vLKzs5Wdne30SAAAACGufIowNjZWGzZs4EoVAACISK4MLEm69dZbNXv2bKfHAAAAqMeVTxF%2BZ8aMGVq%2BfLkyMzPVunXrsGOPPPKIQ1MBAIBo59rAqqioUI8ePSRJmzZtCjvGU4cAAMBJrgusHTt2KCMjQ6tXr3Z6FAAAgAa57jVYnTt31t69e0Pbw4cP19dff%2B3gRAAAAOFcF1jGmLDtxYsXq66uzqFpAAAA6nNdYAEAAEQ61wWWx%2BOp9yJ2XtQOAAAiiete5G6M0ejRo%2BX1eiVJhw4d0tixY%2Bu9TcP8%2BfOdGA8AAMB9gZWbmxu2feuttzo0CQAAQMNcF1i8ezsAAIh0rnsNFgAAQKQjsAAAACwjsAAAACwjsAAAACwjsAAAACwjsAAAACwjsAAAACwjsAAAACwjsAAAACwjsAAAACwjsAAAACwjsAAAACwjsAAAACwjsAAAACwjsAAAACwjsAAAACyL%2BsBatWqVrr32WqWmpsrj8WjhwoVhx40xKiwsVGpqqlq1aqUBAwZo69atDk0LAADcIOoDq66uTj179tSMGTMaPP7II4/oiSee0IwZM7Ru3Tr5/X5dccUVqq2tbeZJAQCAW8Q4PYDTcnJylJOT0%2BAxY4yeeuopTZkyRcOGDZMkzZ07V8nJyXrzzTd15513NueoAADAJaL%2BCtYP2blzp6qqqpSdnR3a5/V6ddlll2nt2rUn/bpgMKhAIBB2AwAA0YPA%2BgFVVVWSpOTk5LD9ycnJoWMNKSoqks/nC93S09ObdE4AABBZCKxG8Hg8YdvGmHr7vm/y5MmqqakJ3Xbv3t3UIwIAgAgS9a/B%2BiF%2Bv1/SiStZKSkpof3V1dX1rmp9n9frldfrbfL5AABAZOIK1g/IyMiQ3%2B9XSUlJaN/hw4dVWlqqfv36OTgZAACIZFF/BevAgQP69NNPQ9s7d%2B7Uxo0blZiYqF/84hfKz8/XtGnT1LlzZ3Xu3FnTpk3TmWeeqZEjRzo4NQAAiGRRH1jl5eW6/PLLQ9sFBQWSpNzcXM2ZM0f33XefDh48qD/84Q/av3%2B/LrroIi1btkzx8fFOjQwAACKcxxhjnB7idBcIBOTz%2BVRTU6OEhASr9505ZYnV%2BwMAwAnlD19l/T6b8ufvqfAaLAAAAMsILAAAAMsILAAAAMsILAAAAMsILAAAAMsILAAAAMsILAAAAMsILAAAAMsILAAAAMsILAAAAMsILAAAAMsILAAAAMsILAAAAMsILAAAAMsILAAAAMsILAAAAMsILAAAAMsILAAAAMsILAAAAMsILAAAAMsILAAAAMsILAAAAMsILAAAAMsILAAAAMsILAAAAMsILAAAAMsILAAAAMsILAAAAMsILAAAAMsILAAAAMsILAAAAMsILAAAAMsILAAAAMsILAAAAMsILAAAAMsILAAAAMsILAAAAMsILAAAAMsILAAAAMsILAAAAMsIrFMoLCyUx%2BMJu/n9fqfHAgAAESzG6QHcoGvXrlq%2BfHlou0WLFg5OAwAAIh2B1QgxMTFctQIAAI3GU4SNsH37dqWmpiojI0MjRozQjh07fvD8YDCoQCAQdgMAANGDwDqFiy66SK%2B%2B%2BqqWLl2qWbNmqaqqSv369dM333xz0q8pKiqSz%2BcL3dLT05txYgAA4DSPMcY4PYSb1NXVqVOnTrrvvvtUUFDQ4DnBYFDBYDC0HQgElJ6erpqaGiUkJFidJ3PKEqv3BwCAE8ofvsr6fQYCAfl8vib5%2BXsqvAbrR2rdurW6d%2B%2Bu7du3n/Qcr9crr9fbjFMBAIBIwlOEP1IwGNQnn3yilJQUp0cBAAARisA6hYkTJ6q0tFQ7d%2B7UBx98oBtvvFGBQEC5ublOjwYAACIUTxGewp49e3TzzTdr3759at%2B%2Bvfr27auysjJ17NjR6dEAAECEIrBOobi42OkRAACAy/AUIQAAgGUEFgAAgGUEFgAAgGUEFgAAgGUEFgAAgGUEFgAAgGUEFgAAgGUEFgAAgGUEFgAAgGUEFgAAgGUEFgAAgGUEFgAAgGUEFgAAgGUEFgAAgGUEFgAAgGUEFgAAgGUEFgAAgGUEFgAAgGUEFgAAgGUEFgAAgGUEFgAAgGUEFgAAgGUEFgAAgGUEFgAAgGUEFgAAgGUEFgAAgGUEFgAAgGUEFgAAgGUEFgAAgGUEFgAAgGUEFgAAgGUEFgAAgGUEFgAAgGUEFgAAgGUEFgAAgGUEFgAAgGUEFgAAgGUEFgAAgGUEFgAAgGUEFgAAgGUEViM9//zzysjIUMuWLdW7d2%2BtXr3a6ZEAAECEIrAaYd68ecrPz9eUKVO0YcMGXXLJJcrJydGuXbucHg0AAEQgAqsRnnjiCY0ZM0a33367zj//fD311FNKT0/XzJkznR4NAABEoBinB4h0hw8fVkVFhSZNmhS2Pzs7W2vXrm3wa4LBoILBYGi7pqZGkhQIBKzPdyxYZ/0%2BAQBobk3xM/K7%2BzTGWL/vUyGwTmHfvn06duyYkpOTw/YnJyerqqqqwa8pKirS1KlT6%2B1PT09vkhkBAHA73%2BNNd9%2B1tbXy%2BXxN9w0aQGA1ksfjCds2xtTb953JkyeroKAgtH38%2BHH9%2B9//Vrt27U76NT9FIBBQenq6du/erYSEBGv3ixNY36bF%2BjYt1rdpsb5Ny9b6GmNUW1ur1NRUi9M1DoF1CklJSWrRokW9q1XV1dX1rmp9x%2Bv1yuv1hu1r06ZNk82YkJDAf%2BBNiPVtWqxv02J9mxbr27RsrG9zX7n6Di9yP4W4uDj17t1bJSUlYftLSkrUr18/h6YCAACRjCtYjVBQUKBRo0YpMzNTWVlZevHFF7Vr1y6NHTvW6dEAAEAEalFYWFjo9BCRrlu3bmrXrp2mTZumxx57TAcPHtRrr72mnj17Oj2aWrRooQEDBigmhlZuCqxv02J9mxbr27RY36bl9vX1GCd%2BdxEAAOA0xmuwAAAALCOwAAAALCOwAAAALCOwAAAALCOwXOr5559XRkaGWrZsqd69e2v16tVOj%2BRaq1at0rXXXqvU1FR5PB4tXLgw7LgxRoWFhUpNTVWrVq00YMAAbd261aFp3aWoqEh9%2BvRRfHy8OnTooOuvv17btm0LOycYDCovL09JSUlq3bq1hg4dqj179jg0sbvMnDlTPXr0CL0ZY1ZWlt59993QcdbWrqKiInk8HuXn54f2scY/XWFhoTweT9jN7/eHjrv9sZfAcqF58%2BYpPz9fU6ZM0YYNG3TJJZcoJydHu3btcno0V6qrq1PPnj01Y8aMBo8/8sgjeuKJJzRjxgytW7dOfr9fV1xxhWpra5t5UvcpLS3VuHHjVFZWppKSEh09elTZ2dmqq/vvh5Tn5%2BdrwYIFKi4u1po1a3TgwAENGTJEx44dc3Byd0hLS9P06dNVXl6u8vJyDRw4UNddd13ohxBra8%2B6dev04osvqkePHmH7WeOfp2vXrqqsrAzdNm/eHDrm%2BsdeA9f51a9%2BZcaOHRu277zzzjOTJk1yaKLThySzYMGC0Pbx48eN3%2B8306dPD%2B07dOiQ8fl85q9//asTI7padXW1kWRKS0uNMcZ8%2B%2B23JjY21hQXF4fO%2BfLLL80ZZ5xhlixZ4tSYrta2bVvz0ksvsbYW1dbWms6dO5uSkhJz2WWXmXvuuccYw9/fn%2Buhhx4yPXv2bPDY6fDYyxUslzl8%2BLAqKiqUnZ0dtj87O1tr1651aKrT186dO1VVVRW23l6vV5dddhnr/RPU1NRIkhITEyVJFRUVOnLkSNj6pqamqlu3bqzvj3Ts2DEVFxerrq5OWVlZrK1F48aN0zXXXKPBgweH7WeNf77t27crNTVVGRkZGjFihHbs2CHp9Hjsdefbo0axffv26dixY/U%2BaDo5ObneB1Lj5/tuTRta7y%2B%2B%2BMKJkVzLGKOCggL1799f3bp1k3RifePi4tS2bduwc/n73HibN29WVlaWDh06pLPOOksLFizQBRdcoI0bN7K2FhQXF6uiokLl5eX1jvH39%2Be56KKL9Oqrr6pLly76%2Buuv9Ze//EX9%2BvXT1q1bT4vHXgLLpTweT9i2MabePtjDev9848eP16ZNm7RmzZpTnsv6Nt65556rjRs36ttvv9Xf//535ebmqrS09KTns7aNt3v3bt1zzz1atmyZWrZs2eivY40bJycnJ/Tn7t27KysrS506ddLcuXPVt29fSe5%2B7OUpQpdJSkpSixYt6v3fUXV1db3Sx8/33W%2B0sN4/T15enhYtWqQVK1YoLS0ttN/v9%2Bvw4cPav39/2Pmsb%2BPFxcXpnHPOUWZmpoqKitSzZ089/fTTrK0FFRUVqq6uVu/evRUTE6OYmBiVlpbqmWeeUUxMjJKTk1lji1q3bq3u3btr%2B/btp8VjL4HlMnFxcerdu7eNz8u0AAACbUlEQVRKSkrC9peUlKhfv34OTXX6ysjIkN/vD1vvw4cPq7S0lPVuBGOMxo8fr/nz5%2Bv9999XRkZG2PHevXsrNjY2bH0rKyu1ZcsW1vcnMsYoGAyythYMGjRImzdv1saNG0O3zMxM3XLLLaE/s8b2BINBffLJJ0pJSTk9Hnsde3k9frLi4mITGxtrXn75ZfPxxx%2Bb/Px807p1a/P55587PZor1dbWmg0bNpgNGzYYSeaJJ54wGzZsMF988YUxxpjp06cbn89n5s%2BfbzZv3mxuvvlmk5KSYgKBgMOTR7677rrL%2BHw%2Bs3LlSlNZWRm6/ec//wmdM3bsWJOWlmaWL19u1q9fbwYOHGh69uxpjh496uDk7jB58mSzatUqs3PnTrNp0yZz//33mzPOOMMsW7bMGMPaNoXv/xahMazxzzFhwgSzcuVKs2PHDlNWVmaGDBli4uPjQz/L3P7YS2C51HPPPWc6duxo4uLiTK9evUK/9o4fb8WKFUZSvVtubq4x5sSvCz/00EPG7/cbr9drLr30UrN582Znh3aJhtZVkpk9e3bonIMHD5rx48ebxMRE06pVKzNkyBCza9cu54Z2kdtuuy30ONC%2BfXszaNCgUFwZw9o2hf8NLNb4pxs%2BfLhJSUkxsbGxJjU11QwbNsxs3bo1dNztj70eY4xx5toZAADA6YnXYAEAAFhGYAEAAFhGYAEAAFhGYAEAAFhGYAEAAFhGYAEAAFhGYAEAAFhGYAEAAFhGYAEAAFhGYAEAAFhGYAEAAFhGYAEAAFhGYAEAAFhGYAEAAFhGYAEAAFhGYAEAAFhGYAEAAFhGYAEAAFj2fzrdoQfcBBTRAAAAAElFTkSuQmCC\"/>\n",
       "        </div>\n",
       "        <div role=\"tabpanel\" class=\"tab-pane col-md-12\" id=\"common2791854435474545273\">\n",
       "            \n",
       "<table class=\"freq table table-hover\">\n",
       "    <thead>\n",
       "    <tr>\n",
       "        <td class=\"fillremaining\">Value</td>\n",
       "        <td class=\"number\">Count</td>\n",
       "        <td class=\"number\">Frequency (%)</td>\n",
       "        <td style=\"min-width:200px\">&nbsp;</td>\n",
       "    </tr>\n",
       "    </thead>\n",
       "    <tr class=\"\">\n",
       "        <td class=\"fillremaining\">5.7</td>\n",
       "        <td class=\"number\">3</td>\n",
       "        <td class=\"number\">1.5%</td>\n",
       "        <td>\n",
       "            <div class=\"bar\" style=\"width:2%\">&nbsp;</div>\n",
       "        </td>\n",
       "</tr><tr class=\"\">\n",
       "        <td class=\"fillremaining\">4.1</td>\n",
       "        <td class=\"number\">3</td>\n",
       "        <td class=\"number\">1.5%</td>\n",
       "        <td>\n",
       "            <div class=\"bar\" style=\"width:2%\">&nbsp;</div>\n",
       "        </td>\n",
       "</tr><tr class=\"\">\n",
       "        <td class=\"fillremaining\">26.7</td>\n",
       "        <td class=\"number\">2</td>\n",
       "        <td class=\"number\">1.0%</td>\n",
       "        <td>\n",
       "            <div class=\"bar\" style=\"width:2%\">&nbsp;</div>\n",
       "        </td>\n",
       "</tr><tr class=\"\">\n",
       "        <td class=\"fillremaining\">18.1</td>\n",
       "        <td class=\"number\">2</td>\n",
       "        <td class=\"number\">1.0%</td>\n",
       "        <td>\n",
       "            <div class=\"bar\" style=\"width:2%\">&nbsp;</div>\n",
       "        </td>\n",
       "</tr><tr class=\"\">\n",
       "        <td class=\"fillremaining\">43.0</td>\n",
       "        <td class=\"number\">2</td>\n",
       "        <td class=\"number\">1.0%</td>\n",
       "        <td>\n",
       "            <div class=\"bar\" style=\"width:2%\">&nbsp;</div>\n",
       "        </td>\n",
       "</tr><tr class=\"\">\n",
       "        <td class=\"fillremaining\">10.8</td>\n",
       "        <td class=\"number\">2</td>\n",
       "        <td class=\"number\">1.0%</td>\n",
       "        <td>\n",
       "            <div class=\"bar\" style=\"width:2%\">&nbsp;</div>\n",
       "        </td>\n",
       "</tr><tr class=\"\">\n",
       "        <td class=\"fillremaining\">24.6</td>\n",
       "        <td class=\"number\">2</td>\n",
       "        <td class=\"number\">1.0%</td>\n",
       "        <td>\n",
       "            <div class=\"bar\" style=\"width:2%\">&nbsp;</div>\n",
       "        </td>\n",
       "</tr><tr class=\"\">\n",
       "        <td class=\"fillremaining\">49.4</td>\n",
       "        <td class=\"number\">2</td>\n",
       "        <td class=\"number\">1.0%</td>\n",
       "        <td>\n",
       "            <div class=\"bar\" style=\"width:2%\">&nbsp;</div>\n",
       "        </td>\n",
       "</tr><tr class=\"\">\n",
       "        <td class=\"fillremaining\">48.9</td>\n",
       "        <td class=\"number\">2</td>\n",
       "        <td class=\"number\">1.0%</td>\n",
       "        <td>\n",
       "            <div class=\"bar\" style=\"width:2%\">&nbsp;</div>\n",
       "        </td>\n",
       "</tr><tr class=\"\">\n",
       "        <td class=\"fillremaining\">33.5</td>\n",
       "        <td class=\"number\">2</td>\n",
       "        <td class=\"number\">1.0%</td>\n",
       "        <td>\n",
       "            <div class=\"bar\" style=\"width:2%\">&nbsp;</div>\n",
       "        </td>\n",
       "</tr><tr class=\"other\">\n",
       "        <td class=\"fillremaining\">Other values (157)</td>\n",
       "        <td class=\"number\">178</td>\n",
       "        <td class=\"number\">89.0%</td>\n",
       "        <td>\n",
       "            <div class=\"bar\" style=\"width:100%\">&nbsp;</div>\n",
       "        </td>\n",
       "</tr>\n",
       "</table>\n",
       "        </div>\n",
       "        <div role=\"tabpanel\" class=\"tab-pane col-md-12\"  id=\"extreme2791854435474545273\">\n",
       "            <p class=\"h4\">Minimum 5 values</p>\n",
       "            \n",
       "<table class=\"freq table table-hover\">\n",
       "    <thead>\n",
       "    <tr>\n",
       "        <td class=\"fillremaining\">Value</td>\n",
       "        <td class=\"number\">Count</td>\n",
       "        <td class=\"number\">Frequency (%)</td>\n",
       "        <td style=\"min-width:200px\">&nbsp;</td>\n",
       "    </tr>\n",
       "    </thead>\n",
       "    <tr class=\"\">\n",
       "        <td class=\"fillremaining\">0.0</td>\n",
       "        <td class=\"number\">1</td>\n",
       "        <td class=\"number\">0.5%</td>\n",
       "        <td>\n",
       "            <div class=\"bar\" style=\"width:100%\">&nbsp;</div>\n",
       "        </td>\n",
       "</tr><tr class=\"\">\n",
       "        <td class=\"fillremaining\">0.3</td>\n",
       "        <td class=\"number\">1</td>\n",
       "        <td class=\"number\">0.5%</td>\n",
       "        <td>\n",
       "            <div class=\"bar\" style=\"width:100%\">&nbsp;</div>\n",
       "        </td>\n",
       "</tr><tr class=\"\">\n",
       "        <td class=\"fillremaining\">0.4</td>\n",
       "        <td class=\"number\">1</td>\n",
       "        <td class=\"number\">0.5%</td>\n",
       "        <td>\n",
       "            <div class=\"bar\" style=\"width:100%\">&nbsp;</div>\n",
       "        </td>\n",
       "</tr><tr class=\"\">\n",
       "        <td class=\"fillremaining\">0.8</td>\n",
       "        <td class=\"number\">1</td>\n",
       "        <td class=\"number\">0.5%</td>\n",
       "        <td>\n",
       "            <div class=\"bar\" style=\"width:100%\">&nbsp;</div>\n",
       "        </td>\n",
       "</tr><tr class=\"\">\n",
       "        <td class=\"fillremaining\">1.3</td>\n",
       "        <td class=\"number\">1</td>\n",
       "        <td class=\"number\">0.5%</td>\n",
       "        <td>\n",
       "            <div class=\"bar\" style=\"width:100%\">&nbsp;</div>\n",
       "        </td>\n",
       "</tr>\n",
       "</table>\n",
       "            <p class=\"h4\">Maximum 5 values</p>\n",
       "            \n",
       "<table class=\"freq table table-hover\">\n",
       "    <thead>\n",
       "    <tr>\n",
       "        <td class=\"fillremaining\">Value</td>\n",
       "        <td class=\"number\">Count</td>\n",
       "        <td class=\"number\">Frequency (%)</td>\n",
       "        <td style=\"min-width:200px\">&nbsp;</td>\n",
       "    </tr>\n",
       "    </thead>\n",
       "    <tr class=\"\">\n",
       "        <td class=\"fillremaining\">47.8</td>\n",
       "        <td class=\"number\">1</td>\n",
       "        <td class=\"number\">0.5%</td>\n",
       "        <td>\n",
       "            <div class=\"bar\" style=\"width:50%\">&nbsp;</div>\n",
       "        </td>\n",
       "</tr><tr class=\"\">\n",
       "        <td class=\"fillremaining\">48.9</td>\n",
       "        <td class=\"number\">2</td>\n",
       "        <td class=\"number\">1.0%</td>\n",
       "        <td>\n",
       "            <div class=\"bar\" style=\"width:100%\">&nbsp;</div>\n",
       "        </td>\n",
       "</tr><tr class=\"\">\n",
       "        <td class=\"fillremaining\">49.0</td>\n",
       "        <td class=\"number\">2</td>\n",
       "        <td class=\"number\">1.0%</td>\n",
       "        <td>\n",
       "            <div class=\"bar\" style=\"width:100%\">&nbsp;</div>\n",
       "        </td>\n",
       "</tr><tr class=\"\">\n",
       "        <td class=\"fillremaining\">49.4</td>\n",
       "        <td class=\"number\">2</td>\n",
       "        <td class=\"number\">1.0%</td>\n",
       "        <td>\n",
       "            <div class=\"bar\" style=\"width:100%\">&nbsp;</div>\n",
       "        </td>\n",
       "</tr><tr class=\"\">\n",
       "        <td class=\"fillremaining\">49.6</td>\n",
       "        <td class=\"number\">1</td>\n",
       "        <td class=\"number\">0.5%</td>\n",
       "        <td>\n",
       "            <div class=\"bar\" style=\"width:50%\">&nbsp;</div>\n",
       "        </td>\n",
       "</tr>\n",
       "</table>\n",
       "        </div>\n",
       "    </div>\n",
       "</div>\n",
       "</div><div class=\"row variablerow\">\n",
       "    <div class=\"col-md-3 namecol\">\n",
       "        <p class=\"h4 pp-anchor\" id=\"pp_var_Sales\">Sales<br/>\n",
       "            <small>Numeric</small>\n",
       "        </p>\n",
       "    </div><div class=\"col-md-6\">\n",
       "    <div class=\"row\">\n",
       "        <div class=\"col-sm-6\">\n",
       "            <table class=\"stats \">\n",
       "                <tr>\n",
       "                    <th>Distinct count</th>\n",
       "                    <td>121</td>\n",
       "                </tr>\n",
       "                <tr>\n",
       "                    <th>Unique (%)</th>\n",
       "                    <td>60.5%</td>\n",
       "                </tr>\n",
       "                <tr class=\"ignore\">\n",
       "                    <th>Missing (%)</th>\n",
       "                    <td>0.0%</td>\n",
       "                </tr>\n",
       "                <tr class=\"ignore\">\n",
       "                    <th>Missing (n)</th>\n",
       "                    <td>0</td>\n",
       "                </tr>\n",
       "                <tr class=\"ignore\">\n",
       "                    <th>Infinite (%)</th>\n",
       "                    <td>0.0%</td>\n",
       "                </tr>\n",
       "                <tr class=\"ignore\">\n",
       "                    <th>Infinite (n)</th>\n",
       "                    <td>0</td>\n",
       "                </tr>\n",
       "            </table>\n",
       "\n",
       "        </div>\n",
       "        <div class=\"col-sm-6\">\n",
       "            <table class=\"stats \">\n",
       "\n",
       "                <tr>\n",
       "                    <th>Mean</th>\n",
       "                    <td>14.023</td>\n",
       "                </tr>\n",
       "                <tr>\n",
       "                    <th>Minimum</th>\n",
       "                    <td>1.6</td>\n",
       "                </tr>\n",
       "                <tr>\n",
       "                    <th>Maximum</th>\n",
       "                    <td>27</td>\n",
       "                </tr>\n",
       "                <tr class=\"ignore\">\n",
       "                    <th>Zeros (%)</th>\n",
       "                    <td>0.0%</td>\n",
       "                </tr>\n",
       "            </table>\n",
       "        </div>\n",
       "    </div>\n",
       "</div>\n",
       "<div class=\"col-md-3 collapse in\" id=\"minihistogram-2288834344451200878\">\n",
       "    <img src=\"data:image/png;base64,iVBORw0KGgoAAAANSUhEUgAAAMgAAABLCAYAAAA1fMjoAAAABHNCSVQICAgIfAhkiAAAAAlwSFlzAAAPYQAAD2EBqD%2BnaQAAADl0RVh0U29mdHdhcmUAbWF0cGxvdGxpYiB2ZXJzaW9uIDIuMi4yLCBodHRwOi8vbWF0cGxvdGxpYi5vcmcvhp/UCwAAAdxJREFUeJzt3D2O01AUhuHjiNZJH8W7YBHsiZqS/bAIdpEoC7BFQUFMAZkG%2BDSDFP/Ez1NORrqO5FcnvrlKM47jWBO7XC7Vdd3Uy7Jy5/O5TqfTpGu%2Bm3S139q2rapfb3i/389xCaxI3/fVdd3LfTOlWQJpmqaqqvb7/aoCef/xy5v%2B/%2BunDw%2B6km263zdT2k2%2BIqyIQCAQCAQCgUAgEAgEAoFAIBAIBAKBQCAQCASznMXairee3apyfmtpTBAIBAKBQCAQCAQCgcAu1sLY%2BVoWEwQCgUAgEAgEAoFAIBAIBLZ5n4AftHscEwSCzU6Q//lCju0xQSAQCASb/Yi1Zc57vZ4JAoFAIBAIBAKBwEM6r7LVB3sTBAKBQPAUH7EcG%2BFRTBAInmKCsEzP8GBvgkAgEAgEAoFAIFjcQ7otW5ZklkDGcayqqr7v/3jtx/dvU18OC/K3e%2BL%2Bt/t9M6VZAhmGoaqquq6bY3kW7PD5368Nw1CHw2G6i6mqZpwhy9vtVtfrtdq2raZppl6elRnHsYZhqOPxWLvdtI/NswQCa2EXCwKBQCAQCAQCgUAgEAgEAoFAIBAIBAKBQCAQCAQCgUAgEAgEAoFAIBAIBAKBQCAQCAQCgUAgEAgEAoHgJ3jYVrhSq5nxAAAAAElFTkSuQmCC\">\n",
       "\n",
       "</div>\n",
       "<div class=\"col-md-12 text-right\">\n",
       "    <a role=\"button\" data-toggle=\"collapse\" data-target=\"#descriptives-2288834344451200878,#minihistogram-2288834344451200878\"\n",
       "       aria-expanded=\"false\" aria-controls=\"collapseExample\">\n",
       "        Toggle details\n",
       "    </a>\n",
       "</div>\n",
       "<div class=\"row collapse col-md-12\" id=\"descriptives-2288834344451200878\">\n",
       "    <ul class=\"nav nav-tabs\" role=\"tablist\">\n",
       "        <li role=\"presentation\" class=\"active\"><a href=\"#quantiles-2288834344451200878\"\n",
       "                                                  aria-controls=\"quantiles-2288834344451200878\" role=\"tab\"\n",
       "                                                  data-toggle=\"tab\">Statistics</a></li>\n",
       "        <li role=\"presentation\"><a href=\"#histogram-2288834344451200878\" aria-controls=\"histogram-2288834344451200878\"\n",
       "                                   role=\"tab\" data-toggle=\"tab\">Histogram</a></li>\n",
       "        <li role=\"presentation\"><a href=\"#common-2288834344451200878\" aria-controls=\"common-2288834344451200878\"\n",
       "                                   role=\"tab\" data-toggle=\"tab\">Common Values</a></li>\n",
       "        <li role=\"presentation\"><a href=\"#extreme-2288834344451200878\" aria-controls=\"extreme-2288834344451200878\"\n",
       "                                   role=\"tab\" data-toggle=\"tab\">Extreme Values</a></li>\n",
       "\n",
       "    </ul>\n",
       "\n",
       "    <div class=\"tab-content\">\n",
       "        <div role=\"tabpanel\" class=\"tab-pane active row\" id=\"quantiles-2288834344451200878\">\n",
       "            <div class=\"col-md-4 col-md-offset-1\">\n",
       "                <p class=\"h4\">Quantile statistics</p>\n",
       "                <table class=\"stats indent\">\n",
       "                    <tr>\n",
       "                        <th>Minimum</th>\n",
       "                        <td>1.6</td>\n",
       "                    </tr>\n",
       "                    <tr>\n",
       "                        <th>5-th percentile</th>\n",
       "                        <td>6.6</td>\n",
       "                    </tr>\n",
       "                    <tr>\n",
       "                        <th>Q1</th>\n",
       "                        <td>10.375</td>\n",
       "                    </tr>\n",
       "                    <tr>\n",
       "                        <th>Median</th>\n",
       "                        <td>12.9</td>\n",
       "                    </tr>\n",
       "                    <tr>\n",
       "                        <th>Q3</th>\n",
       "                        <td>17.4</td>\n",
       "                    </tr>\n",
       "                    <tr>\n",
       "                        <th>95-th percentile</th>\n",
       "                        <td>23.8</td>\n",
       "                    </tr>\n",
       "                    <tr>\n",
       "                        <th>Maximum</th>\n",
       "                        <td>27</td>\n",
       "                    </tr>\n",
       "                    <tr>\n",
       "                        <th>Range</th>\n",
       "                        <td>25.4</td>\n",
       "                    </tr>\n",
       "                    <tr>\n",
       "                        <th>Interquartile range</th>\n",
       "                        <td>7.025</td>\n",
       "                    </tr>\n",
       "                </table>\n",
       "            </div>\n",
       "            <div class=\"col-md-4 col-md-offset-2\">\n",
       "                <p class=\"h4\">Descriptive statistics</p>\n",
       "                <table class=\"stats indent\">\n",
       "                    <tr>\n",
       "                        <th>Standard deviation</th>\n",
       "                        <td>5.2175</td>\n",
       "                    </tr>\n",
       "                    <tr>\n",
       "                        <th>Coef of variation</th>\n",
       "                        <td>0.37208</td>\n",
       "                    </tr>\n",
       "                    <tr>\n",
       "                        <th>Kurtosis</th>\n",
       "                        <td>-0.40887</td>\n",
       "                    </tr>\n",
       "                    <tr>\n",
       "                        <th>Mean</th>\n",
       "                        <td>14.023</td>\n",
       "                    </tr>\n",
       "                    <tr>\n",
       "                        <th>MAD</th>\n",
       "                        <td>4.28</td>\n",
       "                    </tr>\n",
       "                    <tr class=\"\">\n",
       "                        <th>Skewness</th>\n",
       "                        <td>0.40757</td>\n",
       "                    </tr>\n",
       "                    <tr>\n",
       "                        <th>Sum</th>\n",
       "                        <td>2804.5</td>\n",
       "                    </tr>\n",
       "                    <tr>\n",
       "                        <th>Variance</th>\n",
       "                        <td>27.222</td>\n",
       "                    </tr>\n",
       "                    <tr>\n",
       "                        <th>Memory size</th>\n",
       "                        <td>1.6 KiB</td>\n",
       "                    </tr>\n",
       "                </table>\n",
       "            </div>\n",
       "        </div>\n",
       "        <div role=\"tabpanel\" class=\"tab-pane col-md-8 col-md-offset-2\" id=\"histogram-2288834344451200878\">\n",
       "            <img src=\"data:image/png;base64,iVBORw0KGgoAAAANSUhEUgAAAlgAAAGQCAYAAAByNR6YAAAABHNCSVQICAgIfAhkiAAAAAlwSFlzAAAPYQAAD2EBqD%2BnaQAAADl0RVh0U29mdHdhcmUAbWF0cGxvdGxpYiB2ZXJzaW9uIDIuMi4yLCBodHRwOi8vbWF0cGxvdGxpYi5vcmcvhp/UCwAAH45JREFUeJzt3X1wVfWd%2BPFPJA8gSyLhISElOqwLWyvIKDgV1qoFRGmRtmxXHdQBl7LaRdoIbCuyXelsBcdW7QNbt7oVXR8W7YxUd%2BrSorWAw7oV1Aq041rFCiUx6tKEsBgQzu8PfmYbA0rLF05u8nrN3Bnu996cfHJ6p3l7zsm9RVmWZQEAQDLH5T0AAEBXI7AAABITWAAAiQksAIDEBBYAQGICCwAgMYEFAJCYwAIASExgAQAkJrAAABITWAAAiQksAIDEBBYAQGICCwAgMYEFAJCYwAIASExgAQAkJrAAABITWAAAiQksAIDEBBYAQGICCwAgMYEFAJCYwAIASExgAQAkJrAAABITWAAAiQksAIDEBBYAQGICCwAgMYEFAJCYwAIASExgAQAkJrAAABITWAAAiQksAIDEBBYAQGICCwAgseK8B%2BgO9u/fH9u3b48%2BffpEUVFR3uMAQLeQZVns3Lkzampq4rjjju0xJYF1DGzfvj1qa2vzHgMAuqWtW7fG4MGDj%2Bn3FFjHQJ8%2BfSLiwP/A5eXlOU8DAN1Dc3Nz1NbWtv0ePpYE1jHw7mnB8vJygQUAx1gel%2Be4yB0AIDGBBQCQmMACAEhMYAEAJCawAAASE1gAAIkJLACAxAQWAEBiAgsAIDGBBQCQmMACAEhMYAEAJObDnqGLGL1wZd4jHLb1N16Y9wgAR5UjWAAAiQksAIDEBBYAQGICCwAgMYEFAJCYwAIASExgAQAkJrAAABITWAAAiQksAIDEBBYAQGICCwAgMYEFAJCYwAIASExgAQAkJrAAABITWAAAiQksAIDEBBYAQGICCwAgMYEFAJCYwAIASExgAQAkJrAAABITWAAAiQksAIDEBBYAQGICCwAgMYEFAJCYwAIASExgAQAkJrAAABITWAAAiQksAIDEBBYAQGICCwAgMYEFAJCYwAIASExgAQAkJrAAABITWL9nyZIlUVRUFHV1dW1rra2tMWfOnOjfv3/07t07pkyZEtu2bctxSgCgsxNY/98zzzwTd9xxR5x22mnt1uvq6mLFihWxfPnyeOqpp6KlpSUmT54c%2B/bty2lSAKCzE1gR0dLSEpdddlnceeed0bdv37b1pqam%2BP73vx%2B33HJLTJgwIU4//fS47777YuPGjfH444/nODEA0JkJrIiYPXt2fPKTn4wJEya0W9%2BwYUPs3bs3Jk6c2LZWU1MTw4cPj3Xr1h3rMQGAAlGc9wB5W758eWzYsCHWr1/f4bGGhoYoLS1td1QrIqKqqioaGhoOuc3W1tZobW1tu9/c3JxuYACg0%2BvWR7C2bt0aX/ziF%2BP%2B%2B%2B%2BPnj17HvbXZVkWRUVFh3x8yZIlUVFR0Xarra1NMS4AUCC6dWBt2LAhGhsbY9SoUVFcXBzFxcWxevXq%2BPa3vx3FxcVRVVUVe/bsiR07drT7usbGxqiqqjrkdhcsWBBNTU1tt61btx7tHwUA6ES69SnC8ePHx8aNG9utXXnllfHhD384vvzlL0dtbW2UlJTEqlWr4uKLL46IiPr6%2Bti0aVPcfPPNh9xuWVlZlJWVHdXZAYDOq1sHVp8%2BfWL48OHt1nr37h39%2BvVrW585c2bMmzcv%2BvXrF5WVlTF//vwYMWJEhwviAQDe1a0D63DcdtttUVxcHBdffHHs3r07xo8fH3fffXf06NEj79EAgE6qKMuyLO8hurrm5uaoqKiIpqamKC8vz3scuqjRC1fmPcJhW3/jhXmPAHQDef7%2B7dYXuQMAHA0CCwAgMYEFAJCYwAIASExgAQAkJrAAABITWAAAiQksAIDEBBYAQGICCwAgMYEFAJCYwAIASExgAQAkJrAAABITWAAAiQksAIDEBBYAQGICCwAgMYEFAJCYwAIASExgAQAkJrAAABITWAAAiQksAIDEBBYAQGICCwAgseK8BwC6n9ELV%2BY9wh9k/Y0X5j0CUGAcwQIASExgAQAkJrAAABITWAAAiQksAIDEBBYAQGICCwAgMYEFAJCYwAIASExgAQAkJrAAABITWAAAiQksAIDEBBYAQGICCwAgMYEFAJCYwAIASExgAQAkJrAAABITWAAAiQksAIDEBBYAQGICCwAgMYEFAJCYwAIASExgAQAkJrAAABLr9oF1%2B%2B23x2mnnRbl5eVRXl4eY8aMif/4j/9oe7y1tTXmzJkT/fv3j969e8eUKVNi27ZtOU4MAHR23T6wBg8eHDfddFOsX78%2B1q9fH%2BPGjYtPfepTsXnz5oiIqKurixUrVsTy5cvjqaeeipaWlpg8eXLs27cv58kBgM6qKMuyLO8hOpvKysr4%2Bte/Hp/97GdjwIABce%2B998Yll1wSERHbt2%2BP2traeOyxx%2BKCCy44rO01NzdHRUVFNDU1RXl5%2BdEcnW5s9MKVeY/QZa2/8cK8RwD%2BCHn%2B/u32R7B%2B3759%2B2L58uWxa9euGDNmTGzYsCH27t0bEydObHtOTU1NDB8%2BPNatW3fI7bS2tkZzc3O7GwDQfQisiNi4cWP8yZ/8SZSVlcXVV18dK1asiI985CPR0NAQpaWl0bdv33bPr6qqioaGhkNub8mSJVFRUdF2q62tPdo/AgDQiRRsYN13333x9ttvJ9nWn//5n8fzzz8fTz/9dHz%2B85%2BP6dOnxy9/%2BctDPj/LsigqKjrk4wsWLIimpqa229atW5PMCQAUhoINrLlz50Z1dXVcddVV8fOf//yItlVaWhp/9md/FqNHj44lS5bEyJEj41vf%2BlZUV1fHnj17YseOHe2e39jYGFVVVYfcXllZWdtfJb57AwC6j4INrO3bt8ddd90V9fX1cfbZZ8epp54at9xyS7zxxhtHvO0sy6K1tTVGjRoVJSUlsWrVqrbH6uvrY9OmTTF27Ngj/j4AQNdUsIFVXFwcU6dOjUcffTRee%2B21mD59etx1110xePDgmDp1avzoRz%2BKw/kDyeuvvz7Wrl0br776amzcuDEWLlwYP/vZz%2BKyyy6LioqKmDlzZsybNy%2BeeOKJeO655%2BLyyy%2BPESNGxIQJE47BTwkAFKLivAdIobq6OsaPHx%2B/%2Bc1v4uWXX47169fHE088EQMGDIhly5bFxz72sUN%2B7euvvx5XXHFF1NfXR0VFRZx22mmxcuXKOP/88yMi4rbbbovi4uK4%2BOKLY/fu3TF%2B/Pi4%2B%2B67o0ePHsfqxwMACkxBvw/Wm2%2B%2BGffdd18sW7YsXnzxxbjoooti5syZccEFF8SuXbvi7//%2B7%2BORRx6JLVu25Dqn98HiWPA%2BWEeP98GCwpTn79%2BCDazPfOYz8dhjj8WQIUPic5/7XEyfPj0GDBjQ7jnbt2%2BPwYMHx/79%2B3Oa8gCBxbEgsHiXIIQD8vz9W7CnCMvLy%2BPxxx9/39N/gwYNipdeeukYTgUAUMCBdc8993zgc4qKiuLkk08%2BBtMAAPyfgv0rwmuvvTaWLl3aYf2f/umfYt68eTlMBABwQMEG1g9%2B8IM466yzOqyPGTMmHnzwwRwmAgA4oGAD68033%2BzwGYERB67NevPNN3OYCADggIINrJNPPjl%2B/OMfd1j/8Y9/HEOGDMlhIgCAAwr2Ive6urqoq6uLt956K8aNGxcREU888UTcfPPN8Y1vfCPn6QCA7qxgA2vWrFnx9ttvx%2BLFi%2BOGG26IiIjBgwfHt7/97fjrv/7rnKcDALqzgg2siIg5c%2BbEnDlzor6%2BPnr16hUnnHBC3iMBABR2YL1r0KBBeY8AANCmYC9yf%2BONN%2BLKK6%2BME088MXr27BmlpaXtbgAAeSnYI1gzZsyIl19%2BOf7u7/4uBg0aFEVFRXmPBAAQEQUcWGvWrIk1a9bE6aefnvcoAADtFOwpwsGDBztqBQB0SgUbWLfddlssWLAgtm3blvcoAADtFOwpwiuuuCJ27twZJ510UpSXl0dJSUm7xxsbG3OaDADo7go2sG666aa8RwAAOKiCDayZM2fmPQIAwEEV7DVYERGvvvpqLFq0KK644oq2U4I/%2BclP4le/%2BlXOkwEA3VnBBtbatWvj1FNPjdWrV8dDDz0ULS0tERHx7LPPxj/8wz/kPB0A0J0VbGB9%2BctfjkWLFsWTTz7Z7p3bx40bF08//XSOkwEA3V3BBtYLL7wQn/3sZzusDxw4MN54440cJgIAOKBgA%2BuEE06IhoaGDuvPP/98fOhDH8phIgCAAwo2sC699NK47rrr4o033mh7R/f/%2Bq//ivnz58fll1%2Be83QAQHdWsIG1ePHiqK6ujkGDBkVLS0t85CMfibFjx8aZZ54ZX/nKV/IeDwDoxgr2fbBKS0vjwQcfjP/%2B7/%2BOZ599Nvbv3x9nnHFGfPjDH857NACgmyvYwHrXsGHDYtiwYXmPAQDQpmAD62/%2B5m/e9/E77rjjGE0CANBewQZWfX19u/t79%2B6NzZs3x86dO%2BOcc87JaSoAgAIOrH//93/vsPbOO%2B/E5z//%2BTjllFNymAgA4ICC/SvCgykuLo758%2BfH17/%2B9bxHAQC6sS4VWBERr7zySuzduzfvMQCAbqxgTxF%2B6Utfanc/y7Kor6%2BPRx99NC677LKcpgIAKODA%2Bs///M9294877rgYMGBA3HTTTTFr1qycpgIAKODAWrt2bd4jAAAcVJe7BgsAIG8FewTrzDPPbPuQ5w/y85///ChPAwDwfwo2sD7%2B8Y/H9773vRg2bFiMGTMmIiKefvrpePHFF%2BOqq66KsrKynCcEALqrgg2s3/3udzF79uxYvHhxu/WFCxfG66%2B/Hv/yL/%2BS02QAQHdXsNdgPfTQQ3HllVd2WJ8xY0b84Ac/yGEiAIADCjawysrKYt26dR3W161b5/QgAJCrgj1F%2BIUvfCGuvvrqeO655%2BKss86KiAPXYN15551x/fXX5zwdANCdFWxgLVy4MIYMGRLf%2Bta34q677oqIiFNOOSXuvPPOmDZtWs7TAQDdWcEGVkTEtGnTxBQA0OkUdGA1NzfHww8/HK%2B88kpce%2B210bdv3/jFL34RAwcOjEGDBuU9HkAuRi9cmfcIh239jRfmPQIcFQUbWJs2bYoJEybE8ccfH1u3bo0ZM2ZE375946GHHopt27bFPffck/eIAEA3VbB/RXjttdfGtGnT4uWXX46ePXu2rX/yk5%2BMNWvW5DgZANDdFewRrGeeeSZuv/32Dh%2BX86EPfSjq6%2BtzmgoAoICPYJWWlkZLS0uH9Zdeein69%2B%2Bfw0QAAAcUbGBNmTIl/vEf/zHeeeediIgoKiqK3/72t3HdddfF1KlTc54OAOjOCjawbrnllti%2BfXtUV1fH7t27Y9y4cfGnf/qn0bNnzw6fTwgAcCwV7DVYFRUVsW7duli1alU8%2B%2ByzsX///jjjjDPiggsu6HBdFgDAsVSQgbV37974xCc%2BEd/97ndj4sSJMXHixLxHAgBoU5CnCEtKSuK5555LcqRqyZIlceaZZ0afPn1i4MCB8elPfzpefPHFds9pbW2NOXPmRP/%2B/aN3794xZcqU2LZt2xF/bwCgayrIwIqIuPzyy2PZsmVHvJ3Vq1fH7Nmz4%2Bmnn45Vq1bFO%2B%2B8ExMnToxdu3a1Paeuri5WrFgRy5cvj6eeeipaWlpi8uTJsW/fviP%2B/gBA11OQpwjftXTp0nj88cdj9OjR0bt373aP3XzzzYe1jZUr23%2BkxLJly2LgwIGxYcOGOOecc6KpqSm%2B//3vx7333hsTJkyIiIj77rsvamtr4/HHH48LLrggzQ8DAHQZBRtYGzZsiNNOOy0iIl544YV2jx3JqcOmpqaIiKisrGz7Pnv37m13nVdNTU0MHz481q1bd9DAam1tjdbW1rb7zc3Nf/Q8AEDhKbjAeuWVV2LIkCGxdu3a5NvOsizmzp0bZ599dgwfPjwiIhoaGqK0tDT69u3b7rlVVVXR0NBw0O0sWbIkvvrVryafj2OrkD4wF4DOpeCuwRo6dGi88cYbbfcvueSSeP3115Ns%2B5prrokXXngh/u3f/u0Dn5tl2SGPlC1YsCCamprablu3bk0yHwBQGAousLIsa3f/sccea3dB%2Bh9rzpw58eijj8aTTz4ZgwcPbluvrq6OPXv2xI4dO9o9v7GxMaqqqg66rbKysigvL293AwC6j4ILrNSyLItrrrkmHn744fjpT38aQ4YMaff4qFGjoqSkJFatWtW2Vl9fH5s2bYqxY8ce63EBgAJQcNdgFRUVdTg1dyQXtc%2BePTseeOCBeOSRR6JPnz5t11VVVFREr169oqKiImbOnBnz5s2Lfv36RWVlZcyfPz9GjBjR9leFAAC/r%2BACK8uymDFjRpSVlUVExNtvvx1XX311h7dpePjhhw9re7fffntERJx33nnt1pctWxYzZsyIiIjbbrstiouL4%2BKLL47du3fH%2BPHj4%2B67744ePXoc2Q8DAHRJBRdY06dPb3f/8ssvP6LtvfearoPp2bNnfOc734nvfOc7R/S9AIDuoeACK8W7twMAHE3d/iJ3AIDUBBYAQGICCwAgMYEFAJCYwAIASExgAQAkJrAAABITWAAAiQksAIDEBBYAQGICCwAgMYEFAJBYwX3YMwBdx%2BiFK/Me4Q%2By/sYL8x6BAuEIFgBAYgILACAxgQUAkJjAAgBITGABACQmsAAAEhNYAACJCSwAgMQEFgBAYgILACAxgQUAkJjAAgBITGABACQmsAAAEhNYAACJCSwAgMQEFgBAYgILACAxgQUAkJjAAgBITGABACQmsAAAEhNYAACJCSwAgMQEFgBAYgILACAxgQUAkJjAAgBITGABACQmsAAAEhNYAACJFec9AAAUitELV%2BY9wh9k/Y0X5j1Ct%2BUIFgBAYgILACAxgQUAkJjAAgBITGABACQmsAAAEhNYAACJCSwAgMS6fWCtWbMmLrrooqipqYmioqL44Q9/2O7xLMti0aJFUVNTE7169YrzzjsvNm/enNO0AEAh6PaBtWvXrhg5cmQsXbr0oI/ffPPNceutt8bSpUvjmWeeierq6jj//PNj586dx3hSAKBQdPuPypk0aVJMmjTpoI9lWRbf/OY3Y%2BHChTF16tSIiLjnnnuiqqoqHnjggbjqqquO5agAQIHo9kew3s%2BWLVuioaEhJk6c2LZWVlYW5557bqxbt%2B6QX9fa2hrNzc3tbgBA9yGw3kdDQ0NERFRVVbVbr6qqanvsYJYsWRIVFRVtt9ra2qM6JwDQuQisw1BUVNTufpZlHdZ%2B34IFC6KpqanttnXr1qM9IgDQiXT7a7DeT3V1dUQcOJI1aNCgtvXGxsYOR7V%2BX1lZWZSVlR31%2BQCAzskRrPcxZMiQqK6ujlWrVrWt7dmzJ1avXh1jx47NcTIAoDPr9kewWlpa4te//nXb/S1btsTzzz8flZWVceKJJ0ZdXV0sXrw4hg4dGkOHDo3FixfH8ccfH9OmTctxagCgM%2Bv2gbV%2B/fr4%2BMc/3nZ/7ty5ERExffr0uPvuu%2BNLX/pS7N69O/72b/82duzYER/96EfjJz/5SfTp0yevkQGATq4oy7Is7yG6uubm5qioqIimpqYoLy/PexwO0%2BiFK/MeAeCIrL/xwrxHyFWev3%2B7/REsjh3BAkB34SJ3AIDEBBYAQGICCwAgMYEFAJCYwAIASExgAQAkJrAAABITWAAAiQksAIDEBBYAQGICCwAgMYEFAJCYD3sGgC5q9MKVeY9w2NbfeGHeIyTlCBYAQGICCwAgMYEFAJCYwAIASExgAQAkJrAAABITWAAAiQksAIDEBBYAQGICCwAgMYEFAJCYwAIASExgAQAkJrAAABITWAAAiQksAIDEBBYAQGICCwAgMYEFAJCYwAIASExgAQAkJrAAABITWAAAiQksAIDEBBYAQGICCwAgMYEFAJCYwAIASExgAQAkJrAAABITWAAAiRXnPQBHZvTClXmPAAC8hyNYAACJCSwAgMQEFgBAYgILACAxgQUAkJjAAgBITGABACQmsAAAEhNYh%2Bm73/1uDBkyJHr27BmjRo2KtWvX5j0SANBJCazD8OCDD0ZdXV0sXLgwnnvuufjYxz4WkyZNitdeey3v0QCATkhgHYZbb701Zs6cGZ/73OfilFNOiW9%2B85tRW1sbt99%2Be96jAQCdkM8i/AB79uyJDRs2xHXXXddufeLEibFu3bqDfk1ra2u0tra23W9qaoqIiObm5uTz7WvdlXybAHCsHY3fke9uM8uy5Nv%2BIALrA7z55puxb9%2B%2BqKqqardeVVUVDQ0NB/2aJUuWxFe/%2BtUO67W1tUdlRgAodBW3HL1t79y5MyoqKo7eNzgIgXWYioqK2t3PsqzD2rsWLFgQc%2BfObbu/f//%2B%2BJ//%2BZ/o16/fIb%2BGQ2tubo7a2trYunVrlJeX5z1Ol2G/Hh3269Fhvx4dXX2/ZlkWO3fujJqammP%2BvQXWB%2Bjfv3/06NGjw9GqxsbGDke13lVWVhZlZWXt1k444YSjNmN3UV5e3iX/DyBv9uvRYb8eHfbr0dGV9%2BuxPnL1Lhe5f4DS0tIYNWpUrFq1qt36qlWrYuzYsTlNBQB0Zo5gHYa5c%2BfGFVdcEaNHj44xY8bEHXfcEa%2B99lpcffXVeY8GAHRCPRYtWrQo7yE6u%2BHDh0e/fv1i8eLF8Y1vfCN2794d9957b4wcOTLv0bqNHj16xHnnnRfFxf6bICX79eiwX48O%2B/XosF%2BPjqIsj79dBADowlyDBQCQmMACAEhMYAEAJCawAAASE1h0WosWLYqioqJ2t%2Brq6rzHKjhr1qyJiy66KGpqaqKoqCh%2B%2BMMftns8y7JYtGhR1NTURK9eveK8886LzZs35zRt4fig/TpjxowOr9%2Bzzjorp2kLw5IlS%2BLMM8%2BMPn36xMCBA%2BPTn/50vPjii%2B2e09raGnPmzIn%2B/ftH7969Y8qUKbFt27acJi4Mh7NfzzvvvA6v10svvTSnibsGgUWnduqpp0Z9fX3bbePGjXmPVHB27doVI0eOjKVLlx708ZtvvjluvfXWWLp0aTzzzDNRXV0d559/fuzcufMYT1pYPmi/RkRceOGF7V6/jz322DGcsPCsXr06Zs%2BeHU8//XSsWrUq3nnnnZg4cWLs2vV/H2pfV1cXK1asiOXLl8dTTz0VLS0tMXny5Ni3b1%2BOk3duh7NfIyJmzZrV7vX6ve99L6eJu4gMOqkbbrghGzlyZN5jdCkRka1YsaLt/v79%2B7Pq6urspptualt7%2B%2B23s4qKiuyf//mf8xixIL13v2ZZlk2fPj371Kc%2BldNEXUNjY2MWEdnq1auzLMuy3/3ud1lJSUm2fPnytuf89re/zY477rhs5cqVeY1ZcN67X7Msy84999zsi1/8Yo5TdT2OYNGpvfTSS1FTUxNDhgyJSy%2B9NF555ZW8R%2BpStmzZEg0NDTFx4sS2tbKysjj33HNj3bp1OU7WNfzsZz%2BLgQMHxrBhw2LWrFnR2NiY90gFpampKSIiKisrIyJiw4YNsXfv3nav15qamhg%2BfLjX6x/gvfv1Xffff3/0798/Tj311Jg/f76j2EfI27bSaX30ox%2BNf/3Xf41hw4bF66%2B/Hl/72tdi7NixsXnz5ujXr1/e43UJ736I%2BXs/uLyqqip%2B85vf5DFSlzFp0qT4q7/6qzjppJNiy5Yt8ZWvfCXGjRsXGzZs6PBh8HSUZVnMnTs3zj777Bg%2BfHhEHHi9lpaWRt%2B%2Bfds9t6qqqu21zPs72H6NiLjssstiyJAhUV1dHZs2bYoFCxbEL37xiw6fw8vhE1h0WpMmTWr794gRI2LMmDFx8sknxz333BNz587NcbKup6ioqN39LMs6rPGHueSSS9r%2BPXz48Bg9enScdNJJ8aMf/SimTp2a42SF4ZprrokXXnghnnrqqQ98rtfr4TvUfp01a1bbv4cPHx5Dhw6N0aNHx7PPPhtnnHHGsR6zS3CKkILRu3fvGDFiRLz00kt5j9JlvPtXme/9r//GxsYOR7U4MoMGDYqTTjrJ6/cwzJkzJx599NF48sknY/DgwW3r1dXVsWfPntixY0e753u9Hp5D7deDOeOMM6KkpMTr9QgILApGa2tr/OpXv4pBgwblPUqX8e4pgd8/DbBnz55YvXp1jB07NsfJup633nortm7d6vX7PrIsi2uuuSYefvjh%2BOlPfxpDhgxp9/ioUaOipKSk3eu1vr4%2BNm3a5PX6Pj5ovx7M5s2bY%2B/evV6vR8ApQjqt%2BfPnx0UXXRQnnnhiNDY2xte%2B9rVobm6O6dOn5z1aQWlpaYlf//rXbfe3bNkSzz//fFRWVsaJJ54YdXV1sXjx4hg6dGgMHTo0Fi9eHMcff3xMmzYtx6k7v/fbr5WVlbFo0aL4y7/8yxg0aFC8%2Buqrcf3110f//v3jM5/5TI5Td26zZ8%2BOBx54IB555JHo06dP25HVioqK6NWrV1RUVMTMmTNj3rx50a9fv6isrIz58%2BfHiBEjYsKECTlP33l90H59%2BeWX4/77749PfOIT0b9///jlL38Z8%2BbNi9NPPz3%2B4i/%2BIufpC1ief8II7%2BeSSy7JBg0alJWUlGQ1NTXZ1KlTs82bN%2Bc9VsF58skns4jocJs%2BfXqWZQfequGGG27Iqqurs7Kysuycc87JNm7cmO/QBeD99uv//u//ZhMnTswGDBiQlZSUZCeeeGI2ffr07LXXXst77E7tYPszIrJly5a1PWf37t3ZNddck1VWVma9evXKJk%2BebL9%2BgA/ar6%2B99lp2zjnnZJWVlVlpaWl28sknZ1/4wheyt956K9/BC1xRlmXZsQw6AICuzjVYAACJCSwAgMQEFgBAYgILACAxgQUAkJjAAgBITGABACQmsAAAEhNYAACJCSwAgMQEFgBAYgILACAxgQUAkJjAAgBITGABACQmsAAAEhNYAACJCSwAgMT%2BHyW9mfnrU2llAAAAAElFTkSuQmCC\"/>\n",
       "        </div>\n",
       "        <div role=\"tabpanel\" class=\"tab-pane col-md-12\" id=\"common-2288834344451200878\">\n",
       "            \n",
       "<table class=\"freq table table-hover\">\n",
       "    <thead>\n",
       "    <tr>\n",
       "        <td class=\"fillremaining\">Value</td>\n",
       "        <td class=\"number\">Count</td>\n",
       "        <td class=\"number\">Frequency (%)</td>\n",
       "        <td style=\"min-width:200px\">&nbsp;</td>\n",
       "    </tr>\n",
       "    </thead>\n",
       "    <tr class=\"\">\n",
       "        <td class=\"fillremaining\">9.7</td>\n",
       "        <td class=\"number\">5</td>\n",
       "        <td class=\"number\">2.5%</td>\n",
       "        <td>\n",
       "            <div class=\"bar\" style=\"width:4%\">&nbsp;</div>\n",
       "        </td>\n",
       "</tr><tr class=\"\">\n",
       "        <td class=\"fillremaining\">12.9</td>\n",
       "        <td class=\"number\">4</td>\n",
       "        <td class=\"number\">2.0%</td>\n",
       "        <td>\n",
       "            <div class=\"bar\" style=\"width:3%\">&nbsp;</div>\n",
       "        </td>\n",
       "</tr><tr class=\"\">\n",
       "        <td class=\"fillremaining\">11.7</td>\n",
       "        <td class=\"number\">4</td>\n",
       "        <td class=\"number\">2.0%</td>\n",
       "        <td>\n",
       "            <div class=\"bar\" style=\"width:3%\">&nbsp;</div>\n",
       "        </td>\n",
       "</tr><tr class=\"\">\n",
       "        <td class=\"fillremaining\">15.9</td>\n",
       "        <td class=\"number\">4</td>\n",
       "        <td class=\"number\">2.0%</td>\n",
       "        <td>\n",
       "            <div class=\"bar\" style=\"width:3%\">&nbsp;</div>\n",
       "        </td>\n",
       "</tr><tr class=\"\">\n",
       "        <td class=\"fillremaining\">25.4</td>\n",
       "        <td class=\"number\">3</td>\n",
       "        <td class=\"number\">1.5%</td>\n",
       "        <td>\n",
       "            <div class=\"bar\" style=\"width:2%\">&nbsp;</div>\n",
       "        </td>\n",
       "</tr><tr class=\"\">\n",
       "        <td class=\"fillremaining\">13.4</td>\n",
       "        <td class=\"number\">3</td>\n",
       "        <td class=\"number\">1.5%</td>\n",
       "        <td>\n",
       "            <div class=\"bar\" style=\"width:2%\">&nbsp;</div>\n",
       "        </td>\n",
       "</tr><tr class=\"\">\n",
       "        <td class=\"fillremaining\">10.6</td>\n",
       "        <td class=\"number\">3</td>\n",
       "        <td class=\"number\">1.5%</td>\n",
       "        <td>\n",
       "            <div class=\"bar\" style=\"width:2%\">&nbsp;</div>\n",
       "        </td>\n",
       "</tr><tr class=\"\">\n",
       "        <td class=\"fillremaining\">13.2</td>\n",
       "        <td class=\"number\">3</td>\n",
       "        <td class=\"number\">1.5%</td>\n",
       "        <td>\n",
       "            <div class=\"bar\" style=\"width:2%\">&nbsp;</div>\n",
       "        </td>\n",
       "</tr><tr class=\"\">\n",
       "        <td class=\"fillremaining\">10.1</td>\n",
       "        <td class=\"number\">3</td>\n",
       "        <td class=\"number\">1.5%</td>\n",
       "        <td>\n",
       "            <div class=\"bar\" style=\"width:2%\">&nbsp;</div>\n",
       "        </td>\n",
       "</tr><tr class=\"\">\n",
       "        <td class=\"fillremaining\">20.7</td>\n",
       "        <td class=\"number\">3</td>\n",
       "        <td class=\"number\">1.5%</td>\n",
       "        <td>\n",
       "            <div class=\"bar\" style=\"width:2%\">&nbsp;</div>\n",
       "        </td>\n",
       "</tr><tr class=\"other\">\n",
       "        <td class=\"fillremaining\">Other values (111)</td>\n",
       "        <td class=\"number\">165</td>\n",
       "        <td class=\"number\">82.5%</td>\n",
       "        <td>\n",
       "            <div class=\"bar\" style=\"width:100%\">&nbsp;</div>\n",
       "        </td>\n",
       "</tr>\n",
       "</table>\n",
       "        </div>\n",
       "        <div role=\"tabpanel\" class=\"tab-pane col-md-12\"  id=\"extreme-2288834344451200878\">\n",
       "            <p class=\"h4\">Minimum 5 values</p>\n",
       "            \n",
       "<table class=\"freq table table-hover\">\n",
       "    <thead>\n",
       "    <tr>\n",
       "        <td class=\"fillremaining\">Value</td>\n",
       "        <td class=\"number\">Count</td>\n",
       "        <td class=\"number\">Frequency (%)</td>\n",
       "        <td style=\"min-width:200px\">&nbsp;</td>\n",
       "    </tr>\n",
       "    </thead>\n",
       "    <tr class=\"\">\n",
       "        <td class=\"fillremaining\">1.6</td>\n",
       "        <td class=\"number\">1</td>\n",
       "        <td class=\"number\">0.5%</td>\n",
       "        <td>\n",
       "            <div class=\"bar\" style=\"width:50%\">&nbsp;</div>\n",
       "        </td>\n",
       "</tr><tr class=\"\">\n",
       "        <td class=\"fillremaining\">3.2</td>\n",
       "        <td class=\"number\">1</td>\n",
       "        <td class=\"number\">0.5%</td>\n",
       "        <td>\n",
       "            <div class=\"bar\" style=\"width:50%\">&nbsp;</div>\n",
       "        </td>\n",
       "</tr><tr class=\"\">\n",
       "        <td class=\"fillremaining\">4.8</td>\n",
       "        <td class=\"number\">1</td>\n",
       "        <td class=\"number\">0.5%</td>\n",
       "        <td>\n",
       "            <div class=\"bar\" style=\"width:50%\">&nbsp;</div>\n",
       "        </td>\n",
       "</tr><tr class=\"\">\n",
       "        <td class=\"fillremaining\">5.3</td>\n",
       "        <td class=\"number\">2</td>\n",
       "        <td class=\"number\">1.0%</td>\n",
       "        <td>\n",
       "            <div class=\"bar\" style=\"width:100%\">&nbsp;</div>\n",
       "        </td>\n",
       "</tr><tr class=\"\">\n",
       "        <td class=\"fillremaining\">5.5</td>\n",
       "        <td class=\"number\">1</td>\n",
       "        <td class=\"number\">0.5%</td>\n",
       "        <td>\n",
       "            <div class=\"bar\" style=\"width:50%\">&nbsp;</div>\n",
       "        </td>\n",
       "</tr>\n",
       "</table>\n",
       "            <p class=\"h4\">Maximum 5 values</p>\n",
       "            \n",
       "<table class=\"freq table table-hover\">\n",
       "    <thead>\n",
       "    <tr>\n",
       "        <td class=\"fillremaining\">Value</td>\n",
       "        <td class=\"number\">Count</td>\n",
       "        <td class=\"number\">Frequency (%)</td>\n",
       "        <td style=\"min-width:200px\">&nbsp;</td>\n",
       "    </tr>\n",
       "    </thead>\n",
       "    <tr class=\"\">\n",
       "        <td class=\"fillremaining\">24.7</td>\n",
       "        <td class=\"number\">1</td>\n",
       "        <td class=\"number\">0.5%</td>\n",
       "        <td>\n",
       "            <div class=\"bar\" style=\"width:34%\">&nbsp;</div>\n",
       "        </td>\n",
       "</tr><tr class=\"\">\n",
       "        <td class=\"fillremaining\">25.4</td>\n",
       "        <td class=\"number\">3</td>\n",
       "        <td class=\"number\">1.5%</td>\n",
       "        <td>\n",
       "            <div class=\"bar\" style=\"width:100%\">&nbsp;</div>\n",
       "        </td>\n",
       "</tr><tr class=\"\">\n",
       "        <td class=\"fillremaining\">25.5</td>\n",
       "        <td class=\"number\">1</td>\n",
       "        <td class=\"number\">0.5%</td>\n",
       "        <td>\n",
       "            <div class=\"bar\" style=\"width:34%\">&nbsp;</div>\n",
       "        </td>\n",
       "</tr><tr class=\"\">\n",
       "        <td class=\"fillremaining\">26.2</td>\n",
       "        <td class=\"number\">1</td>\n",
       "        <td class=\"number\">0.5%</td>\n",
       "        <td>\n",
       "            <div class=\"bar\" style=\"width:34%\">&nbsp;</div>\n",
       "        </td>\n",
       "</tr><tr class=\"\">\n",
       "        <td class=\"fillremaining\">27.0</td>\n",
       "        <td class=\"number\">1</td>\n",
       "        <td class=\"number\">0.5%</td>\n",
       "        <td>\n",
       "            <div class=\"bar\" style=\"width:34%\">&nbsp;</div>\n",
       "        </td>\n",
       "</tr>\n",
       "</table>\n",
       "        </div>\n",
       "    </div>\n",
       "</div>\n",
       "</div><div class=\"row variablerow\">\n",
       "    <div class=\"col-md-3 namecol\">\n",
       "        <p class=\"h4 pp-anchor\" id=\"pp_var_TV\">TV<br/>\n",
       "            <small>Numeric</small>\n",
       "        </p>\n",
       "    </div><div class=\"col-md-6\">\n",
       "    <div class=\"row\">\n",
       "        <div class=\"col-sm-6\">\n",
       "            <table class=\"stats \">\n",
       "                <tr>\n",
       "                    <th>Distinct count</th>\n",
       "                    <td>190</td>\n",
       "                </tr>\n",
       "                <tr>\n",
       "                    <th>Unique (%)</th>\n",
       "                    <td>95.0%</td>\n",
       "                </tr>\n",
       "                <tr class=\"ignore\">\n",
       "                    <th>Missing (%)</th>\n",
       "                    <td>0.0%</td>\n",
       "                </tr>\n",
       "                <tr class=\"ignore\">\n",
       "                    <th>Missing (n)</th>\n",
       "                    <td>0</td>\n",
       "                </tr>\n",
       "                <tr class=\"ignore\">\n",
       "                    <th>Infinite (%)</th>\n",
       "                    <td>0.0%</td>\n",
       "                </tr>\n",
       "                <tr class=\"ignore\">\n",
       "                    <th>Infinite (n)</th>\n",
       "                    <td>0</td>\n",
       "                </tr>\n",
       "            </table>\n",
       "\n",
       "        </div>\n",
       "        <div class=\"col-sm-6\">\n",
       "            <table class=\"stats \">\n",
       "\n",
       "                <tr>\n",
       "                    <th>Mean</th>\n",
       "                    <td>147.04</td>\n",
       "                </tr>\n",
       "                <tr>\n",
       "                    <th>Minimum</th>\n",
       "                    <td>0.7</td>\n",
       "                </tr>\n",
       "                <tr>\n",
       "                    <th>Maximum</th>\n",
       "                    <td>296.4</td>\n",
       "                </tr>\n",
       "                <tr class=\"ignore\">\n",
       "                    <th>Zeros (%)</th>\n",
       "                    <td>0.0%</td>\n",
       "                </tr>\n",
       "            </table>\n",
       "        </div>\n",
       "    </div>\n",
       "</div>\n",
       "<div class=\"col-md-3 collapse in\" id=\"minihistogram-3508517853239476609\">\n",
       "    <img src=\"data:image/png;base64,iVBORw0KGgoAAAANSUhEUgAAAMgAAABLCAYAAAA1fMjoAAAABHNCSVQICAgIfAhkiAAAAAlwSFlzAAAPYQAAD2EBqD%2BnaQAAADl0RVh0U29mdHdhcmUAbWF0cGxvdGxpYiB2ZXJzaW9uIDIuMi4yLCBodHRwOi8vbWF0cGxvdGxpYi5vcmcvhp/UCwAAAdNJREFUeJzt3E2u0mAYhuG3xCkwJ3QXLsI9OXboflyEu4CwgDYOHEgdKGdy9ImYw1cK1zWkCV8hvXn7k9BN0zRVY8fjsfq%2Bb70sC3c4HGq/3zdd813T1X5br9dV9esDbzabOXaBBRmGofq%2BfzluWpolkK7rqqpqs9m8CuT9xy9Xv9/XTx/eZL%2BexVK/48tx09Kq%2BYqwIAKBQCAQCAQCgUAgEAhmuc3L2/qf27b8GxMEgqedIEt9WEZbJggETztBuM6zTlwTBAIT5Iae9Vf3kZggEJggV/C84fkI5M6I8L44xYLABOFmHuEmhQkCwUNMEOft3IoJAoFAIBAIBAKBQCAQCAQCgUAgEAgEAoFAIBAIBAKBQCAQCAQCgUAgEAgEAoFAIBAIBAKBQCAQCAQCgUAgEAgEAsEs/6w4TVNVVQ3D8Grbj%2B/fWu8Od%2BRPx8Tltctx09IsgYzjWFVVfd/PsTx3bPv579vGcaztdttuZ6qqm2bI8nw%2B1%2Bl0qvV6XV3XtV6ehZmmqcZxrN1uV6tV26uCWQKBpXCRDoFAIBAIBAKBQCAQCAQCgUAgEAgEAoFAIBAIBAKBQCAQCAQCgUAgEAgEAoFAIBAIBAKBQCAQCAQCgUDwE0DHVR2bv/2vAAAAAElFTkSuQmCC\">\n",
       "\n",
       "</div>\n",
       "<div class=\"col-md-12 text-right\">\n",
       "    <a role=\"button\" data-toggle=\"collapse\" data-target=\"#descriptives-3508517853239476609,#minihistogram-3508517853239476609\"\n",
       "       aria-expanded=\"false\" aria-controls=\"collapseExample\">\n",
       "        Toggle details\n",
       "    </a>\n",
       "</div>\n",
       "<div class=\"row collapse col-md-12\" id=\"descriptives-3508517853239476609\">\n",
       "    <ul class=\"nav nav-tabs\" role=\"tablist\">\n",
       "        <li role=\"presentation\" class=\"active\"><a href=\"#quantiles-3508517853239476609\"\n",
       "                                                  aria-controls=\"quantiles-3508517853239476609\" role=\"tab\"\n",
       "                                                  data-toggle=\"tab\">Statistics</a></li>\n",
       "        <li role=\"presentation\"><a href=\"#histogram-3508517853239476609\" aria-controls=\"histogram-3508517853239476609\"\n",
       "                                   role=\"tab\" data-toggle=\"tab\">Histogram</a></li>\n",
       "        <li role=\"presentation\"><a href=\"#common-3508517853239476609\" aria-controls=\"common-3508517853239476609\"\n",
       "                                   role=\"tab\" data-toggle=\"tab\">Common Values</a></li>\n",
       "        <li role=\"presentation\"><a href=\"#extreme-3508517853239476609\" aria-controls=\"extreme-3508517853239476609\"\n",
       "                                   role=\"tab\" data-toggle=\"tab\">Extreme Values</a></li>\n",
       "\n",
       "    </ul>\n",
       "\n",
       "    <div class=\"tab-content\">\n",
       "        <div role=\"tabpanel\" class=\"tab-pane active row\" id=\"quantiles-3508517853239476609\">\n",
       "            <div class=\"col-md-4 col-md-offset-1\">\n",
       "                <p class=\"h4\">Quantile statistics</p>\n",
       "                <table class=\"stats indent\">\n",
       "                    <tr>\n",
       "                        <th>Minimum</th>\n",
       "                        <td>0.7</td>\n",
       "                    </tr>\n",
       "                    <tr>\n",
       "                        <th>5-th percentile</th>\n",
       "                        <td>13.195</td>\n",
       "                    </tr>\n",
       "                    <tr>\n",
       "                        <th>Q1</th>\n",
       "                        <td>74.375</td>\n",
       "                    </tr>\n",
       "                    <tr>\n",
       "                        <th>Median</th>\n",
       "                        <td>149.75</td>\n",
       "                    </tr>\n",
       "                    <tr>\n",
       "                        <th>Q3</th>\n",
       "                        <td>218.82</td>\n",
       "                    </tr>\n",
       "                    <tr>\n",
       "                        <th>95-th percentile</th>\n",
       "                        <td>280.74</td>\n",
       "                    </tr>\n",
       "                    <tr>\n",
       "                        <th>Maximum</th>\n",
       "                        <td>296.4</td>\n",
       "                    </tr>\n",
       "                    <tr>\n",
       "                        <th>Range</th>\n",
       "                        <td>295.7</td>\n",
       "                    </tr>\n",
       "                    <tr>\n",
       "                        <th>Interquartile range</th>\n",
       "                        <td>144.45</td>\n",
       "                    </tr>\n",
       "                </table>\n",
       "            </div>\n",
       "            <div class=\"col-md-4 col-md-offset-2\">\n",
       "                <p class=\"h4\">Descriptive statistics</p>\n",
       "                <table class=\"stats indent\">\n",
       "                    <tr>\n",
       "                        <th>Standard deviation</th>\n",
       "                        <td>85.854</td>\n",
       "                    </tr>\n",
       "                    <tr>\n",
       "                        <th>Coef of variation</th>\n",
       "                        <td>0.58387</td>\n",
       "                    </tr>\n",
       "                    <tr>\n",
       "                        <th>Kurtosis</th>\n",
       "                        <td>-1.2265</td>\n",
       "                    </tr>\n",
       "                    <tr>\n",
       "                        <th>Mean</th>\n",
       "                        <td>147.04</td>\n",
       "                    </tr>\n",
       "                    <tr>\n",
       "                        <th>MAD</th>\n",
       "                        <td>75.105</td>\n",
       "                    </tr>\n",
       "                    <tr class=\"\">\n",
       "                        <th>Skewness</th>\n",
       "                        <td>-0.069853</td>\n",
       "                    </tr>\n",
       "                    <tr>\n",
       "                        <th>Sum</th>\n",
       "                        <td>29408</td>\n",
       "                    </tr>\n",
       "                    <tr>\n",
       "                        <th>Variance</th>\n",
       "                        <td>7370.9</td>\n",
       "                    </tr>\n",
       "                    <tr>\n",
       "                        <th>Memory size</th>\n",
       "                        <td>1.6 KiB</td>\n",
       "                    </tr>\n",
       "                </table>\n",
       "            </div>\n",
       "        </div>\n",
       "        <div role=\"tabpanel\" class=\"tab-pane col-md-8 col-md-offset-2\" id=\"histogram-3508517853239476609\">\n",
       "            <img src=\"data:image/png;base64,iVBORw0KGgoAAAANSUhEUgAAAlgAAAGQCAYAAAByNR6YAAAABHNCSVQICAgIfAhkiAAAAAlwSFlzAAAPYQAAD2EBqD%2BnaQAAADl0RVh0U29mdHdhcmUAbWF0cGxvdGxpYiB2ZXJzaW9uIDIuMi4yLCBodHRwOi8vbWF0cGxvdGxpYi5vcmcvhp/UCwAAIABJREFUeJzt3XtwVOX9x/HPAsmCmKzEEDYxMZNS8EKQkUslCBhRA1HwgloRpMFqKhZiMVAqMtowbQlDFW8I9Yp4a9BRkI4UDQoBBlAJIBetjRK5SMKtkIQIy%2B35/cGPrWsCSdsnOTnZ92vmzHDOefbku9%2BeNZ8%2B52SPxxhjBAAAAGtaOF0AAABAc0PAAgAAsIyABQAAYBkBCwAAwDICFgAAgGUELAAAAMsIWAAAAJYRsAAAACwjYAEAAFhGwAIAALCMgAUAAGAZAQsAAMAyAhYAAIBlBCwAAADLCFgAAACWEbAAAAAsI2ABAABYRsACAACwjIAFAABgGQELAADAMgIWAACAZQQsAAAAywhYAAAAlhGwAAAALCNgAQAAWEbAAgAAsIyABQAAYBkBCwAAwDICFgAAgGUELAAAAMsIWAAAAJYRsAAAACwjYAEAAFhGwAIAALCMgAUAAGAZAQsAAMAyAhYAAIBlBCwAAADLWjldQDg4efKkdu3apaioKHk8HqfLAQAgLBhjVFVVpYSEBLVo0bhzSgSsRrBr1y4lJSU5XQYAAGFpx44dSkxMbNSfScBqBFFRUZJO/Q8cHR3tcDUAAISHyspKJSUlBX8PNyYCViM4fVkwOjqagAUAQCNz4vYcbnIHAACwjIAFAABgGQELAADAMgIWAACAZQQsAAAAywhYAAAAlhGwAAAALCNgAQAAWEbAAgAAsIyABQAAYBkBCwAAwDICFgAAgGU87Nnlek5e7HQJ9bb2T4OcLgFAE%2BOm/4ZJ/HcM9ccMFgAAgGUELAAAAMsIWAAAAJYRsAAAACwjYAEAAFhGwAIAALAs7ANWfn6%2BevXqpaioKMXFxenmm2/WV199FTImPT1dHo8nZBk2bJhDFQMAgKYu7ANWUVGRxowZozVr1qiwsFDHjx9XRkaGqqurQ8ZlZ2errKwsuDz33HMOVQwAAJq6sP%2Bi0cWLQ7/kbs6cOYqLi1NxcbH69%2B8f3H7OOefI7/c3dnkAAMCFwn4G68cqKiokSTExMSHb33jjDcXGxqpLly6aMGGCqqqqnCgPAAC4QNjPYP2QMUa5ubnq27evUlNTg9tHjBihlJQU%2Bf1%2Bbd68WZMmTdLnn3%2BuwsLCWo8TCAQUCASC65WVlQ1eOwAAaDoIWD8wduxYbdy4UStXrgzZnp2dHfx3amqqOnXqpJ49e2rdunXq3r17jePk5%2BdrypQpDV4vAABomrhE%2BP9ycnK0cOFCLV26VImJiWcd2717d0VERKikpKTW/ZMmTVJFRUVw2bFjR0OUDAAAmqiwn8EyxignJ0fz58/XsmXLlJKSUudrtmzZomPHjik%2BPr7W/V6vV16v13apAADAJcI%2BYI0ZM0Zvvvmm3nvvPUVFRam8vFyS5PP51KZNG33zzTd64403dP311ys2NlZffPGFxo8fr8svv1xXXnmlw9UDAICmKOwvEc6ePVsVFRVKT09XfHx8cJk3b54kKTIyUh999JEGDhyoiy66SA888IAyMjK0ZMkStWzZ0uHqAQBAUxT2M1jGmLPuT0pKUlFRUSNVAwAAmoOwn8ECAACwjYAFAABgGQELAADAMgIWAACAZQQsAAAAywhYAAAAlhGwAAAALCNgAQAAWEbAAgAAsIyABQAAYBkBCwAAwDICFgAAgGUELAAAAMsIWAAAAJYRsAAAACwjYAEAAFhGwAIAALCMgAUAAGAZAQsAAMAyAhYAAIBlBCwAAADLCFgAAACWEbAAAAAsI2ABAABYRsACAACwjIAFAABgGQELAADAMgIWAACAZQQsAAAAy1o5XQAAwK6ekxc7XQIQ9pjBAgAAsIyABQAAYBkBCwAAwDICFgAAgGUELAAAAMsIWAAAAJYRsAAAACwjYAEAAFhGwAIAALCMgAUAAGAZAQsAAMAynkUInIHbnue29k%2BDnC4BAPD/mMECAACwjIAFAABgGQELAADAMgIWAACAZQQsAAAAywhYAAAAloV9wMrPz1evXr0UFRWluLg43Xzzzfrqq69CxgQCAeXk5Cg2NlZt27bVjTfeqJ07dzpUMQAAaOrCPmAVFRVpzJgxWrNmjQoLC3X8%2BHFlZGSouro6OGbcuHGaP3%2B%2BCgoKtHLlSh06dEiDBw/WiRMnHKwcAAA0VWH/RaOLF4d%2BmeScOXMUFxen4uJi9e/fXxUVFXrppZf02muv6dprr5Ukvf7660pKStKSJUs0cOBAJ8oGAABNWNjPYP1YRUWFJCkmJkaSVFxcrGPHjikjIyM4JiEhQampqVq1apUjNQIAgKYt7GewfsgYo9zcXPXt21epqamSpPLyckVGRqpdu3YhYzt06KDy8vJajxMIBBQIBILrlZWVDVc0AABocghYPzB27Fht3LhRK1eurHOsMUYej6fWffn5%2BZoyZYrt8gAADuMZpagvLhH%2Bv5ycHC1cuFBLly5VYmJicLvf79fRo0d14MCBkPF79uxRhw4daj3WpEmTVFFREVx27NjRoLUDAICmJewDljFGY8eO1bvvvquPP/5YKSkpIft79OihiIgIFRYWBreVlZVp8%2BbN6tOnT63H9Hq9io6ODlkAAED4CPtLhGPGjNGbb76p9957T1FRUcH7qnw%2Bn9q0aSOfz6d77rlH48eP1/nnn6%2BYmBhNmDBBXbt2Df5VIQAAwA%2BFfcCaPXu2JCk9PT1k%2B5w5czRq1ChJ0hNPPKFWrVrp5z//uQ4fPqxrrrlGr7zyilq2bNnI1QIAADcI%2B4BljKlzTOvWrfXMM8/omWeeaYSKAACA24X9PVgAAAC2EbAAAAAsI2ABAABYRsACAACwjIAFAABgWdj/FSGAxsfjRgA0d8xgAQAAWEbAAgAAsIyABQAAYBkBCwAAwDICFgAAgGUELAAAAMsIWAAAAJYRsAAAACwjYAEAAFhGwAIAALCMgAUAAGAZzyIEmgm3Pd8PAJozZrAAAAAsI2ABAABYRsACAACwjIAFAABgGQELAADAMgIWAACAZQQsAAAAywhYAAAAlhGwAAAALCNgAQAAWEbAAgAAsIxnEQJAHXjOI4D/FDNYAAAAlhGwAAAALCNgAQAAWEbAAgAAsMy1Aev111/XkSNHnC4DAACgBtcGrNzcXPn9ft1333369NNPnS4HAAAgyLUBa9euXXr55ZdVVlamvn37qkuXLnr88ce1d%2B9ep0sDAABhzrUBq1WrVho6dKgWLlyo7du3KysrSy%2B//LISExM1dOhQvf/%2B%2BzLGOF0mAAAIQ64NWD/k9/t1zTXXKD09XR6PR2vXrtXw4cPVqVMnrVixwunyAABAmHF1wNq3b5%2BefPJJdevWTVdeeaX27NmjBQsWaNu2bfruu%2B80ePBg/eIXv3C6TAAAEGZc%2B6icW265RYsWLVJKSoruvfdeZWVlqX379sH95557riZOnKinn37awSoBAHCOmx7ztPZPg5wuwSrXBqzo6GgtWbJE/fr1O%2BOY%2BPh4lZSUNGJVAAAALg5Yc%2BfOrXOMx%2BNRx44dG6EaAACAf3PtPVgPPvigZs6cWWP7s88%2Bq/HjxztQEQAAwCmuDVhvv/22evfuXWN7Wlqa5s2b50BFAAAAp7g2YO3bt0/t2rWrsT06Olr79u1zoCIAAIBTXBuwOnbsqA8%2B%2BKDG9g8%2B%2BEApKSkOVAQAAHCKa29yHzdunMaNG6f9%2B/drwIABkqSPPvpI06dP12OPPeZwdQAAIJy5dgYrOztb06ZN06xZs9SvXz/169dPL774op5%2B%2BmmNHj263sdZvny5hgwZooSEBHk8Hi1YsCBk/6hRo%2BTxeEKW2u79AgAAOM21M1iSlJOTo5ycHJWVlalNmzY677zz/uNjVFdXq1u3brr77rt166231jpm0KBBmjNnTnA9MjLyv64ZAAA0f64OWKfFx8f/16/NzMxUZmbmWcd4vV75/f7/%2BmcAAIDw4tpLhHv37tXdd9%2BtCy%2B8UK1bt1ZkZGTIYtOyZcsUFxenzp07Kzs7W3v27Dnr%2BEAgoMrKypAFAACED9fOYI0aNUrffPONfvvb3yo%2BPl4ej6dBfk5mZqZuv/12JScnq7S0VI888ogGDBig4uJieb3eWl%2BTn5%2BvKVOmNEg9buamZ2IBAPC/8BhjjNNF/DeioqK0fPlyXX755daO6fF4NH/%2BfN18881nHFNWVqbk5GQVFBRo6NChtY4JBAIKBALB9crKSiUlJamiokLR0dHW6pUILQCA5qEhHvZcWVkpn8/XIL9/6%2BLaGazExMQGm7U6m/j4eCUnJ5/1IdJer/eMs1sAAKD5c%2B09WE888YQmTZqknTt3NurP3b9/v3bs2PE/3VgPAACaN9fOYI0cOVJVVVVKTk5WdHS0IiIiQvbXdSP6aYcOHdLXX38dXC8tLdWGDRsUExOjmJgY5eXl6dZbb1V8fLy%2B/fZbPfzww4qNjdUtt9xi9f0AAIDmw7UBa9q0aVaOs3btWl199dXB9dzcXElSVlaWZs%2BerU2bNunVV1/VwYMHFR8fr6uvvlrz5s1TVFSUlZ8PAACaH9cGrHvuucfKcdLT03W2%2B/xre94hAADA2bj2HixJ%2Bvbbb5WXl6eRI0cGLwl%2B%2BOGH%2BvLLLx2uDAAAhDPXBqwVK1aoS5cuKioq0ltvvaVDhw5JktatW6dHH33U4eoAAEA4c23A%2Bt3vfqe8vDwtXbo05JvbBwwYoDVr1jhYGQAACHeuDVgbN27UbbfdVmN7XFyc9u7d60BFAAAAp7g2YJ133nkqLy%2BvsX3Dhg264IILHKgIAADgFNcGrGHDhumhhx7S3r17g9/o/sknn2jChAm66667HK4OAACEM9cGrKlTp8rv9ys%2BPl6HDh3SpZdeqj59%2BqhXr1565JFHnC4PAACEMdd%2BD1ZkZKTmzZunf/7zn1q3bp1Onjyp7t276%2BKLL3a6NAAAEOZcG7BO69y5szp37ux0GQAAAEGuDVi/%2BtWvzrr/%2Beefb6RKAAAAQrk2YJWVlYWsHzt2TFu2bFFVVZX69%2B/vUFUAAAAuDlh/%2B9vfamw7fvy47r//fl1yySUOVAQAAHCKa/%2BKsDatWrXShAkT9Oc//9npUgAAQBhrVgFLkrZu3apjx445XQYAAAhjrr1EOHHixJB1Y4zKysq0cOFCjRgxwqGqAAAAXBywVq9eHbLeokULtW/fXtOmTVN2drZDVQEAALg4YK1YscLpEgAAAGrV7O7BAgAAcJprZ7B69eoVfMhzXT799NMGrgYAAODfXBuwrr76aj333HPq3Lmz0tLSJElr1qzRV199pfvuu09er9fhCgEAQLhybcA6ePCgxowZo6lTp4Zsnzx5snbv3q0XX3zRocoAAEC4c%2B09WG%2B99ZbuvvvuGttHjRqlt99%2B24GKAAAATnFtwPJ6vVq1alWN7atWreLyIAAAcJRrLxE%2B8MADGj16tNavX6/evXtLOnUP1gsvvKCHH37Y4eoAAEA4c23Amjx5slJSUvTUU0/p5ZdfliRdcskleuGFFzR8%2BHCHqwMAAOHMtQFLkoYPH06YAgAATY5r78GSpMrKSr3yyit69NFHdeDAAUnS559/rrKyMocrAwAA4cy1M1ibN2/Wtddeq3POOUc7duzQqFGj1K5dO7311lvauXOn5s6d63SJAAAgTLl2BuvBBx/U8OHD9c0336h169bB7TfccIOWL1/uYGUAACDcuXYG67PPPtPs2bNrPC7nggsu4BIhAABwlGtnsCIjI3Xo0KEa20tKShQbG%2BtARQAAAKe4NmDdeOON%2BsMf/qDjx49Lkjwej7777js99NBDGjp0qMPVAQCAcObagPX4449r165d8vv9Onz4sAYMGKCf/OQnat26dY3nEwIAADQm196D5fP5tGrVKhUWFmrdunU6efKkunfvroEDB9a4LwsAAKAxuTJgHTt2TNdff71mzZqljIwMZWRkOF0SAABAkCsvEUZERGj9%2BvXMVAEAgCbJlQFLku666y7NmTPH6TIAAABqcOUlwtNmzpypJUuWqGfPnmrbtm3IvunTpztUFQAACHeuDVjFxcW67LLLJEkbN24M2celQwAA4CTXBaytW7cqJSVFK1ascLoUAACAWrnuHqxOnTpp7969wfU77rhDu3fvdrAiAACAUK4LWMaYkPVFixapurraoWoAAABqcl3AAgAAaOpcF7A8Hk%2BNm9i5qR0AADQlrrvJ3RijUaNGyev1SpKOHDmi0aNH1/iahnfffdeJ8gAAANwXsLKyskLW77rrLocqAQAAqJ3rAhbf3g4AAJo6192DZdvy5cs1ZMgQJSQkyOPxaMGCBSH7jTHKy8tTQkKC2rRpo/T0dG3ZssWhagEAgBuEfcCqrq5Wt27dNHPmzFr3T58%2BXTNmzNDMmTP12Wefye/367rrrlNVVVUjVwoAANzCdZcIbcvMzFRmZmat%2B4wxevLJJzV58mQNHTpUkjR37lx16NBBb775pu67777GLBUAALhE2M9gnU1paanKy8uVkZER3Ob1enXVVVdp1apVDlYGAACasrCfwTqb8vJySVKHDh1Ctnfo0EHbtm074%2BsCgYACgUBwvbKysmEKBAAATRIzWPXw4y8yNcac9ctN8/Pz5fP5gktSUlJDlwgAAJoQAtZZ%2BP1%2BSf%2BeyTptz549NWa1fmjSpEmqqKgILjt27GjQOgEAQNNCwDqLlJQU%2Bf1%2BFRYWBrcdPXpURUVF6tOnzxlf5/V6FR0dHbIAAIDwEfb3YB06dEhff/11cL20tFQbNmxQTEyMLrzwQo0bN05Tp05Vp06d1KlTJ02dOlXnnHOOhg8f7mDVAACgKQv7gLV27VpdffXVwfXc3FxJpx7J88orr2jixIk6fPiwfv3rX%2BvAgQO64oor9OGHHyoqKsqpkgEAQBPnMcYYp4to7iorK%2BXz%2BVRRUWH9cmHPyYutHg8AACes/dMg68dsyN%2B/deEeLAAAAMsIWAAAAJYRsAAAACwjYAEAAFhGwAIAALCMgAUAAGAZAQsAAMAyAhYAAIBlBCwAAADLCFgAAACWEbAAAAAsI2ABAABYRsACAACwjIAFAABgGQELAADAMgIWAACAZQQsAAAAywhYAAAAlhGwAAAALCNgAQAAWEbAAgAAsIyABQAAYBkBCwAAwDICFgAAgGUELAAAAMsIWAAAAJYRsAAAACwjYAEAAFhGwAIAALCMgAUAAGAZAQsAAMAyAhYAAIBlBCwAAADLCFgAAACWEbAAAAAsI2ABAABYRsACAACwjIAFAABgGQELAADAMgIWAACAZQQsAAAAywhYAAAAlhGwAAAALCNgAQAAWEbAAgAAsIyABQAAYBkBCwAAwDICFgAAgGUErDrk5eXJ4/GELH6/3%2BmyAABAE9bK6QLcoEuXLlqyZElwvWXLlg5WAwAAmjoCVj20atWKWSsAAFBvXCKsh5KSEiUkJCglJUXDhg3T1q1bzzo%2BEAiosrIyZAEAAOGDgFWHK664Qq%2B%2B%2Bqo%2B%2BOADvfDCCyovL1efPn20f//%2BM74mPz9fPp8vuCQlJTVixQAAwGkeY4xxugg3qa6uVseOHTVx4kTl5ubWOiYQCCgQCATXKysrlZSUpIqKCkVHR1utp%2BfkxVaPBwCAE9b%2BaZD1Y1ZWVsrn8zXI79%2B6cA/Wf6ht27bq2rWrSkpKzjjG6/XK6/U2YlUAAKAp4RLhfygQCOjLL79UfHy806UAAIAmioBVhwkTJqioqEilpaX65JNPdNttt6myslJZWVlOlwYAAJooLhHWYefOnbrzzju1b98%2BtW/fXr1799aaNWuUnJzsdGkAAKCJImDVoaCgwOkSAACAy3CJEAAAwDICFgAAgGUELAAAAMsIWAAAAJYRsAAAACwjYAEAAFhGwAIAALCMgAUAAGAZAQsAAMAyAhYAAIBlBCwAAADLCFgAAACWEbAAAAAsI2ABAABYRsACAACwjIAFAABgGQELAADAMgIWAACAZQQsAAAAywhYAAAAlhGwAAAALCNgAQAAWEbAAgAAsIyABQAAYBkBCwAAwDICFgAAgGUELAAAAMsIWAAAAJYRsAAAACwjYAEAAFhGwAIAALCMgAUAAGAZAQsAAMAyAhYAAIBlBCwAAADLCFgAAACWEbAAAAAsI2ABAABYRsACAACwjIAFAABgGQELAADAMgIWAACAZQQsAAAAywhYAAAAlhGwAAAALCNgAQAAWEbAAgAAsIyABQAAYBkBq55mzZqllJQUtW7dWj169NCKFSucLgkAADRRBKx6mDdvnsaNG6fJkydr/fr16tevnzIzM7V9%2B3anSwMAAE0QAaseZsyYoXvuuUf33nuvLrnkEj355JNKSkrS7NmznS4NAAA0Qa2cLqCpO3r0qIqLi/XQQw%2BFbM/IyNCqVatqfU0gEFAgEAiuV1RUSJIqKyut13ciUG39mAAANLaG%2BB15%2BpjGGOvHrgsBqw779u3TiRMn1KFDh5DtHTp0UHl5ea2vyc/P15QpU2psT0pKapAaAQBwO9/jDXfsqqoq%2BXy%2BhvsBtSBg1ZPH4wlZN8bU2HbapEmTlJubG1w/efKk/vWvf%2Bn8888/42v%2BU5WVlUpKStKOHTsUHR1t5ZjNEX2qGz2qH/pUP/SpfuhT3Wz0yBijqqoqJSQkWK6ubgSsOsTGxqply5Y1Zqv27NlTY1brNK/XK6/XG7LtvPPOa5D6oqOj%2BXDWA32qGz2qH/pUP/SpfuhT3f7XHjX2zNVp3OReh8jISPXo0UOFhYUh2wsLC9WnTx%2BHqgIAAE0ZM1j1kJubq5EjR6pnz55KS0vT888/r%2B3bt2v06NFOlwYAAJqglnl5eXlOF9HUpaam6vzzz9fUqVP12GOP6fDhw3rttdfUrVs3R%2Btq2bKl0tPT1aoVOfls6FPd6FH90Kf6oU/1Q5/q5uYeeYwTf7sIAADQjHEPFgAAgGUELAAAAMsIWAAAAJYRsAAAACwjYLnQrFmzlJKSotatW6tHjx5asWKF0yU5Ki8vTx6PJ2Tx%2B/3B/cYY5eXlKSEhQW3atFF6erq2bNniYMWNY/ny5RoyZIgSEhLk8Xi0YMGCkP316cuBAwc0cuRI%2BXw%2B%2BXw%2BjRw5UgcPHmzMt9Gg6urRqFGjapxbvXv3DhkTCASUk5Oj2NhYtW3bVjfeeKN27tzZmG%2BjweXn56tXr16KiopSXFycbr75Zn311VchY%2BrTh%2B3bt2vIkCFq27atYmNj9cADD%2Bjo0aON%2BVYaVH36lJ6eXuOcGjZsWMiY5vy5mz17ti677LLgl4empaXp73//e3B/czqPCFguM2/ePI0bN06TJ0/W%2BvXr1a9fP2VmZmr79u1Ol%2BaoLl26qKysLLhs2rQpuG/69OmaMWOGZs6cqc8%2B%2B0x%2Bv1/XXXedqqqqHKy44VVXV6tbt26aOXNmrfvr05fhw4drw4YNWrx4sRYvXqwNGzZo5MiRjfUWGlxdPZKkQYMGhZxbixYtCtk/btw4zZ8/XwUFBVq5cqUOHTqkwYMH68SJEw1dfqMpKirSmDFjtGbNGhUWFur48ePKyMhQdfW/HzZfVx9OnDihG264QdXV1Vq5cqUKCgr0zjvvaPz48U69Levq0ydJys7ODjmnnnvuuZD9zflzl5iYqGnTpmnt2rVau3atBgwYoJtuuin4f%2B6a1Xlk4Co/%2B9nPzOjRo0O2XXzxxeahhx5yqCLn/f73vzfdunWrdd/JkyeN3%2B8306ZNC247cuSI8fl85i9/%2BUtjleg4SWb%2B/PnB9fr05YsvvjCSzJo1a4JjVq9ebSSZf/zjH41XfCP5cY%2BMMSYrK8vcdNNNZ3zNwYMHTUREhCkoKAhu%2B%2B6770yLFi3M4sWLG6xWp%2B3Zs8dIMkVFRcaY%2BvVh0aJFpkWLFua7774LjvnrX/9qvF6vqaioaNw30Eh%2B3CdjjLnqqqvMb37zmzO%2BJtw%2Bd8YY065dO/Piiy82u/OIGSwXOXr0qIqLi5WRkRGyPSMjQ6tWrXKoqqahpKRECQkJSklJ0bBhw7R161ZJUmlpqcrLy0N65vV6ddVVV4V1z%2BrTl9WrV8vn8%2BmKK64Ijundu7d8Pl9Y9W7ZsmWKi4tT586dlZ2drT179gT3FRcX69ixYyF9TEhIUGpqarPuUUVFhSQpJiZGUv36sHr1aqWmpoY8dHfgwIEKBAIqLi5uxOobz4/7dNobb7yh2NhYdenSRRMmTAiZNQ6nz92JEydUUFCg6upqpaWlNbvzyH1fjRrG9u3bpxMnTtR4yHSHDh1qPIw6nFxxxRV69dVX1blzZ%2B3evVt//OMf1adPH23ZsiXYl9p6tm3bNifKbRLq05fy8nLFxcXVeG1cXFzYnG%2BZmZm6/fbblZycrNLSUj3yyCMaMGCAiouL5fV6VV5ersjISLVr1y7kdc35M2mMUW5urvr27avU1FRJqlcfysvLa5xv7dq1U2RkZLPsVW19kqQRI0YoJSVFfr9fmzdv1qRJk/T5558Hn3cbDp%2B7TZs2KS0tTUeOHNG5556r%2BfPn69JLL9WGDRua1XlEwHIhj8cTsm6MqbEtnGRmZgb/3bVrV6Wlpaljx46aO3du8IZkela7uvpSW4/CqXd33HFH8N%2Bpqanq2bOnkpOT9f7772vo0KFnfF1z7tHYsWO1ceNGrVy5ss6x4Xw%2BnalP2dnZwX%2BnpqaqU6dO6tmzp9atW6fu3btLav59uuiii7RhwwYdPHhQ77zzjrKyslRUVHTG8W49j7hE6CKxsbFq2bJljZS%2BZ8%2BeGok%2BnLVt21Zdu3ZVSUlJ8K8J6Vmo%2BvTF7/dr9%2B7dNV67d%2B/esO1dfHy8kpOTVVJSIulUj44ePaoDBw6EjGuu51dOTo4WLlyopUuXKjExMbi9Pn3w%2B/01zrcDBw7o2LFjza5XZ%2BpTbbp3766IiIiQc6q5f%2B4iIyP105/%2BVD179lR%2Bfr66deump556qtmdRwQsF4mMjFSPHj2CU8mnFRYWqk%2BfPg5V1fQEAgF9%2BeWXio%2BPD07F/7BnR48eVVFRUVj3rD59SUtLU0VFhT799NPgmE8%2B%2BUQVFRVh27v9%2B/fJN8/lAAADSUlEQVRrx44dio%2BPlyT16NFDERERIX0sKyvT5s2bm1WPjDEaO3as3n33XX388cdKSUkJ2V%2BfPqSlpWnz5s0qKysLjvnwww/l9XrVo0ePxnkjDayuPtVmy5YtOnbsWPCcCsfPnTFGgUCg%2BZ1HDtxYj/9BQUGBiYiIMC%2B99JL54osvzLhx40zbtm3Nt99%2B63Rpjhk/frxZtmyZ2bp1q1mzZo0ZPHiwiYqKCvZk2rRpxufzmXfffdds2rTJ3HnnnSY%2BPt5UVlY6XHnDqqqqMuvXrzfr1683ksyMGTPM%2BvXrzbZt24wx9evLoEGDzGWXXWZWr15tVq9ebbp27WoGDx7s1Fuy7mw9qqqqMuPHjzerVq0ypaWlZunSpSYtLc1ccMEFIT0aPXq0SUxMNEuWLDHr1q0zAwYMMN26dTPHjx938J3Zdf/99xufz2eWLVtmysrKgsv3338fHFNXH44fP25SU1PNNddcY9atW2eWLFliEhMTzdixY516W9bV1aevv/7aTJkyxXz22WemtLTUvP/%2B%2B%2Bbiiy82l19%2Becj50pw/d5MmTTLLly83paWlZuPGjebhhx82LVq0MB9%2B%2BKExpnmdRwQsF3r22WdNcnKyiYyMNN27dw/5E%2BBwdMcdd5j4%2BHgTERFhEhISzNChQ82WLVuC%2B0%2BePGl%2B//vfG7/fb7xer%2Bnfv7/ZtGmTgxU3jqVLlxpJNZasrCxjTP36sn//fjNixAgTFRVloqKizIgRI8yBAwcceDcN42w9%2Bv77701GRoZp3769iYiIMBdeeKHJysoy27dvDznG4cOHzdixY01MTIxp06aNGTx4cI0xbldbjySZOXPmBMfUpw/btm0zN9xwg2nTpo2JiYkxY8eONUeOHGnkd9Nw6urT9u3bTf/%2B/U1MTIyJjIw0HTt2NA888IDZv39/yHGa8%2Bful7/8ZfD3V/v27c0111wTDFfGNK/zyGOMMY03XwYAAND8cQ8WAACAZQQsAAAAywhYAAAAlhGwAAAALCNgAQAAWEbAAgAAsIyABQAAYBkBCwAAwDICFgAAgGUELAAAAMsIWAAAAJYRsAAAACwjYAEAAFhGwAIAALCMgAUAAGAZAQsAAMAyAhYAAIBlBCwAAADL/g9mOjYUBqqeGQAAAABJRU5ErkJggg%3D%3D\"/>\n",
       "        </div>\n",
       "        <div role=\"tabpanel\" class=\"tab-pane col-md-12\" id=\"common-3508517853239476609\">\n",
       "            \n",
       "<table class=\"freq table table-hover\">\n",
       "    <thead>\n",
       "    <tr>\n",
       "        <td class=\"fillremaining\">Value</td>\n",
       "        <td class=\"number\">Count</td>\n",
       "        <td class=\"number\">Frequency (%)</td>\n",
       "        <td style=\"min-width:200px\">&nbsp;</td>\n",
       "    </tr>\n",
       "    </thead>\n",
       "    <tr class=\"\">\n",
       "        <td class=\"fillremaining\">197.6</td>\n",
       "        <td class=\"number\">2</td>\n",
       "        <td class=\"number\">1.0%</td>\n",
       "        <td>\n",
       "            <div class=\"bar\" style=\"width:2%\">&nbsp;</div>\n",
       "        </td>\n",
       "</tr><tr class=\"\">\n",
       "        <td class=\"fillremaining\">237.4</td>\n",
       "        <td class=\"number\">2</td>\n",
       "        <td class=\"number\">1.0%</td>\n",
       "        <td>\n",
       "            <div class=\"bar\" style=\"width:2%\">&nbsp;</div>\n",
       "        </td>\n",
       "</tr><tr class=\"\">\n",
       "        <td class=\"fillremaining\">177.0</td>\n",
       "        <td class=\"number\">2</td>\n",
       "        <td class=\"number\">1.0%</td>\n",
       "        <td>\n",
       "            <div class=\"bar\" style=\"width:2%\">&nbsp;</div>\n",
       "        </td>\n",
       "</tr><tr class=\"\">\n",
       "        <td class=\"fillremaining\">76.4</td>\n",
       "        <td class=\"number\">2</td>\n",
       "        <td class=\"number\">1.0%</td>\n",
       "        <td>\n",
       "            <div class=\"bar\" style=\"width:2%\">&nbsp;</div>\n",
       "        </td>\n",
       "</tr><tr class=\"\">\n",
       "        <td class=\"fillremaining\">222.4</td>\n",
       "        <td class=\"number\">2</td>\n",
       "        <td class=\"number\">1.0%</td>\n",
       "        <td>\n",
       "            <div class=\"bar\" style=\"width:2%\">&nbsp;</div>\n",
       "        </td>\n",
       "</tr><tr class=\"\">\n",
       "        <td class=\"fillremaining\">17.2</td>\n",
       "        <td class=\"number\">2</td>\n",
       "        <td class=\"number\">1.0%</td>\n",
       "        <td>\n",
       "            <div class=\"bar\" style=\"width:2%\">&nbsp;</div>\n",
       "        </td>\n",
       "</tr><tr class=\"\">\n",
       "        <td class=\"fillremaining\">240.1</td>\n",
       "        <td class=\"number\">2</td>\n",
       "        <td class=\"number\">1.0%</td>\n",
       "        <td>\n",
       "            <div class=\"bar\" style=\"width:2%\">&nbsp;</div>\n",
       "        </td>\n",
       "</tr><tr class=\"\">\n",
       "        <td class=\"fillremaining\">184.9</td>\n",
       "        <td class=\"number\">2</td>\n",
       "        <td class=\"number\">1.0%</td>\n",
       "        <td>\n",
       "            <div class=\"bar\" style=\"width:2%\">&nbsp;</div>\n",
       "        </td>\n",
       "</tr><tr class=\"\">\n",
       "        <td class=\"fillremaining\">109.8</td>\n",
       "        <td class=\"number\">2</td>\n",
       "        <td class=\"number\">1.0%</td>\n",
       "        <td>\n",
       "            <div class=\"bar\" style=\"width:2%\">&nbsp;</div>\n",
       "        </td>\n",
       "</tr><tr class=\"\">\n",
       "        <td class=\"fillremaining\">199.8</td>\n",
       "        <td class=\"number\">2</td>\n",
       "        <td class=\"number\">1.0%</td>\n",
       "        <td>\n",
       "            <div class=\"bar\" style=\"width:2%\">&nbsp;</div>\n",
       "        </td>\n",
       "</tr><tr class=\"other\">\n",
       "        <td class=\"fillremaining\">Other values (180)</td>\n",
       "        <td class=\"number\">180</td>\n",
       "        <td class=\"number\">90.0%</td>\n",
       "        <td>\n",
       "            <div class=\"bar\" style=\"width:100%\">&nbsp;</div>\n",
       "        </td>\n",
       "</tr>\n",
       "</table>\n",
       "        </div>\n",
       "        <div role=\"tabpanel\" class=\"tab-pane col-md-12\"  id=\"extreme-3508517853239476609\">\n",
       "            <p class=\"h4\">Minimum 5 values</p>\n",
       "            \n",
       "<table class=\"freq table table-hover\">\n",
       "    <thead>\n",
       "    <tr>\n",
       "        <td class=\"fillremaining\">Value</td>\n",
       "        <td class=\"number\">Count</td>\n",
       "        <td class=\"number\">Frequency (%)</td>\n",
       "        <td style=\"min-width:200px\">&nbsp;</td>\n",
       "    </tr>\n",
       "    </thead>\n",
       "    <tr class=\"\">\n",
       "        <td class=\"fillremaining\">0.7</td>\n",
       "        <td class=\"number\">1</td>\n",
       "        <td class=\"number\">0.5%</td>\n",
       "        <td>\n",
       "            <div class=\"bar\" style=\"width:100%\">&nbsp;</div>\n",
       "        </td>\n",
       "</tr><tr class=\"\">\n",
       "        <td class=\"fillremaining\">4.1</td>\n",
       "        <td class=\"number\">1</td>\n",
       "        <td class=\"number\">0.5%</td>\n",
       "        <td>\n",
       "            <div class=\"bar\" style=\"width:100%\">&nbsp;</div>\n",
       "        </td>\n",
       "</tr><tr class=\"\">\n",
       "        <td class=\"fillremaining\">5.4</td>\n",
       "        <td class=\"number\">1</td>\n",
       "        <td class=\"number\">0.5%</td>\n",
       "        <td>\n",
       "            <div class=\"bar\" style=\"width:100%\">&nbsp;</div>\n",
       "        </td>\n",
       "</tr><tr class=\"\">\n",
       "        <td class=\"fillremaining\">7.3</td>\n",
       "        <td class=\"number\">1</td>\n",
       "        <td class=\"number\">0.5%</td>\n",
       "        <td>\n",
       "            <div class=\"bar\" style=\"width:100%\">&nbsp;</div>\n",
       "        </td>\n",
       "</tr><tr class=\"\">\n",
       "        <td class=\"fillremaining\">7.8</td>\n",
       "        <td class=\"number\">1</td>\n",
       "        <td class=\"number\">0.5%</td>\n",
       "        <td>\n",
       "            <div class=\"bar\" style=\"width:100%\">&nbsp;</div>\n",
       "        </td>\n",
       "</tr>\n",
       "</table>\n",
       "            <p class=\"h4\">Maximum 5 values</p>\n",
       "            \n",
       "<table class=\"freq table table-hover\">\n",
       "    <thead>\n",
       "    <tr>\n",
       "        <td class=\"fillremaining\">Value</td>\n",
       "        <td class=\"number\">Count</td>\n",
       "        <td class=\"number\">Frequency (%)</td>\n",
       "        <td style=\"min-width:200px\">&nbsp;</td>\n",
       "    </tr>\n",
       "    </thead>\n",
       "    <tr class=\"\">\n",
       "        <td class=\"fillremaining\">289.7</td>\n",
       "        <td class=\"number\">1</td>\n",
       "        <td class=\"number\">0.5%</td>\n",
       "        <td>\n",
       "            <div class=\"bar\" style=\"width:100%\">&nbsp;</div>\n",
       "        </td>\n",
       "</tr><tr class=\"\">\n",
       "        <td class=\"fillremaining\">290.7</td>\n",
       "        <td class=\"number\">1</td>\n",
       "        <td class=\"number\">0.5%</td>\n",
       "        <td>\n",
       "            <div class=\"bar\" style=\"width:100%\">&nbsp;</div>\n",
       "        </td>\n",
       "</tr><tr class=\"\">\n",
       "        <td class=\"fillremaining\">292.9</td>\n",
       "        <td class=\"number\">1</td>\n",
       "        <td class=\"number\">0.5%</td>\n",
       "        <td>\n",
       "            <div class=\"bar\" style=\"width:100%\">&nbsp;</div>\n",
       "        </td>\n",
       "</tr><tr class=\"\">\n",
       "        <td class=\"fillremaining\">293.6</td>\n",
       "        <td class=\"number\">1</td>\n",
       "        <td class=\"number\">0.5%</td>\n",
       "        <td>\n",
       "            <div class=\"bar\" style=\"width:100%\">&nbsp;</div>\n",
       "        </td>\n",
       "</tr><tr class=\"\">\n",
       "        <td class=\"fillremaining\">296.4</td>\n",
       "        <td class=\"number\">1</td>\n",
       "        <td class=\"number\">0.5%</td>\n",
       "        <td>\n",
       "            <div class=\"bar\" style=\"width:100%\">&nbsp;</div>\n",
       "        </td>\n",
       "</tr>\n",
       "</table>\n",
       "        </div>\n",
       "    </div>\n",
       "</div>\n",
       "</div><div class=\"row variablerow\">\n",
       "    <div class=\"col-md-3 namecol\">\n",
       "        <p class=\"h4 pp-anchor\" id=\"pp_var_Unnamed: 0\">Unnamed: 0<br/>\n",
       "            <small>Numeric</small>\n",
       "        </p>\n",
       "    </div><div class=\"col-md-6\">\n",
       "    <div class=\"row\">\n",
       "        <div class=\"col-sm-6\">\n",
       "            <table class=\"stats \">\n",
       "                <tr>\n",
       "                    <th>Distinct count</th>\n",
       "                    <td>200</td>\n",
       "                </tr>\n",
       "                <tr>\n",
       "                    <th>Unique (%)</th>\n",
       "                    <td>100.0%</td>\n",
       "                </tr>\n",
       "                <tr class=\"ignore\">\n",
       "                    <th>Missing (%)</th>\n",
       "                    <td>0.0%</td>\n",
       "                </tr>\n",
       "                <tr class=\"ignore\">\n",
       "                    <th>Missing (n)</th>\n",
       "                    <td>0</td>\n",
       "                </tr>\n",
       "                <tr class=\"ignore\">\n",
       "                    <th>Infinite (%)</th>\n",
       "                    <td>0.0%</td>\n",
       "                </tr>\n",
       "                <tr class=\"ignore\">\n",
       "                    <th>Infinite (n)</th>\n",
       "                    <td>0</td>\n",
       "                </tr>\n",
       "            </table>\n",
       "\n",
       "        </div>\n",
       "        <div class=\"col-sm-6\">\n",
       "            <table class=\"stats \">\n",
       "\n",
       "                <tr>\n",
       "                    <th>Mean</th>\n",
       "                    <td>100.5</td>\n",
       "                </tr>\n",
       "                <tr>\n",
       "                    <th>Minimum</th>\n",
       "                    <td>1</td>\n",
       "                </tr>\n",
       "                <tr>\n",
       "                    <th>Maximum</th>\n",
       "                    <td>200</td>\n",
       "                </tr>\n",
       "                <tr class=\"ignore\">\n",
       "                    <th>Zeros (%)</th>\n",
       "                    <td>0.0%</td>\n",
       "                </tr>\n",
       "            </table>\n",
       "        </div>\n",
       "    </div>\n",
       "</div>\n",
       "<div class=\"col-md-3 collapse in\" id=\"minihistogram-963053365925716306\">\n",
       "    <img src=\"data:image/png;base64,iVBORw0KGgoAAAANSUhEUgAAAMgAAABLCAYAAAA1fMjoAAAABHNCSVQICAgIfAhkiAAAAAlwSFlzAAAPYQAAD2EBqD%2BnaQAAADl0RVh0U29mdHdhcmUAbWF0cGxvdGxpYiB2ZXJzaW9uIDIuMi4yLCBodHRwOi8vbWF0cGxvdGxpYi5vcmcvhp/UCwAAAZpJREFUeJzt17GN20AQhtGhcCmpXBC7uCLck2OH7sdFuAsJKoCEgwusdWDrkvP94VIE3gu5wQyB/YIdWmutOrterzXPc%2B%2Bx7Nzlcqnz%2Bdx15kvXaf%2BM41hVf394mqYtVmBHlmWpeZ7f701PmwQyDENVVU3T9CGQ168/tliJJ/Hz25dPzx73pqdD94mwIwKBQCAQCAQCgUAgEAgEAoFAIBAIBAKBQCAQCAQCgUAgEAgEAoFAIBAIBAKBQCAQCAQCgUAgEAgEAoFAIBAIBAKBQCAQCAQCgUAgEAgEAoFAIBAIBAKBQCAQCAQCgUAgEAgEAoFAIBAIBAKBQCAQCAQCgUDwssXQ1lpVVS3L8uHs99uv3uvwRP53Jx7fHvemp00CWde1qqrmed5iPE/s%2BP3zs3Vd63g89lumqoa2QZb3%2B71ut1uN41jDMPQez8601mpd1zqdTnU49H0VbBII7IVHOgQCgUAgEAgEAoFAIBAIBAKBQCAQCAQCgUAgEAgEAoFAIBAIBAKBQCAQCAQCgUAgEAgEAoFAIBAIBALBH0HZQHGfq79bAAAAAElFTkSuQmCC\">\n",
       "\n",
       "</div>\n",
       "<div class=\"col-md-12 text-right\">\n",
       "    <a role=\"button\" data-toggle=\"collapse\" data-target=\"#descriptives-963053365925716306,#minihistogram-963053365925716306\"\n",
       "       aria-expanded=\"false\" aria-controls=\"collapseExample\">\n",
       "        Toggle details\n",
       "    </a>\n",
       "</div>\n",
       "<div class=\"row collapse col-md-12\" id=\"descriptives-963053365925716306\">\n",
       "    <ul class=\"nav nav-tabs\" role=\"tablist\">\n",
       "        <li role=\"presentation\" class=\"active\"><a href=\"#quantiles-963053365925716306\"\n",
       "                                                  aria-controls=\"quantiles-963053365925716306\" role=\"tab\"\n",
       "                                                  data-toggle=\"tab\">Statistics</a></li>\n",
       "        <li role=\"presentation\"><a href=\"#histogram-963053365925716306\" aria-controls=\"histogram-963053365925716306\"\n",
       "                                   role=\"tab\" data-toggle=\"tab\">Histogram</a></li>\n",
       "        <li role=\"presentation\"><a href=\"#common-963053365925716306\" aria-controls=\"common-963053365925716306\"\n",
       "                                   role=\"tab\" data-toggle=\"tab\">Common Values</a></li>\n",
       "        <li role=\"presentation\"><a href=\"#extreme-963053365925716306\" aria-controls=\"extreme-963053365925716306\"\n",
       "                                   role=\"tab\" data-toggle=\"tab\">Extreme Values</a></li>\n",
       "\n",
       "    </ul>\n",
       "\n",
       "    <div class=\"tab-content\">\n",
       "        <div role=\"tabpanel\" class=\"tab-pane active row\" id=\"quantiles-963053365925716306\">\n",
       "            <div class=\"col-md-4 col-md-offset-1\">\n",
       "                <p class=\"h4\">Quantile statistics</p>\n",
       "                <table class=\"stats indent\">\n",
       "                    <tr>\n",
       "                        <th>Minimum</th>\n",
       "                        <td>1</td>\n",
       "                    </tr>\n",
       "                    <tr>\n",
       "                        <th>5-th percentile</th>\n",
       "                        <td>10.95</td>\n",
       "                    </tr>\n",
       "                    <tr>\n",
       "                        <th>Q1</th>\n",
       "                        <td>50.75</td>\n",
       "                    </tr>\n",
       "                    <tr>\n",
       "                        <th>Median</th>\n",
       "                        <td>100.5</td>\n",
       "                    </tr>\n",
       "                    <tr>\n",
       "                        <th>Q3</th>\n",
       "                        <td>150.25</td>\n",
       "                    </tr>\n",
       "                    <tr>\n",
       "                        <th>95-th percentile</th>\n",
       "                        <td>190.05</td>\n",
       "                    </tr>\n",
       "                    <tr>\n",
       "                        <th>Maximum</th>\n",
       "                        <td>200</td>\n",
       "                    </tr>\n",
       "                    <tr>\n",
       "                        <th>Range</th>\n",
       "                        <td>199</td>\n",
       "                    </tr>\n",
       "                    <tr>\n",
       "                        <th>Interquartile range</th>\n",
       "                        <td>99.5</td>\n",
       "                    </tr>\n",
       "                </table>\n",
       "            </div>\n",
       "            <div class=\"col-md-4 col-md-offset-2\">\n",
       "                <p class=\"h4\">Descriptive statistics</p>\n",
       "                <table class=\"stats indent\">\n",
       "                    <tr>\n",
       "                        <th>Standard deviation</th>\n",
       "                        <td>57.879</td>\n",
       "                    </tr>\n",
       "                    <tr>\n",
       "                        <th>Coef of variation</th>\n",
       "                        <td>0.57591</td>\n",
       "                    </tr>\n",
       "                    <tr>\n",
       "                        <th>Kurtosis</th>\n",
       "                        <td>-1.2</td>\n",
       "                    </tr>\n",
       "                    <tr>\n",
       "                        <th>Mean</th>\n",
       "                        <td>100.5</td>\n",
       "                    </tr>\n",
       "                    <tr>\n",
       "                        <th>MAD</th>\n",
       "                        <td>50</td>\n",
       "                    </tr>\n",
       "                    <tr class=\"\">\n",
       "                        <th>Skewness</th>\n",
       "                        <td>0</td>\n",
       "                    </tr>\n",
       "                    <tr>\n",
       "                        <th>Sum</th>\n",
       "                        <td>20100</td>\n",
       "                    </tr>\n",
       "                    <tr>\n",
       "                        <th>Variance</th>\n",
       "                        <td>3350</td>\n",
       "                    </tr>\n",
       "                    <tr>\n",
       "                        <th>Memory size</th>\n",
       "                        <td>1.6 KiB</td>\n",
       "                    </tr>\n",
       "                </table>\n",
       "            </div>\n",
       "        </div>\n",
       "        <div role=\"tabpanel\" class=\"tab-pane col-md-8 col-md-offset-2\" id=\"histogram-963053365925716306\">\n",
       "            <img src=\"data:image/png;base64,iVBORw0KGgoAAAANSUhEUgAAAlgAAAGQCAYAAAByNR6YAAAABHNCSVQICAgIfAhkiAAAAAlwSFlzAAAPYQAAD2EBqD%2BnaQAAADl0RVh0U29mdHdhcmUAbWF0cGxvdGxpYiB2ZXJzaW9uIDIuMi4yLCBodHRwOi8vbWF0cGxvdGxpYi5vcmcvhp/UCwAAIABJREFUeJzt3X1U1VW%2Bx/HP8YGDeeGkKRwQZcil1xRiEk20NNREmdRKK01TvJmNkzoZeUvGacK5k/Rojpk2NT41TWqzUnOuXhUnQ70%2B5AOUOl6jJNEEEa9y1BRR9/2j5bmdeFR/cM6B92ut31r99m/vH9%2B9tsCnfX6cYzPGGAEAAMAyDbxdAAAAQF1DwAIAALAYAQsAAMBiBCwAAACLEbAAAAAsRsACAACwGAELAADAYgQsAAAAixGwAAAALEbAAgAAsBgBCwAAwGIELAAAAIsRsAAAACxGwAIAALAYAQsAAMBiBCwAAACLEbAAAAAsRsACAACwGAELAADAYgQsAAAAixGwAAAALEbAAgAAsBgBCwAAwGIELAAAAIsRsAAAACxGwAIAALAYAQsAAMBiBCwAAACLEbAAAAAsRsACAACwGAELAADAYgQsAAAAixGwAAAALEbAAgAAsBgBCwAAwGIELAAAAIsRsAAAACxGwAIAALBYI28XUB9cuXJFx44dU1BQkGw2m7fLAQCgXjDG6MyZMwoPD1eDBrW7p0TAqgXHjh1T69atvV0GAAD10pEjRxQREVGrX5OAVQuCgoIk/bDAwcHBXq4GAID6weVyqXXr1u7fw7WJgFULrr4sGBwcTMACAKCWeePxHB5yBwAAsBgBCwAAwGIELAAAAIsRsAAAACxGwAIAALAYAQsAAMBiBCwAAACLEbAAAAAsVqcCVnp6urp27aqgoCCFhITogQce0MGDBz36lJSUaNKkSWrRooWaNm2qwYMH6%2BjRo5Xe1xijtLQ0hYeHq0mTJkpISND%2B/ftrcioAAMCP1amAlZmZqQkTJmj79u3KyMjQpUuXlJiYqHPnzrn7TJ48WStWrNDSpUu1ZcsWnT17VgMHDtTly5crvO%2Brr76qmTNnas6cOdq5c6ecTqf69eunM2fO1Ma0AACAn7EZY4y3i6gpJ06cUEhIiDIzM9WrVy8VFxerZcuW%2Bstf/qJhw4ZJ%2Bv8PYl6zZo369%2B9f5h7GGIWHh2vy5Ml6/vnnJf2wCxYaGqpXXnlFv/zlL6usw%2BVyyeFwqLi4mI/KAQCglnjz92%2Bd2sH6qeLiYklS8%2BbNJUm7d%2B9WaWmpEhMT3X3Cw8MVHR2trVu3lnuP3NxcFRQUeIyx2%2B265557KhxTUlIil8vlcQAAgPqjzn7YszFGKSkpuvvuuxUdHS1JKigoUEBAgJo1a%2BbRNzQ0VAUFBeXe52p7aGhomTGHDx8ud0x6erqmT59%2Bo1Ooli7T1tbK1wEAoCbtemmAt0uwVJ3dwZo4caK%2B/PJLLVmypMq%2BxpgqP2n7p9crG5Oamqri4mL3ceTIkeoXDgAA/F6dDFiTJk3SqlWrtHHjRkVERLjbnU6nLl68qFOnTnn0LywsLLND9eMxksrscFU2xm63Kzg42OMAAAD1R50KWMYYTZw4UcuXL9enn36qqKgoj%2BtxcXFq3LixMjIy3G35%2Bfnat2%2BfevToUe49o6Ki5HQ6PcZcvHhRmZmZFY4BAAD1W50KWBMmTNAHH3ygDz/8UEFBQSooKFBBQYHOnz8vSXI4HBo7dqyeffZZ/eMf/1BWVpYee%2BwxxcTE6N5773Xfp0OHDlqxYoWkH14anDx5smbMmKEVK1Zo3759GjNmjG666SaNGDHCK/MEAAC%2BrU495D5v3jxJUkJCgkf7woULNWbMGEnSm2%2B%2BqUaNGumRRx7R%2BfPn1bdvXy1atEgNGzZ09z948KD7LxAl6bnnntP58%2Bf11FNP6dSpU%2BrWrZvWr1%2BvoKCgGp8TAADwP3X6fbB8RU2%2BDwd/RQgAqAtq4q8IeR8sAACAOoSABQAAYDECFgAAgMUIWAAAABYjYAEAAFiMgAUAAGAxAhYAAIDFCFgAAAAWI2ABAABYjIAFAABgMQIWAACAxQhYAAAAFiNgAQAAWIyABQAAYDECFgAAgMUIWAAAABYjYAEAAFiMgAUAAGAxAhYAAIDFCFgAAAAWI2ABAABYjIAFAABgMQIWAACAxQhYAAAAFiNgAQAAWIyABQAAYDECFgAAgMXqVMDatGmTBg0apPDwcNlsNq1cudLjus1mK/d47bXXKrxnWlpamf5Op7OmpwIAAPxYnQpY586dU2xsrObMmVPu9fz8fI9jwYIFstlsGjp0aKX37dSpk8e4vXv31kT5AACgjmjk7QKslJSUpKSkpAqv/3Tn6ZNPPlHv3r116623VnrfRo0asWsFAACqrU7tYF2L48ePa/Xq1Ro7dmyVfXNychQeHq6oqCgNHz5chw4dqrR/SUmJXC6XxwEAAOqPehuwFi9erKCgIA0ZMqTSft26ddP777%2BvdevW6b333lNBQYF69OihkydPVjgmPT1dDofDfbRu3drq8gEAgA%2BrtwFrwYIFGjlypAIDAyvtl5SUpKFDhyomJkb33nuvVq9eLemHgFaR1NRUFRcXu48jR45YWjsAAPBtdeoZrOravHmzDh48qGXLll3z2KZNmyomJkY5OTkV9rHb7bLb7TdSIgAA8GP1cgdr/vz5iouLU2xs7DWPLSkp0YEDBxQWFlYDlQEAgLqgTgWss2fPKjs7W9nZ2ZKk3NxcZWdnKy8vz93H5XLpb3/7m5544oly79G3b1%2BPt3mYMmWKMjMzlZubqx07duihhx6Sy%2BVScnJyzU4GAAD4rTr1EuGuXbvUu3dv93lKSookKTk5WYsWLZIkLV26VMYYPfroo%2BXe45tvvlFRUZH7/OjRo3r00UdVVFSkli1bKj4%2BXtu3b1dkZGTNTQQAAPg1mzHGeLuIus7lcsnhcKi4uFjBwcGW3rvLtLWW3g8AAG/Y9dIAy%2B9Zk79/q1KnXiIEAADwBQQsAAAAixGwAAAALEbAAgAAsBgBCwAAwGIELAAAAIsRsAAAACxGwAIAALAYAQsAAMBiBCwAAACLEbAAAAAsRsACAACwGAELAADAYgQsAAAAixGwAAAALEbAAgAAsBgBCwAAwGIELAAAAIsRsAAAACxGwAIAALAYAQsAAMBiBCwAAACLEbAAAAAsRsACAACwGAELAADAYgQsAAAAixGwAAAALFanAtamTZs0aNAghYeHy2azaeXKlR7Xx4wZI5vN5nHEx8dXed%2BPP/5YHTt2lN1uV8eOHbVixYqamgIAAKgD6lTAOnfunGJjYzVnzpwK%2BwwYMED5%2BfnuY82aNZXec9u2bRo2bJhGjRqlL774QqNGjdIjjzyiHTt2WF0%2BAACoIxp5uwArJSUlKSkpqdI%2BdrtdTqez2vecNWuW%2BvXrp9TUVElSamqqMjMzNWvWLC1ZsuSG6gUAAHVTndrBqo7PPvtMISEhat%2B%2BvcaNG6fCwsJK%2B2/btk2JiYkebf3799fWrVsrHFNSUiKXy%2BVxAACA%2BqNeBaykpCT99a9/1aeffqo33nhDO3fuVJ8%2BfVRSUlLhmIKCAoWGhnq0hYaGqqCgoMIx6enpcjgc7qN169aWzQEAAPi%2BOvUSYVWGDRvm/u/o6Gh16dJFkZGRWr16tYYMGVLhOJvN5nFujCnT9mOpqalKSUlxn7tcLkIWAAD1SL0KWD8VFhamyMhI5eTkVNjH6XSW2a0qLCwss6v1Y3a7XXa73bI6AQCAf6lXLxH%2B1MmTJ3XkyBGFhYVV2Kd79%2B7KyMjwaFu/fr169OhR0%2BUBAAA/Vad2sM6ePauvv/7afZ6bm6vs7Gw1b95czZs3V1pamoYOHaqwsDB9%2B%2B23%2Bs1vfqMWLVrowQcfdI8ZPXq0WrVqpfT0dEnS008/rV69eumVV17R/fffr08%2B%2BUQbNmzQli1ban1%2BAADAP9SpgLVr1y717t3bfX71Oajk5GTNmzdPe/fu1fvvv6/Tp08rLCxMvXv31rJlyxQUFOQek5eXpwYN/n9jr0ePHlq6dKl%2B%2B9vf6oUXXlDbtm21bNkydevWrfYmBgAA/IrNGGO8XURd53K55HA4VFxcrODgYEvv3WXaWkvvBwCAN%2Bx6aYDl96zJ379VqdfPYAEAANQEAhYAAIDFCFgAAAAWI2ABAABYjIAFAABgMQIWAACAxQhYAAAAFiNgAQAAWIyABQAAYDECFgAAgMUIWAAAABYjYAEAAFiMgAUAAGAxAhYAAIDFCFgAAAAWI2ABAABYjIAFAABgMQIWAACAxQhYAAAAFiNgAQAAWIyABQAAYDECFgAAgMUIWAAAABYjYAEAAFiMgAUAAGAxAhYAAIDFCFgAAAAWq1MBa9OmTRo0aJDCw8Nls9m0cuVK97XS0lI9//zziomJUdOmTRUeHq7Ro0fr2LFjld4zLS1NNpvN43A6nTU9FQAA4Md8ImB98MEHunDhwg3f59y5c4qNjdWcOXPKXPv%2B%2B%2B%2B1Z88evfDCC9qzZ4%2BWL1%2Bur776SoMHD67yvp06dVJ%2Bfr772Lt37w3XCgAA6q5G3i5AklJSUjRx4kQNGzZMY8eO1Z133nld90lKSlJSUlK51xwOhzIyMjza3nrrLd15553Ky8tTmzZtKrxvo0aN2LUCAADV5hM7WMeOHdOCBQuUn5%2Bvu%2B%2B%2BW506ddIbb7yhEydO1OjXLS4uls1m080331xpv5ycHIWHhysqKkrDhw/XoUOHarQuAADg33wiYDVq1EhDhgzRqlWrlJeXp%2BTkZC1YsEAREREaMmSIVq9eLWOMpV/zwoULmjp1qkaMGKHg4OAK%2B3Xr1k3vv/%2B%2B1q1bp/fee08FBQXq0aOHTp48WeGYkpISuVwujwMAANQfPhGwfszpdKpv375KSEiQzWbTrl27NGLECLVr106bN2%2B25GuUlpZq%2BPDhunLliubOnVtp36SkJA0dOlQxMTG69957tXr1aknS4sWLKxyTnp4uh8PhPlq3bm1J3QAAwD/4TMAqKirSrFmzFBsbq7vuukuFhYVauXKlDh8%2BrO%2B%2B%2B04DBw7U6NGjb/jrlJaW6pFHHlFubq4yMjIq3b0qT9OmTRUTE6OcnJwK%2B6Smpqq4uNh9HDly5EbLBgAAfsQnHnJ/8MEHtWbNGkVFRemJJ55QcnKyWrZs6b7%2BL//yL3ruuec0e/bsG/o6V8NVTk6ONm7cqFtuueWa71FSUqIDBw6oZ8%2BeFfax2%2B2y2%2B03UioAAPBjPhGwgoODtWHDhkpDS1hYWKW7RpJ09uxZff311%2B7z3NxcZWdnq3nz5goPD9dDDz2kPXv26D//8z91%2BfJlFRQUSJKaN2%2BugIAASVLfvn314IMPauLEiZKkKVOmaNCgQWrTpo0KCwv1hz/8QS6XS8nJyTc6bQAAUEf5RMCq7Hmmq2w2m9q2bVtpn127dql3797u85SUFElScnKy0tLStGrVKknSz3/%2Bc49xGzduVEJCgiTpm2%2B%2BUVFRkfva0aNH9eijj6qoqEgtW7ZUfHy8tm/frsjIyGrNDQAA1D8%2BEbCeeeYZtW3b1r1rdNXbb7%2BtQ4cO6Y033qjWfRISEir9a8Pq/CXit99%2B63G%2BdOnSan1tAACAq3ziIfe//e1vio%2BPL9PevXt3LVu2zAsVAQAAXD%2BfCFhFRUVq1qxZmfbg4GCPl%2BsAAAD8gU8ErLZt22rdunVl2tetW6eoqCgvVAQAAHD9fOIZrMmTJ2vy5Mk6efKk%2BvTpI0n6xz/%2BoVdffVWvv/66l6sDAAC4Nj4RsMaNG6cLFy5oxowZevHFFyVJERERmj17th5//HEvVwcAAHBtfCJgSdKkSZM0adIk5efnq0mTJlV%2BADMAAICv8pmAdVVYWJi3SwAAALghPvGQ%2B4kTJ/Rv//ZvatOmjQIDAxUQEOBxAAAA%2BBOf2MEaM2aMvvnmG/37v/%2B7wsLCZLPZvF0SAADAdfOJgLVp0yZt2rRJd9xxh7dLAQAAuGE%2B8RJhREQEu1YAAKDO8ImA9eabbyo1NVVHjx71dikAAAA3zCdeIhw1apTOnDmjyMhIBQcHq3Hjxh7XCwsLvVQZAADAtfOJgPXyyy97uwQAAADL%2BETAGjt2rLdLAAAAsIxPPIMlSd9%2B%2B63S0tI0atQo90uC69ev14EDB7xcGQAAwLXxiYC1efNmderUSZmZmfroo4909uxZSdKePXv0u9/9zsvVAQAAXBufCFjPP/%2B80tLStHHjRo93bu/Tp4%2B2b9/uxcoAAACunU8ErC%2B//FIPPfRQmfaQkBCdOHHCCxUBAABcP58IWDfffLMKCgrKtGdnZ6tVq1ZeqAgAAOD6%2BUTAGj58uKZOnaoTJ06439F9x44dmjJlih577DEvVwcAAHBtfCJgzZgxQ06nU2FhYTp79qw6duyoHj16qGvXrnrhhRe8XR4AAMA18Yn3wQoICNCyZcv01Vdfac%2BePbpy5Yo6d%2B6sDh06eLs0AACAa%2BYTAeuq9u3bq3379t4uAwAA4Ib4RMB68sknK73%2B7rvv1lIlAAAAN84nAlZ%2Bfr7HeWlpqfbv368zZ86oV69eXqoKAADg%2BvhEwPr73/9epu3SpUv61a9%2Bpdtuu80LFQEAAFw/n/grwvI0atRIU6ZM0WuvvVbtMZs2bdKgQYMUHh4um82mlStXelw3xigtLU3h4eFq0qSJEhIStH///irvO3fuXEVFRSkwMFBxcXHavHnzNc8HAADUHz4bsCTp0KFDKi0trXb/c%2BfOKTY2VnPmzCn3%2BquvvqqZM2dqzpw52rlzp5xOp/r166czZ85UeM9ly5Zp8uTJmjZtmrKystSzZ08lJSUpLy/vmucDAADqB594ifC5557zODfGKD8/X6tWrdLIkSOrfZ%2BkpCQlJSWVe80Yo1mzZmnatGkaMmSIJGnx4sUKDQ3Vhx9%2BqF/%2B8pfljps5c6bGjh2rJ554QpI0a9YsrVu3TvPmzVN6enq1awMAAPWHTwSsbdu2eZw3aNBALVu21Msvv6xx48ZZ8jVyc3NVUFCgxMREd5vdbtc999yjrVu3lhuwLl68qN27d2vq1Kke7YmJidq6dasldQEAgLrHJwJWbTzTdPWzDkNDQz3aQ0NDdfjw4XLHFBUV6fLly%2BWOKe%2BzE68qKSlRSUmJ%2B9zlcl1v2QAAwA/59DNYNeHqZx1eZYwp03ajY9LT0%2BVwONxH69atr79gAADgd3xiB6tr165VhpyrPv/88%2Bv6Gk6nU9IPO1lhYWHu9sLCwjI7VFe1aNFCDRs2LLNbVdkYSUpNTVVKSor73OVyEbIAAKhHfGIHq3fv3jp48KCMMYqPj1d8fLwk6eDBg0pISFD//v3dx/WKioqS0%2BlURkaGu%2B3ixYvKzMxUjx49yh0TEBCguLg4jzGSlJGRUeEY6Ydnu4KDgz0OAABQf/jEDtbp06c1YcIEzZgxw6N92rRpOn78uP785z9X6z5nz57V119/7T7Pzc1Vdna2mjdvrjZt2mjy5MmaMWOG2rVrp3bt2mnGjBm66aabNGLECPeYvn376sEHH9TEiRMlSSkpKRo1apS6dOmi7t27691331VeXp7Gjx9vwcwBAEBd5BMB66OPPtLOnTvLtI8ZM0ZdunSpdsDatWuXevfu7T6/%2BjJdcnKyFi1apOeee07nz5/XU089pVOnTqlbt25av369goKC3GO%2B%2BeYbFRUVuc%2BHDRumkydP6ve//73y8/MVHR2tNWvWKDIy8nqnCwAA6jifCFh2u11bt25Vu3btPNq3bt0qu91e7fskJCTIGFPhdZvNprS0NKWlpVXY59tvvy3T9tRTT%2Bmpp56qdh0AAKB%2B84mA9etf/1rjx49XVlaW%2B/mr7du367333tNvfvMbL1cHAABwbXwiYE2bNk1RUVH64x//qAULFkiSbrvtNr333nsez0cBAAD4A58IWJI0YsQIwhQAAKgTfOJtGqQf3itq0aJF%2Bt3vfqdTp05Jkr744gvl5%2Bd7uTIAAIBr4xM7WPv27dO9996rm266SUeOHNGYMWPUrFkzffTRRzp69KgWL17s7RIBAACqzSd2sJ555hmNGDFC33zzjQIDA93t9913nzZt2uTFygAAAK6dT%2Bxg7dy5U/PmzSvzcTmtWrXiJUIAAOB3fGIHKyAgQGfPni3TnpOToxYtWnihIgAAgOvnEwFr8ODB%2Bo//%2BA9dunRJ0g9vCPrdd99p6tSpGjJkiJerAwAAuDY%2BEbDeeOMNHTt2TE6nU%2BfPn1efPn106623KjAwsMznEwIAAPg6n3gGy%2BFwaOvWrcrIyNCePXt05coVde7cWf379y/zXBYAAICv83rAKi0t1S9%2B8QvNnTtXiYmJSkxM9HZJAAAAN8TrLxE2btxYWVlZ7FQBAIA6w%2BsBS5Iee%2BwxLVy40NtlAAAAWMLrLxFeNWfOHG3YsEFdunRR06ZNPa69%2BuqrXqoKAADg2vlEwNq9e7duv/12SdKXX37pcY2XDgEAgL/xasA6dOiQoqKitHnzZm%2BWAQAAYCmvPoPVrl07nThxwn0%2BbNgwHT9%2B3IsVAQAA3DivBixjjMf5mjVrdO7cOS9VAwAAYA2f%2BCtCAACAusSrActms5V5iJ2H2gEAgL/z6kPuxhiNGTNGdrtdknThwgWNHz%2B%2BzNs0LF%2B%2B3BvlAQAAXBevBqzk5GSP88cee8xLlQAAAFjHqwGLd28HAAB1EQ%2B5AwAAWIyABQAAYDECFgAAgMXqVcD62c9%2B5n5riB8fEyZMKLf/okWLyu1/4cKFWq4cAAD4E5/4sOfasnPnTl2%2BfNl9vm/fPvXr108PP/xwhWOCg4N18OBBj7bAwMAaqxEAAPi/ehWwWrZs6XH%2B8ssvq23btrrnnnsqHGOz2eR0Omu6NAAAUIfUq5cIf%2BzixYv64IMP9Pjjj1f67vFnz55VZGSkIiIiNHDgQGVlZdVilQAAwB/V24C1cuVKnT59WmPGjKmwT4cOHbRo0SKtWrVKS5YsUWBgoO666y7l5ORUeu%2BSkhK5XC6PAwAA1B/1NmDNnz9fSUlJCg8Pr7BPfHy8HnvsMcXGxqpnz5766KOP1L59e7311luV3js9PV0Oh8N9tG7d2uryAQCAD6uXAevw4cPasGGDnnjiiWsa16BBA3Xt2rXKHazU1FQVFxe7jyNHjtxIuQAAwM/Uq4fcr1q4cKFCQkJ03333XdM4Y4yys7MVExNTaT%2B73e7%2BAGsAAFD/1LuAdeXKFS1cuFDJyclq1Mhz%2BqNHj1arVq2Unp4uSZo%2Bfbri4%2BPVrl07uVwuzZ49W9nZ2Xr77be9UToAAPAT9S5gbdiwQXl5eXr88cfLXMvLy1ODBv//qunp06f15JNPqqCgQA6HQ3fccYc2bdqkO%2B%2B8szZLBgAAfsZmjDHeLqKuc7lccjgcKi4uVnBwsKX37jJtraX3AwDAG3a9NMDye9bk79%2Bq1MuH3AEAAGoSAQsAAMBiBCwAAACLEbAAAAAsRsACAACwGAELAADAYgQsAAAAixGwAAAALEbAAgAAsBgBCwAAwGIELAAAAIsRsAAAACxGwAIAALAYAQsAAMBiBCwAAACLEbAAAAAsRsACAACwGAELAADAYgQsAAAAixGwAAAALEbAAgAAsBgBCwAAwGIELAAAAIsRsAAAACxGwAIAALAYAQsAAMBiBCwAAACL1auAlZaWJpvN5nE4nc5Kx2RmZiouLk6BgYG69dZb9c4779RStQAAwF818nYBta1Tp07asGGD%2B7xhw4YV9s3NzdUvfvELjRs3Th988IH%2B%2B7//W0899ZRatmypoUOH1ka5AADAD9W7gNWoUaMqd62ueuedd9SmTRvNmjVLknTbbbdp165dev311wlYAACgQvXqJUJJysnJUXh4uKKiojR8%2BHAdOnSowr7btm1TYmKiR1v//v21a9culZaW1nSpAADAT9WrgNWtWze9//77Wrdund577z0VFBSoR48eOnnyZLn9CwoKFBoa6tEWGhqqS5cuqaioqMKvU1JSIpfL5XEAAID6o14FrKSkJA0dOlQxMTG69957tXr1aknS4sWLKxxjs9k8zo0x5bb/WHp6uhwOh/to3bq1BdUDAAB/Ua8C1k81bdpUMTExysnJKfe60%2BlUQUGBR1thYaEaNWqkW265pcL7pqamqri42H0cOXLE0roBAIBvq3cPuf9YSUmJDhw4oJ49e5Z7vXv37vr73//u0bZ%2B/Xp16dJFjRs3rvC%2Bdrtddrvd0loBAID/qFc7WFOmTFFmZqZyc3O1Y8cOPfTQQ3K5XEpOTpb0w87T6NGj3f3Hjx%2Bvw4cPKyUlRQcOHNCCBQs0f/58TZkyxVtTAAAAfqBe7WAdPXpUjz76qIqKitSyZUvFx8dr%2B/btioyMlCTl5%2BcrLy/P3T8qKkpr1qzRM888o7ffflvh4eGaPXs2b9EAAAAqZTNXn9pGjXG5XHI4HCouLlZwcLCl9%2B4yba2l9wMAwBt2vTTA8nvW5O/fqtSrlwgBAABqAwELAADAYgQsAAAAixGwAAAALEbAAgAAsBgBCwAAwGIELAAAAIsRsAAAACxGwAIAALAYAQsAAMBiBCwAAACLEbAAAAAsRsACAACwGAELAADAYgQsAAAAixGwAAAALEbAAgAAsBgBCwAAwGIELAAAAIsRsAAAACxGwAIAALAYAQsAAMBiBCwAAACLEbAAAAAsRsACAACwGAELAADAYgQsAAAAi9WrgJWenq6uXbsqKChIISEheuCBB3Tw4MFKxyxatEg2m63MceHChVqqGgAA%2BJt6FbAyMzM1YcIEbd%2B%2BXRkZGbp06ZISExN17ty5SscFBwcrPz/f4wgMDKylqgEAgL9p5O0CatPatWs9zhcuXKiQkBDt3r1bvXr1qnCczWaT0%2Bms6fIAAEAdUa92sH6quLhYktS8efNK%2B509e1aRkZGKiIjQwIEDlZWVVRvlAQAAP1VvA5YxRikpKbr77rsVHR1dYb8OHTpo0aJFWrVqlZYsWaLAwEDdddddysnJqXBMSUmJXC6XxwEAAOqPevUS4Y9NnDhRX375pbZs2VJpv/j4eMXHx7vP77rrLnXu3FlvvfWWZs%2BeXe6Y9PR0TZ8%2B3dJ6AQCA/6iXO1iTJk3SqlWrtHHjRkVERFzT2AYNGqhr166V7mClpqaquLjYfRw5cuR6395vAAAP5UlEQVRGSwYAAH6kXu1gGWM0adIkrVixQp999pmioqKu6x7Z2dmKiYmpsI/dbpfdbr%2BRUgEAgB%2BrVwFrwoQJ%2BvDDD/XJJ58oKChIBQUFkiSHw6EmTZpIkkaPHq1WrVopPT1dkjR9%2BnTFx8erXbt2crlcmj17trKzs/X22297bR4AAMC31auANW/ePElSQkKCR/vChQs1ZswYSVJeXp4aNPj/V05Pnz6tJ598UgUFBXI4HLrjjju0adMm3XnnnbVVNgAA8DM2Y4zxdhF1ncvlksPhUHFxsYKDgy29d5dpa6vuBACAj9v10gDL71mTv3%2BrUi8fcgcAAKhJBCwAAACLEbAAAAAsRsACAACwGAELAADAYgQsAAAAixGwAAAALEbAAgAAsBgBCwAAwGIELAAAAIsRsAAAACxGwAIAALAYAQsAAMBiBCwAAACLEbAAAAAsRsACAACwGAELAADAYgQsAAAAixGwAAAALEbAAgAAsBgBCwAAwGIELAAAAIsRsAAAACxGwAIAALAYAQsAAMBiBCwAAACLEbAAAAAsRsACAACwWL0MWHPnzlVUVJQCAwMVFxenzZs3V9r/448/VseOHWW329WxY0etWLGilioFAAD%2BqN4FrGXLlmny5MmaNm2asrKy1LNnTyUlJSkvL6/c/tu2bdOwYcM0atQoffHFFxo1apQeeeQR7dixo5YrBwAA/sJmjDHeLqI2devWTZ07d9a8efPcbbfddpseeOABpaenl%2Bk/bNgwuVwu/dd//Ze7bcCAAWrWrJmWLFlSra/pcrnkcDhUXFys4ODgG5/Ej3SZttbS%2BwEA4A27Xhpg%2BT1r8vdvVRrV6lfzsosXL2r37t2aOnWqR3tiYqK2bt1a7pht27bpmWee8Wjr37%2B/Zs2aVeHXKSkpUUlJifu8uLhY0g8LbbXLJecsvycAALWtJn5HXr2nN/aS6lXAKioq0uXLlxUaGurRHhoaqoKCgnLHFBQUXFN/SUpPT9f06dPLtLdu3fo6qgYAoO5zvFFz9z5z5owcDkfNfYFy1KuAdZXNZvM4N8aUabuR/qmpqUpJSXGfX7lyRf/7v/%2BrW265pdJx1eVyudS6dWsdOXKk1rc8a1JdnZfE3PwVc/NPdXVudXVeUs3NzRijM2fOKDw83LJ7Vle9ClgtWrRQw4YNy%2Bw%2BFRYWltmlusrpdF5Tf0my2%2B2y2%2B0ebTfffPN1Vl2x4ODgOvdNJtXdeUnMzV8xN/9UV%2BdWV%2Bcl1czcanvn6qp69VeEAQEBiouLU0ZGhkd7RkaGevToUe6Y7t27l%2Bm/fv36CvsDAADUqx0sSUpJSdGoUaPUpUsXde/eXe%2B%2B%2B67y8vI0fvx4SdLo0aPVqlUr918UPv300%2BrVq5deeeUV3X///frkk0%2B0YcMGbdmyxZvTAAAAPqxhWlpamreLqE3R0dG65ZZbNGPGDL3%2B%2Bus6f/68/vKXvyg2NlaS9Mc//lGNGjXSAw88IOmHB9M7duyomTNnasaMGcrLy9O8efPUr18/b05DDRs2VEJCgho1qlsZua7OS2Ju/oq5%2Bae6Ore6Oi%2Bp7s2t3r0PFgAAQE2rV89gAQAA1AYCFgAAgMUIWAAAABYjYAEAAFiMgOVn5s6dq6ioKAUGBiouLk6bN2/2dknXLD09XV27dlVQUJBCQkL0wAMP6ODBgx59EhISZLPZPI7hw4d7qeLqS0tLK1O30%2Bl0XzfGKC0tTeHh4WrSpIkSEhK0f/9%2BL1ZcPT/72c/KzMtms2nChAmS/Gu9Nm3apEGDBik8PFw2m00rV670uF6dNTp16pRGjRolh8Mhh8OhUaNG6fTp07U5jXJVNrfS0lI9//zziomJUdOmTRUeHq7Ro0fr2LFjHvcob61/%2Bvmt3lDVuo0ZM6ZM3fHx8R59SkpKNGnSJLVo0UJNmzbV4MGDdfTo0dqcRrmqmlt533s2m02vvfaau48vrlt1ftZXZ03y8vI0aNAgNW3aVC1atNCvf/1rXbx4sTancl0IWH5k2bJlmjx5sqZNm6asrCz17NlTSUlJysvL83Zp1yQzM1MTJkzQ9u3blZGRoUuXLikxMVHnznl%2BcPW4ceOUn5/vPv70pz95qeJr06lTJ4%2B69%2B7d67726quvaubMmZozZ4527twpp9Opfv366cyZM16suGo7d%2B70mNPVN999%2BOGH3X38Zb3OnTun2NhYzZkzp9zr1VmjESNGKDs7W2vXrtXatWuVnZ2tUaNG1dYUKlTZ3L7//nvt2bNHL7zwgvbs2aPly5frq6%2B%2B0uDBg8v0/f3vf%2B%2Bxlr/97W9ro/xKVbVukjRgwACPutesWeNxffLkyVqxYoWWLl2qLVu26OzZsxo4cKAuX75c0%2BVXqqq5/XhO%2Bfn5WrBggWw2m4YOHerRz9fWrTo/66tak8uXL%2Bu%2B%2B%2B7TuXPntGXLFi1dulQff/yxnn32WW9Nq/oM/Madd95pxo8f79HWoUMHM3XqVC9VZI3CwkIjyWRmZrrb7rnnHvP00097sarr8%2BKLL5rY2Nhyr125csU4nU7z8ssvu9suXLhgHA6Heeedd2qrREs8/fTTpm3btubKlSvGGP9dL0lmxYoV7vPqrNE///lPI8ls377d3Wfbtm1Gkvmf//mf2iu%2BCj%2BdW3k%2B//xzI8kcPnzY3RYZGWnefPPNmi7vhpQ3t%2BTkZHP//fdXOOb06dOmcePGZunSpe627777zjRo0MCsXbu2xmq9VtVZt/vvv9/06dPHo80f1u2nP%2BursyZr1qwxDRo0MN999527z5IlS4zdbjfFxcW1O4FrxA6Wn7h48aJ2796txMREj/bExERt3brVS1VZo7i4WJLUvHlzj/a//vWvatGihTp16qQpU6b4/C7PVTk5OQoPD1dUVJSGDx%2BuQ4cOSZJyc3NVUFDgsYZ2u1333HOPX63hxYsX9cEHH%2Bjxxx/3%2BPByf12vH6vOGm3btk0Oh0PdunVz94mPj5fD4fCrdZR%2B%2BN6z2WxlPiv1lVde0S233KKf//zneumll/zi5RhJ%2BuyzzxQSEqL27dtr3LhxKiwsdF/bvXu3SktLPdY2PDxc0dHRfrVux48f1%2BrVqzV27Ngy13x93X76s746a7Jt2zZFR0d7fFhz//79VVJSot27d9di9deubrxdaj1QVFSky5cvl/mQ6dDQ0DIfRu1PjDFKSUnR3XffrejoaHf7yJEjFRUVJafTqX379ik1NVVffPFFmc%2BF9DXdunXT%2B%2B%2B/r/bt2%2Bv48eP6wx/%2BoB49emj//v3udSpvDQ8fPuyNcq/LypUrdfr0aY0ZM8bd5q/r9VPVWaOCggKFhISUGRsSEuJX34sXLlzQ1KlTNWLECI8P13366afVuXNnNWvWTJ9//rlSU1OVm5urP//5z16stmpJSUl6%2BOGHFRkZqdzcXL3wwgvq06ePdu/eLbvdroKCAgUEBKhZs2Ye4/ztZ%2BjixYsVFBSkIUOGeLT7%2BrqV97O%2BOmtSUFBQ5vuxWbNmCggI8Pl1I2D5mR/vGEg//KP9aZs/mThxor788ssyn%2B04btw4939HR0erXbt26tKli/bs2aPOnTvXdpnVlpSU5P7vmJgYde/eXW3bttXixYvdD9z6%2BxrOnz9fSUlJHv9H6a/rVZGq1qi89fKndSwtLdXw4cN15coVzZ071%2BPaM8884/7v22%2B/Xc2aNdNDDz3k3h3xVcOGDXP/d3R0tLp06aLIyEitXr26TBj5MX9aN0lasGCBRo4cqcDAQI92X1%2B3in7Wl6eufL/xEqGfaNGihRo2bFgmsRcWFpZJ9/5i0qRJWrVqlTZu3KiIiIhK%2B3bu3FmNGzdWTk5OLVVnjaZNmyomJkY5OTnuvyb05zU8fPiwNmzYoCeeeKLSfv66XtVZI6fTqePHj5cZe%2BLECb9Yx9LSUj3yyCPKzc1VRkaGx%2B5Vea7%2Bj8HXX39dG%2BVZJiwsTJGRke5/g06nUxcvXtSpU6c8%2BvnT99/mzZt18ODBKr//JN9at4p%2B1ldnTZxOZ5nvx1OnTqm0tNTn142A5ScCAgIUFxdX5iWXjIwM9ejRw0tVXR9jjCZOnKjly5fr008/VVRUVJVj9u/fr9LSUoWFhdVChdYpKSnRgQMHFBYW5n4J7cdrePHiRWVmZvrNGi5cuFAhISG67777Ku3nr%2BtVnTXq3r27iouL9fnnn7v77NixQ8XFxT6/jlfDVU5OjjZs2FCtnY2srCxJ8ru1PHnypI4cOeKuOy4uTo0bN/ZY2/z8fO3bt8/n1%2B2q%2BfPnKy4uTrGxsVX29YV1q%2BpnfXXWpHv37tq3b5/y8/PdfdavXy%2B73a64uLjamcj18tLD9bgOS5cuNY0bNzbz5883//znP83kyZNN06ZNzbfffuvt0q7Jr371K%2BNwOMxnn31m8vPz3cf3339vjDHm66%2B/NtOnTzc7d%2B40ubm5ZvXq1aZDhw7mjjvuMJcuXfJy9ZV79tlnzWeffWYOHTpktm/fbgYOHGiCgoLca/Tyyy8bh8Nhli9fbvbu3WseffRRExYWZlwul5crr9rly5dNmzZtzPPPP%2B/R7m/rdebMGZOVlWWysrKMJDNz5kyTlZXl/ku66qzRgAEDzO233262bdtmtm3bZmJiYszAgQO9NSW3yuZWWlpqBg8ebCIiIkx2drbH915JSYkxxpitW7e6xxw6dMgsW7bMhIeHm8GDB3t5ZpXP7cyZM%2BbZZ581W7duNbm5uWbjxo2me/fuplWrVh7rNn78eBMREWE2bNhg9uzZY/r06WNiY2O9/u%2B0qn%2BTxhhTXFxsbrrpJjNv3rwy43113ar6WW9M1Wty6dIlEx0dbfr27Wv27NljNmzYYCIiIszEiRO9Na1qI2D5mbfffttERkaagIAA07lzZ4%2B3NvAXkso9Fi5caIwxJi8vz/Tq1cs0b97cBAQEmLZt25pf//rX5uTJk94tvBqGDRtmwsLCTOPGjU14eLgZMmSI2b9/v/v6lStXzIsvvmicTqex2%2B2mV69eZu/evV6suPrWrVtnJJmDBw96tPvbem3cuLHcf3/JycnGmOqt0cmTJ83IkSNNUFCQCQoKMiNHjjSnTp3ywmw8VTa33NzcCr/3Nm7caIwxZvfu3aZbt27G4XCYwMBA86//%2Bq/mxRdfNOfOnfPuxEzlc/v%2B%2B%2B9NYmKiadmypWncuLFp06aNSU5ONnl5eR73OH/%2BvJk4caJp3ry5adKkiRk4cGCZPt5Q1b9JY4z505/%2BZJo0aWJOnz5dZryvrltVP%2BuNqd6aHD582Nx3332mSZMmpnnz5mbixInmwoULtTyba2czxpga2hwDAACol3gGCwAAwGIELAAAAIsRsAAAACxGwAIAALAYAQsAAMBiBCwAAACLEbAAAAAsRsACAACwGAELAADAYgQsAAAAixGwAAAALEbAAgAAsBgBCwAAwGIELAAAAIsRsAAAACxGwAIAALAYAQsAAMBiBCwAAACL/R/h6pC87DFrpgAAAABJRU5ErkJggg%3D%3D\"/>\n",
       "        </div>\n",
       "        <div role=\"tabpanel\" class=\"tab-pane col-md-12\" id=\"common-963053365925716306\">\n",
       "            \n",
       "<table class=\"freq table table-hover\">\n",
       "    <thead>\n",
       "    <tr>\n",
       "        <td class=\"fillremaining\">Value</td>\n",
       "        <td class=\"number\">Count</td>\n",
       "        <td class=\"number\">Frequency (%)</td>\n",
       "        <td style=\"min-width:200px\">&nbsp;</td>\n",
       "    </tr>\n",
       "    </thead>\n",
       "    <tr class=\"\">\n",
       "        <td class=\"fillremaining\">200</td>\n",
       "        <td class=\"number\">1</td>\n",
       "        <td class=\"number\">0.5%</td>\n",
       "        <td>\n",
       "            <div class=\"bar\" style=\"width:1%\">&nbsp;</div>\n",
       "        </td>\n",
       "</tr><tr class=\"\">\n",
       "        <td class=\"fillremaining\">63</td>\n",
       "        <td class=\"number\">1</td>\n",
       "        <td class=\"number\">0.5%</td>\n",
       "        <td>\n",
       "            <div class=\"bar\" style=\"width:1%\">&nbsp;</div>\n",
       "        </td>\n",
       "</tr><tr class=\"\">\n",
       "        <td class=\"fillremaining\">73</td>\n",
       "        <td class=\"number\">1</td>\n",
       "        <td class=\"number\">0.5%</td>\n",
       "        <td>\n",
       "            <div class=\"bar\" style=\"width:1%\">&nbsp;</div>\n",
       "        </td>\n",
       "</tr><tr class=\"\">\n",
       "        <td class=\"fillremaining\">72</td>\n",
       "        <td class=\"number\">1</td>\n",
       "        <td class=\"number\">0.5%</td>\n",
       "        <td>\n",
       "            <div class=\"bar\" style=\"width:1%\">&nbsp;</div>\n",
       "        </td>\n",
       "</tr><tr class=\"\">\n",
       "        <td class=\"fillremaining\">71</td>\n",
       "        <td class=\"number\">1</td>\n",
       "        <td class=\"number\">0.5%</td>\n",
       "        <td>\n",
       "            <div class=\"bar\" style=\"width:1%\">&nbsp;</div>\n",
       "        </td>\n",
       "</tr><tr class=\"\">\n",
       "        <td class=\"fillremaining\">70</td>\n",
       "        <td class=\"number\">1</td>\n",
       "        <td class=\"number\">0.5%</td>\n",
       "        <td>\n",
       "            <div class=\"bar\" style=\"width:1%\">&nbsp;</div>\n",
       "        </td>\n",
       "</tr><tr class=\"\">\n",
       "        <td class=\"fillremaining\">69</td>\n",
       "        <td class=\"number\">1</td>\n",
       "        <td class=\"number\">0.5%</td>\n",
       "        <td>\n",
       "            <div class=\"bar\" style=\"width:1%\">&nbsp;</div>\n",
       "        </td>\n",
       "</tr><tr class=\"\">\n",
       "        <td class=\"fillremaining\">68</td>\n",
       "        <td class=\"number\">1</td>\n",
       "        <td class=\"number\">0.5%</td>\n",
       "        <td>\n",
       "            <div class=\"bar\" style=\"width:1%\">&nbsp;</div>\n",
       "        </td>\n",
       "</tr><tr class=\"\">\n",
       "        <td class=\"fillremaining\">67</td>\n",
       "        <td class=\"number\">1</td>\n",
       "        <td class=\"number\">0.5%</td>\n",
       "        <td>\n",
       "            <div class=\"bar\" style=\"width:1%\">&nbsp;</div>\n",
       "        </td>\n",
       "</tr><tr class=\"\">\n",
       "        <td class=\"fillremaining\">66</td>\n",
       "        <td class=\"number\">1</td>\n",
       "        <td class=\"number\">0.5%</td>\n",
       "        <td>\n",
       "            <div class=\"bar\" style=\"width:1%\">&nbsp;</div>\n",
       "        </td>\n",
       "</tr><tr class=\"other\">\n",
       "        <td class=\"fillremaining\">Other values (190)</td>\n",
       "        <td class=\"number\">190</td>\n",
       "        <td class=\"number\">95.0%</td>\n",
       "        <td>\n",
       "            <div class=\"bar\" style=\"width:100%\">&nbsp;</div>\n",
       "        </td>\n",
       "</tr>\n",
       "</table>\n",
       "        </div>\n",
       "        <div role=\"tabpanel\" class=\"tab-pane col-md-12\"  id=\"extreme-963053365925716306\">\n",
       "            <p class=\"h4\">Minimum 5 values</p>\n",
       "            \n",
       "<table class=\"freq table table-hover\">\n",
       "    <thead>\n",
       "    <tr>\n",
       "        <td class=\"fillremaining\">Value</td>\n",
       "        <td class=\"number\">Count</td>\n",
       "        <td class=\"number\">Frequency (%)</td>\n",
       "        <td style=\"min-width:200px\">&nbsp;</td>\n",
       "    </tr>\n",
       "    </thead>\n",
       "    <tr class=\"\">\n",
       "        <td class=\"fillremaining\">1</td>\n",
       "        <td class=\"number\">1</td>\n",
       "        <td class=\"number\">0.5%</td>\n",
       "        <td>\n",
       "            <div class=\"bar\" style=\"width:100%\">&nbsp;</div>\n",
       "        </td>\n",
       "</tr><tr class=\"\">\n",
       "        <td class=\"fillremaining\">2</td>\n",
       "        <td class=\"number\">1</td>\n",
       "        <td class=\"number\">0.5%</td>\n",
       "        <td>\n",
       "            <div class=\"bar\" style=\"width:100%\">&nbsp;</div>\n",
       "        </td>\n",
       "</tr><tr class=\"\">\n",
       "        <td class=\"fillremaining\">3</td>\n",
       "        <td class=\"number\">1</td>\n",
       "        <td class=\"number\">0.5%</td>\n",
       "        <td>\n",
       "            <div class=\"bar\" style=\"width:100%\">&nbsp;</div>\n",
       "        </td>\n",
       "</tr><tr class=\"\">\n",
       "        <td class=\"fillremaining\">4</td>\n",
       "        <td class=\"number\">1</td>\n",
       "        <td class=\"number\">0.5%</td>\n",
       "        <td>\n",
       "            <div class=\"bar\" style=\"width:100%\">&nbsp;</div>\n",
       "        </td>\n",
       "</tr><tr class=\"\">\n",
       "        <td class=\"fillremaining\">5</td>\n",
       "        <td class=\"number\">1</td>\n",
       "        <td class=\"number\">0.5%</td>\n",
       "        <td>\n",
       "            <div class=\"bar\" style=\"width:100%\">&nbsp;</div>\n",
       "        </td>\n",
       "</tr>\n",
       "</table>\n",
       "            <p class=\"h4\">Maximum 5 values</p>\n",
       "            \n",
       "<table class=\"freq table table-hover\">\n",
       "    <thead>\n",
       "    <tr>\n",
       "        <td class=\"fillremaining\">Value</td>\n",
       "        <td class=\"number\">Count</td>\n",
       "        <td class=\"number\">Frequency (%)</td>\n",
       "        <td style=\"min-width:200px\">&nbsp;</td>\n",
       "    </tr>\n",
       "    </thead>\n",
       "    <tr class=\"\">\n",
       "        <td class=\"fillremaining\">196</td>\n",
       "        <td class=\"number\">1</td>\n",
       "        <td class=\"number\">0.5%</td>\n",
       "        <td>\n",
       "            <div class=\"bar\" style=\"width:100%\">&nbsp;</div>\n",
       "        </td>\n",
       "</tr><tr class=\"\">\n",
       "        <td class=\"fillremaining\">197</td>\n",
       "        <td class=\"number\">1</td>\n",
       "        <td class=\"number\">0.5%</td>\n",
       "        <td>\n",
       "            <div class=\"bar\" style=\"width:100%\">&nbsp;</div>\n",
       "        </td>\n",
       "</tr><tr class=\"\">\n",
       "        <td class=\"fillremaining\">198</td>\n",
       "        <td class=\"number\">1</td>\n",
       "        <td class=\"number\">0.5%</td>\n",
       "        <td>\n",
       "            <div class=\"bar\" style=\"width:100%\">&nbsp;</div>\n",
       "        </td>\n",
       "</tr><tr class=\"\">\n",
       "        <td class=\"fillremaining\">199</td>\n",
       "        <td class=\"number\">1</td>\n",
       "        <td class=\"number\">0.5%</td>\n",
       "        <td>\n",
       "            <div class=\"bar\" style=\"width:100%\">&nbsp;</div>\n",
       "        </td>\n",
       "</tr><tr class=\"\">\n",
       "        <td class=\"fillremaining\">200</td>\n",
       "        <td class=\"number\">1</td>\n",
       "        <td class=\"number\">0.5%</td>\n",
       "        <td>\n",
       "            <div class=\"bar\" style=\"width:100%\">&nbsp;</div>\n",
       "        </td>\n",
       "</tr>\n",
       "</table>\n",
       "        </div>\n",
       "    </div>\n",
       "</div>\n",
       "</div>\n",
       "    <div class=\"row headerrow highlight\">\n",
       "        <h1>Correlations</h1>\n",
       "    </div>\n",
       "    <div class=\"row variablerow\">\n",
       "    <img src=\"data:image/png;base64,iVBORw0KGgoAAAANSUhEUgAAAnsAAAIwCAYAAAD%2Bq604AAAABHNCSVQICAgIfAhkiAAAAAlwSFlzAAAPYQAAD2EBqD%2BnaQAAADl0RVh0U29mdHdhcmUAbWF0cGxvdGxpYiB2ZXJzaW9uIDIuMi4yLCBodHRwOi8vbWF0cGxvdGxpYi5vcmcvhp/UCwAAIABJREFUeJzs3XlYlPX%2B//EXCMriggaIa5iJlhsohqV2ErejuR31yMnSrNQUBVwrKzMltYU2NbNjlj%2BXkjQrPXnSk6XZIlSiX9MwlzRcQchkFZD5/UHOcQJl8IYzN9PzcV1zDfO5F97zKeHN677vuV0sFotFAAAAcEquji4AAAAAlYdmDwAAwInR7AEAADgxmj0AAAAnRrMHAADgxGj2AAAAnBjNHgAAgBOj2QMAAHBiNHsAAABOzM3RBQCoGk6cOKEePXpcdbm7u7tq1qypwMBA3XXXXbrvvvtUs2bN/2GFAIDSuHC7NAD2uLLZCwoKKtHIFRQUKCMjQydPnpQkNWzYUCtWrNCNN974P68VAPBfNHsA7HJls7dy5UqFhYWVul5CQoIiIyOVlZWlkJAQrV279n9ZJgDgDzhnD0CFCgsL09SpUyVJSUlJ%2BuGHHxxcEQD8udHsAahwvXr1sn69d%2B9eB1YCAOACDQAVrlatWtavs7OzbZZ9%2B%2B23WrVqlXbv3q3z58%2Brdu3aCg4O1siRI3X77beXur8LFy5o7dq12rFjhw4fPqysrCx5enqqadOm6t69u0aNGqU6derYbNOyZUtJ0ldffaVnn31W27Ztk6urq1q3bq233npLbm5u2rt3r1asWKEDBw7o9OnTqlGjhpo1a6aePXtqxIgRpV5gkpeXp7Vr12rz5s06fPiwCgoKVL9%2Bfd1xxx168MEHFRgYaLN%2BQkKCRo0apfbt22vNmjVatWqVPvzwQx0/flzu7u5q3bq1Ro4cqZ49e17PVANAmWj2AFS448ePW78OCAiwfh0XF6dly5ZJkurUqaOgoCClpqZq27Zt2rZtm8aMGaMZM2bY7OvYsWMaPXq0Tp8%2BLTc3NzVt2lSNGjXSyZMntX//fu3fv18ff/yx3n//fXl7e5eoJSoqSklJSQoKClJGRob8/Pzk5uamrVu3asqUKSosLFTdunV18803Kzs7W//3f/%2BnvXv3auPGjVq7dq1Nw3fmzBk98MADOnr0qCQpMDBQ3t7eOnLkiOLj4/Xhhx/q2WefVb9%2B/UrUUVBQoLFjx%2Bqbb75R3bp11bx5c/3888/atWuXdu3apaefflr33HOPsYkHgNJYAMAOKSkplqCgIEtQUJBl165d11z3kUcesQQFBVlat25tSUtLs1gsFsu7775rCQoKsoSGhlo%2B%2Bugj67pFRUWWjz/%2B2BIcHGwJCgqyvPfeezb7uu%2B%2B%2ByxBQUGW4cOHW86ePWuz3QcffGBp1aqVJSgoyLJ69Wqb7S7X2qZNG0tiYqLFYrFYLl26ZPn1118tly5dsnTp0sUSFBRkWbZsmaWwsNC63Q8//GDp3LmzJSgoyPLGG29YxwsLCy2DBg2yBAUFWfr06WP58ccfrcsyMzMtTzzxhPU979mzx7ps165d1lqCg4MtGzdutC67cOGC5f7777cEBQVZbrvtNktBQcE15xUArgfn7AGoEHl5eTpw4IBmz56tDz/8UJI0evRo%2Bfr6Kj8/X4sWLZIkzZ8/XwMHDrRu5%2BLion79%2BlkTvUWLFqmwsFCSlJ6erkOHDkmSYmNj5e/vb7Pd4MGDddttt0mSDh48WGpdffv2VadOnSRJrq6u8vHxUUZGhtLS0iRJw4cPV7Vq1azrt27dWlOmTFHPnj3l4%2BNjHf/kk0/0448/qkaNGlq2bJlatWplXVazZk0988wz6tatmwoKCvTyyy%2BXWkt0dLQGDBhgfV2rVi3r%2Bz5//rx%2B/vnnq8wuAFw/DuMCKLdRo0aVuc7f//53xcTESCq%2BKvfcuXPy9va%2B6gczDxw4ULGxsTp79qwOHDigdu3a6YYbbtCuXbuUl5cnDw%2BPEttcunTJepg1Ly%2Bv1P127NixxFjdunVVp04d/fbbb5o%2BfbomTJig9u3by9W1%2BO/f4cOHa/jw4TbbfPbZZ5Kk8PBwNWnSpNTv9cADD2jnzp1KTExUZmamzbmLktS9e/cS2zRv3tz69YULF0rdLwAYQbMHoNz%2B%2BKHKLi4uqlGjhnx8fNSyZUv17NlTN998s3X55XSuoKBA995771X3W61aNRUVFeno0aNq166dddzDw0OnT5/W3r179csvvyglJUVHjhzRjz/%2BqJycHElSUVFRqfv08/Mr9ftMnz5ds2bN0o4dO7Rjxw7VqVNHYWFh6tKli%2B666y6bcw0lWVO31q1bX7X%2By8suXbqk48ePq02bNjbL69evX2KbK5vYS5cuXXXfAHC9aPYAlNuTTz551Q9VLk1mZqYkKT8/X7t37y5z/SsTrqNHj%2Br555/Xjh07bBq6mjVrKjQ0VKmpqUpOTr7qvkpLBKXi9O7GG2/U22%2B/ra%2B//lq//fabtm7dqq1bt8rFxUV33XWXnn76aWvTl5WVJUkl0rorXdkA//EqZKn4lnLXYuEz7gFUApo9AJXO09NTUnHytWHDBru3S09P13333af09HQ1bNhQw4cP16233qqbbrpJjRs3louLi6ZNm3bNZu9awsLCFBYWpry8PH333Xf69ttvtXPnTu3fv1%2Bff/65Tp8%2BrQ8//FAuLi7WK30vN66lubJJLe3KYABwBJo9AJWuWbNmkoo/RqWwsFBubiV/9FgsFiUkJCggIEANGzZU9erV9f777ys9PV0%2BPj56//33Va9evRLbnT17ttz15OfnKyUlRVlZWWrfvr08PDzUtWtXde3aVVOmTNHHH3%2BsqVOnKjk5WQcPHlSrVq1000036cCBA9q/f/9V97tv3z5JxYe1mzZtWu66AKAycDUugErXqVMn1apVS9nZ2VdN9jZt2qT7779fffv21ZkzZyQV349Xkho2bFhqo3f48GHt2bNHUvnOd/viiy/Ur18/jRs3Tvn5%2BSWW33HHHdavL%2B/38sUVn332mVJSUkrd78qVKyVJwcHBql27tt31AEBlotkDUOm8vLw0btw4SdK8efP0/vvv25x/9%2Bmnn2r27NmSij8q5XIqdtNNN0mSkpOTtWXLFuv6FotFX3zxhcaMGaOCggJJUm5urt313Hnnnapbt67Onz%2BvRx99VOfPn7cuy87O1nPPPSdJatCggVq0aCFJ%2Butf/6qWLVvq4sWLGjt2rM2h46ysLM2aNUtffvml3NzcNH36dPsnBwAqGYdxAfxPjB07VikpKXrvvff0%2BOOP64UXXlDjxo119uxZpaamSpI6dOigZ555xrrNsGHD9M477%2Bj48eOKjo5Wo0aNVLduXZ0%2BfVrp6elyd3fXbbfdpsTExHIdzq1evbpeffVVPfTQQ9q8ebO2bdumpk2bytXVVSkpKcrJyZGnp6eeffZZVa9eXZLk5uamJUuWaOzYsTp69KgGDRpkcweNyx8PM2fOHIWGhlbs5AGAATR7AP4nXFxcFBsbqz59%2Bmjt2rXas2eP9UOKg4OD1b9/f0VERFibK6n46tb169dr2bJl%2Bvzzz3XixAmdO3dOAQEBuuuuu3T//ffLy8tLPXv2VHJysk6dOqWGDRvaVU9YWJjWrVunt99%2BW99//72OHTsmNzc3BQQEqGvXrnrwwQdL7Ktx48Z6//339e677%2BqTTz7RkSNHdObMGTVo0EDdunXTvffeW%2BLeuADgaC4WrvUHAABwWpyzBwAA4MRo9gAAAJwYzR4AAIATo9kDAAC4ThkZGerVq5cSEhKuus6OHTs0YMAABQcHq2/fvvr8889tli9btkx33nmngoODNXLkSB09erRCa6TZAwAAuA7ff/%2B9IiIi9Msvv1x1nWPHjikqKkoxMTH67rvvFBUVpcmTJ1s/LuqDDz7QqlWrtHz5ciUkJKh169aKjo6u0Htl0%2BwBAACU0wcffKDp06drypQpZa4XGhqqnj17ys3NTf369VOnTp0UHx8vSXrvvfc0YsQItWjRQjVq1NC0adN06tSpayaF5UWzBwAA/nRSU1O1f/9%2Bm8flD3i3R9euXfWf//xH/fr1u%2BZ6hw8fVlBQkM3YzTffbL0Lzx%2BXu7u7KzAw0OYuPUbxocpm4%2BLi6Ars06yZdOiQ1KKF9PPPjq7m2kq596kpublJhYWOrqJMKWfcHV2CXapVkxo0kE6flspx21yHyMlxdAX2cXcv/qf/88/S73epMy07P1vboVxcJG9vKTtbqgqfeFurlgO/eSX8boxfuFCLFy%2B2GZs0aZKioqLs2t7Pz8%2Bu9bKzs%2BXp6Wkz5uHhoZzf/%2BGXtbwi0Ozh%2Bvj4FP829fFxdCXOo6o0%2BlWEq2vxlLq6mr/ZqyqunFMY5%2BLy30dVaPacTUREhMLDw23G7G3gysPT01N5eXk2Y3l5efL29rZreUWg2QMAAOZWCX9h%2BPv7y9/fv8L3%2B0dBQUHav3%2B/zdjhw4fVpk0bSVKLFi106NAhde/eXZJUUFCgY8eOlTj0awR/nwEAAFSSgQMHKjExUZs3b1ZhYaE2b96sxMREDRo0SJI0dOhQrV69WsnJybp48aJefPFF%2Bfr6KjQ0tMJqINkDAADmVsXOHQgJCdGcOXM0cOBANW/eXK%2B99pri4uL0xBNPqFGjRlq0aJGaNWsmSRo2bJgyMzM1ceJEZWRkqG3btnrjjTfk7l5x50e7WCryg1xgXFU5byskRNq9W%2BrQQUpKcnQ111ZVLtBwdzf/We%2BqOhdouLtLAQHSmTPmn9aqcoFGjRpSYKB07Jh08aKjq7m2qnCBhqvrfy/QKCpydDVlc%2BgFGhXY%2BFiZ/QdDBSLZAwAA5lbFkj2zodkDAADmRrNnCLMHAADgxEj2AACAuZHsGcLsAQAAODGSPQAAYG4ke4bQ7AEAAHOj2TOE2QMAAHBiJHsAAMDcSPYMYfYAAACcGMkeAAAwN5I9Q2j2AACAudHsGcLsAQAAODGSPQAAYG4ke4YwewAAAE6MZA8AAJgbyZ4hNHsAAMDcaPYMYfYAAACcGMkeAAAwN5I9Q2j2AACAudHsGcLsAQAAODGSPQAAYG4ke4YwewAAAE6MZA8AAJgbyZ4hNHsAAMDcaPYMYfYAAACcGMkeAAAwN5I9Q5g9AAAAJ0ayBwAAzI1kzxCaPQAAYG40e4YwewAAAE6MZA8AAJgbyZ4h5Zq98PBwbdiwocT4hg0bFB4eXmFFOVLLli2VkJBg17rp6emKjIxUaGiowsLCNG/ePBUWFlZyhQAAAPajVTZg8uTJ8vLy0s6dO7V%2B/Xp98803WrFihaPLAgDAubi6VvzjT6TC3%2B2JEyfUsmVLrVu3TuHh4erYsaMeeOABnTlzRlJxCnjPPffomWeeUefOnXX77bfriSeeUEFBgSQpKytLTz75pHr37q3g4GB169ZNS5cute4/PDxcb7/9tgYOHKj27dvrnnvu0f79%2BzV27FiFhISoX79%2B%2Br//%2Bz/r%2Bl9//bWGDRum0NBQ3X333dq4caN1WUFBgRYsWKCwsDB17txZb775ps17Wbp0qe6%2B%2B%2B5S3%2Bfx48eVmJioGTNmyNPTU02aNFFkZKTWrFlTYXMJAABEs2dQpb3b7du368MPP9SWLVt07tw5LVmyxLps9%2B7duuGGG7Rz50698cYb2rx5s7Zu3SpJiouL04kTJ7R%2B/XolJSXpySef1Msvv6zjx49bt1%2B3bp3%2B%2Bc9/6quvvlJGRoZGjhypyMhIJSQkKCgoSHFxcZKk5ORkTZgwQePGjVNCQoJiY2M1f/587dy5U5K0ZMkSbd%2B%2BXevXr9dnn32mn376yeY9jB8/Xh9//HGp7%2B/QoUPy8fFR/fr1rWPNmzfXqVOndOHChYqZRAAAAIMq7QKNsWPHqnbt2pKK07ikpCTrMg8PD40fP14uLi5q166dWrZsqZ9//lmSFBUVpWrVqqlmzZo6c%2BaMatSoIUlKTU3VjTfeKEkaOnSoAgICJEnt2rVTVlaWQkJCJEldu3bV66%2B/Lklau3atevTood69e0uSOnTooOHDh2vNmjXq1q2bPvroI40fP15NmjSRJD355JM2yd%2B1ZGdny9PT02bs8uucnBzre7%2BW1NRUpaWl2Yz5NWsmfx8fu2pwqFatbJ/xp%2BHu7ugK7OPmZvtsZr//mDO96tVtn82sKgQ3l2usCrU6HJNkSLl%2BDFavXl2XLl0qMX7p0iVV/8O/fl9f3/9%2BEzc3WSwW6%2BsbbrhBLi4u1tfu7u7W5enp6Zo3b54OHDigxo0bq02bNpKkoqIi6/o%2BVzRD1apVU506dayvXV1drfs6efKkdu3apdDQUJtamzZtKqm42WrQoIF1We3atW32dS1eXl7Kzc21Gbv82tvb2659xMfHa/HixTZjk2JiFBUTY9f2pvDOO46uwLlUgU7q97%2BzqowrfhShgjRs6OgKnMsfcgOgwpWr2WvQoIFOnjxZYvz48eNq1KhRhRQUExOj8PBwLV%2B%2BXG5ubvr111/13nvv2axzZaN4LQEBAfrb3/6muXPnWsdSU1OtzWBAQIBSUlKsy3JycpSZmWnXvlu0aKHz58/r3Llz1sb2yJEjCggIUK1atezaR0RERImrmP0GDJD%2B3/%2Bza3uHatWquNEbMUJKTnZ0Nddm59XVDufuLv1%2B7qqZnUk3f0MqFSd6vr7SuXOS2S%2BSz8tzdAX2qV69uNE7dUrKz3d0Ndfm5%2BfoCsrm6lrc6OXmSlfkGaZlZ45ROUj2DClXszdo0CAtWLBAnTp10u23367CwkLt2rVL69at01NPPVUhBWVmZsrDw0PVqlVTRkaG5s2bJ0nWCzjKY9iwYXrggQfUu3dv3XHHHfrll180btw4de/eXTNnztTf//53vfnmmwoLC1Pjxo317LPPlppcliYwMFAdO3bU/PnzNXfuXP36669asmSJhg0bZnd9/v7%2B8vf3tx38/XB2lZGcLF1xiB7Orwr0ozYKC81f88WLjq6gfPLzzV9zVWieLisqqlr1OgTNniHlavYGDx6sgoICxcXF6ZdfflFRUZGaNWumxx9//KpXrZbXggULNH/%2BfL311luqU6eO%2BvXrp1tvvVU//fSTunbtWq59tW/fXi%2B99JJeeuklxcTEyNPTU/3799fUqVMlFZ9XmJubq/vuu0%2BFhYUaPny4zSHipUuXatOmTVe9SGPhwoWaO3euevToIVdXVw0ePFiRkZHX/%2BYBAAAqmIvlypPp4Hh2HqJ2uJAQafduqUMH8yd7Zj/edFkVOYybcqZqHMZ1dy8%2Bv/DMGfNPa06OoyuwT40aUmCgdOyY%2BZO9qnBeoatr8aHR7OyqkezZeYZS5bj99orf5zffVPw%2BTYpcFAAAwIlVgQ8lAAAAf2omPGcvPT1ds2bNUmJioqpVq6aBAwfq0UcfldsfPu9pzJgx%2Bv77723GcnJyFBERoblz5%2BrcuXPq0qWLvLy8rMvr1q2rzz77rMJqpdkDAADmZsJmb/Lkyapfv7527typc%2BfOacKECVqxYoXGjBljs94f7861fv16LV68WJMmTZIk7du3T40aNarQ5u6PzDd7AAAAJna9t0w9evSoYmNjFRcXZ/00jn379lk/U7iykOwBAABzq4Rkr9S7WPn5lfxItFKUdcvUq91Fa86cORo8eLDNzR727dun3377Tf3799e5c%2BfUtm1bPfroo7r55puv852VRLIHAAD%2BdOLj4zVkyBCbR3x8vF3blnXL1NJ899132rt3r/Xw7WW1a9dWx44dtXLlSn366acKDAzUAw88YPdNHuxBsgcAAMytEpK9Uu9iZeetV67nlqnx8fHq27dvie/x4osv2ryeOXOm3n//fX333Xfq3r27XfWUhWYPAACYWyU0e6XexcpO5b1lamFhobZt26bXXnvNZjwrK0uvvfaa7rvvPuttZy9duqTCwkJ5eHhcV22l4TAuAABAOVx5y9SsrCylpKRc85apBw8e1MWLF9WhQweb8Zo1a%2Brrr7/Wc889p8zMTGVnZys2NlaNGze2Oa/PKJo9AABgbq6uFf8waOHChSosLFSPHj00fPhwdevWzXrL1JCQEG3cuNG6bkpKiurUqaMaNWqU2M%2BSJUtUVFSknj17qlu3bkpLS9OyZcvk7l5xdyvidmlmw%2B3SKh63S6tQ3C6t4nG7tIrH7dIqnkNvl9arV8Xv8z//qfh9mhTn7AEAAHMz4YcqVyU0ewAAwNxo9gxh9gAAAJwYyR4AADA3kj1DmD0AAAAnRrIHAADMjWTPEJo9AABgbjR7hjB7AAAAToxkDwAAmBvJniE0ewAAwNxo9gxh9gAAAJwYyR4AADA3kj1DmD0AAAAnRrIHAADMjWTPEJo9AABgbjR7hjB7AAAAToxkDwAAmBvJniHMHgAAgBMj2QMAAOZGsmcIzR4AADA3mj1DmD0AAAAnRrIHAADMjWTPEGYPAADAiZHsAQAAcyPZM4RmDwAAmBvNniHMHgAAgBMj2TOb/HxHV1A%2BCQmOrqBs1as7uoKyhYRIu3dLYWFSUpKjq7mmJufPO7oE%2B7i6SqqlAO9MqajI0dVcW21HF2Cn3%2Bc08IYqMKc9ezu6grK1bCmtXCnvCaOkgwcdXU3ZHPnznmTPEGYPAADAiZHsAQAAcyPZM4RmDwAAmBvNniHMHgAAgBMj2QMAAOZGsmcIswcAAODESPYAAIC5kewZQrMHAADMjWbPEGYPAADAiZHsAQAAcyPZM4TZAwAAcGIkewAAwNxI9gyh2QMAAOZGs2cIswcAAODESPYAAIC5kewZwuwBAAA4MZo9AABgbq6uFf8wKD09XZGRkQoNDVVYWJjmzZunwsLCUtcdM2aM2rZtq5CQEOvjiy%2B%2BkCRdunRJzz33nO644w6FhIRowoQJSk1NNVzflWj2AACAuZmw2Zs8ebK8vLy0c%2BdOrV%2B/Xt98841WrFhR6ro//PCDli9frqSkJOvjzjvvlCS9/vrr%2Buqrr/T%2B%2B%2B9r586d8vDw0JNPPmm4vivR7AEAAJTD8ePHlZiYqBkzZsjT01NNmjRRZGSk1qxZU2LdlJQU/fbbb7r11ltL3de6des0duxYNWjQQDVr1tQTTzyhL774QikpKRVWLxdoAAAAc6uECzRSU1OVlpZmM%2Bbn5yd/f/8ytz106JB8fHxUv35961jz5s116tQpXbhwQbVr17aO79u3T97e3poyZYr27dsnX19fjR49WsOGDVNmZqbOnDmjoKAg6/q%2Bvr6qU6eODh48qCZNmlTAO6XZAwAAf0Lx8fFavHixzdikSZMUFRVV5rbZ2dny9PS0Gbv8Oicnx6bZy8/PV3BwsKZMmaIWLVooISFBUVFR8vb2VkhIiCTJy8vLZl8eHh7Kzs6%2BrvdVGpo9AABgbpWQ7EVERCg8PNxmzM/Pz65tvby8lJubazN2%2BbW3t7fN%2BODBgzV48GDr665du2rw4MH697//rTvuuMNm28vy8vJK7McImj0AAGBuldDs%2Bfv723XItjQtWrTQ%2BfPnde7cOfn6%2BkqSjhw5ooCAANWqVctm3fXr18vb21t9%2B/a1juXn56tGjRqqU6eO6tevr8OHD1sP5aalpen8%2BfM2h3aN4gINAACAcggMDFTHjh01f/58ZWVlKSUlRUuWLNGwYcNKrJuVlaXY2FgdOHBARUVF2r59u/71r38pIiJCkjRkyBC9/vrrSklJUVZWlubPn6/bbrtNTZs2rbB6SfYAAIC5mfAOGgsXLtTcuXPVo0cPubq6avDgwYqMjJQkhYSEaM6cORo4cKDuv/9%2B5eTkaNKkSUpPT1eTJk303HPPKTQ0VJI0ceJEFRYW6t5771V2drbCwsL0yiuvVGitLhaLxVKhe4QxBQWOrsB%2B7u5Vo97q1R1dQdlCQqTdu6UOHaSkJEdXc23nzzu6Avu4ukq1akmZmVJRkaOrcQ5VaU5793Z0BWVr2VJauVIaNUo6eNDR1ZQtIcFx33vevIrf5xNPVPw%2BTYpkDwAAmJsJk72qhGYPAACYG82eIcweAACAEyPZAwAA5kayZwjNHgAAMDeaPUOYPQAAACdGsgcAAMyNZM8QZg8AAMCJkewBAABzI9kzhGYPAACYG82eIcweAACAEyPZ%2B4OnnnpKmzZtkiQVFhaqoKBAnp6ekqTc3FxZLBZ99NFHatWqlc12ly5dUs%2BePXX//fdr9OjR/%2BuyAQBwXiR7hjB7fzB37lwlJSUpKSlJc%2BbMUcOGDa2vk5OT1bp1a61bt67Edtu3b9f58%2Bc1bNgwB1QNAABQOpq9cho5cqQ2btyovLw8m/F33nlHQ4cOVc2aNR1UGQAATsrVteIffyIcxi2nu%2B%2B%2BW88//7w%2B%2BeQTDR48WJKUkpKib775RrNmzSrXvlJTU5WWlmYz5le3rvz9/CqsXkgKCXF0BWW7fFrAH04PMKWq8kPycp1Vpd6qoCrNacuWjq6gbDfeaPuMq6sK/8%2BZGM1eOVWvXl3Dhw/XunXrrM3eu%2B%2B%2Bq65duyowMLBc%2B4qPj9fixYttxiZNnKio6OiKKrfyubs7uoKy7d7t6Ars9847jq7A%2BXh7O7oC51MV5nTlSkdXYL/YWEdXACdHs3cdRowYoeXLl%2BvIkSNq0qSJNmzYoLi4uHLvJyIiQuHh4TZjfnXrSgUFFVVq5XJ3rxq1hoU5uoKytWpV3OiNGCElJzu6mmvbscPRFdjH1bW4KcnOloqKHF2Nc6hKczpxoqMrKNuNNxY3erNmScePO7qasjmygSbZM4Rm7zrUr19fPXr00Pr163XLLbeobt266tKlS7n34%2B/vL39/f9vBqtA8VTVJSY6uwH7Jyeav1%2By/5P%2BoqKjq1Wx2VWFODx50dAX2O368atWLKodm7zqNHDlSU6ZMUXJyskaOHCkXFxdHlwQAgHMi2TOE2btOoaGh8vX11Q8//GA9dw8AAFQCrsY1hGTvGoYMGaIhQ4ZcdfkHH3zwP6wGAACg/Gj2AACAuf3JkriKxuwBAAA4MZI9AABgbiR7htDsAQAAc6PZM4TZAwAAcGIkewAAwNxI9gxh9gAAAJwYyR4AADA3kj1DaPYAAIC50ewZwuwBAAA4MZI9AABgbiR7hjB7AAAAToxkDwAAmBvJniE0ewAAwNxo9gxh9gAAAJwYyR4AADA3kj1DmD0AAAAnRrIHAABpDFHkAAAgAElEQVTMjWTPEJo9AABgbjR7hjB7AAAAToxkDwAAmBvJniHMHgAAgBMj2QMAAOZmwmQvPT1ds2bNUmJioqpVq6aBAwfq0UcflZtbydbq3Xff1YoVK5Samip/f3%2BNGjVK9957rySpqKhIHTt2lMVikYuLi3Wbr776Sl5eXhVSK80eAAAwNxM2e5MnT1b9%2BvW1c%2BdOnTt3ThMmTNCKFSs0ZswYm/U%2B/fRTvfTSS1q2bJnat2%2BvPXv2aNy4cfL19VWfPn10%2BPBhFRQUaPfu3apevXql1Gq%2B2QMAADCx48ePKzExUTNmzJCnp6eaNGmiyMhIrVmzpsS6Z8%2Be1dixYxUcHCwXFxeFhIQoLCxM3377rSRp3759atmyZaU1ehLJHgAAMLtKSPZSU1OVlpZmM%2Bbn5yd/f/8ytz106JB8fHxUv35961jz5s116tQpXbhwQbVr17aOXz5ce1l6erq%2B/fZbzZw5U1Jxs3fx4kUNHTpUJ0%2BeVPPmzTVt2jR16NDByNuzQbMHAADMrRKavfj4eC1evNhmbNKkSYqKiipz2%2BzsbHl6etqMXX6dk5Nj0%2BxdKS0tTQ8//LDatGmj/v37S5I8PDzUrl07xcTEqE6dOlqzZo0eeughbdy4UU2aNLmet1YCzR4AAPjTiYiIUHh4uM2Yn5%2BfXdt6eXkpNzfXZuzya29v71K32bNnj2JiYhQaGqoFCxZYL%2BR47LHHbNZ76KGHtGHDBu3YsUP33XefXfWUhWYPAACYWyUke/7%2B/nYdsi1NixYtdP78eZ07d06%2Bvr6SpCNHjiggIEC1atUqsf769ev1zDPPKDo6Wg8%2B%2BKDNspdffll9%2BvTRrbfeah3Lz89XjRo1rqu20nCBBgAAQDkEBgaqY8eOmj9/vrKyspSSkqIlS5Zo2LBhJdbdsmWLnn76aS1atKhEoydJP/30k%2BbNm6e0tDTl5%2Bdr8eLFysrKUq9evSqsXpo9AABgbq6uFf8waOHChSosLFSPHj00fPhwdevWTZGRkZKkkJAQbdy4UZK0ePFiXbp0SdHR0QoJCbE%2BnnrqKUnSggUL1LRpUw0aNEhhYWFKTEzU22%2B/LR8fH8M1XsZhXAAAYG4m/Jw9X19fLVy4sNRlSUlJ1q83bdp0zf34%2BPhowYIFFVrbH5lv9gAAAFBhSPYAAIC5mTDZq0qYPQAAACdGsgcAAMyNZM8Qmj2TSTnj7ugS7OLuLgUESGfS3VVQ4Ohqrq3J%2BfOOLqFsl3%2BQ7dghFRU5tpayVOAVYpUqJETavVv6y1%2BkK06WNqVVqxxdgX3q1ZP69ZN27pQyMhxdzbXddpujKyhb48bFz61bS3XqOLYWs6PZM4TZAwAAcGIkewAAwNxI9gxh9gAAAJwYyR4AADA3kj1DaPYAAIC50ewZwuwBAAA4MZI9AABgbiR7hjB7AAAAToxkDwAAmBvJniE0ewAAwNxo9gxh9gAAAJwYyR4AADA3kj1DmD0AAAAnRrIHAADMjWTPEJo9AABgbjR7hjB7AAAAToxkDwAAmBvJniHMHgAAgBMj2QMAAOZGsmcIzR4AADA3mj1DmD0AAAAnRrIHAADMjWTPEGYPAADAiZHsAQAAcyPZM4RmDwAAmBvNniHMHgAAgBMj2QMAAOZGsmcIswcAAODESPYAAIC5kewZQrMHAADMjWbPEGYPAADAiZHsAQAAcyPZM4RmDwAAmBvNniHMHgAAgBMj2QMAAOZGsmcIswcAAODESPYAAIC5kewZQrMHAADMjWbPEKeZvfDwcLVt21YhISEKCQlRcHCwOnTooHvvvVcHDhy4rn0%2B9thjeuyxxyRJS5cu1ZgxYyqyZAAAUEWlp6crMjJSoaGhCgsL07x581RYWFjqujt27NCAAQMUHBysvn376vPPP7dZvmzZMt15550KDg7WyJEjdfTo0Qqt1WmaPUmaM2eOkpKSlJSUpD179mjr1q2qVauWJk2apKKiIkP7Hj9%2BvN58880KqhQAANjN1bXiHwZNnjxZXl5e2rlzp9avX69vvvlGK1asKLHesWPHFBUVpZiYGH333XeKiorS5MmTdfbsWUnSBx98oFWrVmn58uVKSEhQ69atFR0dLYvFYrjGy5yq2fsjX19fRURE6OTJkzp//rx2796tUaNGqWvXrmrbtq2GDBmiPXv2WNfftm2b7r77bgUHB%2Bvhhx/Wr7/%2Bal22aNEijRw50vr6008/1ZAhQ9ShQwf16dNHK1asMNxQAgAA8zt%2B/LgSExM1Y8YMeXp6qkmTJoqMjNSaNWtKrPvBBx8oNDRUPXv2lJubm/r166dOnTopPj5ekvTee%2B9pxIgRatGihWrUqKFp06bp1KlTSkhIqLB6nfqcvdOnT2v16tVq27atvLy8NGHCBEVHR%2Buee%2B5RXl6eHn/8cT3//PN65513dPToUcXExGj%2B/Pnq16%2Bftm/frujoaA0cOLDEfnft2qXJkyfr%2BeefV%2B/evXXw4EFFRkZKkkaPHm13fampqUpLS7MZKyryk5%2Bfv6H3/b/g5mb7bGpV4VyPyzVWhVpDQhxdgX1atbJ9NrN69RxdgX1q17Z9NrPGjR1dQdnq17d9xtVVws/G0n4H%2B/n5yd%2B/7N/Bhw4dko%2BPj%2Bpf8d%2BuefPmOnXqlC5cuKDaV/wbOXz4sIKCgmy2v/nmm5WcnGxdPnbsWOsyd3d3BQYGKjk5WZ07d76u9/ZHVeFXtd3mzJmj%2BfPnq7CwUAUFBQoICFCvXr308MMPy93dXfHx8brxxht18eJFnTx5Uj4%2BPtq3b58kafPmzWrTpo21uevZs6e6d%2B9e6vfZsGGDevTooX79%2BkmSWrdurXHjxmnVqlXlavbi4%2BO1ePFim7GJEycpOjrqOt69Y/j6OroCe9RydAH28/Z2dAVl273b0RWUzzvvOLoC59O1q6MrKNvvP5%2BrhHL83vizssilwvdZ2u/gSZMmKSqq7N/B2dnZ8vT0tBm7/DonJ8em2SttXQ8PD%2BXk5Ni1vCI4VbM3e/ZsDRkyRPn5%2BVq5cqWWLl2qv/zlL6pbt64kKSEhQWPHjlVOTo5uvvlmubm5WY%2BJnz17Vg0bNrTZX9OmTW0O5V6Wnp6uW265xWascePGOnnyZLnqjYiIUHh4uM1YUZGfzpwp124cws2tuNE7d066yvmophHgnenoEsrm6lrc6GVnS2Y/HeAvf3F0BfZp1aq40RsxQvr9L2jTeuYZR1dgn9q1ixu9L7%2BULlxwdDXX9vsf8qZWv35xo7dihfT7%2BVum9uijjq6gQpX2O9jPz8%2Bubb28vJSbm2szdvm19x/%2BaPf09FReXp7NWF5ennW9spZXBKdq9i6rXr26xowZo99%2B%2B02RkZF69913dfHiRcXGxmrt2rVq06aNJOmtt97Szz//LEkKCAjQ9u3bbfZz5swZ1ahRo8T%2BGzVqpF9%2B%2BcVmLCUlxe7/SS7z9/cvERenpEgFBeXajUMVFlaBes3ePF2pqMj89SYlObqC8klONn/NGRmOrqB8Llwwf80nTji6AvudPVu16nWAyvixWNrvYHu1aNFC58%2Bf17lz5%2BT7%2ByGuI0eOKCAgQLVq2R5NCgoK0v79%2B23GDh8%2BbO1FWrRooUOHDlmPJhYUFOjYsWMlDv0aUQVOELp%2BkydPVsuWLTV16lSlpaXJ1dVVHh4ekqQ9e/Zo5cqVys/PlyQNHDhQP/30k9577z0VFhbqyy%2B/1H/%2B859S9zt06FB99tln%2Bve//61Lly7pwIEDWrZsmYYOHfo/e28AAMAxAgMD1bFjR82fP19ZWVlKSUnRkiVLNGzYsBLrDhw4UImJidq8ebMKCwu1efNmJSYmatCgQZKKe4rVq1crOTlZFy9e1IsvvihfX1%2BFhoZWWL1O3exVq1ZNL7zwgs6ePauvvvpKI0aM0L333qtOnTppzpw5GjlypDIyMnTu3Dk1adJES5cu1Zo1a9SxY0ctWbJEvXr1KnW/7du316uvvqply5YpNDRUkyZN0j333KPx48f/j98hAADO7/JBj4p8GLVw4UIVFhaqR48eGj58uLp162a9WDMkJEQbN26UVHzhxmuvvaY33nhDnTp10pIlS7Ro0SI1a9ZMkjRs2DCNHj1aEydOVOfOnXXgwAG98cYbcnd3N17k71wsFflBLjAsJcXRFdjH3V0KCJDOnDH/YdwmtX9zdAllc3WVatWSMjPNfxjXx8fRFdgnJKT4YpIOHcx/GHfVKkdXYJ969YovfNi82fyHcSvwYysqTePGxefBPfdc1TiMu2iRw771xYsVv89SztJyWk6d7AEAAPzZOeUFGgAAwHmY/YCH2ZHsAQAAODGSPQAAYGoke8bQ7AEAAFOj2TOGw7gAAABOjGQPAACYGsmeMSR7AAAAToxkDwAAmBrJnjE0ewAAwNRo9ozhMC4AAIATI9kDAACmRrJnDMkeAACAEyPZAwAApkayZwzNHgAAMDWaPWM4jAsAAODESPYAAICpkewZQ7IHAADgxEj2AACAqZHsGUOzBwAATI1mzxgO4wIAADgxkj0AAGBqJHvGkOwBAAA4MZI9AABgaiR7xtDsAQAAU6PZM4bDuAAAAE6MZA8AAJgayZ4xJHsAAABOjGQPAACYGsmeMTR7AADA1Gj2jOEwLgAAgBMj2QMAAKZGsmcMzR4AADA1mj1jOIwLAADgxEj2AACAqZHsGUOyBwAA4MRI9kwmJ8fRFdinRo3i57w86eJFx9ZSptqOLsDJrFrl6ArsU69e8fMzz0gZGY6tpSwjRzq6AvuEhEj9%2BklPPiklJTm6mmvbudPRFZTN27v4uXdvKTvbsbWYHMmeMTR7AADA1Gj2jOEwLgAAgBMj2QMAAKZGsmcMyR4AAIATI9kDAACmRrJnDM0eAAAwNZo9Y2j2AAAAKlBOTo5iY2P12WefqbCwUD169NDs2bPlffnjdv5gy5YtWrJkiVJSUuTj46MhQ4YoMjJSrq7FZ9v17dtXp06dsr6WpPXr16t58%2BZ21UOzBwAATK2qJXuxsbE6ffq0tmzZokuXLmny5MmKi4vT7NmzS6z7ww8/6JFHHtErr7yiv/zlL/r55581duxYeXl56cEHH1RWVpZ%2B/vlnbdu2TY0aNbquerhAAwAAoILk5uZq06ZNio6Olo%2BPj2644QZNnz5dGzZsUG5ubon1T548qX/84x/q3r27XF1d1bx5c/Xq1UvffvutpOJm0MfH57obPYlkDwAAmFxlJHupqalKS0uzGfPz85O/v3%2BZ2%2Bbl5ens2bOlLsvNzVVBQYGCgoKsY82bN1deXp6OHTumW265xWb9Pn36qE%2BfPjb73r59uwYMGCBJ2rdvnzw9PXXffffp0KFDatSokaKiotS9e3e73yvNHgAAMLXKaPbi4%2BO1ePFim7FJkyYpKiqqzG337t2rUaNGlbosJiZGkuTl5WUd8/T0lCRll3FbvKysLMXExMjDw0OjR4%2BWJLm4uKht27aaOnWqGjZsqE8%2B%2BURRUVFavXq1goODy6xVotkDAAB/QhEREQoPD7cZ8/Pzs2vbsLAwHTx4sNRlBw4c0Kuvvqrc3FzrBRmXD9/WrFnzqvs8evSooqOjdcMNN2jlypXWdceMGWOz3sCBA/Wvf/1LW7ZsodkDAADOoTKSPX9/f7sO2ZZXs2bN5O7ursOHD6t9%2B/aSpCNHjsjd3V2BgYGlbrNjxw5NnTpVw4cP17Rp0%2BTm9t/2bPny5br11lt1%2B%2B23W8fy8/NVo0YNu2viAg0AAIAK4unpqb59%2ByouLk4ZGRnKyMhQXFyc%2BvfvLw8PjxLr79mzRxMnTtTMmTP16KOP2jR6knT69GnNmTNHKSkpKiws1Pr165WUlKS//e1vdtdEsgcAAEytqn30yuzZs/Xcc89pwIABKigoUI8ePTRr1izr8rvvvlsDBgzQ%2BPHjtXTpUhUWFmrevHmaN2%2BedZ2OHTvqzTff1COPPCJXV1eNGDFCmZmZuvnmm/XPf/5TN954o9310OwBAABTq2rNXs2aNRUbG6vY2NhSl3/88cfWr5cuXXrNfVWvXl2PP/64Hn/88euuh8O4AAAAToxkDwAAmFpVS/bMhmQPAADAiZHsAQAAUyPZM4ZmDwAAmBrNnjEcxgUAAHBiJHsAAMDUSPaMIdkDAABwYiR7AADA1Ej2jKHZAwAApkazZwyHcQEAAJwYyR4AADA1kj1jSPYAAACcGMkeAAAwNZI9Y2j2AACAqdHsGcNhXAAAACdGsgcAAEyNZM8Ykj0AAAAnRrIHAABMjWTPGJo9AABgajR7xnAYFwAAwIlVSLPXsmVLjRs3ThaLxWZ8w4YNCg8Pr4hvAQAA/qSKiir%2B8WdSYcnejh079Oabb1bU7gAAACTR7BlVYc3eyJEj9eqrr2r37t1XXeeXX37R%2BPHjFRYWpu7du%2Bvll19Wfn6%2BfvvtN7Vu3Vo//vijJOnixYtq166dXnjhBeu20dHRevXVV5WVlaUpU6YoLCxMXbp00UMPPaQjR45IkhYtWqTIyEhFRUUpODhY4eHhio%2BPt%2B7jyJEjevjhh3XXXXepXbt26tevnz7//HNJ0okTJ9SyZUutWrVKXbp0UceOHTVjxgxlZWVZt//44481YMAAdezYUUOGDNGXX35p8/4fe%2Bwxde/eXXfddZfNdgAAAI5SYc1er169FBERoalTp%2Br8%2BfMllufk5Gj06NFq0aKFvvjiC73zzjv6%2BuuvtWjRItWpU0e33XabvvjiC0lSYmKiXFxc9PXXX0uS8vPz9eWXX6p379566623lJWVpR07dujzzz%2BXn5%2Bf4uLirN9n27Zt6tChg7799lvNnTtXsbGx%2BuabbyRJUVFRCgoK0n/%2B8x9999136tq1q55%2B%2BmmbOrdu3apNmzbpk08%2B0fHjxzVnzhxJxcnl7Nmz9dRTTykxMVFRUVGKiorSoUOHrNt%2B/fXXWrt2rTZu3KiaNWtW1NQCAPCnRrJnTIVejfvoo48qKSlJjz32mF5//XWbZdu3b1d%2Bfr6mTp0qFxcXNWjQQDExMYqOjta0adPUs2dPbd68WQ8//LC%2B/PJLRUREaPXq1crIyNAPP/ygunXr6pZbbtHOnTuVnJysDz/8UF26dNH8%2BfPl6vrfnrVly5Z64IEHJEldu3ZVnz599NFHH%2Bn222/XG2%2B8ofr168tisejkyZOqXbu2zp49a1PnzJkzVa9ePUnFaeKECRM0b948rV69Wvfcc486deokSerevbvCw8O1du1azZo1S5J05513qn79%2BnbPV2pqqtLS0mzGcnP95Ovrb/c%2BHKV6ddtnU3OtAtchXa6xKtT6%2B78P06td2/bZzEJCHF2BfVq1sn02M29vR1dQNk9P22egklRos1e9enW98sor%2Btvf/qa33npLdevWtS47efKkMjIyrM2SJFksFhUUFCg9PV09e/bUggULlJmZqZ07d2rBggVKTEzUrl27lJCQoN69e0uSxo4dq%2BrVq2v9%2BvWaO3eumjRpomnTplmXBwYG2tTUoEED6%2BHh5ORkRUZGKi0tTc2bN1e9evVKXFRy44032mybn5%2Bv8%2BfP6%2BTJk0pMTNS7775rXX7p0iV17tzZ%2Btrfv3xNWnx8vBYvXmwzNnHiJEVHR5VrP47UsKGjK7BHLUcXYL%2Bq8AuqXz9HV1A%2BXbs6uoKyVbU5fecdR1fgXKpC8%2Bxgf7YkrqJV%2BOfsNW3aVLGxsXrkkUc0ZMgQ63hAQICaNm2qTz75xDqWlZWl9PR01atXTy4uLmrVqpU2bNigc%2BfOqU2bNuratau%2B/vpr7dy5U6%2B88ook6eDBgwoPD9fo0aOVmZmpd955R1OmTNGuXbskqURSd%2BLECTVo0EBnz55VTEyMFi9ebL1CeMuWLdq6davN%2BmfPntVNN91k3dbT01N169ZVQECABg8erHHjxlnXPXXqlDw8PKyvXVxcyjVXERERJa5Wzs3107Fj5dqNQ1SvXtzonTol5ec7upprC7wh09EllM3VtbjRy842/0%2B1nTsdXYF9atcubvS%2B/FK6cMHR1Vzbk086ugL7tGpV3OiNGCElJzu6mmtbvtzRFZTN07N4TpOTpdxcR1dTNgcm0Gb/sWh2lfKhyv369VNCQoLWrl2rRo0aSSo%2B7Pn888/rzTff1KhRo5SXl6eZM2fq9OnT2rBhg6Ti8/5ef/11de7cWdWqVVOXLl00YcIE1apVS8HBwZKkdevWaf/%2B/XrttddUr1491axZU15eXqr%2B%2B/HEPXv26KOPPlL//v315Zdfatu2bVq5cqWys7N16dIlef4elx8%2BfFivvfaapOJzAi978cUX9dxzzyk7O1sLFy7UoEGD5O7uruHDh%2BuZZ55R586d1a5dO%2B3bt09jx45VZGSkRo0adV3z5O/vXyINPHhQunjxunbnEPn5VaDeqvRToiqcTJKR4egKyufCBfPXnJTk6ArKJznZ/DVnZzu6Avvl5latelHlVNodNB5//HHt3btXF37/i7pmzZpasWKFnn32Wb355psqKipSWFiYzbl9PXv21EsvvaQuXbpIkjp27CgXFxf17NnTmppNnTpVc%2BfO1d13362LFy/qpptu0pIlS1SjRg1J0i233KJt27bpmWeeka%2Bvr1544QWF/P7XyCOPPKIZM2YoNzdXAQEBGj58uF544QX99NNP8vHxkVScTPbv31%2B5ubkaMGCAZsyYIUn661//qpycHD3%2B%2BOM6deqUfHx8NHr0aI0cObKyphAAAMj8fwObnYvljyetVWGLFi1SYmKiVq1aVe5tT5w4oR49emjbtm1q3LhxJVRnn4MHHfaty6VGDSkwUDp2zPzJXsuA3xxdQtlcXaVataTMTPP/VNu0ydEV2KdeveJz4TZvNn%2ByV1X%2BaAwJkXbvljp0MH%2ByVxVON/D2Lp7TpKSqkew58PzX3w/EVaiJEyt%2Bn2bFvXEBAICpmf1vYLOj2QMAAKZGs2eMUzV7UVHX/5EljRs31sGqcgwVAADATk7V7AEAAOdDsmdMFfi4fgAAAFwvkj0AAGBqJHvG0OwBAABTo9kzhsO4AAAAToxkDwAAmBrJnjEkewAAAE6MZA8AAJgayZ4xJHsAAMDUiooq/lGZcnJyNHPmTIWFhaljx4565JFHlH2N%2Bx/Pnj1bbdq0UUhIiPURHx9vXb5s2TLdeeedCg4O1siRI3X06NFy1UOzBwAAUIFiY2N1%2BvRpbdmyRVu3btXp06cVFxd31fX37dun2NhYJSUlWR8RERGSpA8%2B%2BECrVq3S8uXLlZCQoNatWys6OloWi8Xuemj2AACAqVWlZC83N1ebNm1SdHS0fHx8dMMNN2j69OnasGGDcnNzS6yfn5%2Bvn376SW3atCl1f%2B%2B9955GjBihFi1aqEaNGpo2bZpOnTqlhIQEu2vinD0AAIByyMvL09mzZ0tdlpubq4KCAgUFBVnHmjdvrry8PB07dky33HKLzfrJyckqLCzUwoUL9f3336tWrVoaOnSoxowZI1dXVx0%2BfFhjx461ru/u7q7AwEAlJyerc%2BfOdtVLswcAAEytMpK41NRUpaWl2Yz5%2BfnJ39%2B/zG337t2rUaNGlbosJiZGkuTl5WUd8/T0lKRSz9vLzMzUbbfdppEjR%2Bqll17Sjz/%2BqIkTJ8rV1VVjxoxRdna2dfvLPDw8lJOTU2adl9HsAQAAU6uMZi8%2BPl6LFy%2B2GZs0aZKioqLK3DYsLEwHDx4sddmBAwf06quvKjc3V97e3pJkPXxbs2bNEut36dJFXbp0sb5u166d7r//fm3evFljxoyRp6en8vLybLbJy8uz7tseNHsAAOBPJyIiQuHh4TZjfn5%2BhvfbrFkzubu76/Dhw2rfvr0k6ciRI9bDr3/06aef6ty5c/rHP/5hHcvPz5eHh4ckqUWLFjp06JC6d%2B8uSSooKNCxY8dsDhOXhQs0AACAqVXGBRr%2B/v5q3bq1zcOeQ7hl8fT0VN%2B%2BfRUXF6eMjAxlZGQoLi5O/fv3tzZwV7JYLFqwYIG%2B%2BeYbWSwWJSUlaeXKldarcYcOHarVq1crOTlZFy9e1IsvvihfX1%2BFhobaXRPJHgAAQAWaPXu2nnvuOQ0YMEAFBQXq0aOHZs2aZV1%2B9913a8CAARo/frx69eqlmTNn6umnn9bZs2fl6%2BurqKgoDRo0SJI0bNgwZWZmauLEicrIyFDbtm31xhtvyN3d3e56aPYAAICpVbU7aNSsWVOxsbGKjY0tdfnHH39s8/of//iHzWHcK7m4uOjBBx/Ugw8%2BeN310OwBAABTq2rNntlwzh4AAIATI9kDAACmRrJnDMkeAACAEyPZAwAApkayZwzNHgAAMDWaPWM4jAsAAODESPYAAICpkewZQ7IHAADgxEj2AACAqZHsGUOzBwAATI1mzxgO4wIAADgxkj0AAGBqJHvG0OwBAABTo9kzhsO4AAAAToxkDwAAmBrJnjE0eybTsKGjK7CP6%2B%2BZsJ9fFfhH2LO3oysoW8uW0sqV0sSJ0sGDjq7m2m67zdEV2KdxY6lfP2nfPunECUdXc207dzq6Avt4exc/L18uZWc7tpaydOvm6ArKFhIi7d4tPfSQlJTk6GrKZrE4ugJcJ5o9AABgaqYPFUyOZg8AAJgazZ4xXKABAADgxEj2AACAqZHsGUOyBwAA4MRI9gAAgKmR7BlDswcAAEyNZs8YDuMCAAA4MZI9AABgaiR7xpDsAQAAODGSPQAAYGoke8bQ7AEAAFOj2TOGw7gAAABOjGQPAACYGsmeMSR7AAAAToxkDwAAmBrJnjE0ewAAwNRo9ozhMC4AAIATI9kDAACmRrJnDMkeAACAEyPZAwAApkayZwzNHgAAMDWaPWM4jAsAAODESPYAAICpkewZQ7IHAADgxEj2AACAqZHsGUOzBwAATK2qNXs5OTmKjY3VZ599psLCQvXo0UOzZ8%2BWt7d3iXWfeuopbdq0yWYsLy9Pd9xxh5YvX66ioiJ17NhRFotFLi4u1nW%2B%2BuoreXl52VUPh3EBAAAqUGxsrE6fPq0tW7Zo69atOn36tOLi4kpdd%2B7cuSHol1IAACAASURBVEpKSrI%2BFi1apNq1a%2Buxxx6TJB0%2BfFgFBQVKTEy0Wc/eRk%2Bi2QMAACZXVFTxj8qSm5urTZs2KTo6Wj4%2BPrrhhhs0ffp0bdiwQbm5udfcNiMjQ9OnT9cTTzyhFi1aSJL27dunli1bqnr16tddE4dxAQAAyiEvL09nz54tdVlubq4KCgoUFBRkHWvevLny8vJ07Ngx3XLLLVfdb1xcnNq0aaOBAwdax/bt26eLFy9q6NChOnnypJo3b65p06apQ4cOdtdLswcAAEytMpK41NRUpaWl2Yz5%2BfnJ39%2B/zG337t2rUaNGlbosJiZGkmwOs3p6ekqSsrOzr7rPlJQUbdy4UevWrbMZ9/DwULt27RQTE6M6depozZr/396dh1VV7W8AfyGZBAFRFEHCLBT0itMFNFBirASnTHHA%2BWpOgDiGOcZVrEQjQMlMvViZaTgQ5giRoYCpeK1ABAcGH4%2BiJjIY4%2B8Pr6f4obiVYZ2zez/P44Nn7XOOr1vR7/mutdf%2BElOnTsWBAwdgaWn51KwAiz0iIiJScU1R7O3atQuRkZG1xubMmQN/f/%2BnvtbR0REXL1587LHffvsN4eHhKCsrU16Q8Wj61sDA4Inv%2Be2336J37951On%2BP1u49MnXqVMTGxiIpKQl%2Bfn5PzQqw2CMiIqK/IV9fX7i5udUaMzU1bfD7vvTSS9DS0kJ2djZ69uwJAMjJyYGWlhY6der0xNcdOXIEU6ZMqTO%2BYcMGvP766%2BjWrZtyrLy8HDo6OpIzsdgjIiIildYUnb127dpJmrJ9Vnp6enjzzTexbt06hIeHA3i4Fs/Hxwe6urqPfc3du3eRk5MDe3v7OseysrLw888/4%2BOPP4aRkRE2b96M4uJieHp6Ss7Eq3GJiIiIGtGKFSvQqVMnDB48GG%2B88QY6duyI5cuXK497e3sjOjpa%2BTg/Px8A0L59%2BzrvFRoaihdffBFDhw6Fo6Mj0tLSsG3bNhgbG0vOw84eERERqTR121TZwMAAISEhCAkJeezx%2BPj4Wo979OjxxDWAxsbGCA0NbVAeFntERESk0tSt2FM1spzGvXfvHlauXAkXFxf06tULzs7OWLx4MW7cuPHU1%2Bbn56Nr167KlioRERGROpNlsRcUFIS7d%2B9iz549SE9Px759%2B1BeXo7JkyejsrJSdDwiIiJ6Bup0Bw1VJMti78yZM/D09FReQt22bVssWbIEPXv2RFFREXJycvDOO%2B/gtddeg52dHQYNGoTExMTHvldhYSEWLFgAJycnODs7Y/ny5SguLgYAVFZWYuXKlXBycoKjoyPGjh2LM2fONNvvk4iI6O%2BAxV7DyHLNnre3N1asWIGff/4ZDg4O6NmzJywsLLB27VoAgJ%2BfH9zd3REZGYmamhqsW7cOK1euhKura633qa6uxqxZs9CpUyccPnwYFRUVCA4OxvLly7F%2B/Xrs378f586dw/fffw99fX188sknWLVqFQ4cOCAp5%2BN2727ZUtru3aJpatb%2BqtK6dhWd4OmsrGp/VWUdO4pOIM2jq9oec3Wbyvnfxqsq7393AVB%2BVWW9e4tO8HQ2NrW/EjURjZqamhrRIRpbdXU14uLicPDgQZw5cwb379/Hiy%2B%2BCH9/fwwZMgR5eXnKy5sLCgoQHx%2BPyMhIZGZmIj8/H%2B7u7jh%2B/Dju3LmDMWPGIC0tTbkL9pUrV/DGG28gJSUFJ0%2BexPLlyzF79mwMHDgQnTt3huYzVD8RERF1du%2BePXsOAgKevns3ERHR30Xfvo3/nn%2BniThZdvY0NTUxdOhQDB06FDU1NcjJycH%2B/fuxaNEimJqaori4GLNmzcKtW7fw8ssvw8TEBI%2BrefPz81FVVQUXF5da49ra2sjLy4O3tzcqKiqwe/durF%2B/Hm3atMGMGTMwZswYSTkft3t3y5amqOfWeSpDU/Phh/uyMtVvh%2BvPfPz9C1WKlRUQEgIsWwZcuyY6Tf26dxedQJr27YFJk4Dt24En3LBcZXh5iU4gjZ7ewy5UZubDb35VNnWq6ARPZ2MDfPUVMHbsw3Oq6s6eFZ2AnpPsir0TJ04gICAAiYmJMDY2hoaGBl555RXMnz8fycnJOHPmDDZu3IjIyEhloXX48GEcOXKkznuZmZlBV1cXqampeOGFFwA8vEVJXl4erKyscOXKFXTv3h3Dhg3DgwcPcOjQISxevBj//Oc/YW1t/dSsj9u9%2B/591S%2Be/kot1j48Ye8ilXTtmurnNTISneDZKBSAql9drw6f8P6qrEz1M587JzqBdJmZ6pVXAJX/f0bFqcOKq2dib2%2BPNm3aIDg4GBcvXkRFRQWKi4tx4MABXL16FR4eHqiqqoLe/9acZGdnIyoqCsDDQu6v7OzsYGVlhbVr16KkpAQPHjzAmjVrMGnSJFRVVSExMRFz5sxBfn4%2BdHV1YWxsjBYtWqBVq1bN/vsmIiKSK16g0TCy6%2Bzp6uriq6%2B%2BQmRkJGbOnInbt29DS0sLvXr1wrZt22BjY4NFixZh4cKFKCsrg5mZGUaNGoWPPvoIWVlZtW4/0qJFC3z66af44IMP4OXlhT/%2B%2BAN2dnbYtm0bdHR0MGHCBCgUCowePRrFxcWwsLDAhg0bYGZmJvAMEBEREf1JlhdoqLP790UnkEZT8%2BEFhCUlqv8JqZWHo%2BgIT9e1KxATA0yYoPrTuA4OohNI07EjsHgx8MEHqj%2BN6%2BsrOoE0%2BvoPr3I9d071p3EHDBCd4Ol69364Dq5PH/WYxhVYLvTo0fjveeFC47%2BnqpLdNC4RERER/Ul207hEREQkL6o%2Bg6TqWOwRERGRSmOx1zCcxiUiIiKSMXb2iIiISKWxs9cw7OwRERERyRg7e0RERKTS2NlrGBZ7REREpNJY7DUMp3GJiIiIZIydPSIiIlJp7Ow1DDt7RERERDLGzh4RERGpNHb2GobFHhEREak0FnsNw2lcIiIiIhljZ4%2BIiIhUGjt7DcPOHhEREZGMsbNHREREKo2dvYZhsUdEREQqjcVew3Aal4iIiEjG2NkjIiIilcbOXsOws0dEREQkY%2BzsERERkUpjZ69hWOwRERGRSmOx1zCcxiUiIiKSMXb2iIiISKWxs9cw7OwRERERyRg7e0RERKTS2NlrGBZ7REREpNJY7DUMp3GJiIiIZIydPSIiIlJp7Ow1DDt7RERERDLGzh4RERGpNHb2GoadPSIiIlJp1dWN/6M5lJWVwdfXF7GxsfU%2B7/z58xg5ciR69%2B4NNzc37N69u9bxvXv3wtPTE7169cJbb72Fc%2BfOPVMOFntEREREjezSpUsYN24c0tPT633evXv3MH36dAwbNgynT5/G6tWrERoaiv/%2B978AgNTUVISEhGDt2rU4ffo0hgwZgpkzZ6KsrExyFhZ7REREpNLUrbN36tQpTJw4EcOHD4e5uXm9zz1y5AiMjY0xbtw4tGjRAv3798fgwYPx5ZdfAgB2794Nb29v9O3bF1paWpg0aRJat26NgwcPSs7DNXtEREREz%2BDBgwdQKBSPPWZqagobGxskJiZCR0cH27Ztq/e9Ll26hC5dutQae%2BWVV7Bnzx4AQHZ2NkaMGFHneGZmpuS8LPaIiIhIpTVFJ%2B7mzZu4detWrTFTU1O0a9fuqa89f/48JkyY8NhjUVFR8PDwkJyjpKQEenp6tcZ0dXVRWloq6bgULPZUTKtWohNIc/PmTWzdugu%2Bvr6SvjGESk0VneCpbt68iV0REfBdt071z6eaUJ7TyZN5ThuJ8pyqw/d9TY3oBE%2BlPJ%2BHDqn%2B%2BRSsKf44IyJ2ITIystbYnDlz4O/v/9TXOjo64uLFi42SQ09PD/fv36819uDBA%2Bjr6yuPP3jwoM7x1q1bS/41uGaPnsutW7cQGRlZ51MRPR%2Bez8bHc9r4eE4bF8%2BnWI%2Bukv3rD19f32bP0aVLF1y6dKnWWHZ2NqytrQEA1tbW9R6XgsUeERER/e20a9cO3bt3r/VDRIfV09MThYWF2L59OyoqKpCSkoK4uDjlOr23334bcXFxSElJQUVFBbZv347bt2/D09NT8q/BYo%2BIiIioGXl7eyM6OhoA0Lp1a2zduhWHDh2Co6Mjli5diqVLl6Jfv34AgP79%2B2PFihVYuXIlHBwcEB8fj88%2B%2BwzGxsaSfz2u2SMiIiJqIgkJCXXG4uPjaz3u0aMHvv766ye%2Bx9ChQzF06NDnzvDCypUrVz73q%2BlvTV9fHw4ODspFpNQwPJ%2BNj%2Be08fGcNi6eT2oOGjU1anDJEhERERE9F67ZIyIiIpIxFntEREREMsZij4iIiEjGWOwRERERyRiLPSIiIiIZY7FHREREJGMs9oiIiIhkjMUeERERkYyx2CPJiouLoVAoUFxcLDoKETWT0tJS0RGIqIFY7FG9qqursXXrVri5ucHe3h6vvfYa7O3t4erqiqioKPAGLM8uJiYGJSUlomMQSeLj48MPeE0oJycHCoVCdAySORZ7VK%2B1a9di7969WLBgAfbv348jR45g//79WLhwIQ4dOoR169aJjqh2tm/fjoEDB2LNmjXIy8sTHYfoqcrKykRHkI2zZ89i2LBhAICvv/4a3t7ecHd3x7FjxwQnIznjvXGpXv3798fu3bvRsWPHOsfy8vIwevRoJCcnC0imvqqrq5GYmIidO3ciJSUFzs7OmDhxIvr37y86mtqrqalBTEwMdu3ahYKCApiamuLtt9/GO%2B%2B8Aw0NDdHx1FJwcDBOnTqFgQMHol27drWOzZkzR1Aq9TVu3DjY29sjMDAQbm5uCAwMhLGxMcLCwhAXFyc6HslUC9EBSLVVVlbW%2BQf%2BERMTE1RVVTVzIvWnqakJd3d3uLu7Iy8vDzt37sS8efNgYmKC8ePHY9iwYdDV1RUdUy3FxMRg27ZtmD59Ojp27Ijc3Fxs2bIFmpqamD59uuh4aik/Px%2BWlpa4cuUKrly5ohxn8fx8Ll%2B%2BjC%2B%2B%2BAKXL19GYWEhBg0aBG1tbQQFBYmORjLGzh7Va/bs2dDX18eiRYvQtm1b5fidO3ewevVqVFZWIjw8XGBCeSgvL8fhw4exd%2B9e/Prrr0hNTRUdSS29%2BeabCAsLQ7du3ZRjv/32G/z9/XH8%2BHGByYgecnZ2xqFDh7B7924kJCRgx44dKCgowOjRo3HixAnR8Uim2NmjeoWEhCAwMBADBgyAkZERWrZsibKyMvz%2B%2B%2B/o27cvPvnkE9ERZaGgoAAZGRnIzs6GhYWF6Dhq6%2BbNm7Cxsak1ZmNjg99//11QInnIycnBzp07cePGDYSEhCA%2BPh5%2Bfn6iY6klDw8P%2BPn5oaCgAEuXLkV2djZmz54NHx8f0dFIxljsUb1MTEywY8cO5Obm4tKlSygpKUHLli1hbW0NKysr0fHUWnl5ufITfnp6Ojw8PLBhwwb07dtXdDS1ZWVlhaNHj%2BL1119Xjh09epR/VxsgOTkZ/v7%2BcHV1xcmTJ/HgwQNERUWhtLSUU%2BPPYdmyZdi/fz90dXUxaNAgXL16FaNHj8aECRNERyMZ4zQuUTPLysrCN998g7i4OLzwwgsYNWoUxowZg/bt24uOpvaOHTuGuXPnwtPTE5aWlsjNzcXx48fxySefwNXVVXQ8tTRixAgEBATAxcUF9vb2OH36NC5cuIC5c%2BdyarwB7t27h7y8PHTr1g2VlZXQ1tYWHYlkjFuvEDWzIUOGID09HcHBwfjhhx8wd%2B5cFnqNxMPDA1u2bIG2tjZ%2B/fVXGBoa4ssvv2Sh1wDXrl3DwIEDAfx5UUaPHj1w7949kbHUVklJCebPnw9HR0f4%2Bfnh6tWr8PT0xOXLl0VHIxnjNC5RM9PQ0MCePXtEx5Ctfv36oV%2B/fqJjyIa5uTnOnj1ba3nBhQsX0KFDB4Gp1NeHH36I0tJSfP/99xg1ahQsLS3h6uqK1atX4/PPPxcdj2SKxR5RM9PT0xMdQXamT5%2BOzZs3Y/z48U/cEiQmJqaZU8nDO%2B%2B8g5kzZ2LMmDGoqKjAZ599hh07dmDevHmio6mlxMRExMXFwcjICBoaGtDS0sK7776r7J4SNQUWe0Sk9h51nRwcHLj/WyPz9vaGgYEBvvzyS5ibmyMlJQXvvfderYtgSLrq6mrl%2BrxHS%2Bb/OkbUFHiBBkkyePDgx%2B7u/qRxejJbW1uYm5vX%2BxwufCdVU1FRgXv37qF169Z44YUXRMdRWwsWLICWlhaWL18OFxcXpKWlYc2aNSgsLMT69etFxyOZYmePJHnSHlDcG%2BrZaWlp8TZTjSw4OPipzwkNDW2GJPJTXFyMkJAQHDp0COXl5dDV1cXw4cPx7rvvshv1HIKDgzFz5kzY29ujqqoKvXv3RqdOnRAdHS06GskYO3tEzaxPnz44e/as6Biy8qjYu3v3Lk6cOAFXV1dYWlpCoVDg6NGj8PLyQlhYmOCU6mnRokW4du0aAgIC0KFDB%2BTl5SEiIgJ9%2BvTBkiVLRMdTSzU1Nbhw4QIKCgpgZmYGOzs7dkupSbHYo3qdPn36qc%2Bxt7dvhiTy0bt3b5w7d050DFmaMWMGRo4cCXd3d%2BXYTz/9hOjoaHzxxRcCk6kve3t7HDp0CG3atFGOKRQKDB06FCkpKQKTqZfr168/9TlPW95B9Lw4jUv1Gj9%2BPIDaNz03MjLC/fv3UV1dDWNjY5w6dUpUPLU0ZMgQ0RFkKzU1FRs3bqw11r9/f/j7%2BwtKpP50dHTqdJ309fV5VfkzcnNzU/47WlNTU%2Bvf1EePMzIyRMUjmWOxR/XKzMwEAHz%2B%2BefIysrC0qVL0apVK5SWlmLt2rUwMjISnFD9rFq1SnQE2bKwsMD3338Pb29v5VhsbCxvl9YAM2bMQEBAAJYsWQIrKysoFAqEhYVh0KBBtbpV7ErVjxddkUicxiVJXn31VSQkJEBXV1c59scff2DgwIFITU0VmIzoT8ePH0dgYCDs7OzQoUMH5OfnIysrC9HR0XB0dBQdTy3Z2Ngof66hoYG//pfx6DG7Ug1TWVmJrKwsdOvWTXQUkil29kiS6upq3L59GxYWFsqx/Px8LiomleLu7o4DBw7g4MGDuHnzJlxcXLBu3TpYWlqKjqa22JFqXD/88ANWrVoFhUJRq3Bu0aIFLly4IDAZyRk7eyRJaGgokpKS8K9//Ut5Rd6WLVswZMgQBAQEiI5HVK87d%2B7AxMREdAzZYCfq%2Bfn4%2BMDJyQmGhoa4ePEifHx8EBUVhbffflu5RpqosbHYI0kqKysRFRWFAwcOQKFQoEOHDhg5ciSmTZvGOxaQyjh//jw%2B%2BugjKBQKVFdXA3i4GfCdO3fwyy%2B/CE6nntiJalw9e/bEmTNnkJ%2Bfj2XLlmHHjh3Izs5GUFAQN6inJsNpXJKkRYsWCAwMRGBgoOgoRE8UEhICS0tLWFtbIy8vD05OToiJicH8%2BfNFR1Nb69atg5eX12M7UfTsTExMoKmpCXNzc%2BTk5AAAXnnlFdy4cUNwMpIzTdEBSH0kJydj5syZeOutt3Dr1i188MEHqKysFB2LSOnSpUsIDQ3FuHHjUFVVhcmTJ2PDhg3smDRAXl4eFi5cCG9vb9y9e1e5QfU333wjOppa6tq1K8LDwwEAbdq0QVJSElJTU6GjoyM4GckZiz2SJC4uDgsXLkSXLl1w7do1AEBCQgLv5UgqxdDQELq6urC0tMSlS5cAAL169UJBQYHgZOqLnajGtXDhQhw7dgy3bt1CQEAAZs2ahUmTJmHq1Kmio5GMsdgjSTZv3oyNGzciKCgImpqaMDU1xaefforvvvtOdDQipc6dO2Pnzp3Q0dFBy5YtkZGRgZycHK4rbQB2ohpPdXU1TExMEB8fDwsLC7Rq1QqzZs3Cvn37MHnyZNHxSMZY7JEkN27cQM%2BePQH8eTcNKysrlJaWioxFVEtgYCA%2B/vhj5ObmYurUqRg1ahRGjBiB4cOHi46mttiJahwKhQKDBw/Ghx9%2BCODhbMmUKVNw/PhxjBs3jhe7UJPiBRokSadOnXD8%2BHF4eHgox06ePMk7E5BK6dy5M3788UdoaWnB19cXtra2uHXrFk6ePCk6mtp6%2BeWXER8fD%2BDhHUoSExNRUlKCl156SXAy9bJhwwZ07doVCxYsAABERERg2rRpCAoKwoEDBxAREYHNmzcLTklyxWKPJAkKCsKsWbPg7u6OP/74AytXrsR3332HsLAw0dGIkJGRgTlz5uD69euws7PD5s2bYWRkBB0dHaxfvx43b97EsmXLRMdUWykpKdi/fz9u3boFc3NzXon7HJKTk7F//36YmJjg%2BvXryM3NVd4n293dHf/%2B978FJyQ54zQuSfLqq6/i66%2B/hqGhIRwdHVFdXY2tW7fCxcVFdDQirF69Gl26dMGmTZtgYGCA6OhopKSkYMyYMTA0NMTevXtFR1Rb33zzDaZNm4by8nLY2tri/v37GD9%2BPI4ePSo6mlopLi5Wbux9/vx5GBoa4uWXXwYA6OjooKKiQmQ8kjl29kgyGxsbrFixQnQMojoyMjJw9OhRmJiYwMbGBn5%2Bfvj222/h5%2BeHuXPnQlOTn2uf1%2BbNmxEdHQ0nJyflWFJSEj788EN4enoKTKZejIyMlHdySUtLQ58%2BfZTHLl%2B%2BjNatWwtMR3LHYo8kuXDhAsLCwlBQUKC8M8EjvHcmifboKkcAMDMzw40bNzBv3jxMmTJFcDL1d/v2bfTr16/W2IABA7Bw4UJBidSTq6srQkJC4Onpibi4OOUH56KiIoSHh2PAgAGCE5KcsdgjSYKDg2FtbY3BgwezS0Iq5/9vraKlpcX7jDaSAQMG4IsvvsDEiROVY/Hx8Xj11VcFplI/QUFBmDt3LpYsWQJvb28MHjwYAODi4gJTU1OsWrVKcEKSM94blyTp3bs30tLSoKWlJToKUR19%2BvTB2bNnlY8dHByQlpYmMJF8zJ49GwkJCejatSusrKygUChw/vx52NrawsDAQPm8mJgYgSnV108//QR7e3vuW0hNip09ksTe3h4ZGRmws7MTHYWojsrKSuzbt0/5uKKiotZjABg2bFhzx5IFW1tb2NraKh9bW1vD2dlZYCJ54bmk5sDOHkny22%2B/YcKECXB0dIShoWGtY6GhoYJSET3k5uZW73ENDQ2uLW0kxcXF0NbWhra2tugoRCQRO3skyerVq9GmTRvo6%2BuLjkJUR0JCgugIspWTk4P169cjKioKR48eRVBQEPT19bFx40b07dtXdDwikoCdPZKkV69eSE5OZrFH9DczdepUtGvXDmvWrMGgQYMwfPhw6OvrY9%2B%2Bfdi9e7foeEQkATt7JImVlRVKSkpY7BH9zVy8eBHR0dEoKChAbm4uxo4dC319fd49h0iNsNgjSYYPH44pU6ZgxIgRMDY2rrXVBRe%2BE8lXZWUlampqkJycjO7du8PAwAB37tzh1aNEaoTTuCTJkxbAc%2BE7kbzNmzcPJSUlyMzMxNSpU%2BHq6opFixahU6dOvDiLSE2w2CMioicqKSnB1q1boaOjg%2BnTpyMzMxN79uzB/PnzoaenJzoeEUnAYo8ky8vLg0KhwKO/MhUVFcjKysKkSZPEBiOiJhMREQFPT0/Y2NiIjkJEz4lr9kiSTz/9FBs2bFCu1aupqYGGhgZsbW1Z7BHJ2KVLl7B9%2B3aYmJjAy8sLXl5e6Nmzp%2BhYRPQM2NkjSVxcXPDee%2B9BW1sbCQkJmDdvHkJCQtChQwcsWLBAdDwiakIVFRU4deoUEhISkJSUhOrqanh6emLp0qWioxGRBLyjPUlSVFQELy8v2NjY4JdffoGxsTHee%2B89HDx4UHQ0ImpiWlpasLOzg6OjI5ydnVFUVITY2FjRsYhIIk7jkiTt2rVDcXEx2rdvj/z8fNTU1MDExAT37t0THY2ImlBYWBiSk5ORlZWFLl26wMnJCZs2beLdM4jUCIs9ksTe3h4BAQH4%2BOOP0a1bN6xfvx46Ojpo37696GhE1IT%2B85//QFNTE35%2Bfhg0aBB69OhRa59NIlJ9XLNHkhQXFyMsLAz%2B/v4oLCzE3Llzcf/%2BfYSGhsLZ2Vl0PCJqIuXl5UhLS8NPP/2EEydOoLCwEP369YOzszNGjhwpOh4RScBij4iIJCkuLkZsbCw2bdqE33//HRkZGaIjEZEEnMYlSaqqqnD48GFcvXoV1dXVtY7NmTNHUCoiamqZmZn48ccfceLECaSnp8PW1haTJ0%2BGh4eH6GhEJBE7eyTJ0qVLER8fDxsbG7Ro8ednBA0NDcTExAhMRkRN6R//%2BAccHBzg7u4ODw8PrtMlUkMs9kgSJycnREdHo0ePHqKjEFEzKioqgqGhIQDgzp07MDExEZyIiJ4V99kjSaqrq9GtWzfRMYiombVs2RIbNmxA37594ebmhtzcXIwYMQI3b94UHY2IJGKxR5L4%2BPjg888/Fx2DiJpZREQEUlJSEB4eDi0tLbRt2xZmZmZYvXq16GhEJBGncUmSsWPH4uzZs9DT06szjXP8%2BHFBqYioqbm5uWHnzp1o3749HBwckJaWhqKiInh6eiI1NVV0PCKSgFfjkiQjR47knlpEf0OlpaXKD3iPegO6urrQ1OTEEJG6YLFHkgwfPlx0BCISoFevXoiMjERQUJDyzhk7duzgxVpEaoTTuCSJQqHApk2bHrvPHrdeIZKvvLw8TJw4EZWVlbh9%2BzasrKxQUlKCbdu2oXPnzqLjEZEELPZIkilTpqCwsBCurq7Q0tKqdYybKhPJW1lZGRITE3H9%2BnWYmZnhtddeg4GBgehYRCQRiz2SxN7eHocPH%2BYeW0RERGqGa/ZIklatWkFbW1t0DCJqJm5ubso1eo%2BjoaGBY8eONWMiInpe7OyRJHv27EFSUhKmTZuGtm3b1jpmbm4uKBURNZW9e/c%2Bdjw9PR27du1Ct27dEBsb28ypiOh5sNgjSWxsbJQ/f/Rpv6amBhoaGsjIyBAVi4ia0datW7F%2B/XqMHDkSwcHB7PYTqQkWeyRJQUHBE49ZWFg0YxIiam5FRUVYvHgxfv75Z7z//vt48803RUciomfANXskCQs6or%2Bn9PR0BAUFRlOu6wAAAV9JREFUoXXr1oiNjYWlpaXoSET0jFjsUb0et0hbR0cH5ubmGDFiBD/hE8nYli1bEB4eDl9fXyxatIjTtkRqisUe1cvf37/OWGVlJXJzc/H%2B%2B%2B%2BjqqoKPj4%2BApIRUVOaMWMGkpKS4OfnBy8vL5w/f77Oc%2Bzt7QUkI6JnxTV79Nx%2B/PFHhIeH49tvvxUdhYga2V8vynocXpxFpD5Y7NFzKy8vR//%2B/XHmzBnRUYiIiOgJNEUHIPWlpaVV76arREREJB6LPXpup06dwosvvig6BhEREdWDF2hQvfbt21dnrLKyEtevX8fOnTsxf/58AamIiIhIKq7Zo3q5ubnVGdPR0UGHDh0wZMgQDBs2TEAqIiIikorFHhEREZGMcc0eERERkYyx2CMiIiKSMRZ7RERERDLGYo%2BIiIhIxljsEREREckYiz0iIiIiGWOxR0RERCRjLPaIiIiIZIzFHhEREZGM/R%2Bmc0/w8BlLrAAAAABJRU5ErkJggg%3D%3D\" class=\"center-img\">\n",
       "    <img src=\"data:image/png;base64,iVBORw0KGgoAAAANSUhEUgAAAnsAAAIwCAYAAAD%2Bq604AAAABHNCSVQICAgIfAhkiAAAAAlwSFlzAAAPYQAAD2EBqD%2BnaQAAADl0RVh0U29mdHdhcmUAbWF0cGxvdGxpYiB2ZXJzaW9uIDIuMi4yLCBodHRwOi8vbWF0cGxvdGxpYi5vcmcvhp/UCwAAIABJREFUeJzs3Xl8TPf%2Bx/F3EolsiJKItVQFtSVEaekiqEttxZWiVFuUENGqFretS4pq0w1VLnpdW5vauty61VJUF0nbhJ9WY19iaRLRIPs2vz/SzDUSMkzcORmv5%2BMxjzHfs%2BQzXySfvM85c5xMJpNJAAAAcEjO9i4AAAAANw/NHgAAgAOj2QMAAHBgNHsAAAAOjGYPAADAgdHsAQAAODCaPQAAAAdGswcAAODAaPYAAAAcWCV7FwDAGBISErR%2B/Xr98MMPSkpKUk5Ojm677TY1adJEDz74oAYNGiR3d3d7lwkAuE5O3C4NwPz58/Xee%2B%2BpsLBQ3t7eatCggVxdXZWSkqIzZ85IkmrXrq13331XLVq0sHO1AIDrQbMH3OI2bNig6dOny9PTU3PnzlX37t3l4uJiXn7kyBFNnz5de/bsUfXq1bV582bddtttdqwYAHA9OGcPuMUtXrxYkvT888/rL3/5i0WjJ0mNGzfWe%2B%2B9pxo1auiPP/7QypUr7VEmAOAG0ewBt7CLFy/q5MmTkqQ2bdpcdb3bbrtN3bp1kyT93//93/%2BkNgBA%2BeACDeAWVqnSf78FbN%2B%2BXXfddddV1w0PD9eIESNUo0YN89jUqVO1adMmTZs2Tffdd5/eeust/fjjj8rNzdXtt9%2BuRx55RI8%2B%2BqgqV65c6j5//PFHrVq1SnFxcUpLS1PVqlUVGBio4cOH65577il1m4sXL%2BrDDz/Uzp07dfjwYaWnp8vDw0MNGjRQly5dNGLECFWrVs1im6ZNm0qSvvvuO7366qvatm2bnJ2d1aJFC73//vt68cUXtWnTJr3yyitq3769FixYoN27d%2BvSpUuqV6%2Be/vrXv2rkyJFycnLSl19%2BqX/961/67bffVFhYqGbNmmncuHF64IEHStSanZ2tDRs2aOvWrTpw4IAuXrwoNzc31alTR507d9YTTzyhWrVqWWwTEhKi06dPa/PmzUpNTdWyZcu0d%2B9eZWZmql69eurZs6eeeuopeXl5XfXvCgAuxzl7wC1uyJAhiouLk5OTk/r166dBgwapbdu2JQ7nlqa42RswYIC2bNmizMxMNWnSRPn5%2BTp69KgkqV27dlqyZImqVKlisW1UVJSWLl0qSapWrZrq1aun5ORkpaSkSJJGjRqlKVOmWGxz/PhxjRw5UmfPnlWlSpXUoEEDeXh46PTp00pLS5MkNWrUSBs2bLBohoqbvbZt2yo%2BPl4BAQE6f/68OnTooDfeeMPiffznP/9Rfn6%2BGjdurNTUVHM9Y8aMkZOTk5YsWaKqVauqfv36OnbsmDIzM%2BXk5KR//OMfuv/%2B%2B81f8/z583r88cd18OBBOTk5qUGDBqpSpYqSkpLM%2B6xRo4Y2btwof39/83bFzd4TTzyhFStWyM3NTQ0bNtSFCxf0%2B%2B%2B/S5KCgoK0Zs0aq/6OAEAmALe0X3/91RQYGGgKCAgwP9q2bWsaPXq0acmSJaY9e/aYCgoKSt32hRdeMG/TpUsX0/79%2B83L4uLiTPfee68pICDA9NJLL1ls98EHH5gCAgJMwcHBpk8%2B%2BcQ8XlhYaPr888/N9Xz00UcW2z322GOmgIAA0%2BDBg01JSUkW223atMnUrFkzU0BAgGn16tUW2xXX2LJlS1NsbKzJZDKZCgoKTH/88UeJ9zFkyBBTcnKyeZ2pU6eaAgICTM2aNTM1bdrUtHz5cvN8nD9/3tS/f39TQECA6bHHHit1brp37246duyYxbJvvvnG1KZNG1NAQIDp1VdftVjWpUsXcy1Tp041Xbx40fweV69ebV721Vdflfp3AgBX4pw94BZ31113ad26dWrXrp15LD09XTt37tQbb7yhwYMHq3PnznrrrbeUlZVV6j6cnZ21aNEiNW/e3DwWFBSkefPmSZLWrVunpKQkSVJubq4WLFggSZozZ4769u1r3sbJyUm9evUyJ3oLFixQfn6%2BJCk1NVWHDh2SJEVGRsrPz89iu/79%2B%2Bvuu%2B%2BWJB04cKDUOnv27Kn27duba/bx8bFYXqlSJb355pvy9fU1rzNmzBhJUmFhofr166cnn3xSzs5F3zqrV6%2BuESNGSJL2799v3k9%2Bfr5%2B%2BuknOTk5adq0aWrYsKHF17nvvvvUq1cvSdLBgwdLrbVZs2aaM2eOORF1cnLSsGHDzCnlzz//XOp2AHAlmj0AuvPOO7V27Vp9/PHHmjBhgoKCguTq6mpenpqaqsWLF6tv377mQ4mX69ixo5o1a1ZivHPnzqpXr54KCwu1fft2SVJ8fLzOnTsnLy8vde3atdR6%2BvbtK2dnZyUlJZmbqBo1amj37t3au3evAgICSmxTUFAgb29vSUXnypXm8oa2NE2bNrU4pCpJdevWNf%2B5tPPyipvO9PR081ilSpW0detW7d27Vw8%2B%2BGCJbUwmkzw9Pa9Z64MPPignJ6cS43fccYck6dKlS9d8LwBQjAs0AJg1b95czZs3V3h4uLKyshQXF6dvv/1Wn3zyiVJTU3Xy5ElFREQoOjraYrvWrVtfdZ9NmzbVqVOndPz4cUkyp3N5eXkaNmzYVbdzcXFRYWGhjh49arF/d3d3nT17Vnv37tXJkyeVmJioI0eO6LffflNmZqakohSuNMWJ3dXUrl27xJibm5v5z9WrVy%2Bx/PKLXK5UuXJlpaamas%2BePTp%2B/LhOnTqlo0eP6rffftOFCxeuWevlyeXliu9iUlBQcPU3AgCXodkDUCoPDw916tRJnTp1UkREhKZPn67PP/9ce/bs0a%2B//mpxJ40rr369XHGCdfHiRUn/TaRyc3MVFxdXZh3F20nS0aNH9dprr2nnzp0WTZK3t7eCg4OVnJyshISEq%2B6rrNu9eXh4XHN58eFba6SkpGjevHn64osvlJeXZ/E1WrVqpYKCgmseir28ySyNiWvrAFiJZg%2B4hb388svavXu3HnnkEY0bN%2B6q67m7u2vWrFn68ssvlZeXp2PHjlk0e8WJWmmKD28Wf2RLcUPVokULbdy40epaU1NT9dhjjyk1NVV16tTR4MGDddddd%2BmOO%2B5QvXr15OTkpMmTJ1%2Bz2ftfycnJ0eOPP64jR47Ix8dHQ4YMUcuWLdW4cWM1aNBALi4ueuuttzjvDsD/BM0ecAvLycnRiRMntHXr1ms2e1JReubl5aW0tLQSt0srPjRbmuLm684775RU9NEoUtHHqOTn55d6GNRkMikmJkb%2B/v6qU6eO3NzctGHDBqWmpsrHx0cbNmwo9ZZtxReB2NvWrVt15MgRVapUSdHR0SUu0JBU6rmPAHAzcIEGcAsrvhL2l19%2BKTNl%2B/bbb5WWliYfH58Sd9v45ptvzJ8dd7nt27fr7NmzcnNzU0hIiCSpffv2qlKlijIyMq76NT/77DM9/vjj6tmzp7kpOnXqlCSpTp06pTZ6hw8f1p49eyTZ/3y24lq9vLxKbfTOnTunHTt2SLJ/rQAcH80ecAvr1KmTevToIUl68cUXNXv2bHOjUiwnJ0cbNmzQpEmTJEkREREl7t6QmZmpsLAwnT171jwWExOjadOmSSr6QOLijxDx9PQ0f5zJ7NmztWHDBovz77Zu3aoZM2ZIKvqolAYNGkj671WoCQkJ2rJli3l9k8mkb775RqNGjTKfG3e1j4j5Xymu9cKFC/rXv/5lcX7dnj179MQTT5g/BNretQJwfBzGBW5xUVFR8vT01Mcff6yVK1dq5cqVqlOnjmrUqKGcnBwdP35cubm5cnV11eTJkzV06NAS%2B2jYsKF%2B%2B%2B03devWTQEBAcrMzDRffdu7d289/fTTFuuPHj1aiYmJ%2BuijjzR9%2BnS9/vrrqlevnpKSkpScnCyp6G4Xr7zyinmbQYMGae3atTpx4oQmTpyounXrqnr16jp79qxSU1Pl6uqqu%2B%2B%2BW7GxsXY/nBsSEqKgoCDFx8drzpw5Wrp0qWrVqqWUlBQlJSXJyclJ9957r77//nslJyfLZDKV%2BjErAFAeaPaAW5ybm5teffVVDRs2TJs3b1ZMTIySkpKUkJAgDw8PNWrUSJ07d9agQYPMidWVWrVqpaioKM2fP18///yzKlWqpLvvvltDhgwxf3jw5ZycnBQZGakePXroww8/1J49e/Tbb7%2BpcuXKCgwMVO/evRUaGmpxRaq3t7fWr1%2BvpUuXavv27Tp16pTOnTsnf39/Pfjgg3r88cfl6empbt26KSEhQWfOnFGdOnVu2rxdi4uLi1asWKFVq1bp888/V2Jiog4ePChfX1/16tVLw4YNU4sWLdShQwelpaUpLi6uzM8ABIAbxb1xAdyw4nvK9unTR1FRUfYuBwBQCs7ZAwAAcGA0ewAAAA6MZg8AAMCB0ewBAADcoPPnz6t79%2B6KiYm56jo7d%2B5Unz59FBgYqJ49e2r79u0Wy5cuXar7779fgYGBGj58uI4ePVquNdLsAbhhr776qg4cOMDFGQBuST///LNCQ0N18uTJq65z/PhxhYeHKyIiQj/99JPCw8M1adIk80dEbdq0SatWrdLy5csVExOjFi1aaOLEieV6/2uaPQAAgOu0adMmPffcc3rmmWfKXC84OFjdunVTpUqV1KtXL7Vv317R0dGSpI8%2B%2BkhDhw5VkyZNVLlyZU2ePFlnzpy5ZlJ4vWj2AADALSc5OVm//vqrxaP4Q92t0blzZ3311Velfpbo5Q4fPqyAgACLsTvvvNN83/Arl7u6uqphw4bm5eWBD1U2moryKfqNGkmHDklNmkjHjtm7mmvLz7d3BdZxdpYuu22YUZ0662LvEqzi4iL5%2B0u//y4Z/fazly7ZuwLruLpKjRtLR45If96ZzrDq1bN3BWVzcpK8vKSMDKkifOLtn3c8tI%2Bb8LMxev58LVy40GJswoQJCg8Pt2p7X19fq9bLyMiQh4eHxZi7u7syMzOtWl4eaPZwY3x8in6a%2BvjYuxLHUVEa/QrC2bloSp2djd/sVRQuLkVz6uJi/GavInBy%2Bu%2BjIjR7jiY0NFQhISEWY9Y2cNfDw8ND2dnZFmPZ2dnme4yXtbw80OwBAABjcy7/s878/Pzk5%2BdX7vu9UkBAgH799VeLscOHD6tly5aSpCZNmujQoUPq0qWLJCkvL0/Hjx8vcejXFpyzBwAAcJP07dtXsbGx2rx5s/Lz87V582bFxsaqX79%2BkqSBAwdq9erVSkhIUE5Ojt544w3VrFlTwcHB5VYDyR4AADC2m5Ds3UxBQUGaOXOm%2Bvbtq8aNG%2Bvdd99VVFSU/va3v6lu3bpasGCBGjVqJEkaNGiQLl26pPHjx%2Bv8%2BfNq1aqVlixZIldX13Krx8lUnh/kAttVlPO2goKkuDipbVspPt7e1VxbRblAw8WlQpxcVlEu0HB1lWrVkpKSjH9%2BWUW5QMPdvejarGPHpCtOMTKcinCBhrPzfy/QqADXZtn3Ao1ybHzMjP6NoRyR7AEAAGOrYMme0dDsAQAAY6PZswmzBwAA4MBI9gAAgLGR7NmE2QMAAHBgJHsAAMDYSPZsQrMHAACMjWbPJsweAACAAyPZAwAAxkayZxNmDwAAwIGR7AEAAGMj2bMJzR4AADA2mj2bMHsAAAAOjGQPAAAYG8meTZg9AAAAB0ayBwAAjI1kzyY0ewAAwNho9mzC7AEAADgwkj0AAGBsJHs2odkDAADGRrNnE2YPAADAgZHsAQAAYyPZswmzBwAA4MBI9gAAgLGR7NmEZg8AABgbzZ5NmD0AAAAHRrIHAACMjWTPJsweAACAAyPZAwAAxkayZxOaPQAAYGw0ezZh9gAAABwYyR4AADA2kj2bXNfshYSEaOPGjSXGN27cqJCQkHIryp6aNm2qmJgYq9ZNTU1VWFiYgoOD1aFDB82ePVv5%2Bfk3uUIAAADr0SrbYNKkSfL09NSuXbu0fv16/fDDD1qxYoW9ywIAwLE4O5f/4xZS7u/21KlTatq0qdatW6eQkBC1a9dOTzzxhH7//XdJRSngkCFD9Morr6hjx46655579Le//U15eXmSpPT0dL344ot66KGHFBgYqPvuu0%2BLFy827z8kJET//Oc/1bdvX7Vp00ZDhgzRr7/%2BqtGjRysoKEi9evXS//3f/5nX//777zVo0CAFBwfr4Ycf1qeffmpelpeXp7lz56pDhw7q2LGjli1bZvFeFi9erIcffrjU93nixAnFxsZqypQp8vDwUP369RUWFqY1a9aU21wCAADR7Nnopr3bHTt26OOPP9aWLVt07tw5LVq0yLwsLi5ONWrU0K5du7RkyRJt3rxZX375pSQpKipKp06d0vr16xUfH68XX3xRb731lk6cOGHeft26dfrHP/6h7777TufPn9fw4cMVFhammJgYBQQEKCoqSpKUkJCgcePGacyYMYqJiVFkZKTmzJmjXbt2SZIWLVqkHTt2aP369fr666918OBBi/cwduxYff7556W%2Bv0OHDsnHx0e1atUyjzVu3FhnzpzRxYsXy2cSAQAAbHTTLtAYPXq0qlatKqkojYuPjzcvc3d319ixY%2BXk5KTWrVuradOmOnbsmCQpPDxcLi4u8vb21u%2B//67KlStLkpKTk3X77bdLkgYOHCh/f39JUuvWrZWenq6goCBJUufOnfXee%2B9Jkj788EN17dpVDz30kCSpbdu2Gjx4sNasWaP77rtPn3zyicaOHav69etLkl588UWL5O9aMjIy5OHhYTFW/DozM9P83q8lOTlZKSkpFmO%2BjRrJz8fHqhrsqlkzy2fcMlxd7V2BdSpVsnw2Mnd3e1dgHTc3y2cjqwjBTXGNFaFWu2OSbHJd3wbd3NxUUFBQYrygoEBuV/zvr1mz5n%2B/SKVKMplM5tc1atSQk5OT%2BbWrq6t5eWpqqmbPnq39%2B/erXr16atmypSSpsLDQvL7PZc2Qi4uLqlWrZn7t7Oxs3tfp06e1e/duBQcHW9TaoEEDSUXNVu3atc3LqlatarGva/H09FRWVpbFWPFrLy8vq/YRHR2thQsXWoxNiIhQeESEVdsbwtq19q7Asbi42LuCMl0WZlcINWrYuwLHU7euvStwLFfkBkC5u65mr3bt2jp9%2BnSJ8RMnTqhuOf3vj4iIUEhIiJYvX65KlSrpjz/%2B0EcffWSxzuWN4rX4%2B/vrkUce0axZs8xjycnJ5mbQ399fiYmJ5mWZmZm6dOmSVftu0qSJ0tLSdO7cOXNje%2BTIEfn7%2B6tKlSpW7SM0NLTEVcy%2BffpI//qXVdvbVbNmRY3e0KFSQoK9q7m2H3%2B0dwXWcXGRSvllymiSzhm/IZWKEr0aNaTUVMnoF8lnZtq7Auu4uRU1eqdPS7m59q7m2vz87F1B2Zydixq9rCzpsjzDsKzMMW4Okj2bXFez169fP82dO1ft27fXPffco/z8fO3evVvr1q3Tyy%2B/XC4FXbp0Se7u7nJxcdH58%2Bc1e/ZsSTJfwHE9Bg0apCeeeEIPPfSQ7r33Xp08eVJjxoxRly5dNG3aNP31r3/VsmXL1KFDB9WrV0%2BvvvpqqcllaRo2bKh27dppzpw5mjVrlv744w8tWrRIgwYNsro%2BPz8/%2BV35HenPw9kVRkKCdNkheji%2BG/ivaFf5%2BcavOTvb3hVcn9xc49dcEZqnYoWFFateu6DZs8l1NXv9%2B/dXXl6eoqKidPLkSRUWFqpRo0aaPn36Va9avV5z587VnDlz9P7776tatWrq1auX7rrrLh08eFCdO3e%2Brn21adNGb775pt58801FRETIw8NDvXv31rPPPiup6LzCrKwsPfbYY8rPz9fgwYMtDhEvXrxYn3322VUv0pg/f75mzZqlrl27ytnZWf3791dYWNiNv3kAAIBy5mS6/GQ62J%2BVh6jtLihIiouT2rY1frJn9GN4xSrIYdxTZyvGYVxX16LzC5OSjJ/sWXn2iN25u0uNGhUdgDB6slevnr0rKJuzc9Gh0YyMipHsWXmG0s1xzz3lv88ffij/fRoUuSgAAIADqwAfSgAAAG5pBjxnLzU1VS%2B99JJiY2Pl4uKivn376oUXXlClKz7vadSoUfr5558txjIzMxUaGqpZs2bp3Llz6tSpkzw9Pc3Lq1evrq%2B//rrcaqXZAwAAxmbAZm/SpEmqVauWdu3apXPnzmncuHFasWKFRo0aZbHelXfnWr9%2BvRYuXKgJEyZIkvbt26e6deuWa3N3JePNHgAAgIHd6C1Tjx49qsjISEVFRZk/jWPfvn3mzxS%2BWUj2AACAsd2EZK/Uu1j5%2Bpb8SLRSlHXL1KvdRWvmzJnq37%2B/xc0e9u3bpwsXLqh37946d%2B6cWrVqpRdeeEF33nnnDb6zkkj2AADALSc6OloDBgyweERHR1u1bVm3TC3NTz/9pL1795oP3xarWrWq2rVrp5UrV2rr1q1q2LChnnjiCatv8mANkj0AAGBsNyHZK/UuVr6%2BVm17I7dMjY6OVs%2BePUt8jTfeeMPi9bRp07Rhwwb99NNP6tKli1X1lIVmDwAAGNtNaPZKvYuVla73lqn5%2Bfnatm2b3n33XYvx9PR0vfvuu3rsscfMt50tKChQfn6%2B3N3db6i20nAYFwAA4DpcfsvU9PR0JSYmXvOWqQcOHFBOTo7atm1rMe7t7a3vv/9e8%2BbN06VLl5SRkaHIyEjVq1fP4rw%2BW9HsAQAAY3N2Lv%2BHjebPn6/8/Hx17dpVgwcP1n333We%2BZWpQUJA%2B/fRT87qJiYmqVq2aKleuXGI/ixYtUmFhobp166b77rtPKSkpWrp0qVxdXW2usRi3SzMabpdW/rhdWrnidmnlj9ullT9ul1b%2B7Hq7tO7dy3%2BfX31V/vs0KM7ZAwAAxmbAD1WuSGj2AACAsdHs2YTZAwAAcGAkewAAwNhI9mzC7AEAADgwkj0AAGBsJHs2odkDAADGRrNnE2YPAADAgZHsAQAAYyPZswnNHgAAMDaaPZswewAAAA6MZA8AABgbyZ5NmD0AAAAHRrIHAACMjWTPJjR7AADA2Gj2bMLsAQAAODCSPQAAYGwkezZh9gAAABwYyR4AADA2kj2b0OwBAABjo9mzCbMHAADgwEj2AACAsZHs2YTZAwAAcGAkewAAwNhI9mxCswcAAIyNZs8mzB4AAIADI9kzmvx8e1dwfX780d4VlK1SBfhnHhQkxcVJ7dtL8fH2ruaa6qWl2bsE6zg7S6qiWp6XpMJCe1dzbdUqyO/dzs6SvNTIL8P4c/rAA/auoGzNmklr18pr9FApIcHe1ZQtLs5%2BX5tkzybMHgAAgAOrAJEHAAC4pZHs2YRmDwAAGBvNnk2YPQAAAAdGsgcAAIyNZM8mzB4AAIADI9kDAADGRrJnE5o9AABgbDR7NmH2AAAAHBjJHgAAMDaSPZswewAAAA6MZA8AABgbyZ5NaPYAAICx0ezZhNkDAABwYCR7AADA2Ej2bMLsAQAAODCaPQAAYGzOzuX/sFFqaqrCwsIUHBysDh06aPbs2crPzy913VGjRqlVq1YKCgoyP7755htJUkFBgebNm6d7771XQUFBGjdunJKTk22u73I0ewAAwNgM2OxNmjRJnp6e2rVrl9avX68ffvhBK1asKHXdX375RcuXL1d8fLz5cf/990uS3nvvPX333XfasGGDdu3aJXd3d7344os213c5mj0AAIDrcOLECcXGxmrKlCny8PBQ/fr1FRYWpjVr1pRYNzExURcuXNBdd91V6r7WrVun0aNHq3bt2vL29tbf/vY3ffPNN0pMTCy3erlAAwAAGNtNuEAjOTlZKSkpFmO%2Bvr7y8/Mrc9tDhw7Jx8dHtWrVMo81btxYZ86c0cWLF1W1alXz%2BL59%2B%2BTl5aVnnnlG%2B/btU82aNTVy5EgNGjRIly5d0u%2B//66AgADz%2BjVr1lS1atV04MAB1a9fvxzeKc0eAAC4BUVHR2vhwoUWYxMmTFB4eHiZ22ZkZMjDw8NirPh1ZmamRbOXm5urwMBAPfPMM2rSpIliYmIUHh4uLy8vBQUFSZI8PT0t9uXu7q6MjIwbel%2BlodkDAADGdhOSvdDQUIWEhFiM%2Bfr6WrWtp6ensrKyLMaKX3t5eVmM9%2B/fX/379ze/7ty5s/r376///Oc/uvfeey22LZadnV1iP7ag2QMAAMZ2E5o9Pz8/qw7ZlqZJkyZKS0vTuXPnVLNmTUnSkSNH5O/vrypVqlisu379enl5ealnz57msdzcXFWuXFnVqlVTrVq1dPjwYfOh3JSUFKWlpVkc2rUVF2gAAABch4YNG6pdu3aaM2eO0tPTlZiYqEWLFmnQoEEl1k1PT1dkZKT279%2BvwsJC7dixQ//%2B978VGhoqSRowYIDee%2B89JSYmKj09XXPmzNHdd9%2BtBg0alFu9JHsAAMDYDHgHjfnz52vWrFnq2rWrnJ2d1b9/f4WFhUmSgoKCNHPmTPXt21ePP/64MjMzNWHCBKWmpqp%2B/fqaN2%2BegoODJUnjx49Xfn6%2Bhg0bpoyMDHXo0EFvv/12udbqZDKZTOW6R9imoMDeFVjPxaVi1FupAvxOExQkxcVJbdtK8fH2ruba0tLsXYF1nJ2lKlWkS5ekwkJ7V3NtBvxBVipnZ8nLS8rIMP6cPvCAvSsoW7Nm0tq10tChUkKCvaspW1yc/b727Nnlv8%2B//a3892lQFeCnIAAAuKVVlF%2BIDIpmDwAAGBvNnk2YPQAAAAdGsgcAAIyNZM8mNHsAAMDYaPZswuwBAAA4MJI9AABgbCR7NmH2AAAAHBjJHgAAMDaSPZvQ7AEAAGOj2bMJswcAAODASPau8PLLL%2Buzzz6TJOXn5ysvL08eHh6SpKysLJlMJn3yySdq1qyZxXYFBQXq1q2bHn/8cY0cOfJ/XTYAAI6LZM8mzN4VZs2apfj4eMXHx2vmzJmqU6eO%2BXVCQoJatGihdevWldhux44dSktL06BBg%2BxQNQAAQOlo9q7T8OHD9emnnyo7O9tifO3atRo4cKC8vb3tVBkAAA7K2bn8H7cQDuNep4cfflivvfaavvjiC/Xv31%2BSlJiYqB9%2B%2BEEvvfTSde0rOTlZKSkpFmO%2BNWrIz9e33OqFpKAge1dxV6z/AAAgAElEQVRQtuLTAq44PcCQKso3yeI6K0K9FaFGqWLNaUX4v9SwoeUzrq4i/JszMJq96%2BTm5qbBgwdr3bp15mbvgw8%2BUOfOndXwOv/DRkdHa%2BHChRZjE8aPV/jEieVV7s3n4mLvCsoWF2fvCqy3dq29K3A8Xl72rsDx/Hkes6FVpP9Lc%2BbYuwI4OJq9GzB06FAtX75cR44cUf369bVx40ZFRUVd935CQ0MVEhJiMeZbo4ZUUFBepd5cLi4Vo9b27e1dQdmaNSv64TR0qJSQYO9qrm3nTntXYB1n56JGLyNDKiy0dzXXVlFSC2fnokYvK8v4czp6tL0rKFvDhkWN3vTp0vHj9q6mbPZsoCvK/xGDotm7AbVq1VLXrl21fv16NW/eXNWrV1enTp2uez9%2Bfn7y8/OzHKwIzVNFEx9v7wqsl5Bg/HqN/kP%2BSoWFFa9mo6sIc2r0X5oud/x4xaoXFQ7N3g0aPny4nnnmGSUkJGj48OFycnKyd0kAADgmkj2bMHs3KDg4WDVr1tQvv/xiPncPAADcBFyNaxOSvWsYMGCABgwYcNXlmzZt%2Bh9WAwAAcP1o9gAAgLHdYklceWP2AAAAHBjJHgAAMDaSPZvQ7AEAAGOj2bMJswcAAODASPYAAICxkezZhNkDAABwYCR7AADA2Ej2bEKzBwAAjI1mzybMHgAAgAMj2QMAAMZGsmcTZg8AAMCBkewBAABjI9mzCc0eAAAwNpo9mzB7AAAADoxkDwAAGBvJnk2YPQAAAAdGsgcAAIyNZM8mNHsAAMDYaPZswuwBAAA4MJI9AABgbCR7NmH2AAAAHBjJHgAAMDYDJnupqal66aWXFBsbKxcXF/Xt21cvvPCCKlUq2Vp98MEHWrFihZKTk%2BXn56cRI0Zo2LBhkqTCwkK1a9dOJpNJTk5O5m2%2B%2B%2B47eXp6lkutNHsAAMDYDNjsTZo0SbVq1dKuXbt07tw5jRs3TitWrNCoUaMs1tu6davefPNNLV26VG3atNGePXs0ZswY1axZUz169NDhw4eVl5enuLg4ubm53ZRajTd7AAAABnbixAnFxsZqypQp8vDwUP369RUWFqY1a9aUWDcpKUmjR49WYGCgnJycFBQUpA4dOujHH3%2BUJO3bt09Nmza9aY2eRLIHAACM7iYke8nJyUpJSbEY8/X1lZ%2BfX5nbHjp0SD4%2BPqpVq5Z5rHHjxjpz5owuXryoqlWrmseLD9cWS01N1Y8//qhp06ZJKmr2cnJyNHDgQJ0%2BfVqNGzfW5MmT1bZtW1vengWaPQAAYGw3odmLjo7WwoULLcYmTJig8PDwMrfNyMiQh4eHxVjx68zMTItm73IpKSl6%2Bumn1bJlS/Xu3VuS5O7urtatWysiIkLVqlXTmjVr9NRTT%2BnTTz9V/fr1b%2BStlUCzBwAAbjmhoaEKCQmxGPP19bVqW09PT2VlZVmMFb/28vIqdZs9e/YoIiJCwcHBmjt3rvlCjqlTp1qs99RTT2njxo3auXOnHnvsMavqKQvNHgAAMLabkOz5%2BflZdci2NE2aNFFaWprOnTunmjVrSpKOHDkif39/ValSpcT669ev1yuvvKKJEyfqySeftFj21ltvqUePHrrrrrvMY7m5uapcufIN1VYaLtAAAAC4Dg0bNlS7du00Z84cpaenKzExUYsWLdKgQYNKrLtlyxb9/e9/14IFC0o0epJ08OBBzZ49WykpKcrNzdXChQuVnp6u7t27l1u9NHsAAMDYnJ3L/2Gj%2BfPnKz8/X127dtXgwYN13333KSwsTJIUFBSkTz/9VJK0cOFCFRQUaOLEiQoKCjI/Xn75ZUnS3Llz1aBBA/Xr108dOnRQbGys/vnPf8rHx8fmGotxGBcAABibAT9nr2bNmpo/f36py%2BLj481//uyzz665Hx8fH82dO7dca7uS8WYPAAAA5YZkDwAAGJsBk72KhNkDAABwYCR7AADA2Ej2bEKzZzCnzrrYuwSruLpKtWpJSedclJdn72qurV5amr1LKFvxN7KdO6XCQvvWUpZyvELspgoKkuLipAcekC47WdqQNm60dwXWqVZNCgmRYmKkCxfsXc21PfigvSsoW926Rc/t2kn%2B/vatxeho9mzC7AEAADgwkj0AAGBsJHs2YfYAAAAcGMkeAAAwNpI9m9DsAQAAY6PZswmzBwAA4MBI9gAAgLGR7NmE2QMAAHBgJHsAAMDYSPZsQrMHAACMjWbPJsweAACAAyPZAwAAxkayZxNmDwAAwIGR7AEAAGMj2bMJzR4AADA2mj2bMHsAAAAOjGQPAAAYG8meTZg9AAAAB0ayBwAAjI1kzyY0ewAAwNho9mzC7AEAADgwkj0AAGBsJHs2YfYAAAAcGMkeAAAwNpI9m9DsAQAAY6PZswmzBwAA4MBI9gAAgLGR7NmE2QMAAHBgJHsAAMDYSPZsQrMHAACMjWbPJsweAACAAyPZAwAAxkayZxOaPQAAYGw0ezZh9gAAABwYyR4AADA2kj2bMHsAAAAOjGQPAAAYG8meTWj2AACAsdHs2cRhZi8kJEStWrVSUFCQgoKCFBgYqLZt22rYsGHav3//De1z6tSpmjp1qiRp8eLFGjVqVHmWDAAAKqjU1FSFhYUpODhYHTp00OzZs5Wfn1/qujt37lSfPn0UGBionj17avv27RbLly5dqvvvv1%2BBgYEaPny4jh49Wq61OkyzJ0kzZ85UfHy84uPjtWfPHn355ZeqUqWKJkyYoMLCQpv2PXbsWC1btqycKgUAAFZzdi7/h40mTZokT09P7dq1S%2BvXr9cPP/ygFStWlFjv%2BPHjCg8PV0REhH766SeFh4dr0qRJSkpKkiRt2rRJq1at0vLlyxUTE6MWLVpo4sSJMplMNtdYzKGavSvVrFlToaGhOn36tNLS0hQXF6cRI0aoc%2BfOatWqlQYMGKA9e/aY19%2B2bZsefvhhBQYG6umnn9Yff/xhXrZgwQINHz7c/Hrr1q0aMGCA2rZtqx49emjFihU2N5QAAMD4Tpw4odjYWE2ZMkUeHh6qX7%2B%2BwsLCtGbNmhLrbtq0ScHBwerWrZsqVaqkXr16qX379oqOjpYkffTRRxo6dKiaNGmiypUra/LkyTpz5oxiYmLKrV6HPmfv7NmzWr16tVq1aiVPT0%2BNGzdOEydO1JAhQ5Sdna3p06frtdde09q1a3X06FFFRERozpw56tWrl3bs2KGJEyeqb9%2B%2BJfa7e/duTZo0Sa%2B99poeeughHThwQGFhYZKkkSNHWl1fcnKyUlJSLMZMJl/5%2BvrZ9L7/FypVsnw2tIpwrkdxjRWh1qAge1dgnWbNLJ%2BNrFo1e1dgHW9vy2cjq1vX3hWUzc/P8hlXdxO%2BN5b2M9jX11d%2BVvx9HDp0SD4%2BPqpVq5Z5rHHjxjpz5owuXryoqlWrmscPHz6sgIAAi%2B3vvPNOJSQkmJePHj3avMzV1VUNGzZUQkKCOnbseEPv7UoV4Ue11WbOnKk5c%2BYoPz9feXl58vf3V/fu3fX000/L1dVV0dHRuv3225WTk6PTp0/Lx8dH%2B/btkyRt3rxZLVu2NDd33bp1U5cuXUr9Ohs3blTXrl3Vq1cvSVKLFi00ZswYrVq16rqavejoaC1cuNBibPz4CZo4MfwG3r191Khh7wqsUcXeBVjPy8veFZQtLs7eFVyftWvtXYHjuftue1dQtpAQe1dgvcuOGqF0JjmV%2Bz5L%2Bxk8YcIEhYeX/TM4IyNDHh4eFmPFrzMzMy2avdLWdXd3V2ZmplXLy4NDNXszZszQgAEDlJubq5UrV2rx4sV64IEHVL16dUlSTEyMRo8erczMTN15552qVKmS%2BZh4UlKS6tSpY7G/Bg0aWBzKLZaamqrmzZtbjNWrV0%2BnT5%2B%2BrnpDQ0MVcsU3JJPJV38exje0SpWKGr3UVOkq56MaRi3PS/YuoWzOzkWNXkaGZPTTAR54wN4VWKdZs6JGb%2BhQ6c/foA0rKsreFVjH27uo0YuNldLT7V3NtcXH27uCsvn5FTV6q1ZJycn2rqZskyfbu4JyVdrPYF9fX6u29fT0VFZWlsVY8WuvK35p9/DwUHZ2tsVYdna2eb2ylpcHh2r2irm5uWnUqFG6cOGCwsLC9MEHHygnJ0eRkZH68MMP1bJlS0nS%2B%2B%2B/r2PHjkmS/P39tWPHDov9/P7776pcuXKJ/detW1cnT560GEtMTLT6H0kxPz%2B/EnHxqVNSXt517cau8vMrQL1Gb54uV1ho/Horwg/RyyUkGL/mCxfsXcH1SU83fs3X%2Bcu3XSUnV6x67eBmfFss7WewtZo0aaK0tDSdO3dONWvWlCQdOXJE/v7%2BqlLF8mhSQECAfv31V4uxw4cPm3uRJk2a6NChQ%2BajiXl5eTp%2B/HiJQ7%2B2qAAnCN24SZMmqWnTpnr22WeVkpIiZ2dnubu7S5L27NmjlStXKjc3V5LUt29fHTx4UB999JHy8/P17bff6quvvip1vwMHDtTXX3%2Bt//znPyooKND%2B/fu1dOlSDRw48H/23gAAgH00bNhQ7dq105w5c5Senq7ExEQtWrRIgwYNKrFu3759FRsbq82bNys/P1%2BbN29WbGys%2BvXrJ6mop1i9erUSEhKUk5OjN954QzVr1lRwcHC51evQzZ6Li4tef/11JSUl6bvvvtPQoUM1bNgwtW/fXjNnztTw4cN1/vx5nTt3TvXr19fixYu1Zs0atWvXTosWLVL37t1L3W%2BbNm30zjvvaOnSpQoODtaECRM0ZMgQjR079n/8DgEAcHzFBz3K82Gr%2BfPnKz8/X127dtXgwYN13333mS/WDAoK0qeffiqp6MKNd999V0uWLFH79u21aNEiLViwQI0aNZIkDRo0SCNHjtT48ePVsWNH7d%2B/X0uWLJGrq6vtRf7JyVSeH%2BQCm506Ze8KrOPqKtWqJSUlGf8wbr0qBj/cJBWds1elinTpkvEP4/r42LsC6wQFFV1M0rat8Q/jbtxo7wqsU61a0YUPX39t/MO4u3bZu4Ky1a1bdB7cG29UjMO4b75pty%2Bdk1P%2B%2ByzlLC2H5dDJHgAAwK3OIS/QAAAAjsPoBzyMjmQPAADAgZHsAQAAQyPZsw3NHgAAMDSaPdtwGBcAAMCBkewBAABDI9mzDckeAACAAyPZAwAAhkayZxuaPQAAYGg0e7bhMC4AAIADI9kDAACGRrJnG5I9AAAAB0ayBwAADI1kzzY0ewAAwNBo9mzDYVwAAAAHRrIHAAAMjWTPNiR7AAAADoxkDwAAGBrJnm1o9gAAgKHR7NmGw7gAAAAOjGQPAAAYGsmebUj2AAAAHBjJHgAAMDSSPdvQ7AEAAEOj2bMNh3EBAAAcGMkeAAAwNJI925DsAQAAODCSPQAAYGgke7ah2QMAAIZGs2cbDuMCAAA4MJI9AABgaCR7tqHZAwAAhkazZxsO4wIAADgwkj0AAGBoJHu2IdkDAABwYCR7BnPpkr0rsI67e9FzZqaUnW3fWspUrQL8TuPsbPlsZBs32rsC61SrVvQcFSVduGDfWsoyYIC9K7BOUJAUFyc995wUH2/vaq4tLs7eFZTNw6Po%2BeGHpaws%2B9ZicCR7tqHZAwAAhkazZ5sKECMAAADgRpHsAQAAQyPZsw3JHgAAgAMj2QMAAIZGsmcbmj0AAGBoNHu2odkDAAAoR5mZmYqMjNTXX3%2Bt/Px8de3aVTNmzJCXl1ep62/ZskWLFi1SYmKifHx8NGDAAIWFhcn5z4/j6tmzp86cOWN%2BLUnr169X48aNraqHZg8AABhaRUv2IiMjdfbsWW3ZskUFBQWaNGmSoqKiNGPGjBLr/vLLL3r%2B%2Bef19ttv64EHHtCxY8c0evRoeXp66sknn1R6erqOHTumbdu2qW7dujdUDxdoAAAAlJOsrCx99tlnmjhxonx8fFSjRg0999xz2rhxo7JK%2BfDs06dP69FHH1WXLl3k7Oysxo0bq3v37vrxxx8lFTWDPj4%2BN9zoSSR7AADA4G5GspecnKyUlBSLMV9fX/n5%2BZW5bXZ2tpKSkkpdlpWVpby8PAUEBJjHGjdurOzsbB0/flzNmze3WL9Hjx7q0aOHxb537NihPn36SJL27dsnDw8PPfbYYzp06JDq1q2r8PBwdenSxer3SrMHAAAM7WY0e9HR0Vq4cKHF2IQJExQeHl7mtnv37tWIESNKXRYRESFJ8vT0NI95/HlrvIyMjGvuNz09XREREXJ3d9fIkSMlSU5OTmrVqpWeffZZ1alTR1988YXCw8O1evVqBQYGllmrRLMHAABuQaGhoQoJCbEY8/X1tWrbDh066MCBA6Uu279/v9555x1lZWWZL8goPnzr7e191X0ePXpUEydOVI0aNbRy5UrzuqNGjbJYr2/fvvr3v/%2BtLVu20OwBAADHcDOSPT8/P6sO2V6vRo0aydXVVYcPH1abNm0kSUeOHJGrq6saNmxY6jY7d%2B7Us88%2Bq8GDB2vy5MmqVOm/7dny5ct111136Z577jGP5ebmqnLlylbXxAUaAAAA5cTDw0M9e/ZUVFSUzp8/r/PnzysqKkq9e/eWu7t7ifX37Nmj8ePHa9q0aXrhhRcsGj1JOnv2rGbOnKnExETl5%2Bdr/fr1io%2BP1yOPPGJ1TSR7AADA0CraR6/MmDFD8%2BbNU58%2BfZSXl6euXbvqpZdeMi9/%2BOGH1adPH40dO1aLFy9Wfn6%2BZs%2BerdmzZ5vXadeunZYtW6bnn39ezs7OGjp0qC5duqQ777xT//jHP3T77bdbXQ/NHgAAMLSK1ux5e3srMjJSkZGRpS7//PPPzX9evHjxNffl5uam6dOna/r06TdcD4dxAQAAHBjJHgAAMLSKluwZDckeAACAAyPZAwAAhkayZxuaPQAAYGg0e7bhMC4AAIADI9kDAACGRrJnG5I9AAAAB0ayBwAADI1kzzY0ewAAwNBo9mzDYVwAAAAHRrIHAAAMjWTPNiR7AAAADoxkDwAAGBrJnm1o9gAAgKHR7NmGw7gAAAAOjGQPAAAYGsmebUj2AAAAHBjJHgAAMDSSPdvQ7AEAAEOj2bMNh3EBAAAcWLk0e02bNtWYMWNkMpksxjdu3KiQkJDy%2BBIAAOAWVVhY/o9bSbklezt37tSyZcvKa3cAAACSaPZsVW7N3vDhw/XOO%2B8oLi7uquucPHlSY8eOVYcOHdSlSxe99dZbys3N1YULF9SiRQv99ttvkqScnBy1bt1ar7/%2BunnbiRMn6p133lF6erqeeeYZdejQQZ06ddJTTz2lI0eOSJIWLFigsLAwhYeHKzAwUCEhIYqOjjbv48iRI3r66af14IMPqnXr1urVq5e2b98uSTp16pSaNm2qVatWqVOnTmrXrp2mTJmi9PR08/aff/65%2BvTpo3bt2mnAgAH69ttvLd7/1KlT1aVLFz344IMW2wEAANhLuTV73bt3V2hoqJ599lmlpaWVWJ6ZmamRI0eqSZMm%2Buabb7R27Vp9//33WrBggapVq6a7775b33zzjSQpNjZWTk5O%2Bv777yVJubm5%2Bvbbb/XQQw/p/fffV3p6unbu3Knt27fL19dXUVFR5q%2Bzbds2tW3bVj/%2B%2BKNmzZqlyMhI/fDDD5Kk8PBwBQQE6KuvvtJPP/2kzp076%2B9//7tFnV9%2B%2BaU%2B%2B%2BwzffHFFzpx4oRmzpwpqSi5nDFjhl5%2B%2BWXFxsYqPDxc4eHhOnTokHnb77//Xh9%2B%2BKE%2B/fRTeXt7l9fUAgBwSyPZs025Xo37wgsvKD4%2BXlOnTtV7771nsWzHjh3Kzc3Vs88%2BKycnJ9WuXVsRERGaOHGiJk%2BerG7dumnz5s16%2Bumn9e233yo0NFSrV6/W%2BfPn9csvv6h69epq3ry5du3apYSEBH388cfq1KmT5syZI2fn//asTZs21RNPPCFJ6ty5s3r06KFPPvlE99xzj5YsWaJatWrJZDLp9OnTqlq1qpKSkizqnDZtmm677TZJRWniuHHjNHv2bK1evVpDhgxR%2B/btJUldunRRSEiIPvzwQ7300kuSpPvvv1%2B1atWyer6Sk5OVkpJiMZaR4StfXz%2Br92Evbm6Wz4bmXAGuQyqusSLUWq2avSuwTvEvXBXhF6%2BgIHtXYJ1mzSyfjczDw94VlK1yZctn4CYp12bPzc1Nb7/9th555BG9//77ql69unnZ6dOndf78eXOzJEkmk0l5eXlKTU1Vt27dNHfuXF26dEm7du3S3LlzFRsbq927dysmJkYPPfSQJGn06NFyc3PT%2BvXrNWvWLNWvX1%2BTJ082L2/YsKFFTbVr1zYfHk5ISFBYWJhSUlLUuHFj3XbbbSUuKrn99tstts3NzVVaWppOnz6t2NhYffDBB%2BblBQUF6tixo/m1n9/1NWnR0dFauHChxdj48RM0cWL4de3HnurWtXcF1vCydwHWqwg/oCraRVd3323vCsp2jdNfDGntWntX4FgaNbJ3BYZ3qyVx5a3cP2evQYMGioyM1PPPP68BAwaYx/39/dWgQQN98cUX5rH09HSlpqbqtttuk5OTk5o1a6aNGzfq3LlzatmypTp37qzvv/9eu3bt0ttvvy1JOnDggEJCQjRy5EhdunRJa9eu1TPPPKPdu3dLUomk7tSpU6pdu7aSkpIUERGhhQsXmq8Q3rJli7788kuL9ZOSknTHHXeYt/Xw8FD16tXl7%2B%2Bv/v37a8yYMeZ1z5w5I3d3d/NrJyen65qr0NDQElcrZ2T46tix69qNXbi5FTV6p09Lubn2rubaGvll2LuEsjk7FzV6WVnG/64WE2PvCqzj7V3U6MXGSkY/h/a55%2BxdgXWaNStq9IYOlRIS7F3NtVWEhrRy5aJG79gxKSfH3tWUzY6JrtG/LRrdTflQ5V69eikmJkYffvih6v4Z/XTp0kWvvfaali1bphEjRig7O1vTpk3T2bNntXHjRklF5/2999576tixo1xcXNSpUyeNGzdOVapUUWBgoCRp3bp1%2BvXXX/Xuu%2B/qtttuk7e3tzw9PeX25/HEPXv26JNPPlHv3r317bffatu2bVq5cqUyMjJUUFAgjz%2BTk8OHD%2Bvdd9%2BVVHROYLE33nhD8%2BbNU0ZGhubPn69%2B/frJ1dVVgwcP1iuvvKKOHTuqdevW2rdvn0aPHq2wsDCNGDHihubJz8%2BvRBr4229SdvYN7c4ucnMrQL0V6btERTiZ5MIFe1dwfdLTjV9zfLy9K7g%2BCQnGrzkry94VWC8np2LViwrnpt1BY/r06dq7d68uXrwoSfL29taKFSv06quvatmyZSosLFSHDh0szu3r1q2b3nzzTXXq1EmS1K5dOzk5Oalbt27m1OzZZ5/VrFmz9PDDDysnJ0d33HGHFi1apMp/nvPQvHlzbdu2Ta%2B88opq1qyp119/XUF/ng/z/PPPa8qUKcrKypK/v78GDx6s119/XQcPHpSPj4%2BkomSyd%2B/eysrKUp8%2BfTRlyhRJ0l/%2B8hdlZmZq%2BvTpOnPmjHx8fDRy5EgNHz78Zk0hAACQ8X8HNjon05UnrVVgCxYsUGxsrFatWnXd2546dUpdu3bVtm3bVK9evZtQnXX%2BPL3Q8Nzd/3v0wejJXvN6l%2BxdQtmcnSUvLykjw/jf1bZutXcF1qlWrej8wq%2B/Nn6yd9kpL4YWFFR0fmHbtsZP9irCeZAeHkWHRhMSKkayZ8cLif48EFeuxo8v/30aFffGBQAAhmb034GNjmYPAAAYGs2ebRyq2QsPv/GPLKlXr54OHDhQjtUAAADYn0M1ewAAwPGQ7NmmAnxcPwAAAG4UyR4AADA0kj3b0OwBAABDo9mzDYdxAQAAHBjJHgAAMDSSPduQ7AEAADgwkj0AAGBoJHu2IdkDAACGVlhY/o%2BbKTMzU9OmTVOHDh3Url07Pf/888rIyLjq%2BjNmzFDLli0VFBRkfkRHR5uXL126VPfff78CAwM1fPhwHT169LrqodkDAAAoR5GRkTp79qy2bNmiL7/8UmfPnlVUVNRV19%2B3b58iIyMVHx9vfoSGhkqSNm3apFWrVmn58uWKiYlRixYtNHHiRJlMJqvrodkDAACGVpGSvaysLH322WeaOHGifHx8VKNGDT333HPauHGjsrKySqyfm5urgwcPqmXLlqXu76OPPtLQoUPVpEkTVa5cWZMnT9aZM2cUExNjdU2cswcAAHAdsrOzlZSUVOqyrKws5eXlKSAgwDzWuHFjZWdn6/jx42revLnF%2BgkJCcrPz9f8%2BfP1888/q0qVKho4cKBGjRolZ2dnHT58WKNHjzav7%2BrqqoYNGyohIUEdO3a0ql6aPQAAYGg3I4lLTk5WSkqKxZivr6/8/PzK3Hbv3r0aMWJEqcsiIiIkSZ6enuYxDw8PSSr1vL1Lly7p7rvv1vDhw/Xmm2/qt99%2B0/jx4%2BXs7KxRo0YpIyPDvH0xd3d3ZWZmlllnMZo9AABgaDej2YuOjtbChQstxiZMmKDw8PAyt%2B3QoYMOHDhQ6rL9%2B/frnXfeUVZWlry8vCTJfPjW29u7xPqdOnVSp06dzK9bt26txx9/XJs3b9aoUaPk4eGh7Oxsi22ys7PN%2B7YGzR4AALjlhIaGKiQkxGLM19fX5v02atRIrq6uOnz4sNq0aSNJOnLkiPnw65W2bt2qc%2BfO6dFHHzWP5ebmyt3dXZLUpEkTHTp0SF26dJEk5eXl6fjx4xaHicvCBRoAAMDQbsYFGn5%2BfmrRooXFw5pDuGXx8PBQz549FRUVpfPnz%2Bv8%2BfOKiopS7969zQ3c5Uwmk%2BbOnasffvhBJpNJ8fHxWrlypflq3IEDB2r16tVKSEhQTk6O3njjDdWsWVPBwcFW10SyBwAAUI5mzJihefPmqU%2BfPsrLy1PXrl310ksvmZc//PDD6tOnj8aOHavu3btr2rRp%2Bvvf/66kpCTVrFlT4eHh6tevnyRp0KBBunTpksaPH6/z58%2BrVatWWrJkiVxdXa2uh2YPAAAYWkW7g4a3t7ciIyMVGRlZ6vLPP//c4vWjjz5qcRj3ck5OTnryySf15JNP3nA9NHsAAMDQKrOcqkgAACAASURBVFqzZzScswcAAODASPYAAIChkezZhmQPAADAgZHsAQAAQyPZsw3NHgAAMDSaPdtwGBcAAMCBkewBAABDI9mzDckeAACAAyPZAwAAhkayZxuaPQAAYGg0e7bhMC4AAIADI9kDAACGRrJnG5o9AABgaDR7tuEwLgAAgAMj2QMAAIZGsmcbmj2DqVfP3hVYx/nPTNjPrwL8J3zgAXtXULZmzaS1a6XRo6WEBHtXc20PPmjvCqxTt64UEiLFx0unT9u7mmuLi7N3Bdbx8Ch6XrtWysqyby1ladvW3hWULSio6O9%2B6NCif6dGZzLZuwLcIJo9AABgaIYPFQyOZg8AABgazZ5tuEADAADAgZHsAQAAQyPZsw3JHgAAgAMj2QMAAIZGsmcbmj0AAGBoNHu24TAuAACAAyPZAwAAhkayZxuSPQAAAAdGsgcAAAyNZM82NHsAAMDQaPZsw2FcAAAAB0ayBwAADI1kzzYkewAAAA6MZA8AABgayZ5taPYAAICh0ezZhsO4AAAADoxkDwAAGBrJnm1I9gAAABwYyR4AADA0kr3/b%2B/Ow6qq9jeAv5BMooAoqBBhGgqUOF3EAUUmK3GMnHG%2BmhMgToWaQ1zFSlQClczpal4zDEXCHCEzFDGnSwUiqDGYBxxSmWQ4/P7weoofClsZ1jm79/M8PHnWPuf4uhP8nu9ae%2B3aYbFHREREao3FXu1wGpeIiIhIxtjZIyIiIrXGzl7tsLNHREREJGPs7BEREZFaY2evdljsERERkVrTtGKvsLAQQUFBiIuLQ1lZGdzd3bFs2TIYGhpWee7SpUsRExNTaay4uBi9evXC1q1boVQq0a1bN1RUVEBLS0v1nISEBDRu3FhSHk7jEhEREdWhoKAg/P777zhy5AiOHj2K33//HWvWrHnqcz/66CNcvHhR9RUWFgYjIyN88MEHAID09HSUlpYiKSmp0vOkFnoAiz0iIiJSc0pl3X/Vl6KiIsTExMDPzw8mJiZo3rw55s%2Bfj6ioKBQVFVX72rt372L%2B/PlYvHgxbGxsAADJycno0KEDdHV1XzgTp3GJiIiInkNxcTEUCsVTjxUVFaG0tBTt27dXjbVr1w7FxcW4ceMG7Ozsnvm%2Ba9aswRtvvIHBgwerxpKTk/Ho0SN4e3sjJycH7dq1w7x589C1a1fJeVnsERERkVqrj05cbm4u8vLyKo2ZmZnB3Ny8xtdevnwZ48ePf%2Boxf39/AKg0zWpgYAAAKCgoeOZ7ZmVl4eDBg4iMjKw0rq%2BvDwcHB/j7%2B8PY2Bi7d%2B/GlClTcPDgQVhZWdWYFWCxR0RERGquPoq9vXv3Ijw8vNLY7Nmz4evrW%2BNrnZyccOXKlace%2B/XXXxEaGoqioiLVBRlPpm%2BbNGnyzPf85ptv0KVLlyqdvydr956YMmUKoqKicPLkSfj4%2BNSYFWCxR0RERH9DI0eOhJubW6UxMzOzWr/vq6%2B%2BCh0dHaSnp6NTp04AgIyMDOjo6KBNmzbPfN3Ro0cxefLkKuPr1q3Dm2%2B%2BCXt7e9VYSUkJ9PT0JGdisUdERERqrT46e%2Bbm5pKmbJ%2BXgYEB3n77baxZswahoaEAHq/FGzhwIPT19Z/6mnv37iEjIwOOjo5VjqWlpeGnn37C%2BvXrYWxsjM2bNyM/Px%2Benp6SM/FqXCIiIqI6tGzZMrRp0waDBg3CW2%2B9hZdffhlLly5VHffy8kJERITqcXZ2NgCgZcuWVd4rODgYr7zyCoYMGQInJyckJSVh%2B/btMDExkZyHnT0iIiJSa5q2qXKTJk0QFBSEoKCgpx6PjY2t9Lhjx47PXANoYmKC4ODgWuVhsUdERERqTdOKPXUjy2nc%2B/fvY/ny5XBxcUHnzp3h7OyM999/H7du3arxtdnZ2ejQoYOqpUpERESkyWRZ7AUEBODevXvYt28fLl26hAMHDqCkpASTJk1CWVmZ6HhERET0HDTpDhrqSJbF3vnz5%2BHp6am6hLpFixZYtGgROnXqhAcPHiAjIwPvvfce%2BvXrBwcHBwwYMADx8fFPfa/bt29j/vz56N27N5ydnbF06VLk5%2BcDAMrKyrB8%2BXL07t0bTk5OGDNmDM6fP99gf04iIqK/AxZ7tSPLNXteXl5YtmwZfvrpJ3Tv3h2dOnWCpaUlVq9eDQDw8fGBu7s7wsPDUVFRgTVr1mD58uVwdXWt9D5KpRIzZ85EmzZtcOTIEZSWliIwMBBLly7F2rVrER0djYsXL%2BK7776DoaEhPvvsM6xYsQIHDx6UlPNpu3c3bixt927RtLUr/1et2dqKTlCzJ3svVbMHk9qwtBSdQJon30ca8P2E/%2B2ur/ae7Ov1HPt7CdOli%2BgENXvys0kTfkaRRtOqqKioEB2irimVSsTExODQoUM4f/48Hj58iFdeeQW%2Bvr4YPHgwsrKyVJc35%2BTkIDY2FuHh4UhNTUV2djbc3d1x4sQJ3L17F6NHj0ZSUpJqF%2Bzr16/jrbfeQmJiIk6fPo2lS5di1qxZ6Nu3L9q2bQvt56h%2BwsLCquzePWvWbPj51bx7NxER0d9Ft251/55/p4k4WXb2tLW1MWTIEAwZMgQVFRXIyMhAdHQ0Fi5cCDMzM%2BTn52PmzJnIy8tDu3btYGpqiqfVvNnZ2SgvL4eLi0ulcV1dXWRlZcHLywulpaWIjIzE2rVr0bx5c0yfPh2jR4%2BWlPNpu3c3bmyGam6dpza0tR83I4qK1L8dbjh1jOgINWvTBli1Cli0CLhxQ3Sa6tXHT936YG4OjBsH7NoF5OaKTlM9Ly/RCaTR0wNefRW4fh149Eh0muqN0YDve1tb4D//eZw1NVV0mppduCA6Ab0g2RV7p06dgp%2BfH%2BLj42FiYgItLS289tprmDdvHhISEnD%2B/Hls3LgR4eHhqkLryJEjOHr0aJX3atWqFfT19XH27Fm89NJLAB7foiQrKwvW1ta4fv06Xn/9dQwdOhTFxcU4fPgw3n//ffzjH/%2BAjY1NjVmftnv3w4fqXzz9lUasfdCEH6JP3Lih/nlbtRKd4Pnk5gI5OaJTVO9/983UGI8eqX/mixdFJ5AuNVWz8gqg9v/OqDlNWHH1XBwdHdG8eXMEBgbiypUrKC0tRX5%2BPg4ePIgbN27Aw8MD5eXlMPjfGpn09HRs2LABwONC7q8cHBxgbW2N1atXo6CgAMXFxVi1ahUmTpyI8vJyxMfHY/bs2cjOzoa%2Bvj5MTEzQqFEjNG3atMH/3ERERHLFCzRqR3adPX19ffznP/9BeHg4ZsyYgTt37kBHRwedO3fG9u3bYWtri4ULF2LBggUoKipCq1atMGLECHz66adIS0urdPuRRo0a4fPPP8fHH3%2BM/v3749GjR3BwcMD27duhp6eH8ePHQ6FQYNSoUcjPz4elpSXWrVuHVprW%2BSAiIiLZkuUFGprs4UPRCaTR1gYMDYGCAvX/hNTUpavoCDXTpLU7/fqJTiCNpSUwbx4QEqL%2B07jjxolOII2BweO/q6mp6j%2BN21UDvu%2B7dHm8Dq5rV82YxhVYLnTsWPfvmZxc9%2B%2BprmQ3jUtEREREf5LdNC4RERHJi7rPIKk7FntERESk1ljs1Q6ncYmIiIhkjJ09IiIiUmvs7NUOO3tEREREMsbOHhEREak1dvZqh8UeERERqTUWe7XDaVwiIiIiGWNnj4iIiNQaO3u1w84eERERkYyxs0dERERqjZ292mGxR0RERGqNxV7tcBqXiIiISMbY2SMiIiK1xs5e7bCzR0RERCRj7OwRERGRWmNnr3ZY7BEREZFaY7FXO5zGJSIiIpIxdvaIiIhIrbGzVzvs7BERERHJGDt7REREpNbY2asdFntERESk1ljs1Q6ncYmIiIhkjJ09IiIiUmvs7NUOO3tEREREMsbOHhEREak1dvZqh8UeERERqTUWe7XDaVwiIiIiGWNnj4iIiNQaO3u1w84eERERkYyxs0dERERqjZ292mFnj4iIiNSaUln3Xw2hqKgII0eORFRUVLXPu3z5MoYPH44uXbrAzc0NkZGRlY7v378fnp6e6Ny5M9555x1cvHjxuXKw2CMiIiKqY1evXsXYsWNx6dKlap93//59TJs2DUOHDsW5c%2BewcuVKBAcH47///S8A4OzZswgKCsLq1atx7tw5DB48GDNmzEBRUZHkLCz2iIiISK1pWmfvzJkzmDBhAoYNGwYLC4tqn3v06FGYmJhg7NixaNSoEXr27IlBgwZh9%2B7dAIDIyEh4eXmhW7du0NHRwcSJE9GsWTMcOnRIch6u2SMiIiJ6DsXFxVAoFE89ZmZmBltbW8THx0NPTw/bt2%2Bv9r2uXr2K9u3bVxp77bXXsG/fPgBAeno6vL29qxxPTU2VnJfFHhEREam1%2BujE5ebmIi8vr9KYmZkZzM3Na3zt5cuXMX78%2BKce27BhAzw8PCTnKCgogIGBQaUxfX19FBYWSjouBYs9NdO0qegE0uTm5mLbtr0YOXKkpG8MoS5cEJ2gRrm5udgbFoaR69er//nUEKpzOm4cz2kdUZ1TTfi%2Br6gQnaBGqvN5%2BLD6n0/B6uN/Z1jYXoSHh1camz17Nnx9fWt8rZOTE65cuVInOQwMDPDw4cNKY8XFxTA0NFQdLy4urnK8WbNmkn8PrtmjF5KXl4fw8PAqn4roxfB81j2e07rHc1q3eD7FenKV7F%2B/Ro4c2eA52rdvj6tXr1YaS09Ph42NDQDAxsam2uNSsNgjIiKivx1zc3O8/vrrlb5EdFg9PT1x%2B/Zt7NixA6WlpUhMTERMTIxqnd67776LmJgYJCYmorS0FDt27MCdO3fg6ekp%2BfdgsUdERETUgLy8vBAREQEAaNasGbZt24bDhw/DyckJS5YswZIlS9CjRw8AQM%2BePbFs2TIsX74c3bt3R2xsLL744guYmJhI/v24Zo%2BIiIionsTFxVUZi42NrfS4Y8eO%2BOqrr575HkOGDMGQIUNeOMNLy5cvX/7Cr6a/NUNDQ3Tv3l21iJRqh%2Bez7vGc1j2e07rF80kNQauiQgMuWSIiIiKiF8I1e0REREQyxmKPiIiISMZY7BERERHJGIs9IiIiIhljsUdEREQkYyz2iIiIiGSMxR4RERGRjLHYIyIiIpIxFnskWX5%2BPhQKBfLz80VHIaIGUlhYKDoCEdUSiz2qllKpxLZt2%2BDm5gZHR0f069cPjo6OcHV1xYYNG8AbsDy/nTt3oqCgQHQMIkkGDhzID3j1KCMjAwqFQnQMkjkWe1St1atXY//%2B/Zg/fz6io6Nx9OhRREdHY8GCBTh8%2BDDWrFkjOqLG2bFjB/r27YtVq1YhKytLdByiGhUVFYmOIBsXLlzA0KFDAQBfffUVvLy84O7ujuPHjwtORnLGe%2BNStXr27InIyEi8/PLLVY5lZWVh1KhRSEhIEJBMcymVSsTHx2PPnj1ITEyEs7MzJkyYgJ49e4qOpvEqKiqwc%2BdO7N27Fzk5OTAzM8O7776L9957D1paWqLjaaTAwECcOXMGffv2hbm5eaVjs2fPFpRKc40dOxaOjo7w9/eHm5sb/P39YWJigpCQEMTExIiORzLVSHQAUm9lZWVVfsA/YWpqivLy8gZOpPm0tbXh7u4Od3d3ZGVlYc%2BePZg7dy5MTU0xbtw4DB06FPr6%2BqJjaqSdO3di%2B/btmDZtGl5%2B%2BWVkZmZiy5Yt0NbWxrRp00TH00jZ2dmwsrLC9evXcf36ddU4i%2BcXc%2B3aNXz55Ze4du0abt%2B%2BjQEDBkBXVxcBAQGio5GMsbNH1Zo1axYMDQ2xcOFCtGjRQjV%2B9%2B5drFy5EmVlZQgNDRWYUB5KSkpw5MgR7N%2B/H7/88gvOnj0rOpJGevvttxESEgJ7e3vV2K%2B//gpfX1%2BcOHFCYDKix5ydnXH48GFERkYiLi4Ou3btQk5ODkaNGoVTp06Jjkcyxc4eVSsoKAj%2B/v7o06cPjI2N0bhxYxQVFeGPP/5At27d8Nlnn4mOKAs5OTlISUlBeno6LC0tRcfRWLm5ubC1ta00Zmtriz/%2B%2BENQInnIyMjAnj17cOvWLQQFBSE2NhY%2BPj6iY2kkDw8P%2BPj4ICcnB0uWLEF6ejpmzZqFgQMHio5GMsZij6plamqKXbt2ITMzE1evXkVBQQEaN24MGxsbWFtbi46n0UpKSlSf8C9dugQPDw%2BsW7cO3bp1Ex1NY1lbW%2BPYsWN48803VWPHjh3j39VaSEhIgK%2BvL1xdXXH69GkUFxdjw4YNKCws5NT4C/jwww8RHR0NfX19DBgwADdu3MCoUaMwfvx40dFIxjiNS9TA0tLS8PXXXyMmJgYvvfQSRowYgdGjR6Nly5aio2m848ePY86cOfD09ISVlRUyMzNx4sQJfPbZZ3B1dRUdTyN5e3vDz88PLi4ucHR0xLlz55CcnIw5c%2BZwarwW7t%2B/j6ysLNjb26OsrAy6urqiI5GMcesVogY2ePBgXLp0CYGBgfj%2B%2B%2B8xZ84cFnp1xMPDA1u2bIGuri5%2B%2BeUXGBkZYffu3Sz0auG3335D3759Afx5UUbHjh1x//59kbE0VkFBAebNmwcnJyf4%2BPjgxo0b8PT0xLVr10RHIxnjNC5RA9PS0sK%2BfftEx5CtHj16oEePHqJjyIaFhQUuXLhQaXlBcnIyWrduLTCV5vrkk09QWFiI7777DiNGjICVlRVcXV2xcuVKbN26VXQ8kikWe0QNzMDAQHQE2Zk2bRo2b96McePGPXNLkJ07dzZwKnl47733MGPGDIwePRqlpaX44osvsGvXLsydO1d0NI0UHx%2BPmJgYGBsbQ0tLCzo6Ovjggw9U3VOi%2BsBij4g03pOuU/fu3bn/Wx3z8vJCkyZNsHv3blhYWCAxMRGLFy%2BudBEMSadUKlXr854smf/rGFF94AUaJMmgQYOeurv7s8bp2ezs7GBhYVHtc7jwndRNaWkp7t%2B/j2bNmuGll14SHUdjzZ8/Hzo6Oli6dClcXFyQlJSEVatW4fbt21i7dq3oeCRT7OyRJM/aA4p7Qz0/HR0d3maqjgUGBtb4nODg4AZIIj/5%2BfkICgrC4cOHUVJSAn19fQwbNgwffPABu1EvIDAwEDNmzICjoyPKy8vRpUsXtGnTBhEREaKjkYyxs0fUwLp27YoLFy6IjiErT4q9e/fu4dSpU3B1dYWVlRUUCgWOHTuG/v37IyQkRHBKzbRw4UL89ttv8PPzQ%2BvWrZGVlYWwsDB07doVixYtEh1PI1VUVCA5ORk5OTlo1aoVHBwc2C2lesVij6p17ty5Gp/j6OjYAEnko0uXLrh48aLoGLI0ffp0DB8%2BHO7u7qqxH3/8EREREfjyyy8FJtNcjo6OOHz4MJo3b64aUygUGDJkCBITEwUm0yw3b96s8Tk1Le8gelGcxqVqjRs3DkDlm54bGxvj4cOHUCqVMDExwZkzZ0TF00iDBw8WHUG2zp49i40bN1Ya69mzJ3x9fQUl0nx6enpVuk6Ghoa8qvw5ubm5qX6OVlRUVPqZ%2BuRxSkqKqHgkcyz2qFqpqakAgK1btyItLQ1LlixB06ZNUVhYiNWrV8PY2FhwQs2zYsUK0RFky9LSEt999x28vLxUY1FRUbxdWi1Mnz4dfn5%2BWLRoEaytraFQKBASEoIBAwZU6laxK1U9XnRFInEalyTp1asX4uLioK%2Bvrxp79OgR%2Bvbti7NnzwpMRvSnEydOwN/fHw4ODmjdujWys7ORlpaGiIgIODk5iY6nkWxtbVW/1tLSwl//yXjymF2p2ikrK0NaWhrs7e1FRyGZYmePJFEqlbhz5w4sLS1VY9nZ2VxUTGrF3d0dBw8exKFDh5CbmwsXFxesWbMGVlZWoqNpLHak6tb333%2BPFStWQKFQVCqcGzVqhOTkZIHJSM7Y2SNJgoODcfLkSfzzn/9UXZG3ZcsWDB48GH5%2BfqLjEVXr7t27MDU1FR1DNtiJenEDBw5E7969YWRkhCtXrmDgwIHYsGED3n33XdUaaaK6xmKPJCkrK8OGDRtw8OBBKBQKtG7dGsOHD8fUqVN5xwJSG5cvX8ann34KhUIBpVIJ4PFmwHfv3sXPP/8sOJ1mYieqbnXq1Annz59HdnY2PvzwQ%2BzatQvp6ekICAjgBvVUbziNS5I0atQI/v7%2B8Pf3Fx2F6JmCgoJgZWUFGxsbZGVloXfv3ti5cyfmzZsnOprGWrNmDfr37//UThQ9P1NTU2hra8PCwgIZGRkAgNdeew23bt0SnIzkTFt0ANIcCQkJmDFjBt555x3k5eXh448/RllZmehYRCpXr15FcHAwxo4di/LyckyaNAnr1q1jx6QWsrKysGDBAnh5eeHevXuqDaq//vpr0dE0UocOHRAaGgoAaN68OU6ePImzZ89CT09PcDKSMxZ7JElMTAwWLFiA9u3b47fffgMAxMXF8V6OpFaMjIygr68PKysrXL16FQDQuXNn5OTkCE6mudiJqlsLFizA8ePHkZeXBz8/P8ycORMTJ07ElClTREcjGWOxR5Js3rwZGzduREBAALS1tWFmZobPP/8c3377rehoRCpt27bFnj17oKenh8aNGyMlJQUZGRlcV1oL7ETVHaVSCVNTU8TGxsLS0hJNmzbFzJkzceDAAUyaNEl0PJIxFnskya1bt9CpUycAf95Nw9raGoWFhSJjEVXi7%2B%2BP9evXIzMzE1OmTMGIESPg7e2NYcOGiY6msdiJqhsKhQKDBg3CJ598AuDxbMnkyZNx4sQJjB07lhe7UL3iBRokSZs2bXDixAl4eHioxk6fPs07E5Baadu2LX744Qfo6Ohg5MiRsLOzQ15eHk6fPi06msZq164dYmNjATy%2BQ0l8fDwKCgrw6quvCk6mWdatW4cOHTpg/vz5AICwsDBMnToVAQEBOHjwIMLCwrB582bBKUmuWOyRJAEBAZg5cybc3d3x6NEjLF%2B%2BHN9%2B%2By1CQkJERyNCSkoKZs%2BejZs3b8LBwQGbN2%2BGsbEx9PT0sHbtWuTm5uLDDz8UHVNjJSYmIjo6Gnl5ebCwsOCVuC8gISEB0dHRMDU1xc2bN5GZmam6T7a7uzv%2B9a9/CU5IcsZpXJKkV69e%2BOqrr2BkZAQnJycolUps27YNLi4uoqMRYeXKlWjfvj02bdqEJk2aICIiAomJiRg9ejSMjIywf/9%2B0RE11tdff42pU6eipKQEdnZ2ePjwIcaNG4djx46JjqZR8vPzVRt7X758GUZGRmjXrh0AQE9PD6WlpSLjkcyxs0eS2draYtmyZaJjEFWRkpKCY8eOwdTUFLa2tvDx8cE333wDHx8fzJkzB9ra/Fz7ojZv3oyIiAj07t1bNXby5El88skn8PT0FJhMsxgbG6vu5JKUlISuXbuqjl27dg3NmjUTmI7kjsUeSZKcnIyQkBDk5OSo7kzwBO%2BdSaI9ucoRAFq1aoVbt25h7ty5mDx5suBkmu/OnTvo0aNHpbE%2BffpgwYIFghJpJldXVwQFBcHT0xMxMTGqD84PHjxAaGgo%2BvTpIzghyRmLPZIkMDAQNjY2GDRoELskpHb%2B/9YqOjo6vM9oHenTpw%2B%2B/PJLTJgwQTUWGxuLXr16CUyleQICAjBnzhwsWrQIXl5eGDRoEADAxcUFZmZmWLFiheCEJGe8Ny5J0qVLFyQlJUFHR0d0FKIqunbtigsXLqged%2B/eHUlJSQITycesWbMQFxeHDh06wNraGgqFApcvX4adnR2aNGmiet7OnTsFptRcP/74IxwdHblvIdUrdvZIEkdHR6SkpMDBwUF0FKIqysrKcODAAdXj0tLSSo8BYOjQoQ0dSxbs7OxgZ2enemxjYwNnZ2eBieSF55IaAjt7JMmvv/6K8ePHw8nJCUZGRpWOBQcHC0pF9Jibm1u1x7W0tLi2tI7k5%2BdDV1cXurq6oqMQkUTs7JEkK1euRPPmzWFoaCg6ClEVcXFxoiPIVkZGBtauXYsNGzbg2LFjCAgIgKGhITZu3Ihu3bqJjkdEErCzR5J07twZCQkJLPaI/mamTJkCc3NzrFq1CgMGDMCwYcNgaGiIAwcOIDIyUnQ8IpKAnT2SxNraGgUFBSz2iP5mrly5goiICOTk5CAzMxNjxoyBoaEh755DpEFY7JEkw4YNw%2BTJk%2BHt7Q0TE5NKW11w4TuRfJWVlaGiogIJCQl4/fXX0aRJE9y9e5dXjxJpEE7jkiTPWgDPhe9E8jZ37lwUFBQgNTUVU6ZMgaurKxYuXIg2bdrw4iwiDcFij4iInqmgoADbtm2Dnp4epk2bhtTUVOzbtw/z5s2DgYGB6HhEJAGLPZIsKysLCoUCT/7KlJaWIi0tDRMnThQbjIjqTVhYGDw9PWFrays6ChG9IK7ZI0k%2B//xzrFu3TrVWr6KiAlpaWrCzs2OxRyRjV69exY4dO2Bqaor%2B/fujf//%2B6NSpk%2BhYRPQc2NkjSVxcXLB48WLo6uoiLi4Oc%2BfORVBQEFq3bo358%2BeLjkdE9ai0tBRnzpxBXFwcTp48CaVSCU9PTyxZskR0NCKSgHe0J0kePHiA/v37w9bWFj///DNMTEywePFiHDp0SHQ0IqpnOjo6cHBwgJOTE5ydnfHgwQNERUWJjkVEEnEalyQxNzdHfn4%2BWrZsiezsbFRUVMDU1BT3798XHY2I6lFISAgSEhKQlpaG9u3bo3fv3ti0aRPvnkGkQVjskSSOjo7w8/PD%2BvXrYW9vj7Vr10JPTw8tW7YUHY2I6tG///1vaGtrw8fHBwMGDEDHjh0r7bNJROqPa/ZIkvz8fISEhMDX1xe3b9/GnDlz8PDhQwQHB8PZ2Vl0PCKqJyUlJUhKSsKPP/6IU6dO4fbt2%2BjRowecnZ0xfPhw0fGISAIWe0REJEl%2Bfj6ioqKwadMm/PHHH0hJSREdiYgk4DQuSVJeXo4jR47gxo0bUCqVlY7Nnj1bUCoiqm%2Bpqan44YcfcOrUKVy6dAl2dnaYNGkSPDw8REcjIonY2SNJlixZgtjYWNja2qJRoz8/I2hpaWHnzp0CkxFRfXrjjTfQvXt3uLu7w8PDg%2Bt0mSFGiAAAA6RJREFUiTQQiz2SpHfv3oiIiEDHjh1FRyGiBvTgwQMYGRkBAO7evQtTU1PBiYjoeXGfPZJEqVTC3t5edAwiamCNGzfGunXr0K1bN7i5uSEzMxPe3t7Izc0VHY2IJGKxR5IMHDgQW7duFR2DiBpYWFgYEhMTERoaCh0dHbRo0QKtWrXCypUrRUcjIok4jUuSjBkzBhcuXICBgUGVaZwTJ04ISkVE9c3NzQ179uxBy5Yt0b17dyQlJeHBgwfw9PTE2bNnRccjIgl4NS5JMnz4cO6pRfQ3VFhYqPqA96Q3oK%2BvD21tTgwRaQoWeyTJsGHDREcgIgE6d%2B6M8PBwBAQEqO6csWvXLl6sRaRBOI1LkigUCmzatOmp%2B%2Bxx6xUi%2BcrKysKECRNQVlaGO3fuwNraGgUFBdi%2BfTvatm0rOh4RScBijySZPHkybt%2B%2BDVdXV%2Bjo6FQ6xk2VieStqKgI8fHxuHnzJlq1aoV%2B/fqhSZMmomMRkUQs9kgSR0dHHDlyhHtsERERaRiu2SNJmjZtCl1dXdExiKiBuLm5qdboPY2WlhaOHz/egImI6EWxs0eS7Nu3DydPnsTUqVPRokWLSscsLCwEpSKi%2BrJ///6njl%2B6dAl79%2B6Fvb09oqKiGjgVEb0IFnskia2trerXTz7tV1RUQEtLCykpKaJiEVED2rZtG9auXYvhw4cjMDCQ3X4iDcFijyTJycl55jFLS8sGTEJEDe3Bgwd4//338dNPP%2BGjjz7C22%2B/LToSET0HrtkjSVjQEf09Xbp0CQEBAWjWrBmioqJgZWUlOhIRPScWe1Stpy3S1tPTg4WFBby9vfkJn0jGtmzZgtDQUIwcORILFy7ktC2RhmKxR9Xy9fWtMlZWVobMzEx89NFHKC8vx8CBAwUkI6L6NH36dJw8eRI%2BPj7o378/Ll%2B%2BXOU5jo6OApIR0fPimj16YT/88ANCQ0PxzTffiI5CRHXsrxdlPQ0vziLSHCz26IWVlJSgZ8%2BeOH/%2BvOgoRERE9AzaogOQ5tLR0al201UiIiISj8UevbAzZ87glVdeER2DiIiIqsELNKhaBw4cqDJWVlaGmzdvYs%2BePZg3b56AVERERCQV1%2BxRtdzc3KqM6enpoXXr1hg8eDCGDh0qIBURERFJxWKPiIiISMa4Zo%2BIiIhIxljsEREREckYiz0iIiIiGWOxR0RERCRjLPaIiIiIZIzFHhEREZGMsdgjIiIikjEWe0REREQyxmKPiIiISMb%2BDzpgFzbQoyWsAAAAAElFTkSuQmCC\" class=\"center-img\">\n",
       "</div>\n",
       "    <div class=\"row headerrow highlight\">\n",
       "        <h1>Sample</h1>\n",
       "    </div>\n",
       "    <div class=\"row variablerow\">\n",
       "    <div class=\"col-md-12\" style=\"overflow:scroll; width: 100%%; overflow-y: hidden;\">\n",
       "        <table border=\"1\" class=\"dataframe sample\">\n",
       "  <thead>\n",
       "    <tr style=\"text-align: right;\">\n",
       "      <th></th>\n",
       "      <th>Unnamed: 0</th>\n",
       "      <th>TV</th>\n",
       "      <th>Radio</th>\n",
       "      <th>Newspaper</th>\n",
       "      <th>Sales</th>\n",
       "    </tr>\n",
       "  </thead>\n",
       "  <tbody>\n",
       "    <tr>\n",
       "      <th>0</th>\n",
       "      <td>1</td>\n",
       "      <td>230.1</td>\n",
       "      <td>37.8</td>\n",
       "      <td>69.2</td>\n",
       "      <td>22.1</td>\n",
       "    </tr>\n",
       "    <tr>\n",
       "      <th>1</th>\n",
       "      <td>2</td>\n",
       "      <td>44.5</td>\n",
       "      <td>39.3</td>\n",
       "      <td>45.1</td>\n",
       "      <td>10.4</td>\n",
       "    </tr>\n",
       "    <tr>\n",
       "      <th>2</th>\n",
       "      <td>3</td>\n",
       "      <td>17.2</td>\n",
       "      <td>45.9</td>\n",
       "      <td>69.3</td>\n",
       "      <td>9.3</td>\n",
       "    </tr>\n",
       "    <tr>\n",
       "      <th>3</th>\n",
       "      <td>4</td>\n",
       "      <td>151.5</td>\n",
       "      <td>41.3</td>\n",
       "      <td>58.5</td>\n",
       "      <td>18.5</td>\n",
       "    </tr>\n",
       "    <tr>\n",
       "      <th>4</th>\n",
       "      <td>5</td>\n",
       "      <td>180.8</td>\n",
       "      <td>10.8</td>\n",
       "      <td>58.4</td>\n",
       "      <td>12.9</td>\n",
       "    </tr>\n",
       "  </tbody>\n",
       "</table>\n",
       "    </div>\n",
       "</div>\n",
       "</div>"
      ],
      "text/plain": [
       "<pandas_profiling.ProfileReport at 0x81747b8>"
      ]
     },
     "execution_count": 5,
     "metadata": {},
     "output_type": "execute_result"
    }
   ],
   "source": [
    "pandas_profiling.ProfileReport(advt)"
   ]
  },
  {
   "cell_type": "code",
   "execution_count": 6,
   "metadata": {},
   "outputs": [
    {
     "name": "stdout",
     "output_type": "stream",
     "text": [
      "<class 'pandas.core.frame.DataFrame'>\n",
      "RangeIndex: 200 entries, 0 to 199\n",
      "Data columns (total 5 columns):\n",
      "Unnamed: 0    200 non-null int64\n",
      "TV            200 non-null float64\n",
      "Radio         200 non-null float64\n",
      "Newspaper     200 non-null float64\n",
      "Sales         200 non-null float64\n",
      "dtypes: float64(4), int64(1)\n",
      "memory usage: 7.9 KB\n"
     ]
    }
   ],
   "source": [
    "advt.info()"
   ]
  },
  {
   "cell_type": "code",
   "execution_count": 7,
   "metadata": {},
   "outputs": [],
   "source": [
    "#Remove the first column\n",
    "\n",
    "advt = advt[[\"TV\", \"Radio\", \"Newspaper\", \"Sales\"]]"
   ]
  },
  {
   "cell_type": "code",
   "execution_count": 8,
   "metadata": {},
   "outputs": [
    {
     "data": {
      "text/html": [
       "<div>\n",
       "<style scoped>\n",
       "    .dataframe tbody tr th:only-of-type {\n",
       "        vertical-align: middle;\n",
       "    }\n",
       "\n",
       "    .dataframe tbody tr th {\n",
       "        vertical-align: top;\n",
       "    }\n",
       "\n",
       "    .dataframe thead th {\n",
       "        text-align: right;\n",
       "    }\n",
       "</style>\n",
       "<table border=\"1\" class=\"dataframe\">\n",
       "  <thead>\n",
       "    <tr style=\"text-align: right;\">\n",
       "      <th></th>\n",
       "      <th>TV</th>\n",
       "      <th>Radio</th>\n",
       "      <th>Newspaper</th>\n",
       "      <th>Sales</th>\n",
       "    </tr>\n",
       "  </thead>\n",
       "  <tbody>\n",
       "    <tr>\n",
       "      <th>0</th>\n",
       "      <td>230.1</td>\n",
       "      <td>37.8</td>\n",
       "      <td>69.2</td>\n",
       "      <td>22.1</td>\n",
       "    </tr>\n",
       "    <tr>\n",
       "      <th>1</th>\n",
       "      <td>44.5</td>\n",
       "      <td>39.3</td>\n",
       "      <td>45.1</td>\n",
       "      <td>10.4</td>\n",
       "    </tr>\n",
       "    <tr>\n",
       "      <th>2</th>\n",
       "      <td>17.2</td>\n",
       "      <td>45.9</td>\n",
       "      <td>69.3</td>\n",
       "      <td>9.3</td>\n",
       "    </tr>\n",
       "    <tr>\n",
       "      <th>3</th>\n",
       "      <td>151.5</td>\n",
       "      <td>41.3</td>\n",
       "      <td>58.5</td>\n",
       "      <td>18.5</td>\n",
       "    </tr>\n",
       "    <tr>\n",
       "      <th>4</th>\n",
       "      <td>180.8</td>\n",
       "      <td>10.8</td>\n",
       "      <td>58.4</td>\n",
       "      <td>12.9</td>\n",
       "    </tr>\n",
       "  </tbody>\n",
       "</table>\n",
       "</div>"
      ],
      "text/plain": [
       "      TV  Radio  Newspaper  Sales\n",
       "0  230.1   37.8       69.2   22.1\n",
       "1   44.5   39.3       45.1   10.4\n",
       "2   17.2   45.9       69.3    9.3\n",
       "3  151.5   41.3       58.5   18.5\n",
       "4  180.8   10.8       58.4   12.9"
      ]
     },
     "execution_count": 8,
     "metadata": {},
     "output_type": "execute_result"
    }
   ],
   "source": [
    "advt.head()"
   ]
  },
  {
   "cell_type": "code",
   "execution_count": 9,
   "metadata": {},
   "outputs": [
    {
     "data": {
      "text/html": [
       "<div>\n",
       "<style scoped>\n",
       "    .dataframe tbody tr th:only-of-type {\n",
       "        vertical-align: middle;\n",
       "    }\n",
       "\n",
       "    .dataframe tbody tr th {\n",
       "        vertical-align: top;\n",
       "    }\n",
       "\n",
       "    .dataframe thead th {\n",
       "        text-align: right;\n",
       "    }\n",
       "</style>\n",
       "<table border=\"1\" class=\"dataframe\">\n",
       "  <thead>\n",
       "    <tr style=\"text-align: right;\">\n",
       "      <th></th>\n",
       "      <th>N</th>\n",
       "      <th>NMISS</th>\n",
       "      <th>SUM</th>\n",
       "      <th>MEAN</th>\n",
       "      <th>MEDIAN</th>\n",
       "      <th>STD</th>\n",
       "      <th>VAR</th>\n",
       "      <th>MIN</th>\n",
       "      <th>P1</th>\n",
       "      <th>P5</th>\n",
       "      <th>P10</th>\n",
       "      <th>P25</th>\n",
       "      <th>P50</th>\n",
       "      <th>P75</th>\n",
       "      <th>P90</th>\n",
       "      <th>P95</th>\n",
       "      <th>P99</th>\n",
       "      <th>MAX</th>\n",
       "    </tr>\n",
       "  </thead>\n",
       "  <tbody>\n",
       "    <tr>\n",
       "      <th>TV</th>\n",
       "      <td>200.0</td>\n",
       "      <td>0.0</td>\n",
       "      <td>29408.5</td>\n",
       "      <td>147.0425</td>\n",
       "      <td>149.75</td>\n",
       "      <td>85.854236</td>\n",
       "      <td>7370.949893</td>\n",
       "      <td>0.7</td>\n",
       "      <td>5.387</td>\n",
       "      <td>13.195</td>\n",
       "      <td>24.88</td>\n",
       "      <td>74.375</td>\n",
       "      <td>149.75</td>\n",
       "      <td>218.825</td>\n",
       "      <td>261.44</td>\n",
       "      <td>280.735</td>\n",
       "      <td>292.907</td>\n",
       "      <td>296.4</td>\n",
       "    </tr>\n",
       "    <tr>\n",
       "      <th>Radio</th>\n",
       "      <td>200.0</td>\n",
       "      <td>0.0</td>\n",
       "      <td>4652.8</td>\n",
       "      <td>23.2640</td>\n",
       "      <td>22.90</td>\n",
       "      <td>14.846809</td>\n",
       "      <td>220.427743</td>\n",
       "      <td>0.0</td>\n",
       "      <td>0.399</td>\n",
       "      <td>1.995</td>\n",
       "      <td>3.40</td>\n",
       "      <td>9.975</td>\n",
       "      <td>22.90</td>\n",
       "      <td>36.525</td>\n",
       "      <td>43.52</td>\n",
       "      <td>46.810</td>\n",
       "      <td>49.400</td>\n",
       "      <td>49.6</td>\n",
       "    </tr>\n",
       "    <tr>\n",
       "      <th>Newspaper</th>\n",
       "      <td>200.0</td>\n",
       "      <td>0.0</td>\n",
       "      <td>6110.8</td>\n",
       "      <td>30.5540</td>\n",
       "      <td>25.75</td>\n",
       "      <td>21.778621</td>\n",
       "      <td>474.308326</td>\n",
       "      <td>0.3</td>\n",
       "      <td>0.999</td>\n",
       "      <td>3.600</td>\n",
       "      <td>5.99</td>\n",
       "      <td>12.750</td>\n",
       "      <td>25.75</td>\n",
       "      <td>45.100</td>\n",
       "      <td>59.07</td>\n",
       "      <td>71.825</td>\n",
       "      <td>89.515</td>\n",
       "      <td>114.0</td>\n",
       "    </tr>\n",
       "    <tr>\n",
       "      <th>Sales</th>\n",
       "      <td>200.0</td>\n",
       "      <td>0.0</td>\n",
       "      <td>2804.5</td>\n",
       "      <td>14.0225</td>\n",
       "      <td>12.90</td>\n",
       "      <td>5.217457</td>\n",
       "      <td>27.221853</td>\n",
       "      <td>1.6</td>\n",
       "      <td>4.784</td>\n",
       "      <td>6.600</td>\n",
       "      <td>7.96</td>\n",
       "      <td>10.375</td>\n",
       "      <td>12.90</td>\n",
       "      <td>17.400</td>\n",
       "      <td>21.71</td>\n",
       "      <td>23.800</td>\n",
       "      <td>25.507</td>\n",
       "      <td>27.0</td>\n",
       "    </tr>\n",
       "  </tbody>\n",
       "</table>\n",
       "</div>"
      ],
      "text/plain": [
       "               N  NMISS      SUM      MEAN  MEDIAN        STD          VAR  \\\n",
       "TV         200.0    0.0  29408.5  147.0425  149.75  85.854236  7370.949893   \n",
       "Radio      200.0    0.0   4652.8   23.2640   22.90  14.846809   220.427743   \n",
       "Newspaper  200.0    0.0   6110.8   30.5540   25.75  21.778621   474.308326   \n",
       "Sales      200.0    0.0   2804.5   14.0225   12.90   5.217457    27.221853   \n",
       "\n",
       "           MIN     P1      P5    P10     P25     P50      P75     P90  \\\n",
       "TV         0.7  5.387  13.195  24.88  74.375  149.75  218.825  261.44   \n",
       "Radio      0.0  0.399   1.995   3.40   9.975   22.90   36.525   43.52   \n",
       "Newspaper  0.3  0.999   3.600   5.99  12.750   25.75   45.100   59.07   \n",
       "Sales      1.6  4.784   6.600   7.96  10.375   12.90   17.400   21.71   \n",
       "\n",
       "               P95      P99    MAX  \n",
       "TV         280.735  292.907  296.4  \n",
       "Radio       46.810   49.400   49.6  \n",
       "Newspaper   71.825   89.515  114.0  \n",
       "Sales       23.800   25.507   27.0  "
      ]
     },
     "execution_count": 9,
     "metadata": {},
     "output_type": "execute_result"
    }
   ],
   "source": [
    "# Creating Data audit Report\n",
    "# Use a general function that returns multiple values\n",
    "def var_summary(x):\n",
    "    return pd.Series([x.count(), x.isnull().sum(), x.sum(), x.mean(), x.median(),  x.std(), x.var(), x.min(), x.quantile(0.01), x.quantile(0.05),x.quantile(0.10),x.quantile(0.25),x.quantile(0.50),x.quantile(0.75), x.quantile(0.90),x.quantile(0.95), x.quantile(0.99),x.max()], \n",
    "                  index=['N', 'NMISS', 'SUM', 'MEAN','MEDIAN', 'STD', 'VAR', 'MIN', 'P1' , 'P5' ,'P10' ,'P25' ,'P50' ,'P75' ,'P90' ,'P95' ,'P99' ,'MAX'])\n",
    "\n",
    "\n",
    "advt.apply(lambda x: var_summary(x)).T"
   ]
  },
  {
   "cell_type": "code",
   "execution_count": 10,
   "metadata": {},
   "outputs": [
    {
     "data": {
      "text/plain": [
       "N           200.000000\n",
       "NMISS         0.000000\n",
       "SUM       29408.500000\n",
       "MEAN        147.042500\n",
       "MEDIAN      149.750000\n",
       "STD          85.854236\n",
       "VAR        7370.949893\n",
       "MIN           0.700000\n",
       "P1            5.387000\n",
       "P5           13.195000\n",
       "P10          24.880000\n",
       "P25          74.375000\n",
       "P50         149.750000\n",
       "P75         218.825000\n",
       "P90         261.440000\n",
       "P95         280.735000\n",
       "P99         292.907000\n",
       "MAX         296.400000\n",
       "dtype: float64"
      ]
     },
     "execution_count": 10,
     "metadata": {},
     "output_type": "execute_result"
    }
   ],
   "source": [
    "var_summary(advt.TV)"
   ]
  },
  {
   "cell_type": "code",
   "execution_count": 11,
   "metadata": {},
   "outputs": [],
   "source": [
    "#Handling Outliers\n",
    "advt['Sales']= advt['Sales'].clip_upper(advt['Sales'].quantile(0.99)) \n",
    "advt['Sales']= advt['Sales'].clip_lower(advt['Sales'].quantile(0.01)) \n",
    "\n",
    "advt['Newspaper']= advt['Newspaper'].clip_upper(advt['Newspaper'].quantile(0.99)) \n",
    "advt['Newspaper']= advt['Newspaper'].clip_lower(advt['Newspaper'].quantile(0.01))"
   ]
  },
  {
   "cell_type": "code",
   "execution_count": 12,
   "metadata": {},
   "outputs": [],
   "source": [
    "#Handling Missings\n",
    "# Fill with mean\n",
    "advt['Sales']=advt['Sales'].fillna(advt['Sales'].mean())"
   ]
  },
  {
   "cell_type": "code",
   "execution_count": 13,
   "metadata": {},
   "outputs": [],
   "source": [
    "#Dummy variable creation\n",
    "#print df_G.join(pd.get_dummies(advt['key'], prefix='dummy')).drop('key', axis=1).drop('dummy_c', axis=1)"
   ]
  },
  {
   "cell_type": "code",
   "execution_count": 14,
   "metadata": {},
   "outputs": [],
   "source": [
    "# exploring data\n",
    "# Distribution of variables\n",
    "import seaborn as sns\n",
    "import matplotlib.pyplot as plt\n",
    "%matplotlib inline"
   ]
  },
  {
   "cell_type": "code",
   "execution_count": 15,
   "metadata": {},
   "outputs": [
    {
     "name": "stderr",
     "output_type": "stream",
     "text": [
      "C:\\Users\\USER\\Anaconda3\\lib\\site-packages\\matplotlib\\axes\\_axes.py:6462: UserWarning: The 'normed' kwarg is deprecated, and has been replaced by the 'density' kwarg.\n",
      "  warnings.warn(\"The 'normed' kwarg is deprecated, and has been \"\n"
     ]
    },
    {
     "data": {
      "text/plain": [
       "<matplotlib.axes._subplots.AxesSubplot at 0xbd92128>"
      ]
     },
     "execution_count": 15,
     "metadata": {},
     "output_type": "execute_result"
    },
    {
     "data": {
      "image/png": "[encoded data removed]",
      "text/plain": [
       "<Figure size 432x288 with 1 Axes>"
      ]
     },
     "metadata": {},
     "output_type": "display_data"
    }
   ],
   "source": [
    "sns.distplot( advt.Sales )"
   ]
  },
  {
   "cell_type": "code",
   "execution_count": 16,
   "metadata": {},
   "outputs": [
    {
     "name": "stderr",
     "output_type": "stream",
     "text": [
      "C:\\Users\\USER\\Anaconda3\\lib\\site-packages\\matplotlib\\axes\\_axes.py:6462: UserWarning: The 'normed' kwarg is deprecated, and has been replaced by the 'density' kwarg.\n",
      "  warnings.warn(\"The 'normed' kwarg is deprecated, and has been \"\n"
     ]
    },
    {
     "data": {
      "text/plain": [
       "<matplotlib.axes._subplots.AxesSubplot at 0xbeab400>"
      ]
     },
     "execution_count": 16,
     "metadata": {},
     "output_type": "execute_result"
    },
    {
     "data": {
      "image/png": "[encoded data removed]",
      "text/plain": [
       "<Figure size 432x288 with 1 Axes>"
      ]
     },
     "metadata": {},
     "output_type": "display_data"
    }
   ],
   "source": [
    "sns.distplot( advt.Newspaper )"
   ]
  },
  {
   "cell_type": "code",
   "execution_count": 17,
   "metadata": {},
   "outputs": [
    {
     "name": "stderr",
     "output_type": "stream",
     "text": [
      "C:\\Users\\USER\\Anaconda3\\lib\\site-packages\\matplotlib\\axes\\_axes.py:6462: UserWarning: The 'normed' kwarg is deprecated, and has been replaced by the 'density' kwarg.\n",
      "  warnings.warn(\"The 'normed' kwarg is deprecated, and has been \"\n"
     ]
    },
    {
     "data": {
      "text/plain": [
       "<matplotlib.axes._subplots.AxesSubplot at 0xbee59b0>"
      ]
     },
     "execution_count": 17,
     "metadata": {},
     "output_type": "execute_result"
    },
    {
     "data": {
      "image/png": "[encoded data removed]",
      "text/plain": [
       "<Figure size 432x288 with 1 Axes>"
      ]
     },
     "metadata": {},
     "output_type": "display_data"
    }
   ],
   "source": [
    "sns.distplot( advt.Radio )"
   ]
  },
  {
   "cell_type": "code",
   "execution_count": 18,
   "metadata": {},
   "outputs": [
    {
     "name": "stderr",
     "output_type": "stream",
     "text": [
      "C:\\Users\\USER\\Anaconda3\\lib\\site-packages\\matplotlib\\axes\\_axes.py:6462: UserWarning: The 'normed' kwarg is deprecated, and has been replaced by the 'density' kwarg.\n",
      "  warnings.warn(\"The 'normed' kwarg is deprecated, and has been \"\n"
     ]
    },
    {
     "data": {
      "text/plain": [
       "<matplotlib.axes._subplots.AxesSubplot at 0xbf82668>"
      ]
     },
     "execution_count": 18,
     "metadata": {},
     "output_type": "execute_result"
    },
    {
     "data": {
      "image/png": "[encoded data removed]",
      "text/plain": [
       "<Figure size 432x288 with 1 Axes>"
      ]
     },
     "metadata": {},
     "output_type": "display_data"
    }
   ],
   "source": [
    "sns.distplot( advt.TV )"
   ]
  },
  {
   "cell_type": "markdown",
   "metadata": {},
   "source": [
    "### Notes:\n",
    ">Sales seems to be normal distribution. Spending on newspaper advertisement seems to be righ skewed.\n",
    "Most of the spends on newspaper is fairly low where are spend on radio and tv seems be uniform distribution. \n",
    "Spends on tv are comparatively higher then spens on radio and newspaper."
   ]
  },
  {
   "cell_type": "code",
   "execution_count": 19,
   "metadata": {},
   "outputs": [
    {
     "name": "stderr",
     "output_type": "stream",
     "text": [
      "C:\\Users\\USER\\Anaconda3\\lib\\site-packages\\matplotlib\\axes\\_axes.py:6462: UserWarning: The 'normed' kwarg is deprecated, and has been replaced by the 'density' kwarg.\n",
      "  warnings.warn(\"The 'normed' kwarg is deprecated, and has been \"\n",
      "C:\\Users\\USER\\Anaconda3\\lib\\site-packages\\matplotlib\\axes\\_axes.py:6462: UserWarning: The 'normed' kwarg is deprecated, and has been replaced by the 'density' kwarg.\n",
      "  warnings.warn(\"The 'normed' kwarg is deprecated, and has been \"\n"
     ]
    },
    {
     "data": {
      "text/plain": [
       "<seaborn.axisgrid.JointGrid at 0xbeabef0>"
      ]
     },
     "execution_count": 19,
     "metadata": {},
     "output_type": "execute_result"
    },
    {
     "data": {
      "image/png": "[encoded data removed]",
      "text/plain": [
       "<Figure size 432x432 with 3 Axes>"
      ]
     },
     "metadata": {},
     "output_type": "display_data"
    }
   ],
   "source": [
    "#Is there a relationship between sales and spend various advertising channels?\n",
    "\n",
    "#Sales Vs. Newspaper advertisement spends\n",
    "\n",
    "sns.jointplot(  advt.Newspaper, advt.Sales )"
   ]
  },
  {
   "cell_type": "code",
   "execution_count": 20,
   "metadata": {},
   "outputs": [
    {
     "name": "stderr",
     "output_type": "stream",
     "text": [
      "C:\\Users\\USER\\Anaconda3\\lib\\site-packages\\matplotlib\\axes\\_axes.py:6462: UserWarning: The 'normed' kwarg is deprecated, and has been replaced by the 'density' kwarg.\n",
      "  warnings.warn(\"The 'normed' kwarg is deprecated, and has been \"\n",
      "C:\\Users\\USER\\Anaconda3\\lib\\site-packages\\matplotlib\\axes\\_axes.py:6462: UserWarning: The 'normed' kwarg is deprecated, and has been replaced by the 'density' kwarg.\n",
      "  warnings.warn(\"The 'normed' kwarg is deprecated, and has been \"\n"
     ]
    },
    {
     "data": {
      "text/plain": [
       "<seaborn.axisgrid.JointGrid at 0xc0eb438>"
      ]
     },
     "execution_count": 20,
     "metadata": {},
     "output_type": "execute_result"
    },
    {
     "data": {
      "image/png": "[encoded data removed]",
      "text/plain": [
       "<Figure size 432x432 with 3 Axes>"
      ]
     },
     "metadata": {},
     "output_type": "display_data"
    }
   ],
   "source": [
    "#Sales Vs. TV advertisement spends\n",
    "sns.jointplot(  advt.TV, advt.Sales )"
   ]
  },
  {
   "cell_type": "markdown",
   "metadata": {},
   "source": [
    "# Notes\n",
    ">Sales and spend on newpaper is not highly correlaed where are sales and spend on tv is highly correlated."
   ]
  },
  {
   "cell_type": "code",
   "execution_count": 21,
   "metadata": {},
   "outputs": [],
   "source": [
    "sns.pairplot?"
   ]
  },
  {
   "cell_type": "code",
   "execution_count": 1,
   "metadata": {},
   "outputs": [],
   "source": [
    "# Visualizing pairwise correleation\n",
    "\n",
    "#sns.pairplot( advt )"
   ]
  },
  {
   "cell_type": "code",
   "execution_count": 23,
   "metadata": {},
   "outputs": [
    {
     "data": {
      "text/plain": [
       "0.7823681984532047"
      ]
     },
     "execution_count": 23,
     "metadata": {},
     "output_type": "execute_result"
    }
   ],
   "source": [
    "# Calculating correlations\n",
    "advt.TV.corr( advt.Sales )"
   ]
  },
  {
   "cell_type": "code",
   "execution_count": 24,
   "metadata": {},
   "outputs": [
    {
     "data": {
      "text/html": [
       "<div>\n",
       "<style scoped>\n",
       "    .dataframe tbody tr th:only-of-type {\n",
       "        vertical-align: middle;\n",
       "    }\n",
       "\n",
       "    .dataframe tbody tr th {\n",
       "        vertical-align: top;\n",
       "    }\n",
       "\n",
       "    .dataframe thead th {\n",
       "        text-align: right;\n",
       "    }\n",
       "</style>\n",
       "<table border=\"1\" class=\"dataframe\">\n",
       "  <thead>\n",
       "    <tr style=\"text-align: right;\">\n",
       "      <th></th>\n",
       "      <th>TV</th>\n",
       "      <th>Radio</th>\n",
       "      <th>Newspaper</th>\n",
       "      <th>Sales</th>\n",
       "    </tr>\n",
       "  </thead>\n",
       "  <tbody>\n",
       "    <tr>\n",
       "      <th>TV</th>\n",
       "      <td>1.000000</td>\n",
       "      <td>0.054809</td>\n",
       "      <td>0.059085</td>\n",
       "      <td>0.782368</td>\n",
       "    </tr>\n",
       "    <tr>\n",
       "      <th>Radio</th>\n",
       "      <td>0.054809</td>\n",
       "      <td>1.000000</td>\n",
       "      <td>0.356255</td>\n",
       "      <td>0.583363</td>\n",
       "    </tr>\n",
       "    <tr>\n",
       "      <th>Newspaper</th>\n",
       "      <td>0.059085</td>\n",
       "      <td>0.356255</td>\n",
       "      <td>1.000000</td>\n",
       "      <td>0.227594</td>\n",
       "    </tr>\n",
       "    <tr>\n",
       "      <th>Sales</th>\n",
       "      <td>0.782368</td>\n",
       "      <td>0.583363</td>\n",
       "      <td>0.227594</td>\n",
       "      <td>1.000000</td>\n",
       "    </tr>\n",
       "  </tbody>\n",
       "</table>\n",
       "</div>"
      ],
      "text/plain": [
       "                 TV     Radio  Newspaper     Sales\n",
       "TV         1.000000  0.054809   0.059085  0.782368\n",
       "Radio      0.054809  1.000000   0.356255  0.583363\n",
       "Newspaper  0.059085  0.356255   1.000000  0.227594\n",
       "Sales      0.782368  0.583363   0.227594  1.000000"
      ]
     },
     "execution_count": 24,
     "metadata": {},
     "output_type": "execute_result"
    }
   ],
   "source": [
    "advt.corr()"
   ]
  },
  {
   "cell_type": "code",
   "execution_count": 25,
   "metadata": {},
   "outputs": [
    {
     "data": {
      "text/plain": [
       "<matplotlib.axes._subplots.AxesSubplot at 0xccce3c8>"
      ]
     },
     "execution_count": 25,
     "metadata": {},
     "output_type": "execute_result"
    },
    {
     "data": {
      "image/png": "[encoded data removed]",
      "text/plain": [
       "<Figure size 432x288 with 2 Axes>"
      ]
     },
     "metadata": {},
     "output_type": "display_data"
    }
   ],
   "source": [
    "# Visualizing the correlations\n",
    "#The darker is the color, the stronger is the correlation\n",
    "sns.heatmap( advt.corr() )"
   ]
  },
  {
   "cell_type": "markdown",
   "metadata": {},
   "source": [
    "### NOTES:\n",
    "> The diagonal of the above matirx shows the auto-correlation of the variables. It is always 1. You can observe that the correlation betweeb TV and Sales is highest i.e. 0.78 and then betweeb sales and radio i.e. 0.576. <br>\n",
    "> correlations can vary from -1 to +1. Closer to +1 means strong positive correlation and close -1 means strong negative correlation. Closer to 0 means not very strongly correlated. variables with strong correlations are mostly probably candidates for model builing"
   ]
  },
  {
   "cell_type": "markdown",
   "metadata": {},
   "source": [
    "### Building Regression Model\n"
   ]
  },
  {
   "cell_type": "code",
   "execution_count": 26,
   "metadata": {},
   "outputs": [],
   "source": [
    "import statsmodels.formula.api as smf"
   ]
  },
  {
   "cell_type": "code",
   "execution_count": 27,
   "metadata": {},
   "outputs": [
    {
     "data": {
      "text/plain": [
       "Index(['TV', 'Radio', 'Newspaper', 'Sales'], dtype='object')"
      ]
     },
     "execution_count": 27,
     "metadata": {},
     "output_type": "execute_result"
    }
   ],
   "source": [
    "advt.columns"
   ]
  },
  {
   "cell_type": "code",
   "execution_count": 38,
   "metadata": {},
   "outputs": [],
   "source": [
    "lm=smf.ols('Sales~TV', advt).fit()"
   ]
  },
  {
   "cell_type": "code",
   "execution_count": 39,
   "metadata": {},
   "outputs": [
    {
     "name": "stdout",
     "output_type": "stream",
     "text": [
      "                            OLS Regression Results                            \n",
      "==============================================================================\n",
      "Dep. Variable:                  Sales   R-squared:                       0.612\n",
      "Model:                            OLS   Adj. R-squared:                  0.610\n",
      "Method:                 Least Squares   F-statistic:                     312.4\n",
      "Date:                Wed, 28 Nov 2018   Prob (F-statistic):           1.39e-42\n",
      "Time:                        00:05:01   Log-Likelihood:                -516.11\n",
      "No. Observations:                 200   AIC:                             1036.\n",
      "Df Residuals:                     198   BIC:                             1043.\n",
      "Df Model:                           1                                         \n",
      "Covariance Type:            nonrobust                                         \n",
      "==============================================================================\n",
      "                 coef    std err          t      P>|t|      [0.025      0.975]\n",
      "------------------------------------------------------------------------------\n",
      "Intercept      7.1441      0.451     15.835      0.000       6.254       8.034\n",
      "TV             0.0469      0.003     17.676      0.000       0.042       0.052\n",
      "==============================================================================\n",
      "Omnibus:                        0.401   Durbin-Watson:                   1.941\n",
      "Prob(Omnibus):                  0.818   Jarque-Bera (JB):                0.545\n",
      "Skew:                          -0.071   Prob(JB):                        0.761\n",
      "Kurtosis:                       2.787   Cond. No.                         338.\n",
      "==============================================================================\n",
      "\n",
      "Warnings:\n",
      "[1] Standard Errors assume that the covariance matrix of the errors is correctly specified.\n"
     ]
    }
   ],
   "source": [
    "print(lm.summary())"
   ]
  },
  {
   "cell_type": "markdown",
   "metadata": {},
   "source": [
    "### Notes:\n",
    "> Parameters estimated are considered to be significant if p-value is less than 0.05 <br>\n",
    "> This indicates intercept and TV both are significant parameters. And the parameter estimates can be accepted. <br>\n",
    "> So, the linear model is Sales=7.032+0.047∗TV\n"
   ]
  },
  {
   "cell_type": "markdown",
   "metadata": {},
   "source": [
    "### Evaluating Model Accuracy\n",
    "> R-squared is a statistical measure of how close the data are to the fitted regression line. <br>\n",
    "> R-squared value varies between 0 and 100%. 0% signifies that the model explains none of the variability, <br>\n",
    "> while 100% signifies that the model explains all the variability of the response. <br>\n",
    "> The closer the r-square to 100%, the better is the model. <br>"
   ]
  },
  {
   "cell_type": "code",
   "execution_count": 40,
   "metadata": {},
   "outputs": [
    {
     "data": {
      "text/plain": [
       "0.612099997950913"
      ]
     },
     "execution_count": 40,
     "metadata": {},
     "output_type": "execute_result"
    }
   ],
   "source": [
    "lm.rsquared"
   ]
  },
  {
   "cell_type": "code",
   "execution_count": 41,
   "metadata": {},
   "outputs": [
    {
     "data": {
      "text/plain": [
       "0.61"
      ]
     },
     "execution_count": 41,
     "metadata": {},
     "output_type": "execute_result"
    }
   ],
   "source": [
    "round( float( lm.rsquared ), 2 )"
   ]
  },
  {
   "cell_type": "code",
   "execution_count": 42,
   "metadata": {},
   "outputs": [],
   "source": [
    "### MAKING PREDICTIONS\n",
    "lmpredict = lm.predict( {'TV': advt.TV } )"
   ]
  },
  {
   "cell_type": "code",
   "execution_count": 43,
   "metadata": {},
   "outputs": [
    {
     "data": {
      "text/plain": [
       "0    17.927986\n",
       "1     9.229650\n",
       "2     7.950207\n",
       "3    14.244315\n",
       "4    15.617490\n",
       "5     7.551846\n",
       "6     9.838908\n",
       "7    12.777408\n",
       "8     7.547159\n",
       "9    16.507945\n",
       "dtype: float64"
      ]
     },
     "execution_count": 43,
     "metadata": {},
     "output_type": "execute_result"
    }
   ],
   "source": [
    "lmpredict[0:10]"
   ]
  },
  {
   "cell_type": "code",
   "execution_count": 44,
   "metadata": {},
   "outputs": [],
   "source": [
    "from sklearn import metrics"
   ]
  },
  {
   "cell_type": "markdown",
   "metadata": {},
   "source": [
    "### Calculating mean square error ... RMSE\n",
    "> RMSE calculate the difference between the actual value and predicted value of the response variable <br>\n",
    "> The square root of the mean/average of the square of all of the error. <br> \n",
    "> Compared to the similar Mean Absolute Error, RMSE amplifies and severely punishes large errors. <br>\n",
    "> The lesser the RMSE value, the better is the model."
   ]
  },
  {
   "cell_type": "code",
   "execution_count": 45,
   "metadata": {},
   "outputs": [],
   "source": [
    "mse = metrics.mean_squared_error( advt.Sales, lmpredict )"
   ]
  },
  {
   "cell_type": "code",
   "execution_count": 46,
   "metadata": {},
   "outputs": [],
   "source": [
    "rmse = np.sqrt( mse )"
   ]
  },
  {
   "cell_type": "code",
   "execution_count": 47,
   "metadata": {},
   "outputs": [
    {
     "data": {
      "text/plain": [
       "3.195068475508053"
      ]
     },
     "execution_count": 47,
     "metadata": {},
     "output_type": "execute_result"
    }
   ],
   "source": [
    "rmse"
   ]
  },
  {
   "cell_type": "code",
   "execution_count": 48,
   "metadata": {},
   "outputs": [
    {
     "data": {
      "text/plain": [
       "1    1.170350\n",
       "2    1.349793\n",
       "3    4.255685\n",
       "4   -2.717490\n",
       "5   -0.351846\n",
       "6    1.961092\n",
       "7    0.422592\n",
       "8   -2.747159\n",
       "9   -5.907945\n",
       "dtype: float64"
      ]
     },
     "execution_count": 48,
     "metadata": {},
     "output_type": "execute_result"
    }
   ],
   "source": [
    "#Get the residuals and plot them\n",
    "lm.resid[1:10]"
   ]
  },
  {
   "cell_type": "markdown",
   "metadata": {},
   "source": [
    "> One of the assumptions is that the residuals should be normally distributed i.e. it should be random.\n",
    "The residuals should be plotted against the response variable and it should not show any pattern"
   ]
  },
  {
   "cell_type": "code",
   "execution_count": 49,
   "metadata": {},
   "outputs": [
    {
     "name": "stderr",
     "output_type": "stream",
     "text": [
      "C:\\Users\\USER\\Anaconda3\\lib\\site-packages\\matplotlib\\axes\\_axes.py:6462: UserWarning: The 'normed' kwarg is deprecated, and has been replaced by the 'density' kwarg.\n",
      "  warnings.warn(\"The 'normed' kwarg is deprecated, and has been \"\n",
      "C:\\Users\\USER\\Anaconda3\\lib\\site-packages\\matplotlib\\axes\\_axes.py:6462: UserWarning: The 'normed' kwarg is deprecated, and has been replaced by the 'density' kwarg.\n",
      "  warnings.warn(\"The 'normed' kwarg is deprecated, and has been \"\n"
     ]
    },
    {
     "data": {
      "text/plain": [
       "<seaborn.axisgrid.JointGrid at 0x53736a0>"
      ]
     },
     "execution_count": 49,
     "metadata": {},
     "output_type": "execute_result"
    },
    {
     "data": {
      "image/png": "[encoded data removed]",
      "text/plain": [
       "<Figure size 432x432 with 3 Axes>"
      ]
     },
     "metadata": {},
     "output_type": "display_data"
    }
   ],
   "source": [
    "sns.jointplot(  advt.Sales, lm.resid )"
   ]
  },
  {
   "cell_type": "markdown",
   "metadata": {},
   "source": [
    "### Multiple Linear Regression Model"
   ]
  },
  {
   "cell_type": "code",
   "execution_count": 50,
   "metadata": {},
   "outputs": [],
   "source": [
    "from sklearn import metrics"
   ]
  },
  {
   "cell_type": "code",
   "execution_count": 51,
   "metadata": {},
   "outputs": [],
   "source": [
    "lm = smf.ols( 'Sales ~ TV + Radio + Newspaper', advt ).fit()"
   ]
  },
  {
   "cell_type": "code",
   "execution_count": 52,
   "metadata": {},
   "outputs": [
    {
     "name": "stdout",
     "output_type": "stream",
     "text": [
      "                            OLS Regression Results                            \n",
      "==============================================================================\n",
      "Dep. Variable:                  Sales   R-squared:                       0.905\n",
      "Model:                            OLS   Adj. R-squared:                  0.904\n",
      "Method:                 Least Squares   F-statistic:                     624.0\n",
      "Date:                Wed, 28 Nov 2018   Prob (F-statistic):          5.60e-100\n",
      "Time:                        00:06:31   Log-Likelihood:                -375.19\n",
      "No. Observations:                 200   AIC:                             758.4\n",
      "Df Residuals:                     196   BIC:                             771.6\n",
      "Df Model:                           3                                         \n",
      "Covariance Type:            nonrobust                                         \n",
      "==============================================================================\n",
      "                 coef    std err          t      P>|t|      [0.025      0.975]\n",
      "------------------------------------------------------------------------------\n",
      "Intercept      3.0850      0.296     10.416      0.000       2.501       3.669\n",
      "TV             0.0451      0.001     34.165      0.000       0.043       0.048\n",
      "Radio          0.1892      0.008     23.192      0.000       0.173       0.205\n",
      "Newspaper     -0.0028      0.006     -0.487      0.627      -0.014       0.008\n",
      "==============================================================================\n",
      "Omnibus:                       29.870   Durbin-Watson:                   2.095\n",
      "Prob(Omnibus):                  0.000   Jarque-Bera (JB):               38.405\n",
      "Skew:                          -0.979   Prob(JB):                     4.58e-09\n",
      "Kurtosis:                       3.882   Cond. No.                         456.\n",
      "==============================================================================\n",
      "\n",
      "Warnings:\n",
      "[1] Standard Errors assume that the covariance matrix of the errors is correctly specified.\n"
     ]
    }
   ],
   "source": [
    "print(lm.summary())"
   ]
  },
  {
   "cell_type": "code",
   "execution_count": 53,
   "metadata": {},
   "outputs": [
    {
     "data": {
      "text/plain": [
       "Intercept    3.085033\n",
       "TV           0.045113\n",
       "Radio        0.189195\n",
       "Newspaper   -0.002786\n",
       "dtype: float64"
      ]
     },
     "execution_count": 53,
     "metadata": {},
     "output_type": "execute_result"
    }
   ],
   "source": [
    "lm.params"
   ]
  },
  {
   "cell_type": "code",
   "execution_count": 54,
   "metadata": {},
   "outputs": [
    {
     "data": {
      "text/plain": [
       "Intercept    1.686808e-20\n",
       "TV           1.746108e-84\n",
       "Radio        4.289607e-58\n",
       "Newspaper    6.265164e-01\n",
       "dtype: float64"
      ]
     },
     "execution_count": 54,
     "metadata": {},
     "output_type": "execute_result"
    }
   ],
   "source": [
    "lm.pvalues"
   ]
  },
  {
   "cell_type": "code",
   "execution_count": 55,
   "metadata": {},
   "outputs": [],
   "source": [
    "lm = smf.ols( 'Sales ~ TV + Radio', advt ).fit()"
   ]
  },
  {
   "cell_type": "code",
   "execution_count": 56,
   "metadata": {},
   "outputs": [
    {
     "data": {
      "text/plain": [
       "Intercept    3.037164\n",
       "TV           0.045086\n",
       "Radio        0.187786\n",
       "dtype: float64"
      ]
     },
     "execution_count": 56,
     "metadata": {},
     "output_type": "execute_result"
    }
   ],
   "source": [
    "lm.params"
   ]
  },
  {
   "cell_type": "code",
   "execution_count": 57,
   "metadata": {},
   "outputs": [
    {
     "data": {
      "text/plain": [
       "Intercept    6.369904e-22\n",
       "TV           6.960144e-85\n",
       "Radio        3.849279e-62\n",
       "dtype: float64"
      ]
     },
     "execution_count": 57,
     "metadata": {},
     "output_type": "execute_result"
    }
   ],
   "source": [
    "lm.pvalues"
   ]
  },
  {
   "cell_type": "code",
   "execution_count": 58,
   "metadata": {},
   "outputs": [],
   "source": [
    "lmpredict = lm.predict( {'TV': advt.TV, 'Radio':advt.Radio } )"
   ]
  },
  {
   "cell_type": "code",
   "execution_count": 59,
   "metadata": {},
   "outputs": [
    {
     "data": {
      "text/plain": [
       "1.5803352244496103"
      ]
     },
     "execution_count": 59,
     "metadata": {},
     "output_type": "execute_result"
    }
   ],
   "source": [
    "mse = metrics.mean_squared_error( advt.Sales, lmpredict )\n",
    "rmse = np.sqrt( mse )\n",
    "rmse"
   ]
  },
  {
   "cell_type": "code",
   "execution_count": 60,
   "metadata": {},
   "outputs": [
    {
     "data": {
      "text/plain": [
       "1.2144738980079277"
      ]
     },
     "execution_count": 60,
     "metadata": {},
     "output_type": "execute_result"
    }
   ],
   "source": [
    "metrics.mean_absolute_error(advt.Sales, lmpredict)"
   ]
  },
  {
   "cell_type": "code",
   "execution_count": 61,
   "metadata": {},
   "outputs": [
    {
     "name": "stderr",
     "output_type": "stream",
     "text": [
      "C:\\Users\\USER\\Anaconda3\\lib\\site-packages\\matplotlib\\axes\\_axes.py:6462: UserWarning: The 'normed' kwarg is deprecated, and has been replaced by the 'density' kwarg.\n",
      "  warnings.warn(\"The 'normed' kwarg is deprecated, and has been \"\n"
     ]
    },
    {
     "data": {
      "text/plain": [
       "<matplotlib.axes._subplots.AxesSubplot at 0xcee7588>"
      ]
     },
     "execution_count": 61,
     "metadata": {},
     "output_type": "execute_result"
    },
    {
     "data": {
      "image/png": "[encoded data removed]",
      "text/plain": [
       "<Figure size 432x288 with 1 Axes>"
      ]
     },
     "metadata": {},
     "output_type": "display_data"
    }
   ],
   "source": [
    "sns.distplot(lm.resid)"
   ]
  },
  {
   "cell_type": "code",
   "execution_count": 62,
   "metadata": {},
   "outputs": [
    {
     "name": "stderr",
     "output_type": "stream",
     "text": [
      "C:\\Users\\USER\\Anaconda3\\lib\\site-packages\\matplotlib\\axes\\_axes.py:6462: UserWarning: The 'normed' kwarg is deprecated, and has been replaced by the 'density' kwarg.\n",
      "  warnings.warn(\"The 'normed' kwarg is deprecated, and has been \"\n",
      "C:\\Users\\USER\\Anaconda3\\lib\\site-packages\\matplotlib\\axes\\_axes.py:6462: UserWarning: The 'normed' kwarg is deprecated, and has been replaced by the 'density' kwarg.\n",
      "  warnings.warn(\"The 'normed' kwarg is deprecated, and has been \"\n"
     ]
    },
    {
     "data": {
      "text/plain": [
       "<seaborn.axisgrid.JointGrid at 0xcf616d8>"
      ]
     },
     "execution_count": 62,
     "metadata": {},
     "output_type": "execute_result"
    },
    {
     "data": {
      "image/png": "[encoded data removed]",
      "text/plain": [
       "<Figure size 432x432 with 3 Axes>"
      ]
     },
     "metadata": {},
     "output_type": "display_data"
    }
   ],
   "source": [
    "sns.jointplot(  advt.Sales, lm.resid )"
   ]
  },
  {
   "cell_type": "markdown",
   "metadata": {},
   "source": [
    "### USING sklearn Library to build the model\n",
    "> sklearn library has a comprehensive set of APIs to split datasets, build models, test models and calculate accuracy metrics"
   ]
  },
  {
   "cell_type": "code",
   "execution_count": 63,
   "metadata": {},
   "outputs": [],
   "source": [
    "from sklearn.linear_model import LinearRegression"
   ]
  },
  {
   "cell_type": "code",
   "execution_count": 64,
   "metadata": {},
   "outputs": [
    {
     "name": "stderr",
     "output_type": "stream",
     "text": [
      "C:\\Users\\USER\\Anaconda3\\lib\\site-packages\\sklearn\\cross_validation.py:41: DeprecationWarning: This module was deprecated in version 0.18 in favor of the model_selection module into which all the refactored classes and functions are moved. Also note that the interface of the new CV iterators are different from that of this module. This module will be removed in 0.20.\n",
      "  \"This module will be removed in 0.20.\", DeprecationWarning)\n"
     ]
    }
   ],
   "source": [
    "# Splitting into Train and test data sets\n",
    "# Typically the model should be built on a training dataset and validated against a test dataset\n",
    "# Let's split the dataset into 70/30 ratio. 70% belongs to training and 30% belongs to test.\n",
    "\n",
    "from sklearn.cross_validation import train_test_split"
   ]
  },
  {
   "cell_type": "code",
   "execution_count": 65,
   "metadata": {},
   "outputs": [],
   "source": [
    "X_train, X_test, y_train, y_test = train_test_split(\n",
    "  advt[[\"TV\", \"Radio\", \"Newspaper\"]],\n",
    "  advt.Sales,\n",
    "  test_size=0.3,\n",
    "  random_state = 42 )"
   ]
  },
  {
   "cell_type": "code",
   "execution_count": 68,
   "metadata": {},
   "outputs": [
    {
     "name": "stdout",
     "output_type": "stream",
     "text": [
      "140\n",
      "60\n"
     ]
    }
   ],
   "source": [
    "print(len( X_train ))\n",
    "print(len( X_test))"
   ]
  },
  {
   "cell_type": "code",
   "execution_count": 69,
   "metadata": {},
   "outputs": [],
   "source": [
    "## Building the model with train set and make predictions on test set\n",
    "linreg = LinearRegression()\n",
    "linreg.fit( X_train, y_train )\n",
    "y_pred = linreg.predict( X_test )"
   ]
  },
  {
   "cell_type": "code",
   "execution_count": 70,
   "metadata": {},
   "outputs": [
    {
     "data": {
      "text/plain": [
       "array([0.04304563, 0.20038167, 0.00412615])"
      ]
     },
     "execution_count": 70,
     "metadata": {},
     "output_type": "execute_result"
    }
   ],
   "source": [
    "linreg.coef_"
   ]
  },
  {
   "cell_type": "code",
   "execution_count": 71,
   "metadata": {},
   "outputs": [
    {
     "data": {
      "text/plain": [
       "1.9542412515201593"
      ]
     },
     "execution_count": 71,
     "metadata": {},
     "output_type": "execute_result"
    }
   ],
   "source": [
    "from sklearn import metrics\n",
    "rmse = np.sqrt( metrics.mean_squared_error( y_test, y_pred ) )\n",
    "rmse"
   ]
  },
  {
   "cell_type": "code",
   "execution_count": 72,
   "metadata": {},
   "outputs": [
    {
     "data": {
      "text/plain": [
       "1.4345276075554683"
      ]
     },
     "execution_count": 72,
     "metadata": {},
     "output_type": "execute_result"
    }
   ],
   "source": [
    "y_pred_t = linreg.predict(X_train)\n",
    "rmse_t = np.sqrt( metrics.mean_squared_error( y_train, y_pred_t) )\n",
    "rmse_t"
   ]
  },
  {
   "cell_type": "code",
   "execution_count": 73,
   "metadata": {},
   "outputs": [
    {
     "data": {
      "text/plain": [
       "0.9180965036894541"
      ]
     },
     "execution_count": 73,
     "metadata": {},
     "output_type": "execute_result"
    }
   ],
   "source": [
    "metrics.r2_score( y_train, y_pred_t )"
   ]
  },
  {
   "cell_type": "code",
   "execution_count": 74,
   "metadata": {},
   "outputs": [
    {
     "data": {
      "text/plain": [
       "0.8601313440383326"
      ]
     },
     "execution_count": 74,
     "metadata": {},
     "output_type": "execute_result"
    }
   ],
   "source": [
    "metrics.r2_score( y_test, y_pred )\n"
   ]
  },
  {
   "cell_type": "code",
   "execution_count": 75,
   "metadata": {},
   "outputs": [
    {
     "data": {
      "text/plain": [
       "[('TV', 0.04304563002997129),\n",
       " ('Radio', 0.20038167342257335),\n",
       " ('Newspaper', 0.004126150332766351)]"
      ]
     },
     "execution_count": 75,
     "metadata": {},
     "output_type": "execute_result"
    }
   ],
   "source": [
    "list( zip( [\"TV\", \"Radio\", \"Newspaper\"], list( linreg.coef_ ) ) )"
   ]
  },
  {
   "cell_type": "code",
   "execution_count": 76,
   "metadata": {},
   "outputs": [],
   "source": [
    "residuals = y_test - y_pred"
   ]
  },
  {
   "cell_type": "code",
   "execution_count": 77,
   "metadata": {},
   "outputs": [
    {
     "name": "stderr",
     "output_type": "stream",
     "text": [
      "C:\\Users\\USER\\Anaconda3\\lib\\site-packages\\matplotlib\\axes\\_axes.py:6462: UserWarning: The 'normed' kwarg is deprecated, and has been replaced by the 'density' kwarg.\n",
      "  warnings.warn(\"The 'normed' kwarg is deprecated, and has been \"\n",
      "C:\\Users\\USER\\Anaconda3\\lib\\site-packages\\matplotlib\\axes\\_axes.py:6462: UserWarning: The 'normed' kwarg is deprecated, and has been replaced by the 'density' kwarg.\n",
      "  warnings.warn(\"The 'normed' kwarg is deprecated, and has been \"\n"
     ]
    },
    {
     "data": {
      "text/plain": [
       "<seaborn.axisgrid.JointGrid at 0xf004438>"
      ]
     },
     "execution_count": 77,
     "metadata": {},
     "output_type": "execute_result"
    },
    {
     "data": {
      "image/png": "[encoded data removed]",
      "text/plain": [
       "<Figure size 432x432 with 3 Axes>"
      ]
     },
     "metadata": {},
     "output_type": "display_data"
    }
   ],
   "source": [
    "sns.jointplot(  advt.Sales, residuals )"
   ]
  },
  {
   "cell_type": "code",
   "execution_count": 78,
   "metadata": {},
   "outputs": [
    {
     "name": "stderr",
     "output_type": "stream",
     "text": [
      "C:\\Users\\USER\\Anaconda3\\lib\\site-packages\\matplotlib\\axes\\_axes.py:6462: UserWarning: The 'normed' kwarg is deprecated, and has been replaced by the 'density' kwarg.\n",
      "  warnings.warn(\"The 'normed' kwarg is deprecated, and has been \"\n"
     ]
    },
    {
     "data": {
      "text/plain": [
       "<matplotlib.axes._subplots.AxesSubplot at 0xf0dcb00>"
      ]
     },
     "execution_count": 78,
     "metadata": {},
     "output_type": "execute_result"
    },
    {
     "data": {
      "image/png": "[encoded data removed]",
      "text/plain": [
       "<Figure size 432x288 with 1 Axes>"
      ]
     },
     "metadata": {},
     "output_type": "display_data"
    }
   ],
   "source": [
    "sns.distplot( residuals )"
   ]
  },
  {
   "cell_type": "code",
   "execution_count": 79,
   "metadata": {},
   "outputs": [
    {
     "data": {
      "image/png": "[encoded data removed]",
      "text/plain": [
       "<Figure size 432x288 with 1 Axes>"
      ]
     },
     "metadata": {},
     "output_type": "display_data"
    }
   ],
   "source": [
    "# To ensure residues are random i.e. normally distributed a Q-Q plot can be used\n",
    "# Q-Q plot shows if the residuals are plotted along the line.\n",
    "from scipy import stats\n",
    "import pylab\n",
    "\n",
    "stats.probplot( residuals, dist=\"norm\", plot=pylab )\n",
    "pylab.show()"
   ]
  },
  {
   "cell_type": "code",
   "execution_count": null,
   "metadata": {},
   "outputs": [],
   "source": []
  },
  {
   "cell_type": "markdown",
   "metadata": {},
   "source": [
    "The residuals are randomly distributed. There are no visible relationship. The model can be assumed to be correct"
   ]
  },
  {
   "cell_type": "code",
   "execution_count": 80,
   "metadata": {},
   "outputs": [],
   "source": [
    "### K-FOLD CROSS VALIDATION\n",
    "from sklearn.cross_validation import cross_val_score"
   ]
  },
  {
   "cell_type": "code",
   "execution_count": 81,
   "metadata": {},
   "outputs": [],
   "source": [
    "linreg = LinearRegression()"
   ]
  },
  {
   "cell_type": "code",
   "execution_count": 82,
   "metadata": {},
   "outputs": [
    {
     "data": {
      "text/plain": [
       "array([0.81273642, 0.86899108, 0.95078413, 0.92388255, 0.94066739,\n",
       "       0.91270145, 0.85967026, 0.95648188, 0.76544669, 0.90216789])"
      ]
     },
     "execution_count": 82,
     "metadata": {},
     "output_type": "execute_result"
    }
   ],
   "source": [
    "cross_val_score( linreg, X_train, y_train, scoring = 'r2', cv = 10 )"
   ]
  },
  {
   "cell_type": "code",
   "execution_count": 83,
   "metadata": {},
   "outputs": [
    {
     "data": {
      "text/plain": [
       "0.89"
      ]
     },
     "execution_count": 83,
     "metadata": {},
     "output_type": "execute_result"
    }
   ],
   "source": [
    "round( np.mean( cross_val_score( linreg,\n",
    "                              X_train,\n",
    "                              y_train,\n",
    "                              scoring = 'r2',\n",
    "                              cv = 10 ) ), 2 )"
   ]
  },
  {
   "cell_type": "code",
   "execution_count": 84,
   "metadata": {},
   "outputs": [],
   "source": [
    "# Feature Selection based on importance\n",
    "from sklearn.feature_selection import f_regression"
   ]
  },
  {
   "cell_type": "code",
   "execution_count": 85,
   "metadata": {},
   "outputs": [],
   "source": [
    "F_values, p_values  = f_regression(  X_train, y_train )"
   ]
  },
  {
   "cell_type": "code",
   "execution_count": 86,
   "metadata": {},
   "outputs": [
    {
     "data": {
      "text/plain": [
       "array([185.0114304 ,  93.76524204,   8.13474053])"
      ]
     },
     "execution_count": 86,
     "metadata": {},
     "output_type": "execute_result"
    }
   ],
   "source": [
    "F_values"
   ]
  },
  {
   "cell_type": "code",
   "execution_count": 87,
   "metadata": {},
   "outputs": [
    {
     "data": {
      "text/plain": [
       "['0.000', '0.000', '0.005']"
      ]
     },
     "execution_count": 87,
     "metadata": {},
     "output_type": "execute_result"
    }
   ],
   "source": [
    "['%.3f' % p for p in p_values]"
   ]
  },
  {
   "cell_type": "markdown",
   "metadata": {},
   "source": [
    "As p - values are less than 5% - the variables are siginificant in the regression equation."
   ]
  },
  {
   "cell_type": "code",
   "execution_count": 88,
   "metadata": {},
   "outputs": [],
   "source": [
    "### Exporting and importing the model\n",
    "import pickle"
   ]
  },
  {
   "cell_type": "code",
   "execution_count": 89,
   "metadata": {},
   "outputs": [
    {
     "data": {
      "text/plain": [
       "['lin_model.pkl']"
      ]
     },
     "execution_count": 89,
     "metadata": {},
     "output_type": "execute_result"
    }
   ],
   "source": [
    "from sklearn.externals import joblib\n",
    "joblib.dump(linreg, 'lin_model.pkl', compress=9)"
   ]
  },
  {
   "cell_type": "code",
   "execution_count": 90,
   "metadata": {},
   "outputs": [],
   "source": [
    "model_clone = joblib.load('lin_model.pkl')"
   ]
  },
  {
   "cell_type": "code",
   "execution_count": null,
   "metadata": {
    "collapsed": true
   },
   "outputs": [],
   "source": []
  }
 ],
 "metadata": {
  "kernelspec": {
   "display_name": "Python 3",
   "language": "python",
   "name": "python3"
  },
  "language_info": {
   "codemirror_mode": {
    "name": "ipython",
    "version": 3
   },
   "file_extension": ".py",
   "mimetype": "text/x-python",
   "name": "python",
   "nbconvert_exporter": "python",
   "pygments_lexer": "ipython3",
   "version": "3.7.1"
  }
 },
 "nbformat": 4,
 "nbformat_minor": 1
}
